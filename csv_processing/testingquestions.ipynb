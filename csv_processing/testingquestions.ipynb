{
 "cells": [
  {
   "cell_type": "code",
   "execution_count": 9,
   "metadata": {},
   "outputs": [],
   "source": [
    "import pandas as pd\n",
    "\n",
    "df = pd.read_csv('../data/cleanedquestionssorted.txt', sep='`')"
   ]
  },
  {
   "cell_type": "code",
   "execution_count": 24,
   "metadata": {},
   "outputs": [
    {
     "name": "stdout",
     "output_type": "stream",
     "text": [
      "Id                                                           24\n",
      "StateAbbr                                 nts of view, opinions\n",
      "QuestionUno     and/or accuracy of the information on this site\n",
      "PostText                                                    NaN\n",
      "CreatedUtc                                                  NaN\n",
      "Name: 588, dtype: object\n",
      "Id                                                         34\n",
      "StateAbbr                    et_pb_gutters2 .et_pb_column_1_2\n",
      "QuestionUno     .et_pb_gutters2.et_pb_row .et_pb_column_1_2 {\n",
      "PostText                                                  NaN\n",
      "CreatedUtc                                                NaN\n",
      "Name: 589, dtype: object\n",
      "Id                                                         34\n",
      "StateAbbr                    et_pb_gutters2 .et_pb_column_1_4\n",
      "QuestionUno     .et_pb_gutters2.et_pb_row .et_pb_column_1_4 {\n",
      "PostText                                                  NaN\n",
      "CreatedUtc                                                NaN\n",
      "Name: 590, dtype: object\n",
      "Id                                 39\n",
      "StateAbbr                          TN\n",
      "QuestionUno                       NaN\n",
      "PostText       Can I sue my landlord \n",
      "CreatedUtc        2018-05-10 21:27:03\n",
      "Name: 591, dtype: object\n",
      "Id                                       45\n",
      "StateAbbr                                TN\n",
      "QuestionUno                             NaN\n",
      "PostText       We signed a year lease, $###\n",
      "CreatedUtc              2018-05-10 21:27:16\n",
      "Name: 592, dtype: object\n",
      "Id                                               47\n",
      "StateAbbr                                        FL\n",
      "QuestionUno    F9CA1D75-7597-4254-963D-6DC772DBEBED\n",
      "PostText                                          f\n",
      "CreatedUtc                      2018-11-23 06:08:28\n",
      "Name: 593, dtype: object\n",
      "Id                                               47\n",
      "StateAbbr                                        GA\n",
      "QuestionUno    38CE373D-B2CE-451C-AC47-FF9C0AF88C33\n",
      "PostText                                          O\n",
      "CreatedUtc                      2020-08-06 17:53:50\n",
      "Name: 594, dtype: object\n",
      "Id                                               47\n",
      "StateAbbr                                        FL\n",
      "QuestionUno    F9B43334-7CEC-4FFD-89A3-013919763ABB\n",
      "PostText                                          A\n",
      "CreatedUtc                      2018-08-13 18:10:32\n",
      "Name: 595, dtype: object\n",
      "Id                                               47\n",
      "StateAbbr                                        AR\n",
      "QuestionUno    9FFB3091-6101-49DC-8A5F-BA7508A687C7\n",
      "PostText                                         hi\n",
      "CreatedUtc                      2020-12-04 18:34:34\n",
      "Name: 596, dtype: object\n",
      "Id                                               47\n",
      "StateAbbr                                        AR\n",
      "QuestionUno    0C542B4B-E63B-4216-BE0B-3B4997ABCBD2\n",
      "PostText                                         No\n",
      "CreatedUtc                      2020-12-17 13:21:39\n",
      "Name: 597, dtype: object\n",
      "Id                                               47\n",
      "StateAbbr                                        GA\n",
      "QuestionUno    F6D77340-D0FB-4A11-A9E2-9431E32E84F8\n",
      "PostText                                          Y\n",
      "CreatedUtc                      2020-06-11 01:31:38\n",
      "Name: 598, dtype: object\n",
      "Id                                               47\n",
      "StateAbbr                                        FL\n",
      "QuestionUno    4D64DEFB-EDA4-4934-A7BB-EE318D3A38C5\n",
      "PostText                                          O\n",
      "CreatedUtc                      2021-09-29 12:22:21\n",
      "Name: 599, dtype: object\n"
     ]
    }
   ],
   "source": [
    "for i in range(600):\n",
    "    if df.iloc[i]['Id'] != 0:\n",
    "        print(df.iloc[i])"
   ]
  },
  {
   "cell_type": "code",
   "execution_count": null,
   "metadata": {},
   "outputs": [],
   "source": []
  }
 ],
 "metadata": {
  "kernelspec": {
   "display_name": "base",
   "language": "python",
   "name": "python3"
  },
  "language_info": {
   "codemirror_mode": {
    "name": "ipython",
    "version": 3
   },
   "file_extension": ".py",
   "mimetype": "text/x-python",
   "name": "python",
   "nbconvert_exporter": "python",
   "pygments_lexer": "ipython3",
   "version": "3.8.8"
  },
  "orig_nbformat": 4
 },
 "nbformat": 4,
 "nbformat_minor": 2
}
