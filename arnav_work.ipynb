{
 "cells": [
  {
   "cell_type": "code",
   "execution_count": 1,
   "id": "3b7e616b",
   "metadata": {},
   "outputs": [],
   "source": [
    "import pandas as pd\n",
    "import plotly.graph_objs as go\n",
    "import plotly.express as px"
   ]
  },
  {
   "cell_type": "code",
   "execution_count": 2,
   "id": "10827a54",
   "metadata": {},
   "outputs": [
    {
     "data": {
      "text/html": [
       "<div>\n",
       "<style scoped>\n",
       "    .dataframe tbody tr th:only-of-type {\n",
       "        vertical-align: middle;\n",
       "    }\n",
       "\n",
       "    .dataframe tbody tr th {\n",
       "        vertical-align: top;\n",
       "    }\n",
       "\n",
       "    .dataframe thead th {\n",
       "        text-align: right;\n",
       "    }\n",
       "</style>\n",
       "<table border=\"1\" class=\"dataframe\">\n",
       "  <thead>\n",
       "    <tr style=\"text-align: right;\">\n",
       "      <th></th>\n",
       "      <th>Id</th>\n",
       "      <th>StateAbbr</th>\n",
       "      <th>AttorneyUno</th>\n",
       "      <th>City</th>\n",
       "      <th>County</th>\n",
       "      <th>StateName</th>\n",
       "      <th>PostalCode</th>\n",
       "      <th>CreatedUtc</th>\n",
       "    </tr>\n",
       "  </thead>\n",
       "  <tbody>\n",
       "    <tr>\n",
       "      <th>0</th>\n",
       "      <td>1</td>\n",
       "      <td>NH</td>\n",
       "      <td>7A2C12BE-9F37-4C9D-A6ED-41B916820CE0</td>\n",
       "      <td>Concord</td>\n",
       "      <td>Cheshire</td>\n",
       "      <td>New Hampshire</td>\n",
       "      <td>3301</td>\n",
       "      <td>2019-02-14 16:21:52</td>\n",
       "    </tr>\n",
       "    <tr>\n",
       "      <th>1</th>\n",
       "      <td>2</td>\n",
       "      <td>NH</td>\n",
       "      <td>29A49AA6-047E-4008-ABBD-3DE57156B526</td>\n",
       "      <td>Concord</td>\n",
       "      <td>Merrimack</td>\n",
       "      <td>New Hampshire</td>\n",
       "      <td>3229</td>\n",
       "      <td>2019-02-14 18:14:30</td>\n",
       "    </tr>\n",
       "    <tr>\n",
       "      <th>2</th>\n",
       "      <td>3</td>\n",
       "      <td>MS</td>\n",
       "      <td>9DF11B65-7F29-452C-A69E-54CD72E4A116</td>\n",
       "      <td>Jackson</td>\n",
       "      <td>Rankin</td>\n",
       "      <td>Mississippi</td>\n",
       "      <td>39203</td>\n",
       "      <td>2016-08-19 17:07:23</td>\n",
       "    </tr>\n",
       "    <tr>\n",
       "      <th>3</th>\n",
       "      <td>4</td>\n",
       "      <td>VA</td>\n",
       "      <td>693FD55F-5F58-405A-B389-5E78B3406497</td>\n",
       "      <td>Richmond</td>\n",
       "      <td>Richmond (city)</td>\n",
       "      <td>Virginia</td>\n",
       "      <td>23219</td>\n",
       "      <td>2016-08-19 18:22:53</td>\n",
       "    </tr>\n",
       "    <tr>\n",
       "      <th>4</th>\n",
       "      <td>5</td>\n",
       "      <td>CT</td>\n",
       "      <td>0AC2A866-19CD-4D1A-94B7-BF41A1430553</td>\n",
       "      <td>Wethersfield</td>\n",
       "      <td>Hartford</td>\n",
       "      <td>Connecticut</td>\n",
       "      <td>6410</td>\n",
       "      <td>2016-08-21 01:21:13</td>\n",
       "    </tr>\n",
       "  </tbody>\n",
       "</table>\n",
       "</div>"
      ],
      "text/plain": [
       "   Id StateAbbr                           AttorneyUno          City  \\\n",
       "0   1        NH  7A2C12BE-9F37-4C9D-A6ED-41B916820CE0       Concord   \n",
       "1   2        NH  29A49AA6-047E-4008-ABBD-3DE57156B526       Concord   \n",
       "2   3        MS  9DF11B65-7F29-452C-A69E-54CD72E4A116       Jackson   \n",
       "3   4        VA  693FD55F-5F58-405A-B389-5E78B3406497      Richmond   \n",
       "4   5        CT  0AC2A866-19CD-4D1A-94B7-BF41A1430553  Wethersfield   \n",
       "\n",
       "            County      StateName  PostalCode           CreatedUtc  \n",
       "0         Cheshire  New Hampshire        3301  2019-02-14 16:21:52  \n",
       "1        Merrimack  New Hampshire        3229  2019-02-14 18:14:30  \n",
       "2           Rankin    Mississippi       39203  2016-08-19 17:07:23  \n",
       "3  Richmond (city)       Virginia       23219  2016-08-19 18:22:53  \n",
       "4         Hartford    Connecticut        6410  2016-08-21 01:21:13  "
      ]
     },
     "metadata": {},
     "output_type": "display_data"
    },
    {
     "name": "stdout",
     "output_type": "stream",
     "text": [
      "Shape:  (11544, 8)\n",
      "Unique values in column AttorneyUno:  11544\n"
     ]
    }
   ],
   "source": [
    "#Data Dictionary for attorneys_df\n",
    "  #1. ID: Numeric Identifier for the Attorney\n",
    "  #2. StateAbbr: USPS 2-Character State Abbreviation\n",
    "  #3. AttorneyUno: Unique Identifier for the Attorney\n",
    "  #4. City: City or Municipality for the Attorney\n",
    "  #5. County: County for the Attorney\n",
    "  #6. StateName: Full Name of the State\n",
    "  #7. PostalCode: 5-Digit Postal Code\n",
    "  #8. CreatedUtc: Date and Time the Attorney was Created\n",
    "\n",
    "attorneys_df = pd.read_csv('./data/attorneys.csv')\n",
    "display(attorneys_df.head())\n",
    "print(\"Shape: \", attorneys_df.shape)\n",
    "print(\"Unique values in column AttorneyUno: \", attorneys_df['AttorneyUno'].nunique())\n"
   ]
  },
  {
   "cell_type": "code",
   "execution_count": 3,
   "id": "c3eced09",
   "metadata": {},
   "outputs": [
    {
     "data": {
      "text/html": [
       "<div>\n",
       "<style scoped>\n",
       "    .dataframe tbody tr th:only-of-type {\n",
       "        vertical-align: middle;\n",
       "    }\n",
       "\n",
       "    .dataframe tbody tr th {\n",
       "        vertical-align: top;\n",
       "    }\n",
       "\n",
       "    .dataframe thead th {\n",
       "        text-align: right;\n",
       "    }\n",
       "</style>\n",
       "<table border=\"1\" class=\"dataframe\">\n",
       "  <thead>\n",
       "    <tr style=\"text-align: right;\">\n",
       "      <th></th>\n",
       "      <th>Id</th>\n",
       "      <th>StateAbbr</th>\n",
       "      <th>TimeEntryUno</th>\n",
       "      <th>AttorneyUno</th>\n",
       "      <th>Hours</th>\n",
       "      <th>EnteredOnUtc</th>\n",
       "    </tr>\n",
       "  </thead>\n",
       "  <tbody>\n",
       "    <tr>\n",
       "      <th>0</th>\n",
       "      <td>1</td>\n",
       "      <td>AK</td>\n",
       "      <td>44954D1D-C354-41F6-8C33-327E866B6BA3</td>\n",
       "      <td>C126C566-9039-4991-BDD8-0CDD05C27DDF</td>\n",
       "      <td>1.8</td>\n",
       "      <td>2017-01-05 21:25:23</td>\n",
       "    </tr>\n",
       "    <tr>\n",
       "      <th>1</th>\n",
       "      <td>2</td>\n",
       "      <td>AL</td>\n",
       "      <td>F1D8F733-1BDB-47FD-BC7C-CB512E2C5A3A</td>\n",
       "      <td>F8C0E3D3-B3A5-42B9-9E2F-2A637BA83D6E</td>\n",
       "      <td>0.4</td>\n",
       "      <td>2020-03-24 01:10:56</td>\n",
       "    </tr>\n",
       "    <tr>\n",
       "      <th>2</th>\n",
       "      <td>3</td>\n",
       "      <td>AR</td>\n",
       "      <td>81ED2628-2FF4-4B67-86B1-F9DFEC603C15</td>\n",
       "      <td>34BFCC3D-B107-4164-B405-DEFF63A65B2D</td>\n",
       "      <td>0.4</td>\n",
       "      <td>2016-12-02 23:21:46</td>\n",
       "    </tr>\n",
       "    <tr>\n",
       "      <th>3</th>\n",
       "      <td>4</td>\n",
       "      <td>AZ</td>\n",
       "      <td>14B1BCC4-CEF6-4108-AB54-3CDE482845F0</td>\n",
       "      <td>875DB0F4-619B-4A13-8104-85A3C15D90C4</td>\n",
       "      <td>0.8</td>\n",
       "      <td>2015-12-16 20:32:55</td>\n",
       "    </tr>\n",
       "    <tr>\n",
       "      <th>4</th>\n",
       "      <td>5</td>\n",
       "      <td>CA</td>\n",
       "      <td>41275A72-CD69-4A42-85FB-E3E4FEE0C316</td>\n",
       "      <td>22746734-D076-4AC8-BA66-50426C01093C</td>\n",
       "      <td>3.0</td>\n",
       "      <td>2020-09-04 00:02:54</td>\n",
       "    </tr>\n",
       "  </tbody>\n",
       "</table>\n",
       "</div>"
      ],
      "text/plain": [
       "   Id StateAbbr                          TimeEntryUno  \\\n",
       "0   1        AK  44954D1D-C354-41F6-8C33-327E866B6BA3   \n",
       "1   2        AL  F1D8F733-1BDB-47FD-BC7C-CB512E2C5A3A   \n",
       "2   3        AR  81ED2628-2FF4-4B67-86B1-F9DFEC603C15   \n",
       "3   4        AZ  14B1BCC4-CEF6-4108-AB54-3CDE482845F0   \n",
       "4   5        CA  41275A72-CD69-4A42-85FB-E3E4FEE0C316   \n",
       "\n",
       "                            AttorneyUno  Hours         EnteredOnUtc  \n",
       "0  C126C566-9039-4991-BDD8-0CDD05C27DDF    1.8  2017-01-05 21:25:23  \n",
       "1  F8C0E3D3-B3A5-42B9-9E2F-2A637BA83D6E    0.4  2020-03-24 01:10:56  \n",
       "2  34BFCC3D-B107-4164-B405-DEFF63A65B2D    0.4  2016-12-02 23:21:46  \n",
       "3  875DB0F4-619B-4A13-8104-85A3C15D90C4    0.8  2015-12-16 20:32:55  \n",
       "4  22746734-D076-4AC8-BA66-50426C01093C    3.0  2020-09-04 00:02:54  "
      ]
     },
     "metadata": {},
     "output_type": "display_data"
    },
    {
     "name": "stdout",
     "output_type": "stream",
     "text": [
      "Shape:  (114613, 6)\n",
      "Unique values in column AttorneyUno:  3967\n"
     ]
    }
   ],
   "source": [
    "#Data Dictionary for attorney_time_entries_df\n",
    "    #1. ID: Numeric Identifier for the Time Entry\n",
    "    #2. StateAbbr: USPS 2-Character State Abbreviation\n",
    "    #3. TimeEntryUno: Unique Identifier for the Time Entry\n",
    "    #4. AttorneyUno: Unique Identifier for the Attorney\n",
    "    #5. Hours: Hours spent responding to client questions\n",
    "    #6. EnteredOnUtc: Date and Time the Time Entry was Created\n",
    "\n",
    "attorney_time_entries_df = pd.read_csv('./data/attorneytimeentries.csv')\n",
    "display(attorney_time_entries_df.head())\n",
    "print(\"Shape: \", attorney_time_entries_df.shape)\n",
    "#show number of unique values in column TimeEntryUno\n",
    "print(\"Unique values in column AttorneyUno: \", attorney_time_entries_df['AttorneyUno'].nunique())"
   ]
  },
  {
   "cell_type": "code",
   "execution_count": 4,
   "id": "663c268c",
   "metadata": {},
   "outputs": [
    {
     "data": {
      "text/html": [
       "<div>\n",
       "<style scoped>\n",
       "    .dataframe tbody tr th:only-of-type {\n",
       "        vertical-align: middle;\n",
       "    }\n",
       "\n",
       "    .dataframe tbody tr th {\n",
       "        vertical-align: top;\n",
       "    }\n",
       "\n",
       "    .dataframe thead th {\n",
       "        text-align: right;\n",
       "    }\n",
       "</style>\n",
       "<table border=\"1\" class=\"dataframe\">\n",
       "  <thead>\n",
       "    <tr style=\"text-align: right;\">\n",
       "      <th></th>\n",
       "      <th>Id</th>\n",
       "      <th>StateAbbr</th>\n",
       "      <th>CategoryUno</th>\n",
       "      <th>Category</th>\n",
       "    </tr>\n",
       "  </thead>\n",
       "  <tbody>\n",
       "    <tr>\n",
       "      <th>0</th>\n",
       "      <td>1</td>\n",
       "      <td>AK</td>\n",
       "      <td>4CB7A73E-AAB0-4E8F-94D1-8AC8610AAC64</td>\n",
       "      <td>Consumer Financial Questions</td>\n",
       "    </tr>\n",
       "    <tr>\n",
       "      <th>1</th>\n",
       "      <td>2</td>\n",
       "      <td>AL</td>\n",
       "      <td>08C7C59B-6AAE-4BC1-83FE-BC85F1544260</td>\n",
       "      <td>Consumer Financial Questions</td>\n",
       "    </tr>\n",
       "    <tr>\n",
       "      <th>2</th>\n",
       "      <td>3</td>\n",
       "      <td>AR</td>\n",
       "      <td>FD5059F7-DE7A-4929-8D67-E72C80773BAD</td>\n",
       "      <td>Consumer Financial Questions</td>\n",
       "    </tr>\n",
       "    <tr>\n",
       "      <th>3</th>\n",
       "      <td>4</td>\n",
       "      <td>AZ</td>\n",
       "      <td>D90F1BC7-CD04-409A-9AF7-D4DAB649425A</td>\n",
       "      <td>Consumer Financial Questions</td>\n",
       "    </tr>\n",
       "    <tr>\n",
       "      <th>4</th>\n",
       "      <td>5</td>\n",
       "      <td>CA</td>\n",
       "      <td>FD678F86-62B1-4EC4-A628-98AEE7BC74D5</td>\n",
       "      <td>Consumer Financial Questions</td>\n",
       "    </tr>\n",
       "  </tbody>\n",
       "</table>\n",
       "</div>"
      ],
      "text/plain": [
       "   Id StateAbbr                           CategoryUno  \\\n",
       "0   1        AK  4CB7A73E-AAB0-4E8F-94D1-8AC8610AAC64   \n",
       "1   2        AL  08C7C59B-6AAE-4BC1-83FE-BC85F1544260   \n",
       "2   3        AR  FD5059F7-DE7A-4929-8D67-E72C80773BAD   \n",
       "3   4        AZ  D90F1BC7-CD04-409A-9AF7-D4DAB649425A   \n",
       "4   5        CA  FD678F86-62B1-4EC4-A628-98AEE7BC74D5   \n",
       "\n",
       "                       Category  \n",
       "0  Consumer Financial Questions  \n",
       "1  Consumer Financial Questions  \n",
       "2  Consumer Financial Questions  \n",
       "3  Consumer Financial Questions  \n",
       "4  Consumer Financial Questions  "
      ]
     },
     "metadata": {},
     "output_type": "display_data"
    },
    {
     "name": "stdout",
     "output_type": "stream",
     "text": [
      "Shape:  (430, 4)\n"
     ]
    }
   ],
   "source": [
    "#Data Dictionary for categories_df\n",
    "    #1. ID: Numeric Identifier for the Legal Services Corporation Category\n",
    "    #2. StateAbbr: USPS 2-Character State Abbreviation\n",
    "    #3. CategoryUno: Unique Identifier for the LSC Category\n",
    "    #4. Category: LSC Category Name\n",
    "\n",
    "categories_df = pd.read_csv('./data/categories.csv')\n",
    "display(categories_df.head())\n",
    "print(\"Shape: \", categories_df.shape)"
   ]
  },
  {
   "cell_type": "code",
   "execution_count": 5,
   "id": "d1605f08",
   "metadata": {},
   "outputs": [
    {
     "data": {
      "text/html": [
       "<div>\n",
       "<style scoped>\n",
       "    .dataframe tbody tr th:only-of-type {\n",
       "        vertical-align: middle;\n",
       "    }\n",
       "\n",
       "    .dataframe tbody tr th {\n",
       "        vertical-align: top;\n",
       "    }\n",
       "\n",
       "    .dataframe thead th {\n",
       "        text-align: right;\n",
       "    }\n",
       "</style>\n",
       "<table border=\"1\" class=\"dataframe\">\n",
       "  <thead>\n",
       "    <tr style=\"text-align: right;\">\n",
       "      <th></th>\n",
       "      <th>Id</th>\n",
       "      <th>StateAbbr</th>\n",
       "      <th>ClientUno</th>\n",
       "      <th>County</th>\n",
       "      <th>StateName</th>\n",
       "      <th>PostalCode</th>\n",
       "      <th>EthnicIdentity</th>\n",
       "      <th>Age</th>\n",
       "      <th>Gender</th>\n",
       "      <th>MaritalStatus</th>\n",
       "      <th>Veteran</th>\n",
       "      <th>Imprisoned</th>\n",
       "      <th>NumberInHousehold</th>\n",
       "      <th>AnnualIncome</th>\n",
       "      <th>AllowedIncome</th>\n",
       "      <th>CheckingBalance</th>\n",
       "      <th>SavingsBalance</th>\n",
       "      <th>InvestmentsBalance</th>\n",
       "      <th>CreatedUtc</th>\n",
       "    </tr>\n",
       "  </thead>\n",
       "  <tbody>\n",
       "    <tr>\n",
       "      <th>0</th>\n",
       "      <td>1</td>\n",
       "      <td>MS</td>\n",
       "      <td>B731DA7A-A97A-4A2E-BF11-0A126A05AF70</td>\n",
       "      <td>Washington</td>\n",
       "      <td>Mississippi</td>\n",
       "      <td>73179.0</td>\n",
       "      <td>NaN</td>\n",
       "      <td>NaN</td>\n",
       "      <td>NaN</td>\n",
       "      <td>NaN</td>\n",
       "      <td>NaN</td>\n",
       "      <td>No</td>\n",
       "      <td>3.0</td>\n",
       "      <td>26000.0</td>\n",
       "      <td>37190.0</td>\n",
       "      <td>300.0</td>\n",
       "      <td>NaN</td>\n",
       "      <td>NaN</td>\n",
       "      <td>2016-08-25 15:15:37</td>\n",
       "    </tr>\n",
       "    <tr>\n",
       "      <th>1</th>\n",
       "      <td>2</td>\n",
       "      <td>MS</td>\n",
       "      <td>8101DB7C-0CC8-4DE9-9E87-71137269AAD5</td>\n",
       "      <td>Harrison</td>\n",
       "      <td>Mississippi</td>\n",
       "      <td>39560.0</td>\n",
       "      <td>Caucasian</td>\n",
       "      <td>NaN</td>\n",
       "      <td>Male</td>\n",
       "      <td>Divorced or Widowed</td>\n",
       "      <td>NaN</td>\n",
       "      <td>No</td>\n",
       "      <td>2.0</td>\n",
       "      <td>52.0</td>\n",
       "      <td>25390.0</td>\n",
       "      <td>1.0</td>\n",
       "      <td>1.0</td>\n",
       "      <td>NaN</td>\n",
       "      <td>2016-08-26 00:55:17</td>\n",
       "    </tr>\n",
       "    <tr>\n",
       "      <th>2</th>\n",
       "      <td>3</td>\n",
       "      <td>GA</td>\n",
       "      <td>DD5F1EFC-8298-457F-BC09-CABBEB57A697</td>\n",
       "      <td>Barrow</td>\n",
       "      <td>Georgia</td>\n",
       "      <td>30157.0</td>\n",
       "      <td>Latino or Hispanic</td>\n",
       "      <td>55.0</td>\n",
       "      <td>Male</td>\n",
       "      <td>Single</td>\n",
       "      <td>NaN</td>\n",
       "      <td>No</td>\n",
       "      <td>5.0</td>\n",
       "      <td>3000.0</td>\n",
       "      <td>60790.0</td>\n",
       "      <td>NaN</td>\n",
       "      <td>NaN</td>\n",
       "      <td>NaN</td>\n",
       "      <td>2016-10-12 14:37:06</td>\n",
       "    </tr>\n",
       "    <tr>\n",
       "      <th>3</th>\n",
       "      <td>4</td>\n",
       "      <td>TX</td>\n",
       "      <td>21DC9E3D-D0AA-4B85-88BB-428F5BCF7F13</td>\n",
       "      <td>Lubbock</td>\n",
       "      <td>Texas</td>\n",
       "      <td>79416.0</td>\n",
       "      <td>Other</td>\n",
       "      <td>61.0</td>\n",
       "      <td>Female</td>\n",
       "      <td>Married / remarried</td>\n",
       "      <td>No</td>\n",
       "      <td>No</td>\n",
       "      <td>4.0</td>\n",
       "      <td>15600.0</td>\n",
       "      <td>48990.0</td>\n",
       "      <td>100.0</td>\n",
       "      <td>NaN</td>\n",
       "      <td>NaN</td>\n",
       "      <td>2017-01-01 19:57:07</td>\n",
       "    </tr>\n",
       "    <tr>\n",
       "      <th>4</th>\n",
       "      <td>5</td>\n",
       "      <td>ID</td>\n",
       "      <td>3782D4F9-9B16-4BC8-ADA3-F85CEE200630</td>\n",
       "      <td>Boise</td>\n",
       "      <td>Idaho</td>\n",
       "      <td>83705.0</td>\n",
       "      <td>Caucasian</td>\n",
       "      <td>65.0</td>\n",
       "      <td>Male</td>\n",
       "      <td>Single</td>\n",
       "      <td>No</td>\n",
       "      <td>No</td>\n",
       "      <td>1.0</td>\n",
       "      <td>15000.0</td>\n",
       "      <td>13590.0</td>\n",
       "      <td>580.0</td>\n",
       "      <td>25.0</td>\n",
       "      <td>NaN</td>\n",
       "      <td>2017-02-23 00:03:27</td>\n",
       "    </tr>\n",
       "  </tbody>\n",
       "</table>\n",
       "</div>"
      ],
      "text/plain": [
       "   Id StateAbbr                             ClientUno      County  \\\n",
       "0   1        MS  B731DA7A-A97A-4A2E-BF11-0A126A05AF70  Washington   \n",
       "1   2        MS  8101DB7C-0CC8-4DE9-9E87-71137269AAD5    Harrison   \n",
       "2   3        GA  DD5F1EFC-8298-457F-BC09-CABBEB57A697      Barrow   \n",
       "3   4        TX  21DC9E3D-D0AA-4B85-88BB-428F5BCF7F13     Lubbock   \n",
       "4   5        ID  3782D4F9-9B16-4BC8-ADA3-F85CEE200630       Boise   \n",
       "\n",
       "     StateName  PostalCode      EthnicIdentity   Age  Gender  \\\n",
       "0  Mississippi     73179.0                 NaN   NaN     NaN   \n",
       "1  Mississippi     39560.0           Caucasian   NaN    Male   \n",
       "2      Georgia     30157.0  Latino or Hispanic  55.0    Male   \n",
       "3        Texas     79416.0               Other  61.0  Female   \n",
       "4        Idaho     83705.0           Caucasian  65.0    Male   \n",
       "\n",
       "         MaritalStatus Veteran Imprisoned  NumberInHousehold  AnnualIncome  \\\n",
       "0                  NaN     NaN         No                3.0       26000.0   \n",
       "1  Divorced or Widowed     NaN         No                2.0          52.0   \n",
       "2               Single     NaN         No                5.0        3000.0   \n",
       "3  Married / remarried      No         No                4.0       15600.0   \n",
       "4               Single      No         No                1.0       15000.0   \n",
       "\n",
       "   AllowedIncome  CheckingBalance  SavingsBalance  InvestmentsBalance  \\\n",
       "0        37190.0            300.0             NaN                 NaN   \n",
       "1        25390.0              1.0             1.0                 NaN   \n",
       "2        60790.0              NaN             NaN                 NaN   \n",
       "3        48990.0            100.0             NaN                 NaN   \n",
       "4        13590.0            580.0            25.0                 NaN   \n",
       "\n",
       "            CreatedUtc  \n",
       "0  2016-08-25 15:15:37  \n",
       "1  2016-08-26 00:55:17  \n",
       "2  2016-10-12 14:37:06  \n",
       "3  2017-01-01 19:57:07  \n",
       "4  2017-02-23 00:03:27  "
      ]
     },
     "metadata": {},
     "output_type": "display_data"
    },
    {
     "name": "stdout",
     "output_type": "stream",
     "text": [
      "Shape:  (331426, 19)\n"
     ]
    }
   ],
   "source": [
    "#Data Dictionary for clients_df:\n",
    "    #1. ID: Numeric Identifier for the Client\n",
    "    #2. StateAbbr: USPS 2-Character State Abbreviation\n",
    "    #3. ClientUno: Unique Identifier for the Client\n",
    "    #4. County: County chosen by the Client\n",
    "    #5. StateName: Full Name of the State\n",
    "    #6. PostalCode: 5-Digit Postal Code\n",
    "    #7. EthnicIdentity: Client's Chosen Racial or Ethnic Identity\n",
    "    #8. Age: Client's Age at the Time of Registration\n",
    "    #9. Gender: Client's Chosen Gender Identity\n",
    "    #10. MaritalStatus: Client's Chosen Marital Status\n",
    "    #11. Veteran: Yes/No that indicates whether the client has served in the military\n",
    "    #12. Imprisoned: Yes/No that indicates whether the client is currently in jail\n",
    "    #13. NumberInHouseHold: Number of people residing in the client's household\n",
    "    #14. AnnualIncome: Estimated Annual Household Income of the Client\n",
    "    #15. AllowedIncome: State's calculated allowed income to determine elegibility based on the client's annual income\n",
    "    #16. CheckingBalance: Client's Estimated Checking Account Balance\n",
    "    #17. SavingsBalance: Client's Estimated Savings Account Balance\n",
    "    #18. InvestmentsBalance: Client's Estimated Investment Account Balance\n",
    "    #19. CreatedUtc: Date and Time the client record was created\n",
    "\n",
    "clients_df = pd.read_csv('./data/clients.csv')\n",
    "display(clients_df.head())\n",
    "print(\"Shape: \", clients_df.shape)"
   ]
  },
  {
   "cell_type": "code",
   "execution_count": 6,
   "id": "d986e246",
   "metadata": {},
   "outputs": [
    {
     "name": "stderr",
     "output_type": "stream",
     "text": [
      "<ipython-input-6-7d79850ad3eb>:8: DtypeWarning: Columns (0) have mixed types. Specify dtype option on import or set low_memory=False.\n",
      "  question_posts_df = pd.read_csv('./data/questionposts.csv', on_bad_lines='skip')\n"
     ]
    },
    {
     "data": {
      "text/html": [
       "<div>\n",
       "<style scoped>\n",
       "    .dataframe tbody tr th:only-of-type {\n",
       "        vertical-align: middle;\n",
       "    }\n",
       "\n",
       "    .dataframe tbody tr th {\n",
       "        vertical-align: top;\n",
       "    }\n",
       "\n",
       "    .dataframe thead th {\n",
       "        text-align: right;\n",
       "    }\n",
       "</style>\n",
       "<table border=\"1\" class=\"dataframe\">\n",
       "  <thead>\n",
       "    <tr style=\"text-align: right;\">\n",
       "      <th></th>\n",
       "      <th>Id</th>\n",
       "      <th>StateAbbr</th>\n",
       "      <th>QuestionUno</th>\n",
       "      <th>PostText</th>\n",
       "      <th>CreatedUtc</th>\n",
       "    </tr>\n",
       "  </thead>\n",
       "  <tbody>\n",
       "    <tr>\n",
       "      <th>0</th>\n",
       "      <td>1</td>\n",
       "      <td>AK</td>\n",
       "      <td>B7C95D50-6C81-4E61-BC16-81077B7D3F7E</td>\n",
       "      <td>Do you still need help with this issue?  It ha...</td>\n",
       "      <td>2018-04-25 18:09:30</td>\n",
       "    </tr>\n",
       "    <tr>\n",
       "      <th>1</th>\n",
       "      <td>2</td>\n",
       "      <td>AK</td>\n",
       "      <td>C579CE49-6B7A-44E7-A203-5D3E52623804</td>\n",
       "      <td>Anyone?</td>\n",
       "      <td>2018-04-17 21:15:28</td>\n",
       "    </tr>\n",
       "    <tr>\n",
       "      <th>2</th>\n",
       "      <td>3</td>\n",
       "      <td>AK</td>\n",
       "      <td>F3A78AD3-D3D4-447F-BEAF-F62F1D1D4CCE</td>\n",
       "      <td>Yes, those are the right forms.  I'm sorry, I ...</td>\n",
       "      <td>2018-04-18 17:51:41</td>\n",
       "    </tr>\n",
       "    <tr>\n",
       "      <th>3</th>\n",
       "      <td>4</td>\n",
       "      <td>AK</td>\n",
       "      <td>5F8506D3-D9F1-48EE-8081-D30259DBF4E8</td>\n",
       "      <td>Hi ###,You do make some good points.  The diff...</td>\n",
       "      <td>2018-04-18 22:15:44</td>\n",
       "    </tr>\n",
       "    <tr>\n",
       "      <th>4</th>\n",
       "      <td>5</td>\n",
       "      <td>AK</td>\n",
       "      <td>B4C814C9-8983-413F-8BC4-F2BE01665555</td>\n",
       "      <td>My father passed away and I have DNA test resu...</td>\n",
       "      <td>2018-04-12 10:52:50</td>\n",
       "    </tr>\n",
       "  </tbody>\n",
       "</table>\n",
       "</div>"
      ],
      "text/plain": [
       "  Id StateAbbr                           QuestionUno  \\\n",
       "0  1        AK  B7C95D50-6C81-4E61-BC16-81077B7D3F7E   \n",
       "1  2        AK  C579CE49-6B7A-44E7-A203-5D3E52623804   \n",
       "2  3        AK  F3A78AD3-D3D4-447F-BEAF-F62F1D1D4CCE   \n",
       "3  4        AK  5F8506D3-D9F1-48EE-8081-D30259DBF4E8   \n",
       "4  5        AK  B4C814C9-8983-413F-8BC4-F2BE01665555   \n",
       "\n",
       "                                            PostText           CreatedUtc  \n",
       "0  Do you still need help with this issue?  It ha...  2018-04-25 18:09:30  \n",
       "1                                            Anyone?  2018-04-17 21:15:28  \n",
       "2  Yes, those are the right forms.  I'm sorry, I ...  2018-04-18 17:51:41  \n",
       "3  Hi ###,You do make some good points.  The diff...  2018-04-18 22:15:44  \n",
       "4  My father passed away and I have DNA test resu...  2018-04-12 10:52:50  "
      ]
     },
     "metadata": {},
     "output_type": "display_data"
    },
    {
     "name": "stdout",
     "output_type": "stream",
     "text": [
      "Shape:  (365195, 5)\n",
      "Unique values in column QuestionUno:  160426\n"
     ]
    }
   ],
   "source": [
    "#Data Dictionary for question_posts_df\n",
    "    #1. ID: Numeric Identifier for the Question Post\n",
    "    #2. StateAbbr: USPS 2-Character State Abbreviation\n",
    "    #3. QuestionPostUno: Unique Identifier for the Question Post\n",
    "    #4. PostText: Redacted Text of the Question Post\n",
    "    #5. CreatedUtc: Date and Time the Question Post was Created\n",
    "\n",
    "question_posts_df = pd.read_csv('./data/questionposts.csv', on_bad_lines='skip')\n",
    "display(question_posts_df.head())\n",
    "print(\"Shape: \", question_posts_df.shape)\n",
    "#print the unique values in column QuestionUno\n",
    "print(\"Unique values in column QuestionUno: \", question_posts_df['QuestionUno'].nunique())"
   ]
  },
  {
   "cell_type": "code",
   "execution_count": 7,
   "id": "79246596",
   "metadata": {},
   "outputs": [
    {
     "data": {
      "text/html": [
       "<div>\n",
       "<style scoped>\n",
       "    .dataframe tbody tr th:only-of-type {\n",
       "        vertical-align: middle;\n",
       "    }\n",
       "\n",
       "    .dataframe tbody tr th {\n",
       "        vertical-align: top;\n",
       "    }\n",
       "\n",
       "    .dataframe thead th {\n",
       "        text-align: right;\n",
       "    }\n",
       "</style>\n",
       "<table border=\"1\" class=\"dataframe\">\n",
       "  <thead>\n",
       "    <tr style=\"text-align: right;\">\n",
       "      <th></th>\n",
       "      <th>Id</th>\n",
       "      <th>StateAbbr</th>\n",
       "      <th>QuestionUno</th>\n",
       "      <th>CategoryUno</th>\n",
       "      <th>Category</th>\n",
       "      <th>SubcategoryUno</th>\n",
       "      <th>Subcategory</th>\n",
       "      <th>AskedByClientUno</th>\n",
       "      <th>AskedOnUtc</th>\n",
       "      <th>TakenByAttorneyUno</th>\n",
       "      <th>TakenOnUtc</th>\n",
       "      <th>ClosedByAttorneyUno</th>\n",
       "      <th>ClosedOnUtc</th>\n",
       "      <th>LegalDeadline</th>\n",
       "    </tr>\n",
       "  </thead>\n",
       "  <tbody>\n",
       "    <tr>\n",
       "      <th>0</th>\n",
       "      <td>1</td>\n",
       "      <td>NC</td>\n",
       "      <td>BB53B2A4-7C1B-45C3-9693-62047889317D</td>\n",
       "      <td>C932D197-7F43-4BCF-BE0B-FE5F5DBCB9EF</td>\n",
       "      <td>Family and Children</td>\n",
       "      <td>E9F87919-0CD5-4D9D-AAC6-3CBC49132F1D</td>\n",
       "      <td>Family/Divorce/Custody/Visitation/Child Support</td>\n",
       "      <td>9C35423C-914A-42BC-8EBC-A370E76E2178</td>\n",
       "      <td>2019-06-19 22:10:06</td>\n",
       "      <td>NaN</td>\n",
       "      <td>NaN</td>\n",
       "      <td>NaN</td>\n",
       "      <td>2019-08-13 15:09:06</td>\n",
       "      <td>2019-07-08 00:00:00</td>\n",
       "    </tr>\n",
       "    <tr>\n",
       "      <th>1</th>\n",
       "      <td>2</td>\n",
       "      <td>NC</td>\n",
       "      <td>0C49F841-2782-4313-961E-7882B96D0854</td>\n",
       "      <td>C8E1275A-6C42-42E4-9B7D-231BAC438FC9</td>\n",
       "      <td>Individual Rights</td>\n",
       "      <td>73A59926-BA0B-44EC-ABF3-F4C9181EEA83</td>\n",
       "      <td>Civil/Constitutional Rights</td>\n",
       "      <td>DF636AEE-7D08-4F90-9A5C-0A2A726C6B59</td>\n",
       "      <td>2019-06-19 23:34:36</td>\n",
       "      <td>NaN</td>\n",
       "      <td>NaN</td>\n",
       "      <td>NaN</td>\n",
       "      <td>2019-08-13 15:09:14</td>\n",
       "      <td>NaN</td>\n",
       "    </tr>\n",
       "    <tr>\n",
       "      <th>2</th>\n",
       "      <td>3</td>\n",
       "      <td>NC</td>\n",
       "      <td>BFC28E08-B6B1-4185-A91A-89DF90816BE4</td>\n",
       "      <td>C8E1275A-6C42-42E4-9B7D-231BAC438FC9</td>\n",
       "      <td>Individual Rights</td>\n",
       "      <td>73A59926-BA0B-44EC-ABF3-F4C9181EEA83</td>\n",
       "      <td>Civil/Constitutional Rights</td>\n",
       "      <td>DF636AEE-7D08-4F90-9A5C-0A2A726C6B59</td>\n",
       "      <td>2019-06-19 23:57:18</td>\n",
       "      <td>FA34142B-1575-4720-981C-2D28C3560137</td>\n",
       "      <td>2019-06-22 02:37:16</td>\n",
       "      <td>FA34142B-1575-4720-981C-2D28C3560137</td>\n",
       "      <td>2019-06-24 19:02:35</td>\n",
       "      <td>NaN</td>\n",
       "    </tr>\n",
       "    <tr>\n",
       "      <th>3</th>\n",
       "      <td>4</td>\n",
       "      <td>NC</td>\n",
       "      <td>45B24109-243A-489B-B0D2-2F36C2A369FE</td>\n",
       "      <td>C932D197-7F43-4BCF-BE0B-FE5F5DBCB9EF</td>\n",
       "      <td>Family and Children</td>\n",
       "      <td>E9F87919-0CD5-4D9D-AAC6-3CBC49132F1D</td>\n",
       "      <td>Family/Divorce/Custody/Visitation/Child Support</td>\n",
       "      <td>C9C3FA40-0D60-49B9-97F1-63AFEFAFA484</td>\n",
       "      <td>2019-06-20 02:33:14</td>\n",
       "      <td>FA34142B-1575-4720-981C-2D28C3560137</td>\n",
       "      <td>2019-07-27 18:04:08</td>\n",
       "      <td>FA34142B-1575-4720-981C-2D28C3560137</td>\n",
       "      <td>2019-07-31 05:49:18</td>\n",
       "      <td>NaN</td>\n",
       "    </tr>\n",
       "    <tr>\n",
       "      <th>4</th>\n",
       "      <td>5</td>\n",
       "      <td>NC</td>\n",
       "      <td>C4707F71-FE4A-4154-8174-AF00BEE2B361</td>\n",
       "      <td>F6016FBD-9501-4448-BCD3-BBB0E834E33B</td>\n",
       "      <td>Consumer Financial Questions</td>\n",
       "      <td>73FE486E-2B51-456A-A6D9-78A7D05802AA</td>\n",
       "      <td>Bankruptcy, Debts &amp; Purchases</td>\n",
       "      <td>ED7DEA10-CDB7-4A05-891D-889D1EA710BE</td>\n",
       "      <td>2019-06-20 17:04:47</td>\n",
       "      <td>NaN</td>\n",
       "      <td>NaN</td>\n",
       "      <td>NaN</td>\n",
       "      <td>2019-08-13 15:09:20</td>\n",
       "      <td>NaN</td>\n",
       "    </tr>\n",
       "  </tbody>\n",
       "</table>\n",
       "</div>"
      ],
      "text/plain": [
       "   Id StateAbbr                           QuestionUno  \\\n",
       "0   1        NC  BB53B2A4-7C1B-45C3-9693-62047889317D   \n",
       "1   2        NC  0C49F841-2782-4313-961E-7882B96D0854   \n",
       "2   3        NC  BFC28E08-B6B1-4185-A91A-89DF90816BE4   \n",
       "3   4        NC  45B24109-243A-489B-B0D2-2F36C2A369FE   \n",
       "4   5        NC  C4707F71-FE4A-4154-8174-AF00BEE2B361   \n",
       "\n",
       "                            CategoryUno                      Category  \\\n",
       "0  C932D197-7F43-4BCF-BE0B-FE5F5DBCB9EF           Family and Children   \n",
       "1  C8E1275A-6C42-42E4-9B7D-231BAC438FC9             Individual Rights   \n",
       "2  C8E1275A-6C42-42E4-9B7D-231BAC438FC9             Individual Rights   \n",
       "3  C932D197-7F43-4BCF-BE0B-FE5F5DBCB9EF           Family and Children   \n",
       "4  F6016FBD-9501-4448-BCD3-BBB0E834E33B  Consumer Financial Questions   \n",
       "\n",
       "                         SubcategoryUno  \\\n",
       "0  E9F87919-0CD5-4D9D-AAC6-3CBC49132F1D   \n",
       "1  73A59926-BA0B-44EC-ABF3-F4C9181EEA83   \n",
       "2  73A59926-BA0B-44EC-ABF3-F4C9181EEA83   \n",
       "3  E9F87919-0CD5-4D9D-AAC6-3CBC49132F1D   \n",
       "4  73FE486E-2B51-456A-A6D9-78A7D05802AA   \n",
       "\n",
       "                                       Subcategory  \\\n",
       "0  Family/Divorce/Custody/Visitation/Child Support   \n",
       "1                      Civil/Constitutional Rights   \n",
       "2                      Civil/Constitutional Rights   \n",
       "3  Family/Divorce/Custody/Visitation/Child Support   \n",
       "4                    Bankruptcy, Debts & Purchases   \n",
       "\n",
       "                       AskedByClientUno           AskedOnUtc  \\\n",
       "0  9C35423C-914A-42BC-8EBC-A370E76E2178  2019-06-19 22:10:06   \n",
       "1  DF636AEE-7D08-4F90-9A5C-0A2A726C6B59  2019-06-19 23:34:36   \n",
       "2  DF636AEE-7D08-4F90-9A5C-0A2A726C6B59  2019-06-19 23:57:18   \n",
       "3  C9C3FA40-0D60-49B9-97F1-63AFEFAFA484  2019-06-20 02:33:14   \n",
       "4  ED7DEA10-CDB7-4A05-891D-889D1EA710BE  2019-06-20 17:04:47   \n",
       "\n",
       "                     TakenByAttorneyUno           TakenOnUtc  \\\n",
       "0                                   NaN                  NaN   \n",
       "1                                   NaN                  NaN   \n",
       "2  FA34142B-1575-4720-981C-2D28C3560137  2019-06-22 02:37:16   \n",
       "3  FA34142B-1575-4720-981C-2D28C3560137  2019-07-27 18:04:08   \n",
       "4                                   NaN                  NaN   \n",
       "\n",
       "                    ClosedByAttorneyUno          ClosedOnUtc  \\\n",
       "0                                   NaN  2019-08-13 15:09:06   \n",
       "1                                   NaN  2019-08-13 15:09:14   \n",
       "2  FA34142B-1575-4720-981C-2D28C3560137  2019-06-24 19:02:35   \n",
       "3  FA34142B-1575-4720-981C-2D28C3560137  2019-07-31 05:49:18   \n",
       "4                                   NaN  2019-08-13 15:09:20   \n",
       "\n",
       "         LegalDeadline  \n",
       "0  2019-07-08 00:00:00  \n",
       "1                  NaN  \n",
       "2                  NaN  \n",
       "3                  NaN  \n",
       "4                  NaN  "
      ]
     },
     "metadata": {},
     "output_type": "display_data"
    },
    {
     "name": "stdout",
     "output_type": "stream",
     "text": [
      "Shape:  (202879, 14)\n"
     ]
    }
   ],
   "source": [
    "#Data Dictionary for questions_df\n",
    "    #1. ID: Numeric Identifier for the Question\n",
    "    #2. StateAbbr: USPS 2-Character State Abbreviation\n",
    "    #3. QuestionUno: Unique Identifier for the Question\n",
    "    #4. CategoryUno: Unique Identifier for the LSC Category\n",
    "    #5. Category: LSC Category Name\n",
    "    #6. SubcategoryUno: Unique Identifier for the Subcategory\n",
    "    #7. Subcategory: State's Subcategory\n",
    "    #8. AskedByClientUno: Unique Identifier for the Client who submitted the Question\n",
    "    #9. AskedOnUtc: Date and Time the Question was Submitted\n",
    "    #10. TakenByAttorneyUno: Unique Identifier for the Attorney who took the Question\n",
    "    #11. TakenOnUtc: Date and Time the Question was selected by the Attorney\n",
    "    #12. ClosedByAttorneyUno: Unique Identifier for the Attorney who closed the Question\n",
    "    #13. ClosedOnUtc: Date and Time the Question was closed by the Attorney\n",
    "    #14. LegalDeadline: Court Date or other Legal Deadline related to the Client's Question\n",
    "\n",
    "questions_df = pd.read_csv('./data/questions.csv')\n",
    "display(questions_df.head())\n",
    "print(\"Shape: \", questions_df.shape)"
   ]
  },
  {
   "cell_type": "code",
   "execution_count": 8,
   "id": "aa9c4284",
   "metadata": {},
   "outputs": [
    {
     "data": {
      "text/html": [
       "<div>\n",
       "<style scoped>\n",
       "    .dataframe tbody tr th:only-of-type {\n",
       "        vertical-align: middle;\n",
       "    }\n",
       "\n",
       "    .dataframe tbody tr th {\n",
       "        vertical-align: top;\n",
       "    }\n",
       "\n",
       "    .dataframe thead th {\n",
       "        text-align: right;\n",
       "    }\n",
       "</style>\n",
       "<table border=\"1\" class=\"dataframe\">\n",
       "  <thead>\n",
       "    <tr style=\"text-align: right;\">\n",
       "      <th></th>\n",
       "      <th>Id</th>\n",
       "      <th>StateAbbr</th>\n",
       "      <th>StateName</th>\n",
       "      <th>AllowedAssets</th>\n",
       "      <th>BaseIncomeLimit</th>\n",
       "      <th>PerHouseholdMemberIncomeLimit</th>\n",
       "      <th>IncomeMultiplier</th>\n",
       "    </tr>\n",
       "  </thead>\n",
       "  <tbody>\n",
       "    <tr>\n",
       "      <th>0</th>\n",
       "      <td>1</td>\n",
       "      <td>AL</td>\n",
       "      <td>Alabama</td>\n",
       "      <td>10000</td>\n",
       "      <td>13590</td>\n",
       "      <td>4720</td>\n",
       "      <td>2.5</td>\n",
       "    </tr>\n",
       "    <tr>\n",
       "      <th>1</th>\n",
       "      <td>2</td>\n",
       "      <td>AR</td>\n",
       "      <td>Arkansas</td>\n",
       "      <td>10000</td>\n",
       "      <td>13590</td>\n",
       "      <td>4720</td>\n",
       "      <td>2.5</td>\n",
       "    </tr>\n",
       "    <tr>\n",
       "      <th>2</th>\n",
       "      <td>3</td>\n",
       "      <td>AZ</td>\n",
       "      <td>Arizona</td>\n",
       "      <td>10000</td>\n",
       "      <td>13590</td>\n",
       "      <td>4720</td>\n",
       "      <td>2.5</td>\n",
       "    </tr>\n",
       "    <tr>\n",
       "      <th>3</th>\n",
       "      <td>4</td>\n",
       "      <td>CA</td>\n",
       "      <td>California</td>\n",
       "      <td>10000</td>\n",
       "      <td>13590</td>\n",
       "      <td>4720</td>\n",
       "      <td>4.0</td>\n",
       "    </tr>\n",
       "    <tr>\n",
       "      <th>4</th>\n",
       "      <td>5</td>\n",
       "      <td>CT</td>\n",
       "      <td>Connecticut</td>\n",
       "      <td>10000</td>\n",
       "      <td>13590</td>\n",
       "      <td>4720</td>\n",
       "      <td>2.5</td>\n",
       "    </tr>\n",
       "  </tbody>\n",
       "</table>\n",
       "</div>"
      ],
      "text/plain": [
       "   Id StateAbbr    StateName  AllowedAssets  BaseIncomeLimit  \\\n",
       "0   1        AL      Alabama          10000            13590   \n",
       "1   2        AR     Arkansas          10000            13590   \n",
       "2   3        AZ      Arizona          10000            13590   \n",
       "3   4        CA   California          10000            13590   \n",
       "4   5        CT  Connecticut          10000            13590   \n",
       "\n",
       "   PerHouseholdMemberIncomeLimit  IncomeMultiplier  \n",
       "0                           4720               2.5  \n",
       "1                           4720               2.5  \n",
       "2                           4720               2.5  \n",
       "3                           4720               4.0  \n",
       "4                           4720               2.5  "
      ]
     },
     "metadata": {},
     "output_type": "display_data"
    },
    {
     "name": "stdout",
     "output_type": "stream",
     "text": [
      "Shape:  (42, 7)\n"
     ]
    }
   ],
   "source": [
    "#Data Dictionary for state_sites_df\n",
    "    #1. ID: Numeric Identifier for the State Site\n",
    "    #2. StateAbbr: USPS 2-Character State Abbreviation\n",
    "    #3. StateName: Full Name of the State\n",
    "    #4. AllowedAssets: State's limit for the total allowed amount for all accounts\n",
    "    #5. BaseIncomeLimit: Base amount used for determining a client's eligibility based on income (guidelines on website on dictionary pdf)\n",
    "    #6. PerHouseholdMemberIncomeLimit: Additional amount allowed per household member used for determining a client's eligibility based on income\n",
    "    #7. IncomeMultiplier: Income multiplier used for determining a client's eligibility based on income\n",
    "\n",
    "\n",
    "state_sites_df = pd.read_csv('./data/statesites.csv')\n",
    "display(state_sites_df.head())\n",
    "print(\"Shape: \", state_sites_df.shape)"
   ]
  },
  {
   "cell_type": "code",
   "execution_count": 9,
   "id": "2df01631",
   "metadata": {},
   "outputs": [
    {
     "data": {
      "text/html": [
       "<div>\n",
       "<style scoped>\n",
       "    .dataframe tbody tr th:only-of-type {\n",
       "        vertical-align: middle;\n",
       "    }\n",
       "\n",
       "    .dataframe tbody tr th {\n",
       "        vertical-align: top;\n",
       "    }\n",
       "\n",
       "    .dataframe thead th {\n",
       "        text-align: right;\n",
       "    }\n",
       "</style>\n",
       "<table border=\"1\" class=\"dataframe\">\n",
       "  <thead>\n",
       "    <tr style=\"text-align: right;\">\n",
       "      <th></th>\n",
       "      <th>Id</th>\n",
       "      <th>StateAbbr</th>\n",
       "      <th>CategoryUno</th>\n",
       "      <th>SubcategoryUno</th>\n",
       "      <th>Subcategory</th>\n",
       "    </tr>\n",
       "  </thead>\n",
       "  <tbody>\n",
       "    <tr>\n",
       "      <th>0</th>\n",
       "      <td>1</td>\n",
       "      <td>AK</td>\n",
       "      <td>2D43B4FD-FAC8-47C3-A891-085F5D74D64B</td>\n",
       "      <td>546C6AD6-4D2B-4B1D-B09F-8016C5B02D66</td>\n",
       "      <td>COVID-19-Housing</td>\n",
       "    </tr>\n",
       "    <tr>\n",
       "      <th>1</th>\n",
       "      <td>2</td>\n",
       "      <td>AK</td>\n",
       "      <td>2D43B4FD-FAC8-47C3-A891-085F5D74D64B</td>\n",
       "      <td>572148E8-96C7-4B74-8280-B749191C5B4C</td>\n",
       "      <td>COVID-19-Insurance</td>\n",
       "    </tr>\n",
       "    <tr>\n",
       "      <th>2</th>\n",
       "      <td>3</td>\n",
       "      <td>AK</td>\n",
       "      <td>2D43B4FD-FAC8-47C3-A891-085F5D74D64B</td>\n",
       "      <td>5AA5088E-3A9D-4D99-B6FE-69122C34194A</td>\n",
       "      <td>COVID-19-Lost Documents</td>\n",
       "    </tr>\n",
       "    <tr>\n",
       "      <th>3</th>\n",
       "      <td>4</td>\n",
       "      <td>AK</td>\n",
       "      <td>D3504F18-AC99-408B-B1D2-230DC130F9EC</td>\n",
       "      <td>E5DF5CEB-649F-47B3-B665-1BEB3EA4AD42</td>\n",
       "      <td>Emancipation and Delinquency</td>\n",
       "    </tr>\n",
       "    <tr>\n",
       "      <th>4</th>\n",
       "      <td>5</td>\n",
       "      <td>AK</td>\n",
       "      <td>BF144F3C-5743-47C5-9EEB-418FF0FAF0D8</td>\n",
       "      <td>16E4350E-BC59-40B7-BF72-0BC225ECA4D1</td>\n",
       "      <td>Immigration</td>\n",
       "    </tr>\n",
       "  </tbody>\n",
       "</table>\n",
       "</div>"
      ],
      "text/plain": [
       "   Id StateAbbr                           CategoryUno  \\\n",
       "0   1        AK  2D43B4FD-FAC8-47C3-A891-085F5D74D64B   \n",
       "1   2        AK  2D43B4FD-FAC8-47C3-A891-085F5D74D64B   \n",
       "2   3        AK  2D43B4FD-FAC8-47C3-A891-085F5D74D64B   \n",
       "3   4        AK  D3504F18-AC99-408B-B1D2-230DC130F9EC   \n",
       "4   5        AK  BF144F3C-5743-47C5-9EEB-418FF0FAF0D8   \n",
       "\n",
       "                         SubcategoryUno                   Subcategory  \n",
       "0  546C6AD6-4D2B-4B1D-B09F-8016C5B02D66              COVID-19-Housing  \n",
       "1  572148E8-96C7-4B74-8280-B749191C5B4C            COVID-19-Insurance  \n",
       "2  5AA5088E-3A9D-4D99-B6FE-69122C34194A       COVID-19-Lost Documents  \n",
       "3  E5DF5CEB-649F-47B3-B665-1BEB3EA4AD42  Emancipation and Delinquency  \n",
       "4  16E4350E-BC59-40B7-BF72-0BC225ECA4D1                   Immigration  "
      ]
     },
     "metadata": {},
     "output_type": "display_data"
    },
    {
     "name": "stdout",
     "output_type": "stream",
     "text": [
      "Shape:  (966, 5)\n"
     ]
    }
   ],
   "source": [
    "#Data Dictionary for subcategories_df\n",
    "    #1. ID: Numeric Identifier for the Subcategory\n",
    "    #2. StateAbbr: USPS 2-Character State Abbreviation\n",
    "    #3. CategoryUno: Unique Identifier for the LSC Category\n",
    "    #4. SubcategoryUno: Unique Identifier for the Subcategory\n",
    "    #5. Subcategory: State's Subcategory\n",
    "\n",
    "subcategories_df = pd.read_csv('./data/subcategories.csv')\n",
    "display(subcategories_df.head())\n",
    "print(\"Shape: \", subcategories_df.shape)"
   ]
  },
  {
   "cell_type": "code",
   "execution_count": 10,
   "id": "b676ac5e",
   "metadata": {},
   "outputs": [
    {
     "name": "stdout",
     "output_type": "stream",
     "text": [
      "Sum of hours:  44898.13999999999\n"
     ]
    },
    {
     "data": {
      "text/html": [
       "<div>\n",
       "<style scoped>\n",
       "    .dataframe tbody tr th:only-of-type {\n",
       "        vertical-align: middle;\n",
       "    }\n",
       "\n",
       "    .dataframe tbody tr th {\n",
       "        vertical-align: top;\n",
       "    }\n",
       "\n",
       "    .dataframe thead th {\n",
       "        text-align: right;\n",
       "    }\n",
       "</style>\n",
       "<table border=\"1\" class=\"dataframe\">\n",
       "  <thead>\n",
       "    <tr style=\"text-align: right;\">\n",
       "      <th></th>\n",
       "      <th>Id</th>\n",
       "      <th>StateAbbr</th>\n",
       "      <th>AttorneyUno</th>\n",
       "      <th>City</th>\n",
       "      <th>County</th>\n",
       "      <th>StateName</th>\n",
       "      <th>PostalCode</th>\n",
       "      <th>CreatedUtc</th>\n",
       "      <th>Hours</th>\n",
       "    </tr>\n",
       "  </thead>\n",
       "  <tbody>\n",
       "    <tr>\n",
       "      <th>64</th>\n",
       "      <td>65</td>\n",
       "      <td>SD</td>\n",
       "      <td>C44F2384-2519-432D-B2B7-06AA4CF65844</td>\n",
       "      <td>Rapid City</td>\n",
       "      <td>Pennington</td>\n",
       "      <td>South Dakota</td>\n",
       "      <td>57701</td>\n",
       "      <td>2016-10-10 01:58:53</td>\n",
       "      <td>1647.0</td>\n",
       "    </tr>\n",
       "    <tr>\n",
       "      <th>5867</th>\n",
       "      <td>5868</td>\n",
       "      <td>TX</td>\n",
       "      <td>8C1924A0-AB7E-41D8-8E65-CDAD9346A85F</td>\n",
       "      <td>Houston</td>\n",
       "      <td>All Natural Disaster Assistance</td>\n",
       "      <td>Texas</td>\n",
       "      <td>77002</td>\n",
       "      <td>2017-09-19 22:17:45</td>\n",
       "      <td>1046.8</td>\n",
       "    </tr>\n",
       "    <tr>\n",
       "      <th>3206</th>\n",
       "      <td>3207</td>\n",
       "      <td>MO</td>\n",
       "      <td>05DD8A38-5C07-4796-8ED5-699E05424614</td>\n",
       "      <td>Clayton</td>\n",
       "      <td>St. Louis</td>\n",
       "      <td>Missouri</td>\n",
       "      <td>63105</td>\n",
       "      <td>2017-03-22 00:55:46</td>\n",
       "      <td>625.9</td>\n",
       "    </tr>\n",
       "    <tr>\n",
       "      <th>3193</th>\n",
       "      <td>3194</td>\n",
       "      <td>TN</td>\n",
       "      <td>BBC9EB72-7333-45A8-8A6E-D28DD85BBB8C</td>\n",
       "      <td>Pasadena</td>\n",
       "      <td>Knox</td>\n",
       "      <td>Tennessee</td>\n",
       "      <td>91106</td>\n",
       "      <td>2011-04-29 03:40:07</td>\n",
       "      <td>622.6</td>\n",
       "    </tr>\n",
       "    <tr>\n",
       "      <th>1715</th>\n",
       "      <td>1716</td>\n",
       "      <td>TX</td>\n",
       "      <td>EBB7B7CE-7372-4DDF-8135-EB7AD00517F5</td>\n",
       "      <td>Dallas</td>\n",
       "      <td>Dallas</td>\n",
       "      <td>Texas</td>\n",
       "      <td>75252</td>\n",
       "      <td>2017-06-12 18:53:51</td>\n",
       "      <td>606.4</td>\n",
       "    </tr>\n",
       "  </tbody>\n",
       "</table>\n",
       "</div>"
      ],
      "text/plain": [
       "        Id StateAbbr                           AttorneyUno         City  \\\n",
       "64      65        SD  C44F2384-2519-432D-B2B7-06AA4CF65844  Rapid City    \n",
       "5867  5868        TX  8C1924A0-AB7E-41D8-8E65-CDAD9346A85F      Houston   \n",
       "3206  3207        MO  05DD8A38-5C07-4796-8ED5-699E05424614      Clayton   \n",
       "3193  3194        TN  BBC9EB72-7333-45A8-8A6E-D28DD85BBB8C     Pasadena   \n",
       "1715  1716        TX  EBB7B7CE-7372-4DDF-8135-EB7AD00517F5       Dallas   \n",
       "\n",
       "                               County     StateName  PostalCode  \\\n",
       "64                         Pennington  South Dakota       57701   \n",
       "5867  All Natural Disaster Assistance         Texas       77002   \n",
       "3206                        St. Louis      Missouri       63105   \n",
       "3193                             Knox     Tennessee       91106   \n",
       "1715                           Dallas         Texas       75252   \n",
       "\n",
       "               CreatedUtc   Hours  \n",
       "64    2016-10-10 01:58:53  1647.0  \n",
       "5867  2017-09-19 22:17:45  1046.8  \n",
       "3206  2017-03-22 00:55:46   625.9  \n",
       "3193  2011-04-29 03:40:07   622.6  \n",
       "1715  2017-06-12 18:53:51   606.4  "
      ]
     },
     "metadata": {},
     "output_type": "display_data"
    }
   ],
   "source": [
    "#merge attorneys_df and attorney_time_entries_df by AttorneyUno, and combine the hours spent on each attorney\n",
    "attorneys_df = attorneys_df.merge(attorney_time_entries_df.groupby('AttorneyUno')['Hours'].sum().reset_index(), on='AttorneyUno', how='left')\n",
    "#sort attorneys_df by the number of hours spent on each attorney\n",
    "attorneys_df = attorneys_df.sort_values(by='Hours', ascending=False)\n",
    "#print the sum of the hours in attorneys_df\n",
    "print(\"Sum of hours: \", attorneys_df['Hours'].sum())\n",
    "#create a new column and bin the hours spent on each attorney into the following: 0-10, 10-100, 100-500, 500-1000, 1000-3000, 3000+\n",
    "#attorneys_df['Hours_Binned'] = pd.cut(attorneys_df['Hours'], bins=[0, 10, 100, 500, 1000, 3000, 100000], labels=[1.0, 2.0, 3.0, 4.0, 5.0, 6.0])\n",
    "display(attorneys_df.head())"
   ]
  },
  {
   "cell_type": "code",
   "execution_count": 11,
   "id": "7e19e546",
   "metadata": {},
   "outputs": [
    {
     "data": {
      "text/html": [
       "<div>\n",
       "<style scoped>\n",
       "    .dataframe tbody tr th:only-of-type {\n",
       "        vertical-align: middle;\n",
       "    }\n",
       "\n",
       "    .dataframe tbody tr th {\n",
       "        vertical-align: top;\n",
       "    }\n",
       "\n",
       "    .dataframe thead th {\n",
       "        text-align: right;\n",
       "    }\n",
       "</style>\n",
       "<table border=\"1\" class=\"dataframe\">\n",
       "  <thead>\n",
       "    <tr style=\"text-align: right;\">\n",
       "      <th></th>\n",
       "      <th>StateAbbr</th>\n",
       "      <th>Useless Attorneys</th>\n",
       "    </tr>\n",
       "  </thead>\n",
       "  <tbody>\n",
       "    <tr>\n",
       "      <th>0</th>\n",
       "      <td>AK</td>\n",
       "      <td>75</td>\n",
       "    </tr>\n",
       "    <tr>\n",
       "      <th>1</th>\n",
       "      <td>AL</td>\n",
       "      <td>95</td>\n",
       "    </tr>\n",
       "    <tr>\n",
       "      <th>2</th>\n",
       "      <td>AR</td>\n",
       "      <td>104</td>\n",
       "    </tr>\n",
       "    <tr>\n",
       "      <th>3</th>\n",
       "      <td>AZ</td>\n",
       "      <td>71</td>\n",
       "    </tr>\n",
       "    <tr>\n",
       "      <th>4</th>\n",
       "      <td>CA</td>\n",
       "      <td>160</td>\n",
       "    </tr>\n",
       "  </tbody>\n",
       "</table>\n",
       "</div>"
      ],
      "text/plain": [
       "  StateAbbr  Useless Attorneys\n",
       "0        AK                 75\n",
       "1        AL                 95\n",
       "2        AR                104\n",
       "3        AZ                 71\n",
       "4        CA                160"
      ]
     },
     "metadata": {},
     "output_type": "display_data"
    },
    {
     "name": "stdout",
     "output_type": "stream",
     "text": [
      "Shape:  (11544, 9)\n",
      "Shape:  7577\n"
     ]
    }
   ],
   "source": [
    "# create a new dataframe with the number of attorneys with a null value for hours in each state\n",
    "useless_attorneys_df = attorneys_df[attorneys_df['Hours'].isnull()].groupby(\n",
    "    'StateAbbr')['AttorneyUno'].count().reset_index()\n",
    "# rename the columns\n",
    "useless_attorneys_df.columns = ['StateAbbr', 'Useless Attorneys']\n",
    "display(useless_attorneys_df.head())\n",
    "print(\"Shape: \", attorneys_df.shape)\n",
    "print(\"Shape: \", useless_attorneys_df['Useless Attorneys'].sum())\n"
   ]
  },
  {
   "cell_type": "code",
   "execution_count": 12,
   "id": "40f5767b",
   "metadata": {},
   "outputs": [
    {
     "data": {
      "text/html": [
       "<div>\n",
       "<style scoped>\n",
       "    .dataframe tbody tr th:only-of-type {\n",
       "        vertical-align: middle;\n",
       "    }\n",
       "\n",
       "    .dataframe tbody tr th {\n",
       "        vertical-align: top;\n",
       "    }\n",
       "\n",
       "    .dataframe thead th {\n",
       "        text-align: right;\n",
       "    }\n",
       "</style>\n",
       "<table border=\"1\" class=\"dataframe\">\n",
       "  <thead>\n",
       "    <tr style=\"text-align: right;\">\n",
       "      <th></th>\n",
       "      <th>Id</th>\n",
       "      <th>StateAbbr</th>\n",
       "      <th>AttorneyUno</th>\n",
       "      <th>City</th>\n",
       "      <th>County</th>\n",
       "      <th>StateName</th>\n",
       "      <th>PostalCode</th>\n",
       "      <th>CreatedUtc</th>\n",
       "      <th>Hours</th>\n",
       "    </tr>\n",
       "  </thead>\n",
       "  <tbody>\n",
       "    <tr>\n",
       "      <th>64</th>\n",
       "      <td>65</td>\n",
       "      <td>SD</td>\n",
       "      <td>C44F2384-2519-432D-B2B7-06AA4CF65844</td>\n",
       "      <td>Rapid City</td>\n",
       "      <td>Pennington</td>\n",
       "      <td>South Dakota</td>\n",
       "      <td>57701</td>\n",
       "      <td>2016-10-10 01:58:53</td>\n",
       "      <td>1647.0</td>\n",
       "    </tr>\n",
       "    <tr>\n",
       "      <th>5867</th>\n",
       "      <td>5868</td>\n",
       "      <td>TX</td>\n",
       "      <td>8C1924A0-AB7E-41D8-8E65-CDAD9346A85F</td>\n",
       "      <td>Houston</td>\n",
       "      <td>All Natural Disaster Assistance</td>\n",
       "      <td>Texas</td>\n",
       "      <td>77002</td>\n",
       "      <td>2017-09-19 22:17:45</td>\n",
       "      <td>1046.8</td>\n",
       "    </tr>\n",
       "    <tr>\n",
       "      <th>3206</th>\n",
       "      <td>3207</td>\n",
       "      <td>MO</td>\n",
       "      <td>05DD8A38-5C07-4796-8ED5-699E05424614</td>\n",
       "      <td>Clayton</td>\n",
       "      <td>St. Louis</td>\n",
       "      <td>Missouri</td>\n",
       "      <td>63105</td>\n",
       "      <td>2017-03-22 00:55:46</td>\n",
       "      <td>625.9</td>\n",
       "    </tr>\n",
       "    <tr>\n",
       "      <th>3193</th>\n",
       "      <td>3194</td>\n",
       "      <td>TN</td>\n",
       "      <td>BBC9EB72-7333-45A8-8A6E-D28DD85BBB8C</td>\n",
       "      <td>Pasadena</td>\n",
       "      <td>Knox</td>\n",
       "      <td>Tennessee</td>\n",
       "      <td>91106</td>\n",
       "      <td>2011-04-29 03:40:07</td>\n",
       "      <td>622.6</td>\n",
       "    </tr>\n",
       "    <tr>\n",
       "      <th>1715</th>\n",
       "      <td>1716</td>\n",
       "      <td>TX</td>\n",
       "      <td>EBB7B7CE-7372-4DDF-8135-EB7AD00517F5</td>\n",
       "      <td>Dallas</td>\n",
       "      <td>Dallas</td>\n",
       "      <td>Texas</td>\n",
       "      <td>75252</td>\n",
       "      <td>2017-06-12 18:53:51</td>\n",
       "      <td>606.4</td>\n",
       "    </tr>\n",
       "  </tbody>\n",
       "</table>\n",
       "</div>"
      ],
      "text/plain": [
       "        Id StateAbbr                           AttorneyUno         City  \\\n",
       "64      65        SD  C44F2384-2519-432D-B2B7-06AA4CF65844  Rapid City    \n",
       "5867  5868        TX  8C1924A0-AB7E-41D8-8E65-CDAD9346A85F      Houston   \n",
       "3206  3207        MO  05DD8A38-5C07-4796-8ED5-699E05424614      Clayton   \n",
       "3193  3194        TN  BBC9EB72-7333-45A8-8A6E-D28DD85BBB8C     Pasadena   \n",
       "1715  1716        TX  EBB7B7CE-7372-4DDF-8135-EB7AD00517F5       Dallas   \n",
       "\n",
       "                               County     StateName  PostalCode  \\\n",
       "64                         Pennington  South Dakota       57701   \n",
       "5867  All Natural Disaster Assistance         Texas       77002   \n",
       "3206                        St. Louis      Missouri       63105   \n",
       "3193                             Knox     Tennessee       91106   \n",
       "1715                           Dallas         Texas       75252   \n",
       "\n",
       "               CreatedUtc   Hours  \n",
       "64    2016-10-10 01:58:53  1647.0  \n",
       "5867  2017-09-19 22:17:45  1046.8  \n",
       "3206  2017-03-22 00:55:46   625.9  \n",
       "3193  2011-04-29 03:40:07   622.6  \n",
       "1715  2017-06-12 18:53:51   606.4  "
      ]
     },
     "metadata": {},
     "output_type": "display_data"
    },
    {
     "name": "stdout",
     "output_type": "stream",
     "text": [
      "Unique values in column AttorneyUno:  11544\n"
     ]
    }
   ],
   "source": [
    "#sort all attorneys by the number of hours spent on each attorney\n",
    "attorneys_df = attorneys_df.sort_values(by='Hours', ascending=False)\n",
    "display(attorneys_df.head())\n",
    "print(\"Unique values in column AttorneyUno: \", attorneys_df['AttorneyUno'].nunique())"
   ]
  },
  {
   "cell_type": "code",
   "execution_count": 39,
   "id": "98430e86",
   "metadata": {},
   "outputs": [
    {
     "name": "stdout",
     "output_type": "stream",
     "text": [
      "StateAbbr         object\n",
      "Id                 int64\n",
      "PostalCode         int64\n",
      "Hours            float64\n",
      "Hours_Binned    category\n",
      "dtype: object\n",
      "  StateAbbr      Id  PostalCode  Hours Hours_Binned\n",
      "0        KS   10081      533066    6.6         0-10\n",
      "1        US   41151      981029   62.9       10-100\n",
      "2        PA   49263      297410   78.3       10-100\n",
      "3        MI   23162      546325   68.0       10-100\n",
      "4        AK  110274     3081835  184.6      100-500\n"
     ]
    },
    {
     "data": {
      "application/vnd.plotly.v1+json": {
       "config": {
        "plotlyServerURL": "https://plot.ly"
       },
       "data": [
        {
         "colorscale": [
          [
           0,
           "rgb(179, 136, 245)"
          ],
          [
           1,
           "rgb(179, 136, 245)"
          ]
         ],
         "geo": "geo",
         "hovertemplate": "Hours_Binned=0-10<br>StateAbbr=%{location}<extra></extra>",
         "locationmode": "USA-states",
         "locations": [
          "KS"
         ],
         "name": "0-10",
         "showlegend": true,
         "showscale": false,
         "type": "choropleth",
         "z": [
          1
         ]
        },
        {
         "colorscale": [
          [
           0,
           "rgb(118, 61, 241)"
          ],
          [
           1,
           "rgb(118, 61, 241)"
          ]
         ],
         "geo": "geo",
         "hovertemplate": "Hours_Binned=10-100<br>StateAbbr=%{location}<extra></extra>",
         "locationmode": "USA-states",
         "locations": [
          "US",
          "PA",
          "MI"
         ],
         "name": "10-100",
         "showlegend": true,
         "showscale": false,
         "type": "choropleth",
         "z": [
          1,
          1,
          1
         ]
        },
        {
         "colorscale": [
          [
           0,
           "rgb(89, 13, 228)"
          ],
          [
           1,
           "rgb(89, 13, 228)"
          ]
         ],
         "geo": "geo",
         "hovertemplate": "Hours_Binned=100-500<br>StateAbbr=%{location}<extra></extra>",
         "locationmode": "USA-states",
         "locations": [
          "AK",
          "VT",
          "UT",
          "NM",
          "NJ",
          "NH",
          "MS",
          "CT",
          "AL",
          "AZ",
          "GA",
          "WY",
          "IA"
         ],
         "name": "100-500",
         "showlegend": true,
         "showscale": false,
         "type": "choropleth",
         "z": [
          1,
          1,
          1,
          1,
          1,
          1,
          1,
          1,
          1,
          1,
          1,
          1,
          1
         ]
        },
        {
         "colorscale": [
          [
           0,
           "rgb(78, 10, 223)"
          ],
          [
           1,
           "rgb(78, 10, 223)"
          ]
         ],
         "geo": "geo",
         "hovertemplate": "Hours_Binned=500-1000<br>StateAbbr=%{location}<extra></extra>",
         "locationmode": "USA-states",
         "locations": [
          "ME",
          "HI",
          "WV",
          "NE",
          "AR",
          "OK",
          "MD"
         ],
         "name": "500-1000",
         "showlegend": true,
         "showscale": false,
         "type": "choropleth",
         "z": [
          1,
          1,
          1,
          1,
          1,
          1,
          1
         ]
        },
        {
         "colorscale": [
          [
           0,
           "rgb(50, 4, 172)"
          ],
          [
           1,
           "rgb(50, 4, 172)"
          ]
         ],
         "geo": "geo",
         "hovertemplate": "Hours_Binned=1000-3000<br>StateAbbr=%{location}<extra></extra>",
         "locationmode": "USA-states",
         "locations": [
          "WI",
          "VA",
          "LA",
          "TN",
          "SD",
          "CA",
          "NY",
          "MA",
          "NC",
          "MO",
          "SC",
          "IN"
         ],
         "name": "1000-3000",
         "showlegend": true,
         "showscale": false,
         "type": "choropleth",
         "z": [
          1,
          1,
          1,
          1,
          1,
          1,
          1,
          1,
          1,
          1,
          1,
          1
         ]
        },
        {
         "colorscale": [
          [
           0,
           "rgb(43, 3, 150)"
          ],
          [
           1,
           "rgb(43, 3, 150)"
          ]
         ],
         "geo": "geo",
         "hovertemplate": "Hours_Binned=3000+<br>StateAbbr=%{location}<extra></extra>",
         "locationmode": "USA-states",
         "locations": [
          "TX",
          "IL",
          "FL"
         ],
         "name": "3000+",
         "showlegend": true,
         "showscale": false,
         "type": "choropleth",
         "z": [
          1,
          1,
          1
         ]
        }
       ],
       "layout": {
        "coloraxis": {
         "colorbar": {
          "title": {
           "text": "Hours Spent"
          }
         }
        },
        "geo": {
         "center": {},
         "domain": {
          "x": [
           0,
           1
          ],
          "y": [
           0,
           1
          ]
         },
         "scope": "usa"
        },
        "legend": {
         "title": {
          "text": "Hours_Binned"
         },
         "tracegroupgap": 0
        },
        "margin": {
         "t": 60
        },
        "template": {
         "data": {
          "bar": [
           {
            "error_x": {
             "color": "#2a3f5f"
            },
            "error_y": {
             "color": "#2a3f5f"
            },
            "marker": {
             "line": {
              "color": "#E5ECF6",
              "width": 0.5
             },
             "pattern": {
              "fillmode": "overlay",
              "size": 10,
              "solidity": 0.2
             }
            },
            "type": "bar"
           }
          ],
          "barpolar": [
           {
            "marker": {
             "line": {
              "color": "#E5ECF6",
              "width": 0.5
             },
             "pattern": {
              "fillmode": "overlay",
              "size": 10,
              "solidity": 0.2
             }
            },
            "type": "barpolar"
           }
          ],
          "carpet": [
           {
            "aaxis": {
             "endlinecolor": "#2a3f5f",
             "gridcolor": "white",
             "linecolor": "white",
             "minorgridcolor": "white",
             "startlinecolor": "#2a3f5f"
            },
            "baxis": {
             "endlinecolor": "#2a3f5f",
             "gridcolor": "white",
             "linecolor": "white",
             "minorgridcolor": "white",
             "startlinecolor": "#2a3f5f"
            },
            "type": "carpet"
           }
          ],
          "choropleth": [
           {
            "colorbar": {
             "outlinewidth": 0,
             "ticks": ""
            },
            "type": "choropleth"
           }
          ],
          "contour": [
           {
            "colorbar": {
             "outlinewidth": 0,
             "ticks": ""
            },
            "colorscale": [
             [
              0,
              "#0d0887"
             ],
             [
              0.1111111111111111,
              "#46039f"
             ],
             [
              0.2222222222222222,
              "#7201a8"
             ],
             [
              0.3333333333333333,
              "#9c179e"
             ],
             [
              0.4444444444444444,
              "#bd3786"
             ],
             [
              0.5555555555555556,
              "#d8576b"
             ],
             [
              0.6666666666666666,
              "#ed7953"
             ],
             [
              0.7777777777777778,
              "#fb9f3a"
             ],
             [
              0.8888888888888888,
              "#fdca26"
             ],
             [
              1,
              "#f0f921"
             ]
            ],
            "type": "contour"
           }
          ],
          "contourcarpet": [
           {
            "colorbar": {
             "outlinewidth": 0,
             "ticks": ""
            },
            "type": "contourcarpet"
           }
          ],
          "heatmap": [
           {
            "colorbar": {
             "outlinewidth": 0,
             "ticks": ""
            },
            "colorscale": [
             [
              0,
              "#0d0887"
             ],
             [
              0.1111111111111111,
              "#46039f"
             ],
             [
              0.2222222222222222,
              "#7201a8"
             ],
             [
              0.3333333333333333,
              "#9c179e"
             ],
             [
              0.4444444444444444,
              "#bd3786"
             ],
             [
              0.5555555555555556,
              "#d8576b"
             ],
             [
              0.6666666666666666,
              "#ed7953"
             ],
             [
              0.7777777777777778,
              "#fb9f3a"
             ],
             [
              0.8888888888888888,
              "#fdca26"
             ],
             [
              1,
              "#f0f921"
             ]
            ],
            "type": "heatmap"
           }
          ],
          "heatmapgl": [
           {
            "colorbar": {
             "outlinewidth": 0,
             "ticks": ""
            },
            "colorscale": [
             [
              0,
              "#0d0887"
             ],
             [
              0.1111111111111111,
              "#46039f"
             ],
             [
              0.2222222222222222,
              "#7201a8"
             ],
             [
              0.3333333333333333,
              "#9c179e"
             ],
             [
              0.4444444444444444,
              "#bd3786"
             ],
             [
              0.5555555555555556,
              "#d8576b"
             ],
             [
              0.6666666666666666,
              "#ed7953"
             ],
             [
              0.7777777777777778,
              "#fb9f3a"
             ],
             [
              0.8888888888888888,
              "#fdca26"
             ],
             [
              1,
              "#f0f921"
             ]
            ],
            "type": "heatmapgl"
           }
          ],
          "histogram": [
           {
            "marker": {
             "pattern": {
              "fillmode": "overlay",
              "size": 10,
              "solidity": 0.2
             }
            },
            "type": "histogram"
           }
          ],
          "histogram2d": [
           {
            "colorbar": {
             "outlinewidth": 0,
             "ticks": ""
            },
            "colorscale": [
             [
              0,
              "#0d0887"
             ],
             [
              0.1111111111111111,
              "#46039f"
             ],
             [
              0.2222222222222222,
              "#7201a8"
             ],
             [
              0.3333333333333333,
              "#9c179e"
             ],
             [
              0.4444444444444444,
              "#bd3786"
             ],
             [
              0.5555555555555556,
              "#d8576b"
             ],
             [
              0.6666666666666666,
              "#ed7953"
             ],
             [
              0.7777777777777778,
              "#fb9f3a"
             ],
             [
              0.8888888888888888,
              "#fdca26"
             ],
             [
              1,
              "#f0f921"
             ]
            ],
            "type": "histogram2d"
           }
          ],
          "histogram2dcontour": [
           {
            "colorbar": {
             "outlinewidth": 0,
             "ticks": ""
            },
            "colorscale": [
             [
              0,
              "#0d0887"
             ],
             [
              0.1111111111111111,
              "#46039f"
             ],
             [
              0.2222222222222222,
              "#7201a8"
             ],
             [
              0.3333333333333333,
              "#9c179e"
             ],
             [
              0.4444444444444444,
              "#bd3786"
             ],
             [
              0.5555555555555556,
              "#d8576b"
             ],
             [
              0.6666666666666666,
              "#ed7953"
             ],
             [
              0.7777777777777778,
              "#fb9f3a"
             ],
             [
              0.8888888888888888,
              "#fdca26"
             ],
             [
              1,
              "#f0f921"
             ]
            ],
            "type": "histogram2dcontour"
           }
          ],
          "mesh3d": [
           {
            "colorbar": {
             "outlinewidth": 0,
             "ticks": ""
            },
            "type": "mesh3d"
           }
          ],
          "parcoords": [
           {
            "line": {
             "colorbar": {
              "outlinewidth": 0,
              "ticks": ""
             }
            },
            "type": "parcoords"
           }
          ],
          "pie": [
           {
            "automargin": true,
            "type": "pie"
           }
          ],
          "scatter": [
           {
            "fillpattern": {
             "fillmode": "overlay",
             "size": 10,
             "solidity": 0.2
            },
            "type": "scatter"
           }
          ],
          "scatter3d": [
           {
            "line": {
             "colorbar": {
              "outlinewidth": 0,
              "ticks": ""
             }
            },
            "marker": {
             "colorbar": {
              "outlinewidth": 0,
              "ticks": ""
             }
            },
            "type": "scatter3d"
           }
          ],
          "scattercarpet": [
           {
            "marker": {
             "colorbar": {
              "outlinewidth": 0,
              "ticks": ""
             }
            },
            "type": "scattercarpet"
           }
          ],
          "scattergeo": [
           {
            "marker": {
             "colorbar": {
              "outlinewidth": 0,
              "ticks": ""
             }
            },
            "type": "scattergeo"
           }
          ],
          "scattergl": [
           {
            "marker": {
             "colorbar": {
              "outlinewidth": 0,
              "ticks": ""
             }
            },
            "type": "scattergl"
           }
          ],
          "scattermapbox": [
           {
            "marker": {
             "colorbar": {
              "outlinewidth": 0,
              "ticks": ""
             }
            },
            "type": "scattermapbox"
           }
          ],
          "scatterpolar": [
           {
            "marker": {
             "colorbar": {
              "outlinewidth": 0,
              "ticks": ""
             }
            },
            "type": "scatterpolar"
           }
          ],
          "scatterpolargl": [
           {
            "marker": {
             "colorbar": {
              "outlinewidth": 0,
              "ticks": ""
             }
            },
            "type": "scatterpolargl"
           }
          ],
          "scatterternary": [
           {
            "marker": {
             "colorbar": {
              "outlinewidth": 0,
              "ticks": ""
             }
            },
            "type": "scatterternary"
           }
          ],
          "surface": [
           {
            "colorbar": {
             "outlinewidth": 0,
             "ticks": ""
            },
            "colorscale": [
             [
              0,
              "#0d0887"
             ],
             [
              0.1111111111111111,
              "#46039f"
             ],
             [
              0.2222222222222222,
              "#7201a8"
             ],
             [
              0.3333333333333333,
              "#9c179e"
             ],
             [
              0.4444444444444444,
              "#bd3786"
             ],
             [
              0.5555555555555556,
              "#d8576b"
             ],
             [
              0.6666666666666666,
              "#ed7953"
             ],
             [
              0.7777777777777778,
              "#fb9f3a"
             ],
             [
              0.8888888888888888,
              "#fdca26"
             ],
             [
              1,
              "#f0f921"
             ]
            ],
            "type": "surface"
           }
          ],
          "table": [
           {
            "cells": {
             "fill": {
              "color": "#EBF0F8"
             },
             "line": {
              "color": "white"
             }
            },
            "header": {
             "fill": {
              "color": "#C8D4E3"
             },
             "line": {
              "color": "white"
             }
            },
            "type": "table"
           }
          ]
         },
         "layout": {
          "annotationdefaults": {
           "arrowcolor": "#2a3f5f",
           "arrowhead": 0,
           "arrowwidth": 1
          },
          "autotypenumbers": "strict",
          "coloraxis": {
           "colorbar": {
            "outlinewidth": 0,
            "ticks": ""
           }
          },
          "colorscale": {
           "diverging": [
            [
             0,
             "#8e0152"
            ],
            [
             0.1,
             "#c51b7d"
            ],
            [
             0.2,
             "#de77ae"
            ],
            [
             0.3,
             "#f1b6da"
            ],
            [
             0.4,
             "#fde0ef"
            ],
            [
             0.5,
             "#f7f7f7"
            ],
            [
             0.6,
             "#e6f5d0"
            ],
            [
             0.7,
             "#b8e186"
            ],
            [
             0.8,
             "#7fbc41"
            ],
            [
             0.9,
             "#4d9221"
            ],
            [
             1,
             "#276419"
            ]
           ],
           "sequential": [
            [
             0,
             "#0d0887"
            ],
            [
             0.1111111111111111,
             "#46039f"
            ],
            [
             0.2222222222222222,
             "#7201a8"
            ],
            [
             0.3333333333333333,
             "#9c179e"
            ],
            [
             0.4444444444444444,
             "#bd3786"
            ],
            [
             0.5555555555555556,
             "#d8576b"
            ],
            [
             0.6666666666666666,
             "#ed7953"
            ],
            [
             0.7777777777777778,
             "#fb9f3a"
            ],
            [
             0.8888888888888888,
             "#fdca26"
            ],
            [
             1,
             "#f0f921"
            ]
           ],
           "sequentialminus": [
            [
             0,
             "#0d0887"
            ],
            [
             0.1111111111111111,
             "#46039f"
            ],
            [
             0.2222222222222222,
             "#7201a8"
            ],
            [
             0.3333333333333333,
             "#9c179e"
            ],
            [
             0.4444444444444444,
             "#bd3786"
            ],
            [
             0.5555555555555556,
             "#d8576b"
            ],
            [
             0.6666666666666666,
             "#ed7953"
            ],
            [
             0.7777777777777778,
             "#fb9f3a"
            ],
            [
             0.8888888888888888,
             "#fdca26"
            ],
            [
             1,
             "#f0f921"
            ]
           ]
          },
          "colorway": [
           "#636efa",
           "#EF553B",
           "#00cc96",
           "#ab63fa",
           "#FFA15A",
           "#19d3f3",
           "#FF6692",
           "#B6E880",
           "#FF97FF",
           "#FECB52"
          ],
          "font": {
           "color": "#2a3f5f"
          },
          "geo": {
           "bgcolor": "white",
           "lakecolor": "white",
           "landcolor": "#E5ECF6",
           "showlakes": true,
           "showland": true,
           "subunitcolor": "white"
          },
          "hoverlabel": {
           "align": "left"
          },
          "hovermode": "closest",
          "mapbox": {
           "style": "light"
          },
          "paper_bgcolor": "white",
          "plot_bgcolor": "#E5ECF6",
          "polar": {
           "angularaxis": {
            "gridcolor": "white",
            "linecolor": "white",
            "ticks": ""
           },
           "bgcolor": "#E5ECF6",
           "radialaxis": {
            "gridcolor": "white",
            "linecolor": "white",
            "ticks": ""
           }
          },
          "scene": {
           "xaxis": {
            "backgroundcolor": "#E5ECF6",
            "gridcolor": "white",
            "gridwidth": 2,
            "linecolor": "white",
            "showbackground": true,
            "ticks": "",
            "zerolinecolor": "white"
           },
           "yaxis": {
            "backgroundcolor": "#E5ECF6",
            "gridcolor": "white",
            "gridwidth": 2,
            "linecolor": "white",
            "showbackground": true,
            "ticks": "",
            "zerolinecolor": "white"
           },
           "zaxis": {
            "backgroundcolor": "#E5ECF6",
            "gridcolor": "white",
            "gridwidth": 2,
            "linecolor": "white",
            "showbackground": true,
            "ticks": "",
            "zerolinecolor": "white"
           }
          },
          "shapedefaults": {
           "line": {
            "color": "#2a3f5f"
           }
          },
          "ternary": {
           "aaxis": {
            "gridcolor": "white",
            "linecolor": "white",
            "ticks": ""
           },
           "baxis": {
            "gridcolor": "white",
            "linecolor": "white",
            "ticks": ""
           },
           "bgcolor": "#E5ECF6",
           "caxis": {
            "gridcolor": "white",
            "linecolor": "white",
            "ticks": ""
           }
          },
          "title": {
           "x": 0.05
          },
          "xaxis": {
           "automargin": true,
           "gridcolor": "white",
           "linecolor": "white",
           "ticks": "",
           "title": {
            "standoff": 15
           },
           "zerolinecolor": "white",
           "zerolinewidth": 2
          },
          "yaxis": {
           "automargin": true,
           "gridcolor": "white",
           "linecolor": "white",
           "ticks": "",
           "title": {
            "standoff": 15
           },
           "zerolinecolor": "white",
           "zerolinewidth": 2
          }
         }
        },
        "title": {
         "text": "Attorney Activity by State"
        }
       }
      },
      "text/html": [
       "<div>                            <div id=\"db460baf-759d-4565-ab6f-c145f0cd1bdc\" class=\"plotly-graph-div\" style=\"height:525px; width:100%;\"></div>            <script type=\"text/javascript\">                require([\"plotly\"], function(Plotly) {                    window.PLOTLYENV=window.PLOTLYENV || {};                                    if (document.getElementById(\"db460baf-759d-4565-ab6f-c145f0cd1bdc\")) {                    Plotly.newPlot(                        \"db460baf-759d-4565-ab6f-c145f0cd1bdc\",                        [{\"colorscale\":[[0.0,\"rgb(179, 136, 245)\"],[1.0,\"rgb(179, 136, 245)\"]],\"geo\":\"geo\",\"hovertemplate\":\"Hours_Binned=0-10<br>StateAbbr=%{location}<extra></extra>\",\"locationmode\":\"USA-states\",\"locations\":[\"KS\"],\"name\":\"0-10\",\"showlegend\":true,\"showscale\":false,\"z\":[1],\"type\":\"choropleth\"},{\"colorscale\":[[0.0,\"rgb(118, 61, 241)\"],[1.0,\"rgb(118, 61, 241)\"]],\"geo\":\"geo\",\"hovertemplate\":\"Hours_Binned=10-100<br>StateAbbr=%{location}<extra></extra>\",\"locationmode\":\"USA-states\",\"locations\":[\"US\",\"PA\",\"MI\"],\"name\":\"10-100\",\"showlegend\":true,\"showscale\":false,\"z\":[1,1,1],\"type\":\"choropleth\"},{\"colorscale\":[[0.0,\"rgb(89, 13, 228)\"],[1.0,\"rgb(89, 13, 228)\"]],\"geo\":\"geo\",\"hovertemplate\":\"Hours_Binned=100-500<br>StateAbbr=%{location}<extra></extra>\",\"locationmode\":\"USA-states\",\"locations\":[\"AK\",\"VT\",\"UT\",\"NM\",\"NJ\",\"NH\",\"MS\",\"CT\",\"AL\",\"AZ\",\"GA\",\"WY\",\"IA\"],\"name\":\"100-500\",\"showlegend\":true,\"showscale\":false,\"z\":[1,1,1,1,1,1,1,1,1,1,1,1,1],\"type\":\"choropleth\"},{\"colorscale\":[[0.0,\"rgb(78, 10, 223)\"],[1.0,\"rgb(78, 10, 223)\"]],\"geo\":\"geo\",\"hovertemplate\":\"Hours_Binned=500-1000<br>StateAbbr=%{location}<extra></extra>\",\"locationmode\":\"USA-states\",\"locations\":[\"ME\",\"HI\",\"WV\",\"NE\",\"AR\",\"OK\",\"MD\"],\"name\":\"500-1000\",\"showlegend\":true,\"showscale\":false,\"z\":[1,1,1,1,1,1,1],\"type\":\"choropleth\"},{\"colorscale\":[[0.0,\"rgb(50, 4, 172)\"],[1.0,\"rgb(50, 4, 172)\"]],\"geo\":\"geo\",\"hovertemplate\":\"Hours_Binned=1000-3000<br>StateAbbr=%{location}<extra></extra>\",\"locationmode\":\"USA-states\",\"locations\":[\"WI\",\"VA\",\"LA\",\"TN\",\"SD\",\"CA\",\"NY\",\"MA\",\"NC\",\"MO\",\"SC\",\"IN\"],\"name\":\"1000-3000\",\"showlegend\":true,\"showscale\":false,\"z\":[1,1,1,1,1,1,1,1,1,1,1,1],\"type\":\"choropleth\"},{\"colorscale\":[[0.0,\"rgb(43, 3, 150)\"],[1.0,\"rgb(43, 3, 150)\"]],\"geo\":\"geo\",\"hovertemplate\":\"Hours_Binned=3000+<br>StateAbbr=%{location}<extra></extra>\",\"locationmode\":\"USA-states\",\"locations\":[\"TX\",\"IL\",\"FL\"],\"name\":\"3000+\",\"showlegend\":true,\"showscale\":false,\"z\":[1,1,1],\"type\":\"choropleth\"}],                        {\"template\":{\"data\":{\"histogram2dcontour\":[{\"type\":\"histogram2dcontour\",\"colorbar\":{\"outlinewidth\":0,\"ticks\":\"\"},\"colorscale\":[[0.0,\"#0d0887\"],[0.1111111111111111,\"#46039f\"],[0.2222222222222222,\"#7201a8\"],[0.3333333333333333,\"#9c179e\"],[0.4444444444444444,\"#bd3786\"],[0.5555555555555556,\"#d8576b\"],[0.6666666666666666,\"#ed7953\"],[0.7777777777777778,\"#fb9f3a\"],[0.8888888888888888,\"#fdca26\"],[1.0,\"#f0f921\"]]}],\"choropleth\":[{\"type\":\"choropleth\",\"colorbar\":{\"outlinewidth\":0,\"ticks\":\"\"}}],\"histogram2d\":[{\"type\":\"histogram2d\",\"colorbar\":{\"outlinewidth\":0,\"ticks\":\"\"},\"colorscale\":[[0.0,\"#0d0887\"],[0.1111111111111111,\"#46039f\"],[0.2222222222222222,\"#7201a8\"],[0.3333333333333333,\"#9c179e\"],[0.4444444444444444,\"#bd3786\"],[0.5555555555555556,\"#d8576b\"],[0.6666666666666666,\"#ed7953\"],[0.7777777777777778,\"#fb9f3a\"],[0.8888888888888888,\"#fdca26\"],[1.0,\"#f0f921\"]]}],\"heatmap\":[{\"type\":\"heatmap\",\"colorbar\":{\"outlinewidth\":0,\"ticks\":\"\"},\"colorscale\":[[0.0,\"#0d0887\"],[0.1111111111111111,\"#46039f\"],[0.2222222222222222,\"#7201a8\"],[0.3333333333333333,\"#9c179e\"],[0.4444444444444444,\"#bd3786\"],[0.5555555555555556,\"#d8576b\"],[0.6666666666666666,\"#ed7953\"],[0.7777777777777778,\"#fb9f3a\"],[0.8888888888888888,\"#fdca26\"],[1.0,\"#f0f921\"]]}],\"heatmapgl\":[{\"type\":\"heatmapgl\",\"colorbar\":{\"outlinewidth\":0,\"ticks\":\"\"},\"colorscale\":[[0.0,\"#0d0887\"],[0.1111111111111111,\"#46039f\"],[0.2222222222222222,\"#7201a8\"],[0.3333333333333333,\"#9c179e\"],[0.4444444444444444,\"#bd3786\"],[0.5555555555555556,\"#d8576b\"],[0.6666666666666666,\"#ed7953\"],[0.7777777777777778,\"#fb9f3a\"],[0.8888888888888888,\"#fdca26\"],[1.0,\"#f0f921\"]]}],\"contourcarpet\":[{\"type\":\"contourcarpet\",\"colorbar\":{\"outlinewidth\":0,\"ticks\":\"\"}}],\"contour\":[{\"type\":\"contour\",\"colorbar\":{\"outlinewidth\":0,\"ticks\":\"\"},\"colorscale\":[[0.0,\"#0d0887\"],[0.1111111111111111,\"#46039f\"],[0.2222222222222222,\"#7201a8\"],[0.3333333333333333,\"#9c179e\"],[0.4444444444444444,\"#bd3786\"],[0.5555555555555556,\"#d8576b\"],[0.6666666666666666,\"#ed7953\"],[0.7777777777777778,\"#fb9f3a\"],[0.8888888888888888,\"#fdca26\"],[1.0,\"#f0f921\"]]}],\"surface\":[{\"type\":\"surface\",\"colorbar\":{\"outlinewidth\":0,\"ticks\":\"\"},\"colorscale\":[[0.0,\"#0d0887\"],[0.1111111111111111,\"#46039f\"],[0.2222222222222222,\"#7201a8\"],[0.3333333333333333,\"#9c179e\"],[0.4444444444444444,\"#bd3786\"],[0.5555555555555556,\"#d8576b\"],[0.6666666666666666,\"#ed7953\"],[0.7777777777777778,\"#fb9f3a\"],[0.8888888888888888,\"#fdca26\"],[1.0,\"#f0f921\"]]}],\"mesh3d\":[{\"type\":\"mesh3d\",\"colorbar\":{\"outlinewidth\":0,\"ticks\":\"\"}}],\"scatter\":[{\"fillpattern\":{\"fillmode\":\"overlay\",\"size\":10,\"solidity\":0.2},\"type\":\"scatter\"}],\"parcoords\":[{\"type\":\"parcoords\",\"line\":{\"colorbar\":{\"outlinewidth\":0,\"ticks\":\"\"}}}],\"scatterpolargl\":[{\"type\":\"scatterpolargl\",\"marker\":{\"colorbar\":{\"outlinewidth\":0,\"ticks\":\"\"}}}],\"bar\":[{\"error_x\":{\"color\":\"#2a3f5f\"},\"error_y\":{\"color\":\"#2a3f5f\"},\"marker\":{\"line\":{\"color\":\"#E5ECF6\",\"width\":0.5},\"pattern\":{\"fillmode\":\"overlay\",\"size\":10,\"solidity\":0.2}},\"type\":\"bar\"}],\"scattergeo\":[{\"type\":\"scattergeo\",\"marker\":{\"colorbar\":{\"outlinewidth\":0,\"ticks\":\"\"}}}],\"scatterpolar\":[{\"type\":\"scatterpolar\",\"marker\":{\"colorbar\":{\"outlinewidth\":0,\"ticks\":\"\"}}}],\"histogram\":[{\"marker\":{\"pattern\":{\"fillmode\":\"overlay\",\"size\":10,\"solidity\":0.2}},\"type\":\"histogram\"}],\"scattergl\":[{\"type\":\"scattergl\",\"marker\":{\"colorbar\":{\"outlinewidth\":0,\"ticks\":\"\"}}}],\"scatter3d\":[{\"type\":\"scatter3d\",\"line\":{\"colorbar\":{\"outlinewidth\":0,\"ticks\":\"\"}},\"marker\":{\"colorbar\":{\"outlinewidth\":0,\"ticks\":\"\"}}}],\"scattermapbox\":[{\"type\":\"scattermapbox\",\"marker\":{\"colorbar\":{\"outlinewidth\":0,\"ticks\":\"\"}}}],\"scatterternary\":[{\"type\":\"scatterternary\",\"marker\":{\"colorbar\":{\"outlinewidth\":0,\"ticks\":\"\"}}}],\"scattercarpet\":[{\"type\":\"scattercarpet\",\"marker\":{\"colorbar\":{\"outlinewidth\":0,\"ticks\":\"\"}}}],\"carpet\":[{\"aaxis\":{\"endlinecolor\":\"#2a3f5f\",\"gridcolor\":\"white\",\"linecolor\":\"white\",\"minorgridcolor\":\"white\",\"startlinecolor\":\"#2a3f5f\"},\"baxis\":{\"endlinecolor\":\"#2a3f5f\",\"gridcolor\":\"white\",\"linecolor\":\"white\",\"minorgridcolor\":\"white\",\"startlinecolor\":\"#2a3f5f\"},\"type\":\"carpet\"}],\"table\":[{\"cells\":{\"fill\":{\"color\":\"#EBF0F8\"},\"line\":{\"color\":\"white\"}},\"header\":{\"fill\":{\"color\":\"#C8D4E3\"},\"line\":{\"color\":\"white\"}},\"type\":\"table\"}],\"barpolar\":[{\"marker\":{\"line\":{\"color\":\"#E5ECF6\",\"width\":0.5},\"pattern\":{\"fillmode\":\"overlay\",\"size\":10,\"solidity\":0.2}},\"type\":\"barpolar\"}],\"pie\":[{\"automargin\":true,\"type\":\"pie\"}]},\"layout\":{\"autotypenumbers\":\"strict\",\"colorway\":[\"#636efa\",\"#EF553B\",\"#00cc96\",\"#ab63fa\",\"#FFA15A\",\"#19d3f3\",\"#FF6692\",\"#B6E880\",\"#FF97FF\",\"#FECB52\"],\"font\":{\"color\":\"#2a3f5f\"},\"hovermode\":\"closest\",\"hoverlabel\":{\"align\":\"left\"},\"paper_bgcolor\":\"white\",\"plot_bgcolor\":\"#E5ECF6\",\"polar\":{\"bgcolor\":\"#E5ECF6\",\"angularaxis\":{\"gridcolor\":\"white\",\"linecolor\":\"white\",\"ticks\":\"\"},\"radialaxis\":{\"gridcolor\":\"white\",\"linecolor\":\"white\",\"ticks\":\"\"}},\"ternary\":{\"bgcolor\":\"#E5ECF6\",\"aaxis\":{\"gridcolor\":\"white\",\"linecolor\":\"white\",\"ticks\":\"\"},\"baxis\":{\"gridcolor\":\"white\",\"linecolor\":\"white\",\"ticks\":\"\"},\"caxis\":{\"gridcolor\":\"white\",\"linecolor\":\"white\",\"ticks\":\"\"}},\"coloraxis\":{\"colorbar\":{\"outlinewidth\":0,\"ticks\":\"\"}},\"colorscale\":{\"sequential\":[[0.0,\"#0d0887\"],[0.1111111111111111,\"#46039f\"],[0.2222222222222222,\"#7201a8\"],[0.3333333333333333,\"#9c179e\"],[0.4444444444444444,\"#bd3786\"],[0.5555555555555556,\"#d8576b\"],[0.6666666666666666,\"#ed7953\"],[0.7777777777777778,\"#fb9f3a\"],[0.8888888888888888,\"#fdca26\"],[1.0,\"#f0f921\"]],\"sequentialminus\":[[0.0,\"#0d0887\"],[0.1111111111111111,\"#46039f\"],[0.2222222222222222,\"#7201a8\"],[0.3333333333333333,\"#9c179e\"],[0.4444444444444444,\"#bd3786\"],[0.5555555555555556,\"#d8576b\"],[0.6666666666666666,\"#ed7953\"],[0.7777777777777778,\"#fb9f3a\"],[0.8888888888888888,\"#fdca26\"],[1.0,\"#f0f921\"]],\"diverging\":[[0,\"#8e0152\"],[0.1,\"#c51b7d\"],[0.2,\"#de77ae\"],[0.3,\"#f1b6da\"],[0.4,\"#fde0ef\"],[0.5,\"#f7f7f7\"],[0.6,\"#e6f5d0\"],[0.7,\"#b8e186\"],[0.8,\"#7fbc41\"],[0.9,\"#4d9221\"],[1,\"#276419\"]]},\"xaxis\":{\"gridcolor\":\"white\",\"linecolor\":\"white\",\"ticks\":\"\",\"title\":{\"standoff\":15},\"zerolinecolor\":\"white\",\"automargin\":true,\"zerolinewidth\":2},\"yaxis\":{\"gridcolor\":\"white\",\"linecolor\":\"white\",\"ticks\":\"\",\"title\":{\"standoff\":15},\"zerolinecolor\":\"white\",\"automargin\":true,\"zerolinewidth\":2},\"scene\":{\"xaxis\":{\"backgroundcolor\":\"#E5ECF6\",\"gridcolor\":\"white\",\"linecolor\":\"white\",\"showbackground\":true,\"ticks\":\"\",\"zerolinecolor\":\"white\",\"gridwidth\":2},\"yaxis\":{\"backgroundcolor\":\"#E5ECF6\",\"gridcolor\":\"white\",\"linecolor\":\"white\",\"showbackground\":true,\"ticks\":\"\",\"zerolinecolor\":\"white\",\"gridwidth\":2},\"zaxis\":{\"backgroundcolor\":\"#E5ECF6\",\"gridcolor\":\"white\",\"linecolor\":\"white\",\"showbackground\":true,\"ticks\":\"\",\"zerolinecolor\":\"white\",\"gridwidth\":2}},\"shapedefaults\":{\"line\":{\"color\":\"#2a3f5f\"}},\"annotationdefaults\":{\"arrowcolor\":\"#2a3f5f\",\"arrowhead\":0,\"arrowwidth\":1},\"geo\":{\"bgcolor\":\"white\",\"landcolor\":\"#E5ECF6\",\"subunitcolor\":\"white\",\"showland\":true,\"showlakes\":true,\"lakecolor\":\"white\"},\"title\":{\"x\":0.05},\"mapbox\":{\"style\":\"light\"}}},\"geo\":{\"domain\":{\"x\":[0.0,1.0],\"y\":[0.0,1.0]},\"center\":{},\"scope\":\"usa\"},\"legend\":{\"title\":{\"text\":\"Hours_Binned\"},\"tracegroupgap\":0},\"margin\":{\"t\":60},\"coloraxis\":{\"colorbar\":{\"title\":{\"text\":\"Hours Spent\"}}},\"title\":{\"text\":\"Attorney Activity by State\"}},                        {\"responsive\": true}                    ).then(function(){\n",
       "                            \n",
       "var gd = document.getElementById('db460baf-759d-4565-ab6f-c145f0cd1bdc');\n",
       "var x = new MutationObserver(function (mutations, observer) {{\n",
       "        var display = window.getComputedStyle(gd).display;\n",
       "        if (!display || display === 'none') {{\n",
       "            console.log([gd, 'removed!']);\n",
       "            Plotly.purge(gd);\n",
       "            observer.disconnect();\n",
       "        }}\n",
       "}});\n",
       "\n",
       "// Listen for the removal of the full notebook cells\n",
       "var notebookContainer = gd.closest('#notebook-container');\n",
       "if (notebookContainer) {{\n",
       "    x.observe(notebookContainer, {childList: true});\n",
       "}}\n",
       "\n",
       "// Listen for the clearing of the current output cell\n",
       "var outputEl = gd.closest('.output');\n",
       "if (outputEl) {{\n",
       "    x.observe(outputEl, {childList: true});\n",
       "}}\n",
       "\n",
       "                        })                };                });            </script>        </div>"
      ]
     },
     "metadata": {},
     "output_type": "display_data"
    }
   ],
   "source": [
    "map_attorneys_df = attorneys_df.dropna()\n",
    "map_attorneys_df = map_attorneys_df.groupby(['StateAbbr']).sum().reset_index()\n",
    "#check unique values in hours_binned column\n",
    "                                      \n",
    "#print(\"Unique values in column Hours_Binned: \", attorneys_df['Hours_Binned'].unique())\n",
    "# create a new column and bin the hours spent by each state into the following: 0-10, 10-100, 100-500, 500-1000, 1000-3000, 3000+,\n",
    "map_attorneys_df['Hours_Binned'] = pd.cut(map_attorneys_df['Hours'], bins=[0, 10, 100, 500, 1000, 3000, 100000], labels=[\"0-10\", \"10-100\", \"100-500\", \"500-1000\", \"1000-3000\", \"3000+\"])\n",
    "\n",
    "labels=[\"0-10\", \"10-100\", \"100-500\", \"500-1000\", \"1000-3000\", \"3000+\"]\n",
    "\n",
    "#sort the entire dataframe by the order in which the bins are listed in the labels list and ignore the index\n",
    "map_attorneys_df = map_attorneys_df.sort_values(by='Hours_Binned', key=lambda x: pd.CategoricalIndex(x, categories=labels)).reset_index(drop=True)\n",
    "\n",
    "# create a color map for the map\n",
    "color_map = {\"0-10\": 'rgb(179, 136, 245)',\n",
    "            \"10-100\": 'rgb(118, 61, 241)',\n",
    "            \"100-500\": 'rgb(89, 13, 228)',\n",
    "            \"500-1000\": 'rgb(78, 10, 223)',\n",
    "            \"1000-3000\": 'rgb(50, 4, 172)',\n",
    "            \"3000+\": 'rgb(43, 3, 150)'}\n",
    "\n",
    "print(map_attorneys_df.dtypes)\n",
    "fig = px.choropleth(map_attorneys_df, locations=\"StateAbbr\", color=\"Hours_Binned\",\n",
    "    locationmode=\"USA-states\", scope=\"usa\", color_discrete_map=color_map)\n",
    "\n",
    "# range_color=(map_attorneys_df['Hours_Binned'].min(), map_attorneys_df['Hours_Binned'].max())\n",
    "\n",
    "print(map_attorneys_df.head())\n",
    "\n",
    "fig.update_layout(coloraxis_colorbar=dict(\n",
    "    title=\"Hours Spent\"))\n",
    "\n",
    "\n",
    "fig.update_layout(title_text='Attorney Activity by State')\n",
    "fig.show()"
   ]
  },
  {
   "cell_type": "code",
   "execution_count": 21,
   "id": "39a96fc4",
   "metadata": {},
   "outputs": [
    {
     "data": {
      "application/vnd.plotly.v1+json": {
       "config": {
        "plotlyServerURL": "https://plot.ly"
       },
       "data": [
        {
         "coloraxis": "coloraxis",
         "geo": "geo",
         "hovertemplate": "StateAbbr=%{location}<br>Useless Attorneys=%{z}<extra></extra>",
         "locationmode": "USA-states",
         "locations": [
          "AK",
          "AL",
          "AR",
          "AZ",
          "CA",
          "CT",
          "FL",
          "GA",
          "HI",
          "IA",
          "ID",
          "IL",
          "IN",
          "KS",
          "LA",
          "MA",
          "MD",
          "ME",
          "MI",
          "MO",
          "MS",
          "NC",
          "ND",
          "NE",
          "NH",
          "NJ",
          "NM",
          "NY",
          "OK",
          "PA",
          "SC",
          "SD",
          "TN",
          "TX",
          "US",
          "UT",
          "VA",
          "VI",
          "VT",
          "WI",
          "WV",
          "WY"
         ],
         "name": "",
         "type": "choropleth",
         "z": [
          75,
          95,
          104,
          71,
          160,
          62,
          803,
          206,
          86,
          42,
          2,
          576,
          270,
          22,
          154,
          359,
          156,
          110,
          66,
          206,
          91,
          422,
          1,
          177,
          60,
          56,
          64,
          332,
          113,
          81,
          129,
          7,
          713,
          801,
          68,
          75,
          347,
          3,
          31,
          252,
          105,
          24
         ]
        }
       ],
       "layout": {
        "coloraxis": {
         "cmax": 803,
         "cmin": 1,
         "colorbar": {
          "title": {
           "text": "Number of Useless Attorneys"
          }
         },
         "colorscale": [
          [
           0,
           "#0d0887"
          ],
          [
           0.1111111111111111,
           "#46039f"
          ],
          [
           0.2222222222222222,
           "#7201a8"
          ],
          [
           0.3333333333333333,
           "#9c179e"
          ],
          [
           0.4444444444444444,
           "#bd3786"
          ],
          [
           0.5555555555555556,
           "#d8576b"
          ],
          [
           0.6666666666666666,
           "#ed7953"
          ],
          [
           0.7777777777777778,
           "#fb9f3a"
          ],
          [
           0.8888888888888888,
           "#fdca26"
          ],
          [
           1,
           "#f0f921"
          ]
         ]
        },
        "geo": {
         "center": {},
         "domain": {
          "x": [
           0,
           1
          ],
          "y": [
           0,
           1
          ]
         },
         "scope": "usa"
        },
        "legend": {
         "tracegroupgap": 0
        },
        "margin": {
         "t": 60
        },
        "template": {
         "data": {
          "bar": [
           {
            "error_x": {
             "color": "#2a3f5f"
            },
            "error_y": {
             "color": "#2a3f5f"
            },
            "marker": {
             "line": {
              "color": "#E5ECF6",
              "width": 0.5
             },
             "pattern": {
              "fillmode": "overlay",
              "size": 10,
              "solidity": 0.2
             }
            },
            "type": "bar"
           }
          ],
          "barpolar": [
           {
            "marker": {
             "line": {
              "color": "#E5ECF6",
              "width": 0.5
             },
             "pattern": {
              "fillmode": "overlay",
              "size": 10,
              "solidity": 0.2
             }
            },
            "type": "barpolar"
           }
          ],
          "carpet": [
           {
            "aaxis": {
             "endlinecolor": "#2a3f5f",
             "gridcolor": "white",
             "linecolor": "white",
             "minorgridcolor": "white",
             "startlinecolor": "#2a3f5f"
            },
            "baxis": {
             "endlinecolor": "#2a3f5f",
             "gridcolor": "white",
             "linecolor": "white",
             "minorgridcolor": "white",
             "startlinecolor": "#2a3f5f"
            },
            "type": "carpet"
           }
          ],
          "choropleth": [
           {
            "colorbar": {
             "outlinewidth": 0,
             "ticks": ""
            },
            "type": "choropleth"
           }
          ],
          "contour": [
           {
            "colorbar": {
             "outlinewidth": 0,
             "ticks": ""
            },
            "colorscale": [
             [
              0,
              "#0d0887"
             ],
             [
              0.1111111111111111,
              "#46039f"
             ],
             [
              0.2222222222222222,
              "#7201a8"
             ],
             [
              0.3333333333333333,
              "#9c179e"
             ],
             [
              0.4444444444444444,
              "#bd3786"
             ],
             [
              0.5555555555555556,
              "#d8576b"
             ],
             [
              0.6666666666666666,
              "#ed7953"
             ],
             [
              0.7777777777777778,
              "#fb9f3a"
             ],
             [
              0.8888888888888888,
              "#fdca26"
             ],
             [
              1,
              "#f0f921"
             ]
            ],
            "type": "contour"
           }
          ],
          "contourcarpet": [
           {
            "colorbar": {
             "outlinewidth": 0,
             "ticks": ""
            },
            "type": "contourcarpet"
           }
          ],
          "heatmap": [
           {
            "colorbar": {
             "outlinewidth": 0,
             "ticks": ""
            },
            "colorscale": [
             [
              0,
              "#0d0887"
             ],
             [
              0.1111111111111111,
              "#46039f"
             ],
             [
              0.2222222222222222,
              "#7201a8"
             ],
             [
              0.3333333333333333,
              "#9c179e"
             ],
             [
              0.4444444444444444,
              "#bd3786"
             ],
             [
              0.5555555555555556,
              "#d8576b"
             ],
             [
              0.6666666666666666,
              "#ed7953"
             ],
             [
              0.7777777777777778,
              "#fb9f3a"
             ],
             [
              0.8888888888888888,
              "#fdca26"
             ],
             [
              1,
              "#f0f921"
             ]
            ],
            "type": "heatmap"
           }
          ],
          "heatmapgl": [
           {
            "colorbar": {
             "outlinewidth": 0,
             "ticks": ""
            },
            "colorscale": [
             [
              0,
              "#0d0887"
             ],
             [
              0.1111111111111111,
              "#46039f"
             ],
             [
              0.2222222222222222,
              "#7201a8"
             ],
             [
              0.3333333333333333,
              "#9c179e"
             ],
             [
              0.4444444444444444,
              "#bd3786"
             ],
             [
              0.5555555555555556,
              "#d8576b"
             ],
             [
              0.6666666666666666,
              "#ed7953"
             ],
             [
              0.7777777777777778,
              "#fb9f3a"
             ],
             [
              0.8888888888888888,
              "#fdca26"
             ],
             [
              1,
              "#f0f921"
             ]
            ],
            "type": "heatmapgl"
           }
          ],
          "histogram": [
           {
            "marker": {
             "pattern": {
              "fillmode": "overlay",
              "size": 10,
              "solidity": 0.2
             }
            },
            "type": "histogram"
           }
          ],
          "histogram2d": [
           {
            "colorbar": {
             "outlinewidth": 0,
             "ticks": ""
            },
            "colorscale": [
             [
              0,
              "#0d0887"
             ],
             [
              0.1111111111111111,
              "#46039f"
             ],
             [
              0.2222222222222222,
              "#7201a8"
             ],
             [
              0.3333333333333333,
              "#9c179e"
             ],
             [
              0.4444444444444444,
              "#bd3786"
             ],
             [
              0.5555555555555556,
              "#d8576b"
             ],
             [
              0.6666666666666666,
              "#ed7953"
             ],
             [
              0.7777777777777778,
              "#fb9f3a"
             ],
             [
              0.8888888888888888,
              "#fdca26"
             ],
             [
              1,
              "#f0f921"
             ]
            ],
            "type": "histogram2d"
           }
          ],
          "histogram2dcontour": [
           {
            "colorbar": {
             "outlinewidth": 0,
             "ticks": ""
            },
            "colorscale": [
             [
              0,
              "#0d0887"
             ],
             [
              0.1111111111111111,
              "#46039f"
             ],
             [
              0.2222222222222222,
              "#7201a8"
             ],
             [
              0.3333333333333333,
              "#9c179e"
             ],
             [
              0.4444444444444444,
              "#bd3786"
             ],
             [
              0.5555555555555556,
              "#d8576b"
             ],
             [
              0.6666666666666666,
              "#ed7953"
             ],
             [
              0.7777777777777778,
              "#fb9f3a"
             ],
             [
              0.8888888888888888,
              "#fdca26"
             ],
             [
              1,
              "#f0f921"
             ]
            ],
            "type": "histogram2dcontour"
           }
          ],
          "mesh3d": [
           {
            "colorbar": {
             "outlinewidth": 0,
             "ticks": ""
            },
            "type": "mesh3d"
           }
          ],
          "parcoords": [
           {
            "line": {
             "colorbar": {
              "outlinewidth": 0,
              "ticks": ""
             }
            },
            "type": "parcoords"
           }
          ],
          "pie": [
           {
            "automargin": true,
            "type": "pie"
           }
          ],
          "scatter": [
           {
            "fillpattern": {
             "fillmode": "overlay",
             "size": 10,
             "solidity": 0.2
            },
            "type": "scatter"
           }
          ],
          "scatter3d": [
           {
            "line": {
             "colorbar": {
              "outlinewidth": 0,
              "ticks": ""
             }
            },
            "marker": {
             "colorbar": {
              "outlinewidth": 0,
              "ticks": ""
             }
            },
            "type": "scatter3d"
           }
          ],
          "scattercarpet": [
           {
            "marker": {
             "colorbar": {
              "outlinewidth": 0,
              "ticks": ""
             }
            },
            "type": "scattercarpet"
           }
          ],
          "scattergeo": [
           {
            "marker": {
             "colorbar": {
              "outlinewidth": 0,
              "ticks": ""
             }
            },
            "type": "scattergeo"
           }
          ],
          "scattergl": [
           {
            "marker": {
             "colorbar": {
              "outlinewidth": 0,
              "ticks": ""
             }
            },
            "type": "scattergl"
           }
          ],
          "scattermapbox": [
           {
            "marker": {
             "colorbar": {
              "outlinewidth": 0,
              "ticks": ""
             }
            },
            "type": "scattermapbox"
           }
          ],
          "scatterpolar": [
           {
            "marker": {
             "colorbar": {
              "outlinewidth": 0,
              "ticks": ""
             }
            },
            "type": "scatterpolar"
           }
          ],
          "scatterpolargl": [
           {
            "marker": {
             "colorbar": {
              "outlinewidth": 0,
              "ticks": ""
             }
            },
            "type": "scatterpolargl"
           }
          ],
          "scatterternary": [
           {
            "marker": {
             "colorbar": {
              "outlinewidth": 0,
              "ticks": ""
             }
            },
            "type": "scatterternary"
           }
          ],
          "surface": [
           {
            "colorbar": {
             "outlinewidth": 0,
             "ticks": ""
            },
            "colorscale": [
             [
              0,
              "#0d0887"
             ],
             [
              0.1111111111111111,
              "#46039f"
             ],
             [
              0.2222222222222222,
              "#7201a8"
             ],
             [
              0.3333333333333333,
              "#9c179e"
             ],
             [
              0.4444444444444444,
              "#bd3786"
             ],
             [
              0.5555555555555556,
              "#d8576b"
             ],
             [
              0.6666666666666666,
              "#ed7953"
             ],
             [
              0.7777777777777778,
              "#fb9f3a"
             ],
             [
              0.8888888888888888,
              "#fdca26"
             ],
             [
              1,
              "#f0f921"
             ]
            ],
            "type": "surface"
           }
          ],
          "table": [
           {
            "cells": {
             "fill": {
              "color": "#EBF0F8"
             },
             "line": {
              "color": "white"
             }
            },
            "header": {
             "fill": {
              "color": "#C8D4E3"
             },
             "line": {
              "color": "white"
             }
            },
            "type": "table"
           }
          ]
         },
         "layout": {
          "annotationdefaults": {
           "arrowcolor": "#2a3f5f",
           "arrowhead": 0,
           "arrowwidth": 1
          },
          "autotypenumbers": "strict",
          "coloraxis": {
           "colorbar": {
            "outlinewidth": 0,
            "ticks": ""
           }
          },
          "colorscale": {
           "diverging": [
            [
             0,
             "#8e0152"
            ],
            [
             0.1,
             "#c51b7d"
            ],
            [
             0.2,
             "#de77ae"
            ],
            [
             0.3,
             "#f1b6da"
            ],
            [
             0.4,
             "#fde0ef"
            ],
            [
             0.5,
             "#f7f7f7"
            ],
            [
             0.6,
             "#e6f5d0"
            ],
            [
             0.7,
             "#b8e186"
            ],
            [
             0.8,
             "#7fbc41"
            ],
            [
             0.9,
             "#4d9221"
            ],
            [
             1,
             "#276419"
            ]
           ],
           "sequential": [
            [
             0,
             "#0d0887"
            ],
            [
             0.1111111111111111,
             "#46039f"
            ],
            [
             0.2222222222222222,
             "#7201a8"
            ],
            [
             0.3333333333333333,
             "#9c179e"
            ],
            [
             0.4444444444444444,
             "#bd3786"
            ],
            [
             0.5555555555555556,
             "#d8576b"
            ],
            [
             0.6666666666666666,
             "#ed7953"
            ],
            [
             0.7777777777777778,
             "#fb9f3a"
            ],
            [
             0.8888888888888888,
             "#fdca26"
            ],
            [
             1,
             "#f0f921"
            ]
           ],
           "sequentialminus": [
            [
             0,
             "#0d0887"
            ],
            [
             0.1111111111111111,
             "#46039f"
            ],
            [
             0.2222222222222222,
             "#7201a8"
            ],
            [
             0.3333333333333333,
             "#9c179e"
            ],
            [
             0.4444444444444444,
             "#bd3786"
            ],
            [
             0.5555555555555556,
             "#d8576b"
            ],
            [
             0.6666666666666666,
             "#ed7953"
            ],
            [
             0.7777777777777778,
             "#fb9f3a"
            ],
            [
             0.8888888888888888,
             "#fdca26"
            ],
            [
             1,
             "#f0f921"
            ]
           ]
          },
          "colorway": [
           "#636efa",
           "#EF553B",
           "#00cc96",
           "#ab63fa",
           "#FFA15A",
           "#19d3f3",
           "#FF6692",
           "#B6E880",
           "#FF97FF",
           "#FECB52"
          ],
          "font": {
           "color": "#2a3f5f"
          },
          "geo": {
           "bgcolor": "white",
           "lakecolor": "white",
           "landcolor": "#E5ECF6",
           "showlakes": true,
           "showland": true,
           "subunitcolor": "white"
          },
          "hoverlabel": {
           "align": "left"
          },
          "hovermode": "closest",
          "mapbox": {
           "style": "light"
          },
          "paper_bgcolor": "white",
          "plot_bgcolor": "#E5ECF6",
          "polar": {
           "angularaxis": {
            "gridcolor": "white",
            "linecolor": "white",
            "ticks": ""
           },
           "bgcolor": "#E5ECF6",
           "radialaxis": {
            "gridcolor": "white",
            "linecolor": "white",
            "ticks": ""
           }
          },
          "scene": {
           "xaxis": {
            "backgroundcolor": "#E5ECF6",
            "gridcolor": "white",
            "gridwidth": 2,
            "linecolor": "white",
            "showbackground": true,
            "ticks": "",
            "zerolinecolor": "white"
           },
           "yaxis": {
            "backgroundcolor": "#E5ECF6",
            "gridcolor": "white",
            "gridwidth": 2,
            "linecolor": "white",
            "showbackground": true,
            "ticks": "",
            "zerolinecolor": "white"
           },
           "zaxis": {
            "backgroundcolor": "#E5ECF6",
            "gridcolor": "white",
            "gridwidth": 2,
            "linecolor": "white",
            "showbackground": true,
            "ticks": "",
            "zerolinecolor": "white"
           }
          },
          "shapedefaults": {
           "line": {
            "color": "#2a3f5f"
           }
          },
          "ternary": {
           "aaxis": {
            "gridcolor": "white",
            "linecolor": "white",
            "ticks": ""
           },
           "baxis": {
            "gridcolor": "white",
            "linecolor": "white",
            "ticks": ""
           },
           "bgcolor": "#E5ECF6",
           "caxis": {
            "gridcolor": "white",
            "linecolor": "white",
            "ticks": ""
           }
          },
          "title": {
           "x": 0.05
          },
          "xaxis": {
           "automargin": true,
           "gridcolor": "white",
           "linecolor": "white",
           "ticks": "",
           "title": {
            "standoff": 15
           },
           "zerolinecolor": "white",
           "zerolinewidth": 2
          },
          "yaxis": {
           "automargin": true,
           "gridcolor": "white",
           "linecolor": "white",
           "ticks": "",
           "title": {
            "standoff": 15
           },
           "zerolinecolor": "white",
           "zerolinewidth": 2
          }
         }
        },
        "title": {
         "text": "Attorneys with Zero Hours by State"
        }
       }
      },
      "text/html": [
       "<div>                            <div id=\"1668fc8c-cf97-4f65-ad9e-29b1fd75b5a5\" class=\"plotly-graph-div\" style=\"height:525px; width:100%;\"></div>            <script type=\"text/javascript\">                require([\"plotly\"], function(Plotly) {                    window.PLOTLYENV=window.PLOTLYENV || {};                                    if (document.getElementById(\"1668fc8c-cf97-4f65-ad9e-29b1fd75b5a5\")) {                    Plotly.newPlot(                        \"1668fc8c-cf97-4f65-ad9e-29b1fd75b5a5\",                        [{\"coloraxis\":\"coloraxis\",\"geo\":\"geo\",\"hovertemplate\":\"StateAbbr=%{location}<br>Useless Attorneys=%{z}<extra></extra>\",\"locationmode\":\"USA-states\",\"locations\":[\"AK\",\"AL\",\"AR\",\"AZ\",\"CA\",\"CT\",\"FL\",\"GA\",\"HI\",\"IA\",\"ID\",\"IL\",\"IN\",\"KS\",\"LA\",\"MA\",\"MD\",\"ME\",\"MI\",\"MO\",\"MS\",\"NC\",\"ND\",\"NE\",\"NH\",\"NJ\",\"NM\",\"NY\",\"OK\",\"PA\",\"SC\",\"SD\",\"TN\",\"TX\",\"US\",\"UT\",\"VA\",\"VI\",\"VT\",\"WI\",\"WV\",\"WY\"],\"name\":\"\",\"z\":[75,95,104,71,160,62,803,206,86,42,2,576,270,22,154,359,156,110,66,206,91,422,1,177,60,56,64,332,113,81,129,7,713,801,68,75,347,3,31,252,105,24],\"type\":\"choropleth\"}],                        {\"template\":{\"data\":{\"histogram2dcontour\":[{\"type\":\"histogram2dcontour\",\"colorbar\":{\"outlinewidth\":0,\"ticks\":\"\"},\"colorscale\":[[0.0,\"#0d0887\"],[0.1111111111111111,\"#46039f\"],[0.2222222222222222,\"#7201a8\"],[0.3333333333333333,\"#9c179e\"],[0.4444444444444444,\"#bd3786\"],[0.5555555555555556,\"#d8576b\"],[0.6666666666666666,\"#ed7953\"],[0.7777777777777778,\"#fb9f3a\"],[0.8888888888888888,\"#fdca26\"],[1.0,\"#f0f921\"]]}],\"choropleth\":[{\"type\":\"choropleth\",\"colorbar\":{\"outlinewidth\":0,\"ticks\":\"\"}}],\"histogram2d\":[{\"type\":\"histogram2d\",\"colorbar\":{\"outlinewidth\":0,\"ticks\":\"\"},\"colorscale\":[[0.0,\"#0d0887\"],[0.1111111111111111,\"#46039f\"],[0.2222222222222222,\"#7201a8\"],[0.3333333333333333,\"#9c179e\"],[0.4444444444444444,\"#bd3786\"],[0.5555555555555556,\"#d8576b\"],[0.6666666666666666,\"#ed7953\"],[0.7777777777777778,\"#fb9f3a\"],[0.8888888888888888,\"#fdca26\"],[1.0,\"#f0f921\"]]}],\"heatmap\":[{\"type\":\"heatmap\",\"colorbar\":{\"outlinewidth\":0,\"ticks\":\"\"},\"colorscale\":[[0.0,\"#0d0887\"],[0.1111111111111111,\"#46039f\"],[0.2222222222222222,\"#7201a8\"],[0.3333333333333333,\"#9c179e\"],[0.4444444444444444,\"#bd3786\"],[0.5555555555555556,\"#d8576b\"],[0.6666666666666666,\"#ed7953\"],[0.7777777777777778,\"#fb9f3a\"],[0.8888888888888888,\"#fdca26\"],[1.0,\"#f0f921\"]]}],\"heatmapgl\":[{\"type\":\"heatmapgl\",\"colorbar\":{\"outlinewidth\":0,\"ticks\":\"\"},\"colorscale\":[[0.0,\"#0d0887\"],[0.1111111111111111,\"#46039f\"],[0.2222222222222222,\"#7201a8\"],[0.3333333333333333,\"#9c179e\"],[0.4444444444444444,\"#bd3786\"],[0.5555555555555556,\"#d8576b\"],[0.6666666666666666,\"#ed7953\"],[0.7777777777777778,\"#fb9f3a\"],[0.8888888888888888,\"#fdca26\"],[1.0,\"#f0f921\"]]}],\"contourcarpet\":[{\"type\":\"contourcarpet\",\"colorbar\":{\"outlinewidth\":0,\"ticks\":\"\"}}],\"contour\":[{\"type\":\"contour\",\"colorbar\":{\"outlinewidth\":0,\"ticks\":\"\"},\"colorscale\":[[0.0,\"#0d0887\"],[0.1111111111111111,\"#46039f\"],[0.2222222222222222,\"#7201a8\"],[0.3333333333333333,\"#9c179e\"],[0.4444444444444444,\"#bd3786\"],[0.5555555555555556,\"#d8576b\"],[0.6666666666666666,\"#ed7953\"],[0.7777777777777778,\"#fb9f3a\"],[0.8888888888888888,\"#fdca26\"],[1.0,\"#f0f921\"]]}],\"surface\":[{\"type\":\"surface\",\"colorbar\":{\"outlinewidth\":0,\"ticks\":\"\"},\"colorscale\":[[0.0,\"#0d0887\"],[0.1111111111111111,\"#46039f\"],[0.2222222222222222,\"#7201a8\"],[0.3333333333333333,\"#9c179e\"],[0.4444444444444444,\"#bd3786\"],[0.5555555555555556,\"#d8576b\"],[0.6666666666666666,\"#ed7953\"],[0.7777777777777778,\"#fb9f3a\"],[0.8888888888888888,\"#fdca26\"],[1.0,\"#f0f921\"]]}],\"mesh3d\":[{\"type\":\"mesh3d\",\"colorbar\":{\"outlinewidth\":0,\"ticks\":\"\"}}],\"scatter\":[{\"fillpattern\":{\"fillmode\":\"overlay\",\"size\":10,\"solidity\":0.2},\"type\":\"scatter\"}],\"parcoords\":[{\"type\":\"parcoords\",\"line\":{\"colorbar\":{\"outlinewidth\":0,\"ticks\":\"\"}}}],\"scatterpolargl\":[{\"type\":\"scatterpolargl\",\"marker\":{\"colorbar\":{\"outlinewidth\":0,\"ticks\":\"\"}}}],\"bar\":[{\"error_x\":{\"color\":\"#2a3f5f\"},\"error_y\":{\"color\":\"#2a3f5f\"},\"marker\":{\"line\":{\"color\":\"#E5ECF6\",\"width\":0.5},\"pattern\":{\"fillmode\":\"overlay\",\"size\":10,\"solidity\":0.2}},\"type\":\"bar\"}],\"scattergeo\":[{\"type\":\"scattergeo\",\"marker\":{\"colorbar\":{\"outlinewidth\":0,\"ticks\":\"\"}}}],\"scatterpolar\":[{\"type\":\"scatterpolar\",\"marker\":{\"colorbar\":{\"outlinewidth\":0,\"ticks\":\"\"}}}],\"histogram\":[{\"marker\":{\"pattern\":{\"fillmode\":\"overlay\",\"size\":10,\"solidity\":0.2}},\"type\":\"histogram\"}],\"scattergl\":[{\"type\":\"scattergl\",\"marker\":{\"colorbar\":{\"outlinewidth\":0,\"ticks\":\"\"}}}],\"scatter3d\":[{\"type\":\"scatter3d\",\"line\":{\"colorbar\":{\"outlinewidth\":0,\"ticks\":\"\"}},\"marker\":{\"colorbar\":{\"outlinewidth\":0,\"ticks\":\"\"}}}],\"scattermapbox\":[{\"type\":\"scattermapbox\",\"marker\":{\"colorbar\":{\"outlinewidth\":0,\"ticks\":\"\"}}}],\"scatterternary\":[{\"type\":\"scatterternary\",\"marker\":{\"colorbar\":{\"outlinewidth\":0,\"ticks\":\"\"}}}],\"scattercarpet\":[{\"type\":\"scattercarpet\",\"marker\":{\"colorbar\":{\"outlinewidth\":0,\"ticks\":\"\"}}}],\"carpet\":[{\"aaxis\":{\"endlinecolor\":\"#2a3f5f\",\"gridcolor\":\"white\",\"linecolor\":\"white\",\"minorgridcolor\":\"white\",\"startlinecolor\":\"#2a3f5f\"},\"baxis\":{\"endlinecolor\":\"#2a3f5f\",\"gridcolor\":\"white\",\"linecolor\":\"white\",\"minorgridcolor\":\"white\",\"startlinecolor\":\"#2a3f5f\"},\"type\":\"carpet\"}],\"table\":[{\"cells\":{\"fill\":{\"color\":\"#EBF0F8\"},\"line\":{\"color\":\"white\"}},\"header\":{\"fill\":{\"color\":\"#C8D4E3\"},\"line\":{\"color\":\"white\"}},\"type\":\"table\"}],\"barpolar\":[{\"marker\":{\"line\":{\"color\":\"#E5ECF6\",\"width\":0.5},\"pattern\":{\"fillmode\":\"overlay\",\"size\":10,\"solidity\":0.2}},\"type\":\"barpolar\"}],\"pie\":[{\"automargin\":true,\"type\":\"pie\"}]},\"layout\":{\"autotypenumbers\":\"strict\",\"colorway\":[\"#636efa\",\"#EF553B\",\"#00cc96\",\"#ab63fa\",\"#FFA15A\",\"#19d3f3\",\"#FF6692\",\"#B6E880\",\"#FF97FF\",\"#FECB52\"],\"font\":{\"color\":\"#2a3f5f\"},\"hovermode\":\"closest\",\"hoverlabel\":{\"align\":\"left\"},\"paper_bgcolor\":\"white\",\"plot_bgcolor\":\"#E5ECF6\",\"polar\":{\"bgcolor\":\"#E5ECF6\",\"angularaxis\":{\"gridcolor\":\"white\",\"linecolor\":\"white\",\"ticks\":\"\"},\"radialaxis\":{\"gridcolor\":\"white\",\"linecolor\":\"white\",\"ticks\":\"\"}},\"ternary\":{\"bgcolor\":\"#E5ECF6\",\"aaxis\":{\"gridcolor\":\"white\",\"linecolor\":\"white\",\"ticks\":\"\"},\"baxis\":{\"gridcolor\":\"white\",\"linecolor\":\"white\",\"ticks\":\"\"},\"caxis\":{\"gridcolor\":\"white\",\"linecolor\":\"white\",\"ticks\":\"\"}},\"coloraxis\":{\"colorbar\":{\"outlinewidth\":0,\"ticks\":\"\"}},\"colorscale\":{\"sequential\":[[0.0,\"#0d0887\"],[0.1111111111111111,\"#46039f\"],[0.2222222222222222,\"#7201a8\"],[0.3333333333333333,\"#9c179e\"],[0.4444444444444444,\"#bd3786\"],[0.5555555555555556,\"#d8576b\"],[0.6666666666666666,\"#ed7953\"],[0.7777777777777778,\"#fb9f3a\"],[0.8888888888888888,\"#fdca26\"],[1.0,\"#f0f921\"]],\"sequentialminus\":[[0.0,\"#0d0887\"],[0.1111111111111111,\"#46039f\"],[0.2222222222222222,\"#7201a8\"],[0.3333333333333333,\"#9c179e\"],[0.4444444444444444,\"#bd3786\"],[0.5555555555555556,\"#d8576b\"],[0.6666666666666666,\"#ed7953\"],[0.7777777777777778,\"#fb9f3a\"],[0.8888888888888888,\"#fdca26\"],[1.0,\"#f0f921\"]],\"diverging\":[[0,\"#8e0152\"],[0.1,\"#c51b7d\"],[0.2,\"#de77ae\"],[0.3,\"#f1b6da\"],[0.4,\"#fde0ef\"],[0.5,\"#f7f7f7\"],[0.6,\"#e6f5d0\"],[0.7,\"#b8e186\"],[0.8,\"#7fbc41\"],[0.9,\"#4d9221\"],[1,\"#276419\"]]},\"xaxis\":{\"gridcolor\":\"white\",\"linecolor\":\"white\",\"ticks\":\"\",\"title\":{\"standoff\":15},\"zerolinecolor\":\"white\",\"automargin\":true,\"zerolinewidth\":2},\"yaxis\":{\"gridcolor\":\"white\",\"linecolor\":\"white\",\"ticks\":\"\",\"title\":{\"standoff\":15},\"zerolinecolor\":\"white\",\"automargin\":true,\"zerolinewidth\":2},\"scene\":{\"xaxis\":{\"backgroundcolor\":\"#E5ECF6\",\"gridcolor\":\"white\",\"linecolor\":\"white\",\"showbackground\":true,\"ticks\":\"\",\"zerolinecolor\":\"white\",\"gridwidth\":2},\"yaxis\":{\"backgroundcolor\":\"#E5ECF6\",\"gridcolor\":\"white\",\"linecolor\":\"white\",\"showbackground\":true,\"ticks\":\"\",\"zerolinecolor\":\"white\",\"gridwidth\":2},\"zaxis\":{\"backgroundcolor\":\"#E5ECF6\",\"gridcolor\":\"white\",\"linecolor\":\"white\",\"showbackground\":true,\"ticks\":\"\",\"zerolinecolor\":\"white\",\"gridwidth\":2}},\"shapedefaults\":{\"line\":{\"color\":\"#2a3f5f\"}},\"annotationdefaults\":{\"arrowcolor\":\"#2a3f5f\",\"arrowhead\":0,\"arrowwidth\":1},\"geo\":{\"bgcolor\":\"white\",\"landcolor\":\"#E5ECF6\",\"subunitcolor\":\"white\",\"showland\":true,\"showlakes\":true,\"lakecolor\":\"white\"},\"title\":{\"x\":0.05},\"mapbox\":{\"style\":\"light\"}}},\"geo\":{\"domain\":{\"x\":[0.0,1.0],\"y\":[0.0,1.0]},\"center\":{},\"scope\":\"usa\"},\"coloraxis\":{\"colorbar\":{\"title\":{\"text\":\"Number of Useless Attorneys\"}},\"colorscale\":[[0.0,\"#0d0887\"],[0.1111111111111111,\"#46039f\"],[0.2222222222222222,\"#7201a8\"],[0.3333333333333333,\"#9c179e\"],[0.4444444444444444,\"#bd3786\"],[0.5555555555555556,\"#d8576b\"],[0.6666666666666666,\"#ed7953\"],[0.7777777777777778,\"#fb9f3a\"],[0.8888888888888888,\"#fdca26\"],[1.0,\"#f0f921\"]],\"cmin\":1,\"cmax\":803},\"legend\":{\"tracegroupgap\":0},\"margin\":{\"t\":60},\"title\":{\"text\":\"Attorneys with Zero Hours by State\"}},                        {\"responsive\": true}                    ).then(function(){\n",
       "                            \n",
       "var gd = document.getElementById('1668fc8c-cf97-4f65-ad9e-29b1fd75b5a5');\n",
       "var x = new MutationObserver(function (mutations, observer) {{\n",
       "        var display = window.getComputedStyle(gd).display;\n",
       "        if (!display || display === 'none') {{\n",
       "            console.log([gd, 'removed!']);\n",
       "            Plotly.purge(gd);\n",
       "            observer.disconnect();\n",
       "        }}\n",
       "}});\n",
       "\n",
       "// Listen for the removal of the full notebook cells\n",
       "var notebookContainer = gd.closest('#notebook-container');\n",
       "if (notebookContainer) {{\n",
       "    x.observe(notebookContainer, {childList: true});\n",
       "}}\n",
       "\n",
       "// Listen for the clearing of the current output cell\n",
       "var outputEl = gd.closest('.output');\n",
       "if (outputEl) {{\n",
       "    x.observe(outputEl, {childList: true});\n",
       "}}\n",
       "\n",
       "                        })                };                });            </script>        </div>"
      ]
     },
     "metadata": {},
     "output_type": "display_data"
    }
   ],
   "source": [
    "fig = px.choropleth(useless_attorneys_df, locations=\"StateAbbr\", color=\"Useless Attorneys\",\n",
    "                    locationmode=\"USA-states\", scope=\"usa\", range_color=(useless_attorneys_df['Useless Attorneys'].min(),\n",
    "                                                                         useless_attorneys_df['Useless Attorneys'].max()))\n",
    "fig.update_layout(coloraxis_colorbar=dict(title=\"Number of Useless Attorneys\"))\n",
    "\n",
    "fig.update_layout(title_text='Attorneys with Zero Hours by State')\n",
    "fig.show()\n"
   ]
  },
  {
   "cell_type": "code",
   "execution_count": null,
   "id": "9eba6cd0",
   "metadata": {},
   "outputs": [],
   "source": []
  }
 ],
 "metadata": {
  "kernelspec": {
   "display_name": "Python 3",
   "language": "python",
   "name": "python3"
  },
  "language_info": {
   "codemirror_mode": {
    "name": "ipython",
    "version": 3
   },
   "file_extension": ".py",
   "mimetype": "text/x-python",
   "name": "python",
   "nbconvert_exporter": "python",
   "pygments_lexer": "ipython3",
   "version": "3.8.8"
  }
 },
 "nbformat": 4,
 "nbformat_minor": 5
}
