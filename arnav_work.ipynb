{
 "cells": [
  {
   "cell_type": "code",
   "execution_count": 51,
   "id": "3b7e616b",
   "metadata": {},
   "outputs": [],
   "source": [
    "import pandas as pd\n",
    "import plotly.graph_objs as go\n",
    "import plotly.express as px"
   ]
  },
  {
   "cell_type": "code",
   "execution_count": 52,
   "id": "10827a54",
   "metadata": {},
   "outputs": [
    {
     "data": {
      "text/html": [
       "<div>\n",
       "<style scoped>\n",
       "    .dataframe tbody tr th:only-of-type {\n",
       "        vertical-align: middle;\n",
       "    }\n",
       "\n",
       "    .dataframe tbody tr th {\n",
       "        vertical-align: top;\n",
       "    }\n",
       "\n",
       "    .dataframe thead th {\n",
       "        text-align: right;\n",
       "    }\n",
       "</style>\n",
       "<table border=\"1\" class=\"dataframe\">\n",
       "  <thead>\n",
       "    <tr style=\"text-align: right;\">\n",
       "      <th></th>\n",
       "      <th>Id</th>\n",
       "      <th>StateAbbr</th>\n",
       "      <th>AttorneyUno</th>\n",
       "      <th>City</th>\n",
       "      <th>County</th>\n",
       "      <th>StateName</th>\n",
       "      <th>PostalCode</th>\n",
       "      <th>CreatedUtc</th>\n",
       "    </tr>\n",
       "  </thead>\n",
       "  <tbody>\n",
       "    <tr>\n",
       "      <th>0</th>\n",
       "      <td>1</td>\n",
       "      <td>NH</td>\n",
       "      <td>7A2C12BE-9F37-4C9D-A6ED-41B916820CE0</td>\n",
       "      <td>Concord</td>\n",
       "      <td>Cheshire</td>\n",
       "      <td>New Hampshire</td>\n",
       "      <td>3301</td>\n",
       "      <td>2019-02-14 16:21:52</td>\n",
       "    </tr>\n",
       "    <tr>\n",
       "      <th>1</th>\n",
       "      <td>2</td>\n",
       "      <td>NH</td>\n",
       "      <td>29A49AA6-047E-4008-ABBD-3DE57156B526</td>\n",
       "      <td>Concord</td>\n",
       "      <td>Merrimack</td>\n",
       "      <td>New Hampshire</td>\n",
       "      <td>3229</td>\n",
       "      <td>2019-02-14 18:14:30</td>\n",
       "    </tr>\n",
       "    <tr>\n",
       "      <th>2</th>\n",
       "      <td>3</td>\n",
       "      <td>MS</td>\n",
       "      <td>9DF11B65-7F29-452C-A69E-54CD72E4A116</td>\n",
       "      <td>Jackson</td>\n",
       "      <td>Rankin</td>\n",
       "      <td>Mississippi</td>\n",
       "      <td>39203</td>\n",
       "      <td>2016-08-19 17:07:23</td>\n",
       "    </tr>\n",
       "    <tr>\n",
       "      <th>3</th>\n",
       "      <td>4</td>\n",
       "      <td>VA</td>\n",
       "      <td>693FD55F-5F58-405A-B389-5E78B3406497</td>\n",
       "      <td>Richmond</td>\n",
       "      <td>Richmond (city)</td>\n",
       "      <td>Virginia</td>\n",
       "      <td>23219</td>\n",
       "      <td>2016-08-19 18:22:53</td>\n",
       "    </tr>\n",
       "    <tr>\n",
       "      <th>4</th>\n",
       "      <td>5</td>\n",
       "      <td>CT</td>\n",
       "      <td>0AC2A866-19CD-4D1A-94B7-BF41A1430553</td>\n",
       "      <td>Wethersfield</td>\n",
       "      <td>Hartford</td>\n",
       "      <td>Connecticut</td>\n",
       "      <td>6410</td>\n",
       "      <td>2016-08-21 01:21:13</td>\n",
       "    </tr>\n",
       "  </tbody>\n",
       "</table>\n",
       "</div>"
      ],
      "text/plain": [
       "   Id StateAbbr                           AttorneyUno          City  \\\n",
       "0   1        NH  7A2C12BE-9F37-4C9D-A6ED-41B916820CE0       Concord   \n",
       "1   2        NH  29A49AA6-047E-4008-ABBD-3DE57156B526       Concord   \n",
       "2   3        MS  9DF11B65-7F29-452C-A69E-54CD72E4A116       Jackson   \n",
       "3   4        VA  693FD55F-5F58-405A-B389-5E78B3406497      Richmond   \n",
       "4   5        CT  0AC2A866-19CD-4D1A-94B7-BF41A1430553  Wethersfield   \n",
       "\n",
       "            County      StateName  PostalCode           CreatedUtc  \n",
       "0         Cheshire  New Hampshire        3301  2019-02-14 16:21:52  \n",
       "1        Merrimack  New Hampshire        3229  2019-02-14 18:14:30  \n",
       "2           Rankin    Mississippi       39203  2016-08-19 17:07:23  \n",
       "3  Richmond (city)       Virginia       23219  2016-08-19 18:22:53  \n",
       "4         Hartford    Connecticut        6410  2016-08-21 01:21:13  "
      ]
     },
     "metadata": {},
     "output_type": "display_data"
    },
    {
     "name": "stdout",
     "output_type": "stream",
     "text": [
      "Shape:  (11544, 8)\n",
      "Unique values in column AttorneyUno:  11544\n"
     ]
    }
   ],
   "source": [
    "#Data Dictionary for attorneys_df\n",
    "  #1. ID: Numeric Identifier for the Attorney\n",
    "  #2. StateAbbr: USPS 2-Character State Abbreviation\n",
    "  #3. AttorneyUno: Unique Identifier for the Attorney\n",
    "  #4. City: City or Municipality for the Attorney\n",
    "  #5. County: County for the Attorney\n",
    "  #6. StateName: Full Name of the State\n",
    "  #7. PostalCode: 5-Digit Postal Code\n",
    "  #8. CreatedUtc: Date and Time the Attorney was Created\n",
    "\n",
    "attorneys_df = pd.read_csv('./data/attorneys.csv')\n",
    "display(attorneys_df.head())\n",
    "print(\"Shape: \", attorneys_df.shape)\n",
    "print(\"Unique values in column AttorneyUno: \", attorneys_df['AttorneyUno'].nunique())"
   ]
  },
  {
   "cell_type": "code",
   "execution_count": 53,
   "id": "c3eced09",
   "metadata": {},
   "outputs": [
    {
     "data": {
      "text/html": [
       "<div>\n",
       "<style scoped>\n",
       "    .dataframe tbody tr th:only-of-type {\n",
       "        vertical-align: middle;\n",
       "    }\n",
       "\n",
       "    .dataframe tbody tr th {\n",
       "        vertical-align: top;\n",
       "    }\n",
       "\n",
       "    .dataframe thead th {\n",
       "        text-align: right;\n",
       "    }\n",
       "</style>\n",
       "<table border=\"1\" class=\"dataframe\">\n",
       "  <thead>\n",
       "    <tr style=\"text-align: right;\">\n",
       "      <th></th>\n",
       "      <th>Id</th>\n",
       "      <th>StateAbbr</th>\n",
       "      <th>TimeEntryUno</th>\n",
       "      <th>AttorneyUno</th>\n",
       "      <th>Hours</th>\n",
       "      <th>EnteredOnUtc</th>\n",
       "    </tr>\n",
       "  </thead>\n",
       "  <tbody>\n",
       "    <tr>\n",
       "      <th>0</th>\n",
       "      <td>1</td>\n",
       "      <td>AK</td>\n",
       "      <td>44954D1D-C354-41F6-8C33-327E866B6BA3</td>\n",
       "      <td>C126C566-9039-4991-BDD8-0CDD05C27DDF</td>\n",
       "      <td>1.8</td>\n",
       "      <td>2017-01-05 21:25:23</td>\n",
       "    </tr>\n",
       "    <tr>\n",
       "      <th>1</th>\n",
       "      <td>2</td>\n",
       "      <td>AL</td>\n",
       "      <td>F1D8F733-1BDB-47FD-BC7C-CB512E2C5A3A</td>\n",
       "      <td>F8C0E3D3-B3A5-42B9-9E2F-2A637BA83D6E</td>\n",
       "      <td>0.4</td>\n",
       "      <td>2020-03-24 01:10:56</td>\n",
       "    </tr>\n",
       "    <tr>\n",
       "      <th>2</th>\n",
       "      <td>3</td>\n",
       "      <td>AR</td>\n",
       "      <td>81ED2628-2FF4-4B67-86B1-F9DFEC603C15</td>\n",
       "      <td>34BFCC3D-B107-4164-B405-DEFF63A65B2D</td>\n",
       "      <td>0.4</td>\n",
       "      <td>2016-12-02 23:21:46</td>\n",
       "    </tr>\n",
       "    <tr>\n",
       "      <th>3</th>\n",
       "      <td>4</td>\n",
       "      <td>AZ</td>\n",
       "      <td>14B1BCC4-CEF6-4108-AB54-3CDE482845F0</td>\n",
       "      <td>875DB0F4-619B-4A13-8104-85A3C15D90C4</td>\n",
       "      <td>0.8</td>\n",
       "      <td>2015-12-16 20:32:55</td>\n",
       "    </tr>\n",
       "    <tr>\n",
       "      <th>4</th>\n",
       "      <td>5</td>\n",
       "      <td>CA</td>\n",
       "      <td>41275A72-CD69-4A42-85FB-E3E4FEE0C316</td>\n",
       "      <td>22746734-D076-4AC8-BA66-50426C01093C</td>\n",
       "      <td>3.0</td>\n",
       "      <td>2020-09-04 00:02:54</td>\n",
       "    </tr>\n",
       "  </tbody>\n",
       "</table>\n",
       "</div>"
      ],
      "text/plain": [
       "   Id StateAbbr                          TimeEntryUno  \\\n",
       "0   1        AK  44954D1D-C354-41F6-8C33-327E866B6BA3   \n",
       "1   2        AL  F1D8F733-1BDB-47FD-BC7C-CB512E2C5A3A   \n",
       "2   3        AR  81ED2628-2FF4-4B67-86B1-F9DFEC603C15   \n",
       "3   4        AZ  14B1BCC4-CEF6-4108-AB54-3CDE482845F0   \n",
       "4   5        CA  41275A72-CD69-4A42-85FB-E3E4FEE0C316   \n",
       "\n",
       "                            AttorneyUno  Hours         EnteredOnUtc  \n",
       "0  C126C566-9039-4991-BDD8-0CDD05C27DDF    1.8  2017-01-05 21:25:23  \n",
       "1  F8C0E3D3-B3A5-42B9-9E2F-2A637BA83D6E    0.4  2020-03-24 01:10:56  \n",
       "2  34BFCC3D-B107-4164-B405-DEFF63A65B2D    0.4  2016-12-02 23:21:46  \n",
       "3  875DB0F4-619B-4A13-8104-85A3C15D90C4    0.8  2015-12-16 20:32:55  \n",
       "4  22746734-D076-4AC8-BA66-50426C01093C    3.0  2020-09-04 00:02:54  "
      ]
     },
     "metadata": {},
     "output_type": "display_data"
    },
    {
     "name": "stdout",
     "output_type": "stream",
     "text": [
      "Shape:  (114613, 6)\n",
      "Unique values in column AttorneyUno:  3967\n"
     ]
    }
   ],
   "source": [
    "#Data Dictionary for attorney_time_entries_df\n",
    "    #1. ID: Numeric Identifier for the Time Entry\n",
    "    #2. StateAbbr: USPS 2-Character State Abbreviation\n",
    "    #3. TimeEntryUno: Unique Identifier for the Time Entry\n",
    "    #4. AttorneyUno: Unique Identifier for the Attorney\n",
    "    #5. Hours: Hours spent responding to client questions\n",
    "    #6. EnteredOnUtc: Date and Time the Time Entry was Created\n",
    "\n",
    "attorney_time_entries_df = pd.read_csv('./data/attorneytimeentries.csv')\n",
    "display(attorney_time_entries_df.head())\n",
    "print(\"Shape: \", attorney_time_entries_df.shape)\n",
    "#show number of unique values in column TimeEntryUno\n",
    "print(\"Unique values in column AttorneyUno: \", attorney_time_entries_df['AttorneyUno'].nunique())"
   ]
  },
  {
   "cell_type": "code",
   "execution_count": 54,
   "id": "663c268c",
   "metadata": {},
   "outputs": [
    {
     "data": {
      "text/html": [
       "<div>\n",
       "<style scoped>\n",
       "    .dataframe tbody tr th:only-of-type {\n",
       "        vertical-align: middle;\n",
       "    }\n",
       "\n",
       "    .dataframe tbody tr th {\n",
       "        vertical-align: top;\n",
       "    }\n",
       "\n",
       "    .dataframe thead th {\n",
       "        text-align: right;\n",
       "    }\n",
       "</style>\n",
       "<table border=\"1\" class=\"dataframe\">\n",
       "  <thead>\n",
       "    <tr style=\"text-align: right;\">\n",
       "      <th></th>\n",
       "      <th>Id</th>\n",
       "      <th>StateAbbr</th>\n",
       "      <th>CategoryUno</th>\n",
       "      <th>Category</th>\n",
       "    </tr>\n",
       "  </thead>\n",
       "  <tbody>\n",
       "    <tr>\n",
       "      <th>0</th>\n",
       "      <td>1</td>\n",
       "      <td>AK</td>\n",
       "      <td>4CB7A73E-AAB0-4E8F-94D1-8AC8610AAC64</td>\n",
       "      <td>Consumer Financial Questions</td>\n",
       "    </tr>\n",
       "    <tr>\n",
       "      <th>1</th>\n",
       "      <td>2</td>\n",
       "      <td>AL</td>\n",
       "      <td>08C7C59B-6AAE-4BC1-83FE-BC85F1544260</td>\n",
       "      <td>Consumer Financial Questions</td>\n",
       "    </tr>\n",
       "    <tr>\n",
       "      <th>2</th>\n",
       "      <td>3</td>\n",
       "      <td>AR</td>\n",
       "      <td>FD5059F7-DE7A-4929-8D67-E72C80773BAD</td>\n",
       "      <td>Consumer Financial Questions</td>\n",
       "    </tr>\n",
       "    <tr>\n",
       "      <th>3</th>\n",
       "      <td>4</td>\n",
       "      <td>AZ</td>\n",
       "      <td>D90F1BC7-CD04-409A-9AF7-D4DAB649425A</td>\n",
       "      <td>Consumer Financial Questions</td>\n",
       "    </tr>\n",
       "    <tr>\n",
       "      <th>4</th>\n",
       "      <td>5</td>\n",
       "      <td>CA</td>\n",
       "      <td>FD678F86-62B1-4EC4-A628-98AEE7BC74D5</td>\n",
       "      <td>Consumer Financial Questions</td>\n",
       "    </tr>\n",
       "  </tbody>\n",
       "</table>\n",
       "</div>"
      ],
      "text/plain": [
       "   Id StateAbbr                           CategoryUno  \\\n",
       "0   1        AK  4CB7A73E-AAB0-4E8F-94D1-8AC8610AAC64   \n",
       "1   2        AL  08C7C59B-6AAE-4BC1-83FE-BC85F1544260   \n",
       "2   3        AR  FD5059F7-DE7A-4929-8D67-E72C80773BAD   \n",
       "3   4        AZ  D90F1BC7-CD04-409A-9AF7-D4DAB649425A   \n",
       "4   5        CA  FD678F86-62B1-4EC4-A628-98AEE7BC74D5   \n",
       "\n",
       "                       Category  \n",
       "0  Consumer Financial Questions  \n",
       "1  Consumer Financial Questions  \n",
       "2  Consumer Financial Questions  \n",
       "3  Consumer Financial Questions  \n",
       "4  Consumer Financial Questions  "
      ]
     },
     "metadata": {},
     "output_type": "display_data"
    },
    {
     "name": "stdout",
     "output_type": "stream",
     "text": [
      "Shape:  (430, 4)\n",
      "Number of Unique Values in column CategoryUno:  430\n",
      "Unique values in column Category:  ['Consumer Financial Questions' 'Education'\n",
      " 'Work, Employment and Unemployment' 'Family and Children'\n",
      " 'Health and Disability' 'Juvenile' 'Housing and Homelessness'\n",
      " 'Income Maintenance' 'Individual Rights' 'Other']\n"
     ]
    }
   ],
   "source": [
    "#Data Dictionary for categories_df\n",
    "    #1. ID: Numeric Identifier for the Legal Services Corporation Category\n",
    "    #2. StateAbbr: USPS 2-Character State Abbreviation\n",
    "    #3. CategoryUno: Unique Identifier for the LSC Category\n",
    "    #4. Category: LSC Category Name\n",
    "\n",
    "categories_df = pd.read_csv('./data/categories.csv')\n",
    "display(categories_df.head())\n",
    "print(\"Shape: \", categories_df.shape)\n",
    "print(\"Number of Unique Values in column CategoryUno: \", categories_df['CategoryUno'].nunique())\n",
    "print(\"Unique values in column Category: \", categories_df['Category'].unique())"
   ]
  },
  {
   "cell_type": "code",
   "execution_count": 55,
   "id": "d1605f08",
   "metadata": {},
   "outputs": [
    {
     "data": {
      "text/html": [
       "<div>\n",
       "<style scoped>\n",
       "    .dataframe tbody tr th:only-of-type {\n",
       "        vertical-align: middle;\n",
       "    }\n",
       "\n",
       "    .dataframe tbody tr th {\n",
       "        vertical-align: top;\n",
       "    }\n",
       "\n",
       "    .dataframe thead th {\n",
       "        text-align: right;\n",
       "    }\n",
       "</style>\n",
       "<table border=\"1\" class=\"dataframe\">\n",
       "  <thead>\n",
       "    <tr style=\"text-align: right;\">\n",
       "      <th></th>\n",
       "      <th>Id</th>\n",
       "      <th>StateAbbr</th>\n",
       "      <th>ClientUno</th>\n",
       "      <th>County</th>\n",
       "      <th>StateName</th>\n",
       "      <th>PostalCode</th>\n",
       "      <th>EthnicIdentity</th>\n",
       "      <th>Age</th>\n",
       "      <th>Gender</th>\n",
       "      <th>MaritalStatus</th>\n",
       "      <th>Veteran</th>\n",
       "      <th>Imprisoned</th>\n",
       "      <th>NumberInHousehold</th>\n",
       "      <th>AnnualIncome</th>\n",
       "      <th>AllowedIncome</th>\n",
       "      <th>CheckingBalance</th>\n",
       "      <th>SavingsBalance</th>\n",
       "      <th>InvestmentsBalance</th>\n",
       "      <th>CreatedUtc</th>\n",
       "    </tr>\n",
       "  </thead>\n",
       "  <tbody>\n",
       "    <tr>\n",
       "      <th>0</th>\n",
       "      <td>1</td>\n",
       "      <td>MS</td>\n",
       "      <td>B731DA7A-A97A-4A2E-BF11-0A126A05AF70</td>\n",
       "      <td>Washington</td>\n",
       "      <td>Mississippi</td>\n",
       "      <td>73179.0</td>\n",
       "      <td>NaN</td>\n",
       "      <td>NaN</td>\n",
       "      <td>NaN</td>\n",
       "      <td>NaN</td>\n",
       "      <td>NaN</td>\n",
       "      <td>No</td>\n",
       "      <td>3.0</td>\n",
       "      <td>26000.0</td>\n",
       "      <td>37190.0</td>\n",
       "      <td>300.0</td>\n",
       "      <td>NaN</td>\n",
       "      <td>NaN</td>\n",
       "      <td>2016-08-25 15:15:37</td>\n",
       "    </tr>\n",
       "    <tr>\n",
       "      <th>1</th>\n",
       "      <td>2</td>\n",
       "      <td>MS</td>\n",
       "      <td>8101DB7C-0CC8-4DE9-9E87-71137269AAD5</td>\n",
       "      <td>Harrison</td>\n",
       "      <td>Mississippi</td>\n",
       "      <td>39560.0</td>\n",
       "      <td>Caucasian</td>\n",
       "      <td>NaN</td>\n",
       "      <td>Male</td>\n",
       "      <td>Divorced or Widowed</td>\n",
       "      <td>NaN</td>\n",
       "      <td>No</td>\n",
       "      <td>2.0</td>\n",
       "      <td>52.0</td>\n",
       "      <td>25390.0</td>\n",
       "      <td>1.0</td>\n",
       "      <td>1.0</td>\n",
       "      <td>NaN</td>\n",
       "      <td>2016-08-26 00:55:17</td>\n",
       "    </tr>\n",
       "    <tr>\n",
       "      <th>2</th>\n",
       "      <td>3</td>\n",
       "      <td>GA</td>\n",
       "      <td>DD5F1EFC-8298-457F-BC09-CABBEB57A697</td>\n",
       "      <td>Barrow</td>\n",
       "      <td>Georgia</td>\n",
       "      <td>30157.0</td>\n",
       "      <td>Latino or Hispanic</td>\n",
       "      <td>55.0</td>\n",
       "      <td>Male</td>\n",
       "      <td>Single</td>\n",
       "      <td>NaN</td>\n",
       "      <td>No</td>\n",
       "      <td>5.0</td>\n",
       "      <td>3000.0</td>\n",
       "      <td>60790.0</td>\n",
       "      <td>NaN</td>\n",
       "      <td>NaN</td>\n",
       "      <td>NaN</td>\n",
       "      <td>2016-10-12 14:37:06</td>\n",
       "    </tr>\n",
       "    <tr>\n",
       "      <th>3</th>\n",
       "      <td>4</td>\n",
       "      <td>TX</td>\n",
       "      <td>21DC9E3D-D0AA-4B85-88BB-428F5BCF7F13</td>\n",
       "      <td>Lubbock</td>\n",
       "      <td>Texas</td>\n",
       "      <td>79416.0</td>\n",
       "      <td>Other</td>\n",
       "      <td>61.0</td>\n",
       "      <td>Female</td>\n",
       "      <td>Married / remarried</td>\n",
       "      <td>No</td>\n",
       "      <td>No</td>\n",
       "      <td>4.0</td>\n",
       "      <td>15600.0</td>\n",
       "      <td>48990.0</td>\n",
       "      <td>100.0</td>\n",
       "      <td>NaN</td>\n",
       "      <td>NaN</td>\n",
       "      <td>2017-01-01 19:57:07</td>\n",
       "    </tr>\n",
       "    <tr>\n",
       "      <th>4</th>\n",
       "      <td>5</td>\n",
       "      <td>ID</td>\n",
       "      <td>3782D4F9-9B16-4BC8-ADA3-F85CEE200630</td>\n",
       "      <td>Boise</td>\n",
       "      <td>Idaho</td>\n",
       "      <td>83705.0</td>\n",
       "      <td>Caucasian</td>\n",
       "      <td>65.0</td>\n",
       "      <td>Male</td>\n",
       "      <td>Single</td>\n",
       "      <td>No</td>\n",
       "      <td>No</td>\n",
       "      <td>1.0</td>\n",
       "      <td>15000.0</td>\n",
       "      <td>13590.0</td>\n",
       "      <td>580.0</td>\n",
       "      <td>25.0</td>\n",
       "      <td>NaN</td>\n",
       "      <td>2017-02-23 00:03:27</td>\n",
       "    </tr>\n",
       "  </tbody>\n",
       "</table>\n",
       "</div>"
      ],
      "text/plain": [
       "   Id StateAbbr                             ClientUno      County  \\\n",
       "0   1        MS  B731DA7A-A97A-4A2E-BF11-0A126A05AF70  Washington   \n",
       "1   2        MS  8101DB7C-0CC8-4DE9-9E87-71137269AAD5    Harrison   \n",
       "2   3        GA  DD5F1EFC-8298-457F-BC09-CABBEB57A697      Barrow   \n",
       "3   4        TX  21DC9E3D-D0AA-4B85-88BB-428F5BCF7F13     Lubbock   \n",
       "4   5        ID  3782D4F9-9B16-4BC8-ADA3-F85CEE200630       Boise   \n",
       "\n",
       "     StateName  PostalCode      EthnicIdentity   Age  Gender  \\\n",
       "0  Mississippi     73179.0                 NaN   NaN     NaN   \n",
       "1  Mississippi     39560.0           Caucasian   NaN    Male   \n",
       "2      Georgia     30157.0  Latino or Hispanic  55.0    Male   \n",
       "3        Texas     79416.0               Other  61.0  Female   \n",
       "4        Idaho     83705.0           Caucasian  65.0    Male   \n",
       "\n",
       "         MaritalStatus Veteran Imprisoned  NumberInHousehold  AnnualIncome  \\\n",
       "0                  NaN     NaN         No                3.0       26000.0   \n",
       "1  Divorced or Widowed     NaN         No                2.0          52.0   \n",
       "2               Single     NaN         No                5.0        3000.0   \n",
       "3  Married / remarried      No         No                4.0       15600.0   \n",
       "4               Single      No         No                1.0       15000.0   \n",
       "\n",
       "   AllowedIncome  CheckingBalance  SavingsBalance  InvestmentsBalance  \\\n",
       "0        37190.0            300.0             NaN                 NaN   \n",
       "1        25390.0              1.0             1.0                 NaN   \n",
       "2        60790.0              NaN             NaN                 NaN   \n",
       "3        48990.0            100.0             NaN                 NaN   \n",
       "4        13590.0            580.0            25.0                 NaN   \n",
       "\n",
       "            CreatedUtc  \n",
       "0  2016-08-25 15:15:37  \n",
       "1  2016-08-26 00:55:17  \n",
       "2  2016-10-12 14:37:06  \n",
       "3  2017-01-01 19:57:07  \n",
       "4  2017-02-23 00:03:27  "
      ]
     },
     "metadata": {},
     "output_type": "display_data"
    },
    {
     "name": "stdout",
     "output_type": "stream",
     "text": [
      "Shape:  (331426, 19)\n"
     ]
    }
   ],
   "source": [
    "#Data Dictionary for clients_df:\n",
    "    #1. ID: Numeric Identifier for the Client\n",
    "    #2. StateAbbr: USPS 2-Character State Abbreviation\n",
    "    #3. ClientUno: Unique Identifier for the Client\n",
    "    #4. County: County chosen by the Client\n",
    "    #5. StateName: Full Name of the State\n",
    "    #6. PostalCode: 5-Digit Postal Code\n",
    "    #7. EthnicIdentity: Client's Chosen Racial or Ethnic Identity\n",
    "    #8. Age: Client's Age at the Time of Registration\n",
    "    #9. Gender: Client's Chosen Gender Identity\n",
    "    #10. MaritalStatus: Client's Chosen Marital Status\n",
    "    #11. Veteran: Yes/No that indicates whether the client has served in the military\n",
    "    #12. Imprisoned: Yes/No that indicates whether the client is currently in jail\n",
    "    #13. NumberInHouseHold: Number of people residing in the client's household\n",
    "    #14. AnnualIncome: Estimated Annual Household Income of the Client\n",
    "    #15. AllowedIncome: State's calculated allowed income to determine elegibility based on the client's annual income\n",
    "    #16. CheckingBalance: Client's Estimated Checking Account Balance\n",
    "    #17. SavingsBalance: Client's Estimated Savings Account Balance\n",
    "    #18. InvestmentsBalance: Client's Estimated Investment Account Balance\n",
    "    #19. CreatedUtc: Date and Time the client record was created\n",
    "\n",
    "clients_df = pd.read_csv('./data/clients.csv')\n",
    "display(clients_df.head())\n",
    "print(\"Shape: \", clients_df.shape)"
   ]
  },
  {
   "cell_type": "code",
   "execution_count": 56,
   "id": "d986e246",
   "metadata": {},
   "outputs": [
    {
     "data": {
      "text/html": [
       "<div>\n",
       "<style scoped>\n",
       "    .dataframe tbody tr th:only-of-type {\n",
       "        vertical-align: middle;\n",
       "    }\n",
       "\n",
       "    .dataframe tbody tr th {\n",
       "        vertical-align: top;\n",
       "    }\n",
       "\n",
       "    .dataframe thead th {\n",
       "        text-align: right;\n",
       "    }\n",
       "</style>\n",
       "<table border=\"1\" class=\"dataframe\">\n",
       "  <thead>\n",
       "    <tr style=\"text-align: right;\">\n",
       "      <th></th>\n",
       "      <th>Id</th>\n",
       "      <th>StateAbbr</th>\n",
       "      <th>QuestionUno</th>\n",
       "      <th>PostText</th>\n",
       "      <th>CreatedUtc</th>\n",
       "    </tr>\n",
       "  </thead>\n",
       "  <tbody>\n",
       "    <tr>\n",
       "      <th>0</th>\n",
       "      <td>1</td>\n",
       "      <td>AK</td>\n",
       "      <td>B7C95D50-6C81-4E61-BC16-81077B7D3F7E</td>\n",
       "      <td>Do you still need help with this issue?  It ha...</td>\n",
       "      <td>2018-04-25 18:09:30</td>\n",
       "    </tr>\n",
       "    <tr>\n",
       "      <th>1</th>\n",
       "      <td>2</td>\n",
       "      <td>AK</td>\n",
       "      <td>C579CE49-6B7A-44E7-A203-5D3E52623804</td>\n",
       "      <td>Anyone?</td>\n",
       "      <td>2018-04-17 21:15:28</td>\n",
       "    </tr>\n",
       "    <tr>\n",
       "      <th>2</th>\n",
       "      <td>3</td>\n",
       "      <td>AK</td>\n",
       "      <td>F3A78AD3-D3D4-447F-BEAF-F62F1D1D4CCE</td>\n",
       "      <td>Yes, those are the right forms.  I'm sorry, I ...</td>\n",
       "      <td>2018-04-18 17:51:41</td>\n",
       "    </tr>\n",
       "    <tr>\n",
       "      <th>3</th>\n",
       "      <td>4</td>\n",
       "      <td>AK</td>\n",
       "      <td>5F8506D3-D9F1-48EE-8081-D30259DBF4E8</td>\n",
       "      <td>Hi ###,You do make some good points.  The diff...</td>\n",
       "      <td>2018-04-18 22:15:44</td>\n",
       "    </tr>\n",
       "    <tr>\n",
       "      <th>4</th>\n",
       "      <td>5</td>\n",
       "      <td>AK</td>\n",
       "      <td>B4C814C9-8983-413F-8BC4-F2BE01665555</td>\n",
       "      <td>My father passed away and I have DNA test resu...</td>\n",
       "      <td>2018-04-12 10:52:50</td>\n",
       "    </tr>\n",
       "  </tbody>\n",
       "</table>\n",
       "</div>"
      ],
      "text/plain": [
       "   Id StateAbbr                           QuestionUno  \\\n",
       "0   1        AK  B7C95D50-6C81-4E61-BC16-81077B7D3F7E   \n",
       "1   2        AK  C579CE49-6B7A-44E7-A203-5D3E52623804   \n",
       "2   3        AK  F3A78AD3-D3D4-447F-BEAF-F62F1D1D4CCE   \n",
       "3   4        AK  5F8506D3-D9F1-48EE-8081-D30259DBF4E8   \n",
       "4   5        AK  B4C814C9-8983-413F-8BC4-F2BE01665555   \n",
       "\n",
       "                                            PostText           CreatedUtc  \n",
       "0  Do you still need help with this issue?  It ha...  2018-04-25 18:09:30  \n",
       "1                                            Anyone?  2018-04-17 21:15:28  \n",
       "2  Yes, those are the right forms.  I'm sorry, I ...  2018-04-18 17:51:41  \n",
       "3  Hi ###,You do make some good points.  The diff...  2018-04-18 22:15:44  \n",
       "4  My father passed away and I have DNA test resu...  2018-04-12 10:52:50  "
      ]
     },
     "metadata": {},
     "output_type": "display_data"
    },
    {
     "name": "stdout",
     "output_type": "stream",
     "text": [
      "Shape:  (405556, 5)\n",
      "Do you still need help with this issue?  It has been a little while since you posted.\n",
      "Anyone?\n",
      "Yes, those are the right forms.  I'm sorry, I didn't get a notification of this question until today.  I'm going to check into that with the system.\n",
      "Hi ###,You do make some good points.  The difference is that stocks, bonds, and banks are all regulated by the Federal government, and the Securities and Exchange Commission.  They have to follow very stringent Federal regulations.  If you wanted to make your arguments to a judge, that would be up to you.  But I would advise that it's better to not be in that position at all.  If you can avoid it by changing what you say, why wouldn't you?No one is holding a gun to your head and making you play that game, spend that money, or say those remarks. You can always opt out and find a different forum in which to express yourself. Or you could decide not to invest your money in that game if you think it's a risky investment. \n",
      "My father passed away and I have DNA test results from him and one of my sisters. I would like to inherit his native dividend but he is not on my birth certificate is there a way to get proof that he was my biological father so I can get his native dividend?\n",
      "Unique values in column QuestionUno:  164715\n",
      "Unique values in column Id:  405556\n"
     ]
    }
   ],
   "source": [
    "#Data Dictionary for question_posts_df\n",
    "    #1. ID: Numeric Identifier for the Question Post\n",
    "    #2. StateAbbr: USPS 2-Character State Abbreviation\n",
    "    #3. QuestionPostUno: Unique Identifier for the Question Post\n",
    "    #4. PostText: Redacted Text of the Question Post\n",
    "    #5. CreatedUtc: Date and Time the Question Post was Created\n",
    "\n",
    "question_posts_df = pd.read_csv('data/CLEAN_QUESTIONS.txt', sep='`')\n",
    "# question_posts_df = pd.read_csv('data/questionposts.csv', on_bad_lines='skip')\n",
    "display(question_posts_df.head())\n",
    "print(\"Shape: \", question_posts_df.shape)\n",
    "\n",
    "for i in range(0, 5):\n",
    "    print(question_posts_df['PostText'][i])\n",
    "    \n",
    "#print the unique values in column QuestionUno\n",
    "print(\"Unique values in column QuestionUno: \", question_posts_df['QuestionUno'].nunique())\n",
    "#print the unique values in column Id\n",
    "print(\"Unique values in column Id: \", question_posts_df['Id'].nunique())"
   ]
  },
  {
   "cell_type": "code",
   "execution_count": 57,
   "id": "8d7c7ffa",
   "metadata": {},
   "outputs": [
    {
     "data": {
      "text/html": [
       "<div>\n",
       "<style scoped>\n",
       "    .dataframe tbody tr th:only-of-type {\n",
       "        vertical-align: middle;\n",
       "    }\n",
       "\n",
       "    .dataframe tbody tr th {\n",
       "        vertical-align: top;\n",
       "    }\n",
       "\n",
       "    .dataframe thead th {\n",
       "        text-align: right;\n",
       "    }\n",
       "</style>\n",
       "<table border=\"1\" class=\"dataframe\">\n",
       "  <thead>\n",
       "    <tr style=\"text-align: right;\">\n",
       "      <th></th>\n",
       "      <th>Id</th>\n",
       "      <th>StateAbbr</th>\n",
       "      <th>PostText</th>\n",
       "      <th>CreatedUtc</th>\n",
       "    </tr>\n",
       "    <tr>\n",
       "      <th>QuestionUno</th>\n",
       "      <th></th>\n",
       "      <th></th>\n",
       "      <th></th>\n",
       "      <th></th>\n",
       "    </tr>\n",
       "  </thead>\n",
       "  <tbody>\n",
       "    <tr>\n",
       "      <th>A408B2E6-89D6-453C-8C17-F6779F611F30</th>\n",
       "      <td>150021</td>\n",
       "      <td>LA</td>\n",
       "      <td>I was charged with simple battery on my sister...</td>\n",
       "      <td>2022-01-09 02:15:11</td>\n",
       "    </tr>\n",
       "    <tr>\n",
       "      <th>483CE125-C157-430C-BD7A-073E02C0E292</th>\n",
       "      <td>118171</td>\n",
       "      <td>IL</td>\n",
       "      <td>You can click on this link: Divorce | Illinois...</td>\n",
       "      <td>2022-01-09 02:37:03</td>\n",
       "    </tr>\n",
       "    <tr>\n",
       "      <th>A4DEC480-22EA-4ECE-BC4C-CF4E35718AC3</th>\n",
       "      <td>71151</td>\n",
       "      <td>FL</td>\n",
       "      <td>am i suppose to file bankruptcy or try to pay ...</td>\n",
       "      <td>2022-01-09 02:41:31</td>\n",
       "    </tr>\n",
       "    <tr>\n",
       "      <th>5860DE88-4FFD-45C7-9447-A3B2832C61A7</th>\n",
       "      <td>397059</td>\n",
       "      <td>WI</td>\n",
       "      <td>Hello Ms. ###,Here is a sample letter that you...</td>\n",
       "      <td>2022-01-09 02:44:20</td>\n",
       "    </tr>\n",
       "    <tr>\n",
       "      <th>BA70F017-DBF4-41EF-93FA-D212F28882A4</th>\n",
       "      <td>214502</td>\n",
       "      <td>NC</td>\n",
       "      <td>If you suspect there is a crime being committe...</td>\n",
       "      <td>surveyPopup:\"### id=u0022wcm-survey-popupu###=...</td>\n",
       "    </tr>\n",
       "  </tbody>\n",
       "</table>\n",
       "</div>"
      ],
      "text/plain": [
       "                                          Id StateAbbr  \\\n",
       "QuestionUno                                              \n",
       "A408B2E6-89D6-453C-8C17-F6779F611F30  150021        LA   \n",
       "483CE125-C157-430C-BD7A-073E02C0E292  118171        IL   \n",
       "A4DEC480-22EA-4ECE-BC4C-CF4E35718AC3   71151        FL   \n",
       "5860DE88-4FFD-45C7-9447-A3B2832C61A7  397059        WI   \n",
       "BA70F017-DBF4-41EF-93FA-D212F28882A4  214502        NC   \n",
       "\n",
       "                                                                               PostText  \\\n",
       "QuestionUno                                                                               \n",
       "A408B2E6-89D6-453C-8C17-F6779F611F30  I was charged with simple battery on my sister...   \n",
       "483CE125-C157-430C-BD7A-073E02C0E292  You can click on this link: Divorce | Illinois...   \n",
       "A4DEC480-22EA-4ECE-BC4C-CF4E35718AC3  am i suppose to file bankruptcy or try to pay ...   \n",
       "5860DE88-4FFD-45C7-9447-A3B2832C61A7  Hello Ms. ###,Here is a sample letter that you...   \n",
       "BA70F017-DBF4-41EF-93FA-D212F28882A4  If you suspect there is a crime being committe...   \n",
       "\n",
       "                                                                             CreatedUtc  \n",
       "QuestionUno                                                                              \n",
       "A408B2E6-89D6-453C-8C17-F6779F611F30                                2022-01-09 02:15:11  \n",
       "483CE125-C157-430C-BD7A-073E02C0E292                                2022-01-09 02:37:03  \n",
       "A4DEC480-22EA-4ECE-BC4C-CF4E35718AC3                                2022-01-09 02:41:31  \n",
       "5860DE88-4FFD-45C7-9447-A3B2832C61A7                                2022-01-09 02:44:20  \n",
       "BA70F017-DBF4-41EF-93FA-D212F28882A4  surveyPopup:\"### id=u0022wcm-survey-popupu###=...  "
      ]
     },
     "metadata": {},
     "output_type": "display_data"
    }
   ],
   "source": [
    "#indexthe question_posts_df by QuestionUno, then sort by CreatedUtc\n",
    "alt_question_posts_df = question_posts_df.set_index('QuestionUno').sort_values(by='CreatedUtc')\n",
    "#drop all rows with null CreatedUtc values\n",
    "alt_question_posts_df = alt_question_posts_df.dropna(subset=['CreatedUtc'])\n",
    "alt_question_posts_df.stack()\n",
    "display(alt_question_posts_df.tail())"
   ]
  },
  {
   "cell_type": "code",
   "execution_count": 58,
   "id": "79246596",
   "metadata": {},
   "outputs": [
    {
     "data": {
      "text/html": [
       "<div>\n",
       "<style scoped>\n",
       "    .dataframe tbody tr th:only-of-type {\n",
       "        vertical-align: middle;\n",
       "    }\n",
       "\n",
       "    .dataframe tbody tr th {\n",
       "        vertical-align: top;\n",
       "    }\n",
       "\n",
       "    .dataframe thead th {\n",
       "        text-align: right;\n",
       "    }\n",
       "</style>\n",
       "<table border=\"1\" class=\"dataframe\">\n",
       "  <thead>\n",
       "    <tr style=\"text-align: right;\">\n",
       "      <th></th>\n",
       "      <th>Id</th>\n",
       "      <th>StateAbbr</th>\n",
       "      <th>QuestionUno</th>\n",
       "      <th>CategoryUno</th>\n",
       "      <th>Category</th>\n",
       "      <th>SubcategoryUno</th>\n",
       "      <th>Subcategory</th>\n",
       "      <th>AskedByClientUno</th>\n",
       "      <th>AskedOnUtc</th>\n",
       "      <th>TakenByAttorneyUno</th>\n",
       "      <th>TakenOnUtc</th>\n",
       "      <th>ClosedByAttorneyUno</th>\n",
       "      <th>ClosedOnUtc</th>\n",
       "      <th>LegalDeadline</th>\n",
       "    </tr>\n",
       "  </thead>\n",
       "  <tbody>\n",
       "    <tr>\n",
       "      <th>0</th>\n",
       "      <td>1</td>\n",
       "      <td>NC</td>\n",
       "      <td>BB53B2A4-7C1B-45C3-9693-62047889317D</td>\n",
       "      <td>C932D197-7F43-4BCF-BE0B-FE5F5DBCB9EF</td>\n",
       "      <td>Family and Children</td>\n",
       "      <td>E9F87919-0CD5-4D9D-AAC6-3CBC49132F1D</td>\n",
       "      <td>Family/Divorce/Custody/Visitation/Child Support</td>\n",
       "      <td>9C35423C-914A-42BC-8EBC-A370E76E2178</td>\n",
       "      <td>2019-06-19 22:10:06</td>\n",
       "      <td>NaN</td>\n",
       "      <td>NaN</td>\n",
       "      <td>NaN</td>\n",
       "      <td>2019-08-13 15:09:06</td>\n",
       "      <td>2019-07-08 00:00:00</td>\n",
       "    </tr>\n",
       "    <tr>\n",
       "      <th>1</th>\n",
       "      <td>2</td>\n",
       "      <td>NC</td>\n",
       "      <td>0C49F841-2782-4313-961E-7882B96D0854</td>\n",
       "      <td>C8E1275A-6C42-42E4-9B7D-231BAC438FC9</td>\n",
       "      <td>Individual Rights</td>\n",
       "      <td>73A59926-BA0B-44EC-ABF3-F4C9181EEA83</td>\n",
       "      <td>Civil/Constitutional Rights</td>\n",
       "      <td>DF636AEE-7D08-4F90-9A5C-0A2A726C6B59</td>\n",
       "      <td>2019-06-19 23:34:36</td>\n",
       "      <td>NaN</td>\n",
       "      <td>NaN</td>\n",
       "      <td>NaN</td>\n",
       "      <td>2019-08-13 15:09:14</td>\n",
       "      <td>NaN</td>\n",
       "    </tr>\n",
       "    <tr>\n",
       "      <th>2</th>\n",
       "      <td>3</td>\n",
       "      <td>NC</td>\n",
       "      <td>BFC28E08-B6B1-4185-A91A-89DF90816BE4</td>\n",
       "      <td>C8E1275A-6C42-42E4-9B7D-231BAC438FC9</td>\n",
       "      <td>Individual Rights</td>\n",
       "      <td>73A59926-BA0B-44EC-ABF3-F4C9181EEA83</td>\n",
       "      <td>Civil/Constitutional Rights</td>\n",
       "      <td>DF636AEE-7D08-4F90-9A5C-0A2A726C6B59</td>\n",
       "      <td>2019-06-19 23:57:18</td>\n",
       "      <td>FA34142B-1575-4720-981C-2D28C3560137</td>\n",
       "      <td>2019-06-22 02:37:16</td>\n",
       "      <td>FA34142B-1575-4720-981C-2D28C3560137</td>\n",
       "      <td>2019-06-24 19:02:35</td>\n",
       "      <td>NaN</td>\n",
       "    </tr>\n",
       "    <tr>\n",
       "      <th>3</th>\n",
       "      <td>4</td>\n",
       "      <td>NC</td>\n",
       "      <td>45B24109-243A-489B-B0D2-2F36C2A369FE</td>\n",
       "      <td>C932D197-7F43-4BCF-BE0B-FE5F5DBCB9EF</td>\n",
       "      <td>Family and Children</td>\n",
       "      <td>E9F87919-0CD5-4D9D-AAC6-3CBC49132F1D</td>\n",
       "      <td>Family/Divorce/Custody/Visitation/Child Support</td>\n",
       "      <td>C9C3FA40-0D60-49B9-97F1-63AFEFAFA484</td>\n",
       "      <td>2019-06-20 02:33:14</td>\n",
       "      <td>FA34142B-1575-4720-981C-2D28C3560137</td>\n",
       "      <td>2019-07-27 18:04:08</td>\n",
       "      <td>FA34142B-1575-4720-981C-2D28C3560137</td>\n",
       "      <td>2019-07-31 05:49:18</td>\n",
       "      <td>NaN</td>\n",
       "    </tr>\n",
       "    <tr>\n",
       "      <th>4</th>\n",
       "      <td>5</td>\n",
       "      <td>NC</td>\n",
       "      <td>C4707F71-FE4A-4154-8174-AF00BEE2B361</td>\n",
       "      <td>F6016FBD-9501-4448-BCD3-BBB0E834E33B</td>\n",
       "      <td>Consumer Financial Questions</td>\n",
       "      <td>73FE486E-2B51-456A-A6D9-78A7D05802AA</td>\n",
       "      <td>Bankruptcy, Debts &amp; Purchases</td>\n",
       "      <td>ED7DEA10-CDB7-4A05-891D-889D1EA710BE</td>\n",
       "      <td>2019-06-20 17:04:47</td>\n",
       "      <td>NaN</td>\n",
       "      <td>NaN</td>\n",
       "      <td>NaN</td>\n",
       "      <td>2019-08-13 15:09:20</td>\n",
       "      <td>NaN</td>\n",
       "    </tr>\n",
       "  </tbody>\n",
       "</table>\n",
       "</div>"
      ],
      "text/plain": [
       "   Id StateAbbr                           QuestionUno  \\\n",
       "0   1        NC  BB53B2A4-7C1B-45C3-9693-62047889317D   \n",
       "1   2        NC  0C49F841-2782-4313-961E-7882B96D0854   \n",
       "2   3        NC  BFC28E08-B6B1-4185-A91A-89DF90816BE4   \n",
       "3   4        NC  45B24109-243A-489B-B0D2-2F36C2A369FE   \n",
       "4   5        NC  C4707F71-FE4A-4154-8174-AF00BEE2B361   \n",
       "\n",
       "                            CategoryUno                      Category  \\\n",
       "0  C932D197-7F43-4BCF-BE0B-FE5F5DBCB9EF           Family and Children   \n",
       "1  C8E1275A-6C42-42E4-9B7D-231BAC438FC9             Individual Rights   \n",
       "2  C8E1275A-6C42-42E4-9B7D-231BAC438FC9             Individual Rights   \n",
       "3  C932D197-7F43-4BCF-BE0B-FE5F5DBCB9EF           Family and Children   \n",
       "4  F6016FBD-9501-4448-BCD3-BBB0E834E33B  Consumer Financial Questions   \n",
       "\n",
       "                         SubcategoryUno  \\\n",
       "0  E9F87919-0CD5-4D9D-AAC6-3CBC49132F1D   \n",
       "1  73A59926-BA0B-44EC-ABF3-F4C9181EEA83   \n",
       "2  73A59926-BA0B-44EC-ABF3-F4C9181EEA83   \n",
       "3  E9F87919-0CD5-4D9D-AAC6-3CBC49132F1D   \n",
       "4  73FE486E-2B51-456A-A6D9-78A7D05802AA   \n",
       "\n",
       "                                       Subcategory  \\\n",
       "0  Family/Divorce/Custody/Visitation/Child Support   \n",
       "1                      Civil/Constitutional Rights   \n",
       "2                      Civil/Constitutional Rights   \n",
       "3  Family/Divorce/Custody/Visitation/Child Support   \n",
       "4                    Bankruptcy, Debts & Purchases   \n",
       "\n",
       "                       AskedByClientUno           AskedOnUtc  \\\n",
       "0  9C35423C-914A-42BC-8EBC-A370E76E2178  2019-06-19 22:10:06   \n",
       "1  DF636AEE-7D08-4F90-9A5C-0A2A726C6B59  2019-06-19 23:34:36   \n",
       "2  DF636AEE-7D08-4F90-9A5C-0A2A726C6B59  2019-06-19 23:57:18   \n",
       "3  C9C3FA40-0D60-49B9-97F1-63AFEFAFA484  2019-06-20 02:33:14   \n",
       "4  ED7DEA10-CDB7-4A05-891D-889D1EA710BE  2019-06-20 17:04:47   \n",
       "\n",
       "                     TakenByAttorneyUno           TakenOnUtc  \\\n",
       "0                                   NaN                  NaN   \n",
       "1                                   NaN                  NaN   \n",
       "2  FA34142B-1575-4720-981C-2D28C3560137  2019-06-22 02:37:16   \n",
       "3  FA34142B-1575-4720-981C-2D28C3560137  2019-07-27 18:04:08   \n",
       "4                                   NaN                  NaN   \n",
       "\n",
       "                    ClosedByAttorneyUno          ClosedOnUtc  \\\n",
       "0                                   NaN  2019-08-13 15:09:06   \n",
       "1                                   NaN  2019-08-13 15:09:14   \n",
       "2  FA34142B-1575-4720-981C-2D28C3560137  2019-06-24 19:02:35   \n",
       "3  FA34142B-1575-4720-981C-2D28C3560137  2019-07-31 05:49:18   \n",
       "4                                   NaN  2019-08-13 15:09:20   \n",
       "\n",
       "         LegalDeadline  \n",
       "0  2019-07-08 00:00:00  \n",
       "1                  NaN  \n",
       "2                  NaN  \n",
       "3                  NaN  \n",
       "4                  NaN  "
      ]
     },
     "metadata": {},
     "output_type": "display_data"
    },
    {
     "name": "stdout",
     "output_type": "stream",
     "text": [
      "Shape:  (202879, 14)\n",
      "Unique values in column SubcategoryUno:  824\n",
      "Unique values in column Subcategory:  346\n"
     ]
    }
   ],
   "source": [
    "#Data Dictionary for questions_df\n",
    "    #1. ID: Numeric Identifier for the Question\n",
    "    #2. StateAbbr: USPS 2-Character State Abbreviation\n",
    "    #3. QuestionUno: Unique Identifier for the Question\n",
    "    #4. CategoryUno: Unique Identifier for the LSC Category\n",
    "    #5. Category: LSC Category Name\n",
    "    #6. SubcategoryUno: Unique Identifier for the Subcategory\n",
    "    #7. Subcategory: State's Subcategory\n",
    "    #8. AskedByClientUno: Unique Identifier for the Client who submitted the Question\n",
    "    #9. AskedOnUtc: Date and Time the Question was Submitted\n",
    "    #10. TakenByAttorneyUno: Unique Identifier for the Attorney who took the Question\n",
    "    #11. TakenOnUtc: Date and Time the Question was selected by the Attorney\n",
    "    #12. ClosedByAttorneyUno: Unique Identifier for the Attorney who closed the Question\n",
    "    #13. ClosedOnUtc: Date and Time the Question was closed by the Attorney\n",
    "    #14. LegalDeadline: Court Date or other Legal Deadline related to the Client's Question\n",
    "\n",
    "questions_df = pd.read_csv('./data/questions.csv')\n",
    "display(questions_df.head())\n",
    "print(\"Shape: \", questions_df.shape)\n",
    "#print the unique values in column SubcategoryUno\n",
    "print(\"Unique values in column SubcategoryUno: \", questions_df['SubcategoryUno'].nunique())\n",
    "#print the unique values in column Subcategory\n",
    "print(\"Unique values in column Subcategory: \", questions_df['Subcategory'].nunique())"
   ]
  },
  {
   "cell_type": "code",
   "execution_count": 59,
   "id": "aa9c4284",
   "metadata": {},
   "outputs": [
    {
     "data": {
      "text/html": [
       "<div>\n",
       "<style scoped>\n",
       "    .dataframe tbody tr th:only-of-type {\n",
       "        vertical-align: middle;\n",
       "    }\n",
       "\n",
       "    .dataframe tbody tr th {\n",
       "        vertical-align: top;\n",
       "    }\n",
       "\n",
       "    .dataframe thead th {\n",
       "        text-align: right;\n",
       "    }\n",
       "</style>\n",
       "<table border=\"1\" class=\"dataframe\">\n",
       "  <thead>\n",
       "    <tr style=\"text-align: right;\">\n",
       "      <th></th>\n",
       "      <th>Id</th>\n",
       "      <th>StateAbbr</th>\n",
       "      <th>StateName</th>\n",
       "      <th>AllowedAssets</th>\n",
       "      <th>BaseIncomeLimit</th>\n",
       "      <th>PerHouseholdMemberIncomeLimit</th>\n",
       "      <th>IncomeMultiplier</th>\n",
       "    </tr>\n",
       "  </thead>\n",
       "  <tbody>\n",
       "    <tr>\n",
       "      <th>0</th>\n",
       "      <td>1</td>\n",
       "      <td>AL</td>\n",
       "      <td>Alabama</td>\n",
       "      <td>10000</td>\n",
       "      <td>13590</td>\n",
       "      <td>4720</td>\n",
       "      <td>2.5</td>\n",
       "    </tr>\n",
       "    <tr>\n",
       "      <th>1</th>\n",
       "      <td>2</td>\n",
       "      <td>AR</td>\n",
       "      <td>Arkansas</td>\n",
       "      <td>10000</td>\n",
       "      <td>13590</td>\n",
       "      <td>4720</td>\n",
       "      <td>2.5</td>\n",
       "    </tr>\n",
       "    <tr>\n",
       "      <th>2</th>\n",
       "      <td>3</td>\n",
       "      <td>AZ</td>\n",
       "      <td>Arizona</td>\n",
       "      <td>10000</td>\n",
       "      <td>13590</td>\n",
       "      <td>4720</td>\n",
       "      <td>2.5</td>\n",
       "    </tr>\n",
       "    <tr>\n",
       "      <th>3</th>\n",
       "      <td>4</td>\n",
       "      <td>CA</td>\n",
       "      <td>California</td>\n",
       "      <td>10000</td>\n",
       "      <td>13590</td>\n",
       "      <td>4720</td>\n",
       "      <td>4.0</td>\n",
       "    </tr>\n",
       "    <tr>\n",
       "      <th>4</th>\n",
       "      <td>5</td>\n",
       "      <td>CT</td>\n",
       "      <td>Connecticut</td>\n",
       "      <td>10000</td>\n",
       "      <td>13590</td>\n",
       "      <td>4720</td>\n",
       "      <td>2.5</td>\n",
       "    </tr>\n",
       "  </tbody>\n",
       "</table>\n",
       "</div>"
      ],
      "text/plain": [
       "   Id StateAbbr    StateName  AllowedAssets  BaseIncomeLimit  \\\n",
       "0   1        AL      Alabama          10000            13590   \n",
       "1   2        AR     Arkansas          10000            13590   \n",
       "2   3        AZ      Arizona          10000            13590   \n",
       "3   4        CA   California          10000            13590   \n",
       "4   5        CT  Connecticut          10000            13590   \n",
       "\n",
       "   PerHouseholdMemberIncomeLimit  IncomeMultiplier  \n",
       "0                           4720               2.5  \n",
       "1                           4720               2.5  \n",
       "2                           4720               2.5  \n",
       "3                           4720               4.0  \n",
       "4                           4720               2.5  "
      ]
     },
     "metadata": {},
     "output_type": "display_data"
    },
    {
     "name": "stdout",
     "output_type": "stream",
     "text": [
      "Shape:  (42, 7)\n"
     ]
    }
   ],
   "source": [
    "#Data Dictionary for state_sites_df\n",
    "    #1. ID: Numeric Identifier for the State Site\n",
    "    #2. StateAbbr: USPS 2-Character State Abbreviation\n",
    "    #3. StateName: Full Name of the State\n",
    "    #4. AllowedAssets: State's limit for the total allowed amount for all accounts\n",
    "    #5. BaseIncomeLimit: Base amount used for determining a client's eligibility based on income (guidelines on website on dictionary pdf)\n",
    "    #6. PerHouseholdMemberIncomeLimit: Additional amount allowed per household member used for determining a client's eligibility based on income\n",
    "    #7. IncomeMultiplier: Income multiplier used for determining a client's eligibility based on income\n",
    "\n",
    "\n",
    "state_sites_df = pd.read_csv('./data/statesites.csv')\n",
    "display(state_sites_df.head())\n",
    "print(\"Shape: \", state_sites_df.shape)"
   ]
  },
  {
   "cell_type": "code",
   "execution_count": 60,
   "id": "2df01631",
   "metadata": {},
   "outputs": [
    {
     "data": {
      "text/html": [
       "<div>\n",
       "<style scoped>\n",
       "    .dataframe tbody tr th:only-of-type {\n",
       "        vertical-align: middle;\n",
       "    }\n",
       "\n",
       "    .dataframe tbody tr th {\n",
       "        vertical-align: top;\n",
       "    }\n",
       "\n",
       "    .dataframe thead th {\n",
       "        text-align: right;\n",
       "    }\n",
       "</style>\n",
       "<table border=\"1\" class=\"dataframe\">\n",
       "  <thead>\n",
       "    <tr style=\"text-align: right;\">\n",
       "      <th></th>\n",
       "      <th>Id</th>\n",
       "      <th>StateAbbr</th>\n",
       "      <th>CategoryUno</th>\n",
       "      <th>SubcategoryUno</th>\n",
       "      <th>Subcategory</th>\n",
       "    </tr>\n",
       "  </thead>\n",
       "  <tbody>\n",
       "    <tr>\n",
       "      <th>0</th>\n",
       "      <td>1</td>\n",
       "      <td>AK</td>\n",
       "      <td>2D43B4FD-FAC8-47C3-A891-085F5D74D64B</td>\n",
       "      <td>546C6AD6-4D2B-4B1D-B09F-8016C5B02D66</td>\n",
       "      <td>COVID-19-Housing</td>\n",
       "    </tr>\n",
       "    <tr>\n",
       "      <th>1</th>\n",
       "      <td>2</td>\n",
       "      <td>AK</td>\n",
       "      <td>2D43B4FD-FAC8-47C3-A891-085F5D74D64B</td>\n",
       "      <td>572148E8-96C7-4B74-8280-B749191C5B4C</td>\n",
       "      <td>COVID-19-Insurance</td>\n",
       "    </tr>\n",
       "    <tr>\n",
       "      <th>2</th>\n",
       "      <td>3</td>\n",
       "      <td>AK</td>\n",
       "      <td>2D43B4FD-FAC8-47C3-A891-085F5D74D64B</td>\n",
       "      <td>5AA5088E-3A9D-4D99-B6FE-69122C34194A</td>\n",
       "      <td>COVID-19-Lost Documents</td>\n",
       "    </tr>\n",
       "    <tr>\n",
       "      <th>3</th>\n",
       "      <td>4</td>\n",
       "      <td>AK</td>\n",
       "      <td>D3504F18-AC99-408B-B1D2-230DC130F9EC</td>\n",
       "      <td>E5DF5CEB-649F-47B3-B665-1BEB3EA4AD42</td>\n",
       "      <td>Emancipation and Delinquency</td>\n",
       "    </tr>\n",
       "    <tr>\n",
       "      <th>4</th>\n",
       "      <td>5</td>\n",
       "      <td>AK</td>\n",
       "      <td>BF144F3C-5743-47C5-9EEB-418FF0FAF0D8</td>\n",
       "      <td>16E4350E-BC59-40B7-BF72-0BC225ECA4D1</td>\n",
       "      <td>Immigration</td>\n",
       "    </tr>\n",
       "  </tbody>\n",
       "</table>\n",
       "</div>"
      ],
      "text/plain": [
       "   Id StateAbbr                           CategoryUno  \\\n",
       "0   1        AK  2D43B4FD-FAC8-47C3-A891-085F5D74D64B   \n",
       "1   2        AK  2D43B4FD-FAC8-47C3-A891-085F5D74D64B   \n",
       "2   3        AK  2D43B4FD-FAC8-47C3-A891-085F5D74D64B   \n",
       "3   4        AK  D3504F18-AC99-408B-B1D2-230DC130F9EC   \n",
       "4   5        AK  BF144F3C-5743-47C5-9EEB-418FF0FAF0D8   \n",
       "\n",
       "                         SubcategoryUno                   Subcategory  \n",
       "0  546C6AD6-4D2B-4B1D-B09F-8016C5B02D66              COVID-19-Housing  \n",
       "1  572148E8-96C7-4B74-8280-B749191C5B4C            COVID-19-Insurance  \n",
       "2  5AA5088E-3A9D-4D99-B6FE-69122C34194A       COVID-19-Lost Documents  \n",
       "3  E5DF5CEB-649F-47B3-B665-1BEB3EA4AD42  Emancipation and Delinquency  \n",
       "4  16E4350E-BC59-40B7-BF72-0BC225ECA4D1                   Immigration  "
      ]
     },
     "metadata": {},
     "output_type": "display_data"
    },
    {
     "name": "stdout",
     "output_type": "stream",
     "text": [
      "Shape:  (966, 5)\n"
     ]
    }
   ],
   "source": [
    "#Data Dictionary for subcategories_df\n",
    "    #1. ID: Numeric Identifier for the Subcategory\n",
    "    #2. StateAbbr: USPS 2-Character State Abbreviation\n",
    "    #3. CategoryUno: Unique Identifier for the LSC Category\n",
    "    #4. SubcategoryUno: Unique Identifier for the Subcategory\n",
    "    #5. Subcategory: State's Subcategory\n",
    "\n",
    "subcategories_df = pd.read_csv('./data/subcategories.csv')\n",
    "display(subcategories_df.head())\n",
    "print(\"Shape: \", subcategories_df.shape)"
   ]
  },
  {
   "cell_type": "code",
   "execution_count": 61,
   "id": "b676ac5e",
   "metadata": {},
   "outputs": [
    {
     "name": "stdout",
     "output_type": "stream",
     "text": [
      "Sum of hours:  44898.13999999999\n"
     ]
    },
    {
     "data": {
      "text/html": [
       "<div>\n",
       "<style scoped>\n",
       "    .dataframe tbody tr th:only-of-type {\n",
       "        vertical-align: middle;\n",
       "    }\n",
       "\n",
       "    .dataframe tbody tr th {\n",
       "        vertical-align: top;\n",
       "    }\n",
       "\n",
       "    .dataframe thead th {\n",
       "        text-align: right;\n",
       "    }\n",
       "</style>\n",
       "<table border=\"1\" class=\"dataframe\">\n",
       "  <thead>\n",
       "    <tr style=\"text-align: right;\">\n",
       "      <th></th>\n",
       "      <th>Id</th>\n",
       "      <th>StateAbbr</th>\n",
       "      <th>AttorneyUno</th>\n",
       "      <th>City</th>\n",
       "      <th>County</th>\n",
       "      <th>StateName</th>\n",
       "      <th>PostalCode</th>\n",
       "      <th>CreatedUtc</th>\n",
       "      <th>Hours</th>\n",
       "    </tr>\n",
       "  </thead>\n",
       "  <tbody>\n",
       "    <tr>\n",
       "      <th>64</th>\n",
       "      <td>65</td>\n",
       "      <td>SD</td>\n",
       "      <td>C44F2384-2519-432D-B2B7-06AA4CF65844</td>\n",
       "      <td>Rapid City</td>\n",
       "      <td>Pennington</td>\n",
       "      <td>South Dakota</td>\n",
       "      <td>57701</td>\n",
       "      <td>2016-10-10 01:58:53</td>\n",
       "      <td>1647.0</td>\n",
       "    </tr>\n",
       "    <tr>\n",
       "      <th>5867</th>\n",
       "      <td>5868</td>\n",
       "      <td>TX</td>\n",
       "      <td>8C1924A0-AB7E-41D8-8E65-CDAD9346A85F</td>\n",
       "      <td>Houston</td>\n",
       "      <td>All Natural Disaster Assistance</td>\n",
       "      <td>Texas</td>\n",
       "      <td>77002</td>\n",
       "      <td>2017-09-19 22:17:45</td>\n",
       "      <td>1046.8</td>\n",
       "    </tr>\n",
       "    <tr>\n",
       "      <th>3206</th>\n",
       "      <td>3207</td>\n",
       "      <td>MO</td>\n",
       "      <td>05DD8A38-5C07-4796-8ED5-699E05424614</td>\n",
       "      <td>Clayton</td>\n",
       "      <td>St. Louis</td>\n",
       "      <td>Missouri</td>\n",
       "      <td>63105</td>\n",
       "      <td>2017-03-22 00:55:46</td>\n",
       "      <td>625.9</td>\n",
       "    </tr>\n",
       "    <tr>\n",
       "      <th>3193</th>\n",
       "      <td>3194</td>\n",
       "      <td>TN</td>\n",
       "      <td>BBC9EB72-7333-45A8-8A6E-D28DD85BBB8C</td>\n",
       "      <td>Pasadena</td>\n",
       "      <td>Knox</td>\n",
       "      <td>Tennessee</td>\n",
       "      <td>91106</td>\n",
       "      <td>2011-04-29 03:40:07</td>\n",
       "      <td>622.6</td>\n",
       "    </tr>\n",
       "    <tr>\n",
       "      <th>1715</th>\n",
       "      <td>1716</td>\n",
       "      <td>TX</td>\n",
       "      <td>EBB7B7CE-7372-4DDF-8135-EB7AD00517F5</td>\n",
       "      <td>Dallas</td>\n",
       "      <td>Dallas</td>\n",
       "      <td>Texas</td>\n",
       "      <td>75252</td>\n",
       "      <td>2017-06-12 18:53:51</td>\n",
       "      <td>606.4</td>\n",
       "    </tr>\n",
       "  </tbody>\n",
       "</table>\n",
       "</div>"
      ],
      "text/plain": [
       "        Id StateAbbr                           AttorneyUno         City  \\\n",
       "64      65        SD  C44F2384-2519-432D-B2B7-06AA4CF65844  Rapid City    \n",
       "5867  5868        TX  8C1924A0-AB7E-41D8-8E65-CDAD9346A85F      Houston   \n",
       "3206  3207        MO  05DD8A38-5C07-4796-8ED5-699E05424614      Clayton   \n",
       "3193  3194        TN  BBC9EB72-7333-45A8-8A6E-D28DD85BBB8C     Pasadena   \n",
       "1715  1716        TX  EBB7B7CE-7372-4DDF-8135-EB7AD00517F5       Dallas   \n",
       "\n",
       "                               County     StateName  PostalCode  \\\n",
       "64                         Pennington  South Dakota       57701   \n",
       "5867  All Natural Disaster Assistance         Texas       77002   \n",
       "3206                        St. Louis      Missouri       63105   \n",
       "3193                             Knox     Tennessee       91106   \n",
       "1715                           Dallas         Texas       75252   \n",
       "\n",
       "               CreatedUtc   Hours  \n",
       "64    2016-10-10 01:58:53  1647.0  \n",
       "5867  2017-09-19 22:17:45  1046.8  \n",
       "3206  2017-03-22 00:55:46   625.9  \n",
       "3193  2011-04-29 03:40:07   622.6  \n",
       "1715  2017-06-12 18:53:51   606.4  "
      ]
     },
     "metadata": {},
     "output_type": "display_data"
    }
   ],
   "source": [
    "#merge attorneys_df and attorney_time_entries_df by AttorneyUno, and combine the hours spent on each attorney\n",
    "attorneys_df = attorneys_df.merge(attorney_time_entries_df.groupby('AttorneyUno')['Hours'].sum().reset_index(), on='AttorneyUno', how='left')\n",
    "#sort attorneys_df by the number of hours spent on each attorney\n",
    "attorneys_df = attorneys_df.sort_values(by='Hours', ascending=False)\n",
    "#print the sum of the hours in attorneys_df\n",
    "print(\"Sum of hours: \", attorneys_df['Hours'].sum())\n",
    "#create a new column and bin the hours spent on each attorney into the following: 0-10, 10-100, 100-500, 500-1000, 1000-3000, 3000+\n",
    "#attorneys_df['Hours_Binned'] = pd.cut(attorneys_df['Hours'], bins=[0, 10, 100, 500, 1000, 3000, 100000], labels=[1.0, 2.0, 3.0, 4.0, 5.0, 6.0])\n",
    "display(attorneys_df.head())"
   ]
  },
  {
   "cell_type": "code",
   "execution_count": 62,
   "id": "7e19e546",
   "metadata": {},
   "outputs": [
    {
     "data": {
      "text/html": [
       "<div>\n",
       "<style scoped>\n",
       "    .dataframe tbody tr th:only-of-type {\n",
       "        vertical-align: middle;\n",
       "    }\n",
       "\n",
       "    .dataframe tbody tr th {\n",
       "        vertical-align: top;\n",
       "    }\n",
       "\n",
       "    .dataframe thead th {\n",
       "        text-align: right;\n",
       "    }\n",
       "</style>\n",
       "<table border=\"1\" class=\"dataframe\">\n",
       "  <thead>\n",
       "    <tr style=\"text-align: right;\">\n",
       "      <th></th>\n",
       "      <th>StateAbbr</th>\n",
       "      <th>Useless Attorneys</th>\n",
       "    </tr>\n",
       "  </thead>\n",
       "  <tbody>\n",
       "    <tr>\n",
       "      <th>0</th>\n",
       "      <td>AK</td>\n",
       "      <td>75</td>\n",
       "    </tr>\n",
       "    <tr>\n",
       "      <th>1</th>\n",
       "      <td>AL</td>\n",
       "      <td>95</td>\n",
       "    </tr>\n",
       "    <tr>\n",
       "      <th>2</th>\n",
       "      <td>AR</td>\n",
       "      <td>104</td>\n",
       "    </tr>\n",
       "    <tr>\n",
       "      <th>3</th>\n",
       "      <td>AZ</td>\n",
       "      <td>71</td>\n",
       "    </tr>\n",
       "    <tr>\n",
       "      <th>4</th>\n",
       "      <td>CA</td>\n",
       "      <td>160</td>\n",
       "    </tr>\n",
       "  </tbody>\n",
       "</table>\n",
       "</div>"
      ],
      "text/plain": [
       "  StateAbbr  Useless Attorneys\n",
       "0        AK                 75\n",
       "1        AL                 95\n",
       "2        AR                104\n",
       "3        AZ                 71\n",
       "4        CA                160"
      ]
     },
     "metadata": {},
     "output_type": "display_data"
    },
    {
     "name": "stdout",
     "output_type": "stream",
     "text": [
      "Shape:  (11544, 9)\n",
      "Shape:  7577\n",
      "Min number of useless attorneys:  1\n",
      "Max number of useless attorneys:  803\n"
     ]
    }
   ],
   "source": [
    "# create a new dataframe with the number of attorneys with a null value for hours in each state\n",
    "useless_attorneys_df = attorneys_df[attorneys_df['Hours'].isnull()].groupby(\n",
    "    'StateAbbr')['AttorneyUno'].count().reset_index()\n",
    "# rename the columns\n",
    "useless_attorneys_df.columns = ['StateAbbr', 'Useless Attorneys']\n",
    "display(useless_attorneys_df.head())\n",
    "print(\"Shape: \", attorneys_df.shape)\n",
    "print(\"Shape: \", useless_attorneys_df['Useless Attorneys'].sum())\n",
    "#print min and max number of useless attorneys\n",
    "print(\"Min number of useless attorneys: \", useless_attorneys_df['Useless Attorneys'].min())\n",
    "print(\"Max number of useless attorneys: \", useless_attorneys_df['Useless Attorneys'].max())\n",
    "\n",
    "\n",
    "useless_attorneys_df['Useless_Attorneys_Binned'] = pd.cut(useless_attorneys_df['Useless Attorneys'], bins=[0, 25, 75, 150, 300, 500, 100000], labels=[\n",
    "                                          \"0-25\", \"25-75\", \"75-150\", \"150-300\", \"300-500\", \"500+\"])\n",
    "\n",
    "labels = [\"0-25\", \"25-75\", \"75-150\", \"150-300\", \"300-500\", \"500+\"]\n",
    "\n",
    "# sort the entire dataframe by the order in which the bins are listed in the labels list and ignore the index\n",
    "useless_attorneys_df = useless_attorneys_df.sort_values(\n",
    "    by='Useless_Attorneys_Binned', key=lambda x: pd.CategoricalIndex(x, categories=labels)).reset_index(drop=True)\n",
    "\n",
    "# create a color map for the map\n",
    "color_map_useless_attorneys = {\"0-25\": 'rgb(179, 136, 245)',\n",
    "             \"25-75\": 'rgb(118, 61, 241)',\n",
    "             \"75-150\": 'rgb(89, 13, 228)',\n",
    "             \"150-300\": 'rgb(78, 10, 223)',\n",
    "             \"300-500\": 'rgb(50, 4, 172)',\n",
    "             \"500+\": 'rgb(43, 3, 150)'}\n"
   ]
  },
  {
   "cell_type": "code",
   "execution_count": 63,
   "id": "40f5767b",
   "metadata": {},
   "outputs": [
    {
     "data": {
      "text/html": [
       "<div>\n",
       "<style scoped>\n",
       "    .dataframe tbody tr th:only-of-type {\n",
       "        vertical-align: middle;\n",
       "    }\n",
       "\n",
       "    .dataframe tbody tr th {\n",
       "        vertical-align: top;\n",
       "    }\n",
       "\n",
       "    .dataframe thead th {\n",
       "        text-align: right;\n",
       "    }\n",
       "</style>\n",
       "<table border=\"1\" class=\"dataframe\">\n",
       "  <thead>\n",
       "    <tr style=\"text-align: right;\">\n",
       "      <th></th>\n",
       "      <th>Id</th>\n",
       "      <th>StateAbbr</th>\n",
       "      <th>AttorneyUno</th>\n",
       "      <th>City</th>\n",
       "      <th>County</th>\n",
       "      <th>StateName</th>\n",
       "      <th>PostalCode</th>\n",
       "      <th>CreatedUtc</th>\n",
       "      <th>Hours</th>\n",
       "    </tr>\n",
       "  </thead>\n",
       "  <tbody>\n",
       "    <tr>\n",
       "      <th>64</th>\n",
       "      <td>65</td>\n",
       "      <td>SD</td>\n",
       "      <td>C44F2384-2519-432D-B2B7-06AA4CF65844</td>\n",
       "      <td>Rapid City</td>\n",
       "      <td>Pennington</td>\n",
       "      <td>South Dakota</td>\n",
       "      <td>57701</td>\n",
       "      <td>2016-10-10 01:58:53</td>\n",
       "      <td>1647.0</td>\n",
       "    </tr>\n",
       "    <tr>\n",
       "      <th>5867</th>\n",
       "      <td>5868</td>\n",
       "      <td>TX</td>\n",
       "      <td>8C1924A0-AB7E-41D8-8E65-CDAD9346A85F</td>\n",
       "      <td>Houston</td>\n",
       "      <td>All Natural Disaster Assistance</td>\n",
       "      <td>Texas</td>\n",
       "      <td>77002</td>\n",
       "      <td>2017-09-19 22:17:45</td>\n",
       "      <td>1046.8</td>\n",
       "    </tr>\n",
       "    <tr>\n",
       "      <th>3206</th>\n",
       "      <td>3207</td>\n",
       "      <td>MO</td>\n",
       "      <td>05DD8A38-5C07-4796-8ED5-699E05424614</td>\n",
       "      <td>Clayton</td>\n",
       "      <td>St. Louis</td>\n",
       "      <td>Missouri</td>\n",
       "      <td>63105</td>\n",
       "      <td>2017-03-22 00:55:46</td>\n",
       "      <td>625.9</td>\n",
       "    </tr>\n",
       "    <tr>\n",
       "      <th>3193</th>\n",
       "      <td>3194</td>\n",
       "      <td>TN</td>\n",
       "      <td>BBC9EB72-7333-45A8-8A6E-D28DD85BBB8C</td>\n",
       "      <td>Pasadena</td>\n",
       "      <td>Knox</td>\n",
       "      <td>Tennessee</td>\n",
       "      <td>91106</td>\n",
       "      <td>2011-04-29 03:40:07</td>\n",
       "      <td>622.6</td>\n",
       "    </tr>\n",
       "    <tr>\n",
       "      <th>1715</th>\n",
       "      <td>1716</td>\n",
       "      <td>TX</td>\n",
       "      <td>EBB7B7CE-7372-4DDF-8135-EB7AD00517F5</td>\n",
       "      <td>Dallas</td>\n",
       "      <td>Dallas</td>\n",
       "      <td>Texas</td>\n",
       "      <td>75252</td>\n",
       "      <td>2017-06-12 18:53:51</td>\n",
       "      <td>606.4</td>\n",
       "    </tr>\n",
       "  </tbody>\n",
       "</table>\n",
       "</div>"
      ],
      "text/plain": [
       "        Id StateAbbr                           AttorneyUno         City  \\\n",
       "64      65        SD  C44F2384-2519-432D-B2B7-06AA4CF65844  Rapid City    \n",
       "5867  5868        TX  8C1924A0-AB7E-41D8-8E65-CDAD9346A85F      Houston   \n",
       "3206  3207        MO  05DD8A38-5C07-4796-8ED5-699E05424614      Clayton   \n",
       "3193  3194        TN  BBC9EB72-7333-45A8-8A6E-D28DD85BBB8C     Pasadena   \n",
       "1715  1716        TX  EBB7B7CE-7372-4DDF-8135-EB7AD00517F5       Dallas   \n",
       "\n",
       "                               County     StateName  PostalCode  \\\n",
       "64                         Pennington  South Dakota       57701   \n",
       "5867  All Natural Disaster Assistance         Texas       77002   \n",
       "3206                        St. Louis      Missouri       63105   \n",
       "3193                             Knox     Tennessee       91106   \n",
       "1715                           Dallas         Texas       75252   \n",
       "\n",
       "               CreatedUtc   Hours  \n",
       "64    2016-10-10 01:58:53  1647.0  \n",
       "5867  2017-09-19 22:17:45  1046.8  \n",
       "3206  2017-03-22 00:55:46   625.9  \n",
       "3193  2011-04-29 03:40:07   622.6  \n",
       "1715  2017-06-12 18:53:51   606.4  "
      ]
     },
     "metadata": {},
     "output_type": "display_data"
    },
    {
     "name": "stdout",
     "output_type": "stream",
     "text": [
      "Unique values in column AttorneyUno:  11544\n"
     ]
    }
   ],
   "source": [
    "#sort all attorneys by the number of hours spent on each attorney\n",
    "attorneys_df = attorneys_df.sort_values(by='Hours', ascending=False)\n",
    "display(attorneys_df.head())\n",
    "print(\"Unique values in column AttorneyUno: \", attorneys_df['AttorneyUno'].nunique())"
   ]
  },
  {
   "cell_type": "code",
   "execution_count": 64,
   "id": "98430e86",
   "metadata": {},
   "outputs": [
    {
     "name": "stderr",
     "output_type": "stream",
     "text": [
      "/tmp/ipykernel_3223395/2836183946.py:2: FutureWarning:\n",
      "\n",
      "The default value of numeric_only in DataFrameGroupBy.sum is deprecated. In a future version, numeric_only will default to False. Either specify numeric_only or select only columns which should be valid for the function.\n",
      "\n"
     ]
    },
    {
     "data": {
      "application/vnd.plotly.v1+json": {
       "config": {
        "plotlyServerURL": "https://plot.ly"
       },
       "data": [
        {
         "colorscale": [
          [
           0,
           "rgb(179, 136, 245)"
          ],
          [
           1,
           "rgb(179, 136, 245)"
          ]
         ],
         "geo": "geo",
         "hovertemplate": "Hours_Binned=0-50<br>StateAbbr=%{location}<extra></extra>",
         "locationmode": "USA-states",
         "locations": [
          "KS"
         ],
         "name": "0-50",
         "showlegend": true,
         "showscale": false,
         "type": "choropleth",
         "z": [
          1
         ]
        },
        {
         "colorscale": [
          [
           0,
           "rgb(118, 61, 241)"
          ],
          [
           1,
           "rgb(118, 61, 241)"
          ]
         ],
         "geo": "geo",
         "hovertemplate": "Hours_Binned=50-150<br>StateAbbr=%{location}<extra></extra>",
         "locationmode": "USA-states",
         "locations": [
          "UT",
          "US",
          "PA",
          "MI"
         ],
         "name": "50-150",
         "showlegend": true,
         "showscale": false,
         "type": "choropleth",
         "z": [
          1,
          1,
          1,
          1
         ]
        },
        {
         "colorscale": [
          [
           0,
           "rgb(89, 13, 228)"
          ],
          [
           1,
           "rgb(89, 13, 228)"
          ]
         ],
         "geo": "geo",
         "hovertemplate": "Hours_Binned=150-500<br>StateAbbr=%{location}<extra></extra>",
         "locationmode": "USA-states",
         "locations": [
          "AK",
          "VT",
          "NM",
          "NJ",
          "NH",
          "MS",
          "CT",
          "AL",
          "AZ",
          "GA",
          "WY",
          "IA"
         ],
         "name": "150-500",
         "showlegend": true,
         "showscale": false,
         "type": "choropleth",
         "z": [
          1,
          1,
          1,
          1,
          1,
          1,
          1,
          1,
          1,
          1,
          1,
          1
         ]
        },
        {
         "colorscale": [
          [
           0,
           "rgb(78, 10, 223)"
          ],
          [
           1,
           "rgb(78, 10, 223)"
          ]
         ],
         "geo": "geo",
         "hovertemplate": "Hours_Binned=500-1000<br>StateAbbr=%{location}<extra></extra>",
         "locationmode": "USA-states",
         "locations": [
          "ME",
          "HI",
          "WV",
          "NE",
          "AR",
          "OK",
          "MD"
         ],
         "name": "500-1000",
         "showlegend": true,
         "showscale": false,
         "type": "choropleth",
         "z": [
          1,
          1,
          1,
          1,
          1,
          1,
          1
         ]
        },
        {
         "colorscale": [
          [
           0,
           "rgb(50, 4, 172)"
          ],
          [
           1,
           "rgb(50, 4, 172)"
          ]
         ],
         "geo": "geo",
         "hovertemplate": "Hours_Binned=1000-3000<br>StateAbbr=%{location}<extra></extra>",
         "locationmode": "USA-states",
         "locations": [
          "WI",
          "VA",
          "LA",
          "TN",
          "SD",
          "CA",
          "NY",
          "MA",
          "NC",
          "MO",
          "SC",
          "IN"
         ],
         "name": "1000-3000",
         "showlegend": true,
         "showscale": false,
         "type": "choropleth",
         "z": [
          1,
          1,
          1,
          1,
          1,
          1,
          1,
          1,
          1,
          1,
          1,
          1
         ]
        },
        {
         "colorscale": [
          [
           0,
           "rgb(43, 3, 150)"
          ],
          [
           1,
           "rgb(43, 3, 150)"
          ]
         ],
         "geo": "geo",
         "hovertemplate": "Hours_Binned=3000+<br>StateAbbr=%{location}<extra></extra>",
         "locationmode": "USA-states",
         "locations": [
          "TX",
          "IL",
          "FL"
         ],
         "name": "3000+",
         "showlegend": true,
         "showscale": false,
         "type": "choropleth",
         "z": [
          1,
          1,
          1
         ]
        }
       ],
       "layout": {
        "coloraxis": {
         "colorbar": {
          "title": {
           "text": "Hours Spent"
          }
         }
        },
        "geo": {
         "center": {},
         "domain": {
          "x": [
           0,
           1
          ],
          "y": [
           0,
           1
          ]
         },
         "scope": "usa"
        },
        "legend": {
         "title": {
          "text": "Hours_Binned"
         },
         "tracegroupgap": 0
        },
        "margin": {
         "t": 60
        },
        "template": {
         "data": {
          "bar": [
           {
            "error_x": {
             "color": "#2a3f5f"
            },
            "error_y": {
             "color": "#2a3f5f"
            },
            "marker": {
             "line": {
              "color": "#E5ECF6",
              "width": 0.5
             },
             "pattern": {
              "fillmode": "overlay",
              "size": 10,
              "solidity": 0.2
             }
            },
            "type": "bar"
           }
          ],
          "barpolar": [
           {
            "marker": {
             "line": {
              "color": "#E5ECF6",
              "width": 0.5
             },
             "pattern": {
              "fillmode": "overlay",
              "size": 10,
              "solidity": 0.2
             }
            },
            "type": "barpolar"
           }
          ],
          "carpet": [
           {
            "aaxis": {
             "endlinecolor": "#2a3f5f",
             "gridcolor": "white",
             "linecolor": "white",
             "minorgridcolor": "white",
             "startlinecolor": "#2a3f5f"
            },
            "baxis": {
             "endlinecolor": "#2a3f5f",
             "gridcolor": "white",
             "linecolor": "white",
             "minorgridcolor": "white",
             "startlinecolor": "#2a3f5f"
            },
            "type": "carpet"
           }
          ],
          "choropleth": [
           {
            "colorbar": {
             "outlinewidth": 0,
             "ticks": ""
            },
            "type": "choropleth"
           }
          ],
          "contour": [
           {
            "colorbar": {
             "outlinewidth": 0,
             "ticks": ""
            },
            "colorscale": [
             [
              0,
              "#0d0887"
             ],
             [
              0.1111111111111111,
              "#46039f"
             ],
             [
              0.2222222222222222,
              "#7201a8"
             ],
             [
              0.3333333333333333,
              "#9c179e"
             ],
             [
              0.4444444444444444,
              "#bd3786"
             ],
             [
              0.5555555555555556,
              "#d8576b"
             ],
             [
              0.6666666666666666,
              "#ed7953"
             ],
             [
              0.7777777777777778,
              "#fb9f3a"
             ],
             [
              0.8888888888888888,
              "#fdca26"
             ],
             [
              1,
              "#f0f921"
             ]
            ],
            "type": "contour"
           }
          ],
          "contourcarpet": [
           {
            "colorbar": {
             "outlinewidth": 0,
             "ticks": ""
            },
            "type": "contourcarpet"
           }
          ],
          "heatmap": [
           {
            "colorbar": {
             "outlinewidth": 0,
             "ticks": ""
            },
            "colorscale": [
             [
              0,
              "#0d0887"
             ],
             [
              0.1111111111111111,
              "#46039f"
             ],
             [
              0.2222222222222222,
              "#7201a8"
             ],
             [
              0.3333333333333333,
              "#9c179e"
             ],
             [
              0.4444444444444444,
              "#bd3786"
             ],
             [
              0.5555555555555556,
              "#d8576b"
             ],
             [
              0.6666666666666666,
              "#ed7953"
             ],
             [
              0.7777777777777778,
              "#fb9f3a"
             ],
             [
              0.8888888888888888,
              "#fdca26"
             ],
             [
              1,
              "#f0f921"
             ]
            ],
            "type": "heatmap"
           }
          ],
          "heatmapgl": [
           {
            "colorbar": {
             "outlinewidth": 0,
             "ticks": ""
            },
            "colorscale": [
             [
              0,
              "#0d0887"
             ],
             [
              0.1111111111111111,
              "#46039f"
             ],
             [
              0.2222222222222222,
              "#7201a8"
             ],
             [
              0.3333333333333333,
              "#9c179e"
             ],
             [
              0.4444444444444444,
              "#bd3786"
             ],
             [
              0.5555555555555556,
              "#d8576b"
             ],
             [
              0.6666666666666666,
              "#ed7953"
             ],
             [
              0.7777777777777778,
              "#fb9f3a"
             ],
             [
              0.8888888888888888,
              "#fdca26"
             ],
             [
              1,
              "#f0f921"
             ]
            ],
            "type": "heatmapgl"
           }
          ],
          "histogram": [
           {
            "marker": {
             "pattern": {
              "fillmode": "overlay",
              "size": 10,
              "solidity": 0.2
             }
            },
            "type": "histogram"
           }
          ],
          "histogram2d": [
           {
            "colorbar": {
             "outlinewidth": 0,
             "ticks": ""
            },
            "colorscale": [
             [
              0,
              "#0d0887"
             ],
             [
              0.1111111111111111,
              "#46039f"
             ],
             [
              0.2222222222222222,
              "#7201a8"
             ],
             [
              0.3333333333333333,
              "#9c179e"
             ],
             [
              0.4444444444444444,
              "#bd3786"
             ],
             [
              0.5555555555555556,
              "#d8576b"
             ],
             [
              0.6666666666666666,
              "#ed7953"
             ],
             [
              0.7777777777777778,
              "#fb9f3a"
             ],
             [
              0.8888888888888888,
              "#fdca26"
             ],
             [
              1,
              "#f0f921"
             ]
            ],
            "type": "histogram2d"
           }
          ],
          "histogram2dcontour": [
           {
            "colorbar": {
             "outlinewidth": 0,
             "ticks": ""
            },
            "colorscale": [
             [
              0,
              "#0d0887"
             ],
             [
              0.1111111111111111,
              "#46039f"
             ],
             [
              0.2222222222222222,
              "#7201a8"
             ],
             [
              0.3333333333333333,
              "#9c179e"
             ],
             [
              0.4444444444444444,
              "#bd3786"
             ],
             [
              0.5555555555555556,
              "#d8576b"
             ],
             [
              0.6666666666666666,
              "#ed7953"
             ],
             [
              0.7777777777777778,
              "#fb9f3a"
             ],
             [
              0.8888888888888888,
              "#fdca26"
             ],
             [
              1,
              "#f0f921"
             ]
            ],
            "type": "histogram2dcontour"
           }
          ],
          "mesh3d": [
           {
            "colorbar": {
             "outlinewidth": 0,
             "ticks": ""
            },
            "type": "mesh3d"
           }
          ],
          "parcoords": [
           {
            "line": {
             "colorbar": {
              "outlinewidth": 0,
              "ticks": ""
             }
            },
            "type": "parcoords"
           }
          ],
          "pie": [
           {
            "automargin": true,
            "type": "pie"
           }
          ],
          "scatter": [
           {
            "fillpattern": {
             "fillmode": "overlay",
             "size": 10,
             "solidity": 0.2
            },
            "type": "scatter"
           }
          ],
          "scatter3d": [
           {
            "line": {
             "colorbar": {
              "outlinewidth": 0,
              "ticks": ""
             }
            },
            "marker": {
             "colorbar": {
              "outlinewidth": 0,
              "ticks": ""
             }
            },
            "type": "scatter3d"
           }
          ],
          "scattercarpet": [
           {
            "marker": {
             "colorbar": {
              "outlinewidth": 0,
              "ticks": ""
             }
            },
            "type": "scattercarpet"
           }
          ],
          "scattergeo": [
           {
            "marker": {
             "colorbar": {
              "outlinewidth": 0,
              "ticks": ""
             }
            },
            "type": "scattergeo"
           }
          ],
          "scattergl": [
           {
            "marker": {
             "colorbar": {
              "outlinewidth": 0,
              "ticks": ""
             }
            },
            "type": "scattergl"
           }
          ],
          "scattermapbox": [
           {
            "marker": {
             "colorbar": {
              "outlinewidth": 0,
              "ticks": ""
             }
            },
            "type": "scattermapbox"
           }
          ],
          "scatterpolar": [
           {
            "marker": {
             "colorbar": {
              "outlinewidth": 0,
              "ticks": ""
             }
            },
            "type": "scatterpolar"
           }
          ],
          "scatterpolargl": [
           {
            "marker": {
             "colorbar": {
              "outlinewidth": 0,
              "ticks": ""
             }
            },
            "type": "scatterpolargl"
           }
          ],
          "scatterternary": [
           {
            "marker": {
             "colorbar": {
              "outlinewidth": 0,
              "ticks": ""
             }
            },
            "type": "scatterternary"
           }
          ],
          "surface": [
           {
            "colorbar": {
             "outlinewidth": 0,
             "ticks": ""
            },
            "colorscale": [
             [
              0,
              "#0d0887"
             ],
             [
              0.1111111111111111,
              "#46039f"
             ],
             [
              0.2222222222222222,
              "#7201a8"
             ],
             [
              0.3333333333333333,
              "#9c179e"
             ],
             [
              0.4444444444444444,
              "#bd3786"
             ],
             [
              0.5555555555555556,
              "#d8576b"
             ],
             [
              0.6666666666666666,
              "#ed7953"
             ],
             [
              0.7777777777777778,
              "#fb9f3a"
             ],
             [
              0.8888888888888888,
              "#fdca26"
             ],
             [
              1,
              "#f0f921"
             ]
            ],
            "type": "surface"
           }
          ],
          "table": [
           {
            "cells": {
             "fill": {
              "color": "#EBF0F8"
             },
             "line": {
              "color": "white"
             }
            },
            "header": {
             "fill": {
              "color": "#C8D4E3"
             },
             "line": {
              "color": "white"
             }
            },
            "type": "table"
           }
          ]
         },
         "layout": {
          "annotationdefaults": {
           "arrowcolor": "#2a3f5f",
           "arrowhead": 0,
           "arrowwidth": 1
          },
          "autotypenumbers": "strict",
          "coloraxis": {
           "colorbar": {
            "outlinewidth": 0,
            "ticks": ""
           }
          },
          "colorscale": {
           "diverging": [
            [
             0,
             "#8e0152"
            ],
            [
             0.1,
             "#c51b7d"
            ],
            [
             0.2,
             "#de77ae"
            ],
            [
             0.3,
             "#f1b6da"
            ],
            [
             0.4,
             "#fde0ef"
            ],
            [
             0.5,
             "#f7f7f7"
            ],
            [
             0.6,
             "#e6f5d0"
            ],
            [
             0.7,
             "#b8e186"
            ],
            [
             0.8,
             "#7fbc41"
            ],
            [
             0.9,
             "#4d9221"
            ],
            [
             1,
             "#276419"
            ]
           ],
           "sequential": [
            [
             0,
             "#0d0887"
            ],
            [
             0.1111111111111111,
             "#46039f"
            ],
            [
             0.2222222222222222,
             "#7201a8"
            ],
            [
             0.3333333333333333,
             "#9c179e"
            ],
            [
             0.4444444444444444,
             "#bd3786"
            ],
            [
             0.5555555555555556,
             "#d8576b"
            ],
            [
             0.6666666666666666,
             "#ed7953"
            ],
            [
             0.7777777777777778,
             "#fb9f3a"
            ],
            [
             0.8888888888888888,
             "#fdca26"
            ],
            [
             1,
             "#f0f921"
            ]
           ],
           "sequentialminus": [
            [
             0,
             "#0d0887"
            ],
            [
             0.1111111111111111,
             "#46039f"
            ],
            [
             0.2222222222222222,
             "#7201a8"
            ],
            [
             0.3333333333333333,
             "#9c179e"
            ],
            [
             0.4444444444444444,
             "#bd3786"
            ],
            [
             0.5555555555555556,
             "#d8576b"
            ],
            [
             0.6666666666666666,
             "#ed7953"
            ],
            [
             0.7777777777777778,
             "#fb9f3a"
            ],
            [
             0.8888888888888888,
             "#fdca26"
            ],
            [
             1,
             "#f0f921"
            ]
           ]
          },
          "colorway": [
           "#636efa",
           "#EF553B",
           "#00cc96",
           "#ab63fa",
           "#FFA15A",
           "#19d3f3",
           "#FF6692",
           "#B6E880",
           "#FF97FF",
           "#FECB52"
          ],
          "font": {
           "color": "#2a3f5f"
          },
          "geo": {
           "bgcolor": "white",
           "lakecolor": "white",
           "landcolor": "#E5ECF6",
           "showlakes": true,
           "showland": true,
           "subunitcolor": "white"
          },
          "hoverlabel": {
           "align": "left"
          },
          "hovermode": "closest",
          "mapbox": {
           "style": "light"
          },
          "paper_bgcolor": "white",
          "plot_bgcolor": "#E5ECF6",
          "polar": {
           "angularaxis": {
            "gridcolor": "white",
            "linecolor": "white",
            "ticks": ""
           },
           "bgcolor": "#E5ECF6",
           "radialaxis": {
            "gridcolor": "white",
            "linecolor": "white",
            "ticks": ""
           }
          },
          "scene": {
           "xaxis": {
            "backgroundcolor": "#E5ECF6",
            "gridcolor": "white",
            "gridwidth": 2,
            "linecolor": "white",
            "showbackground": true,
            "ticks": "",
            "zerolinecolor": "white"
           },
           "yaxis": {
            "backgroundcolor": "#E5ECF6",
            "gridcolor": "white",
            "gridwidth": 2,
            "linecolor": "white",
            "showbackground": true,
            "ticks": "",
            "zerolinecolor": "white"
           },
           "zaxis": {
            "backgroundcolor": "#E5ECF6",
            "gridcolor": "white",
            "gridwidth": 2,
            "linecolor": "white",
            "showbackground": true,
            "ticks": "",
            "zerolinecolor": "white"
           }
          },
          "shapedefaults": {
           "line": {
            "color": "#2a3f5f"
           }
          },
          "ternary": {
           "aaxis": {
            "gridcolor": "white",
            "linecolor": "white",
            "ticks": ""
           },
           "baxis": {
            "gridcolor": "white",
            "linecolor": "white",
            "ticks": ""
           },
           "bgcolor": "#E5ECF6",
           "caxis": {
            "gridcolor": "white",
            "linecolor": "white",
            "ticks": ""
           }
          },
          "title": {
           "x": 0.05
          },
          "xaxis": {
           "automargin": true,
           "gridcolor": "white",
           "linecolor": "white",
           "ticks": "",
           "title": {
            "standoff": 15
           },
           "zerolinecolor": "white",
           "zerolinewidth": 2
          },
          "yaxis": {
           "automargin": true,
           "gridcolor": "white",
           "linecolor": "white",
           "ticks": "",
           "title": {
            "standoff": 15
           },
           "zerolinecolor": "white",
           "zerolinewidth": 2
          }
         }
        },
        "title": {
         "text": "Attorney Activity by State"
        }
       }
      },
      "text/html": [
       "<div>                            <div id=\"8fd88540-f65f-40ba-a610-3b1f0285f6d5\" class=\"plotly-graph-div\" style=\"height:525px; width:100%;\"></div>            <script type=\"text/javascript\">                require([\"plotly\"], function(Plotly) {                    window.PLOTLYENV=window.PLOTLYENV || {};                                    if (document.getElementById(\"8fd88540-f65f-40ba-a610-3b1f0285f6d5\")) {                    Plotly.newPlot(                        \"8fd88540-f65f-40ba-a610-3b1f0285f6d5\",                        [{\"colorscale\":[[0.0,\"rgb(179, 136, 245)\"],[1.0,\"rgb(179, 136, 245)\"]],\"geo\":\"geo\",\"hovertemplate\":\"Hours_Binned=0-50<br>StateAbbr=%{location}<extra></extra>\",\"locationmode\":\"USA-states\",\"locations\":[\"KS\"],\"name\":\"0-50\",\"showlegend\":true,\"showscale\":false,\"z\":[1],\"type\":\"choropleth\"},{\"colorscale\":[[0.0,\"rgb(118, 61, 241)\"],[1.0,\"rgb(118, 61, 241)\"]],\"geo\":\"geo\",\"hovertemplate\":\"Hours_Binned=50-150<br>StateAbbr=%{location}<extra></extra>\",\"locationmode\":\"USA-states\",\"locations\":[\"UT\",\"US\",\"PA\",\"MI\"],\"name\":\"50-150\",\"showlegend\":true,\"showscale\":false,\"z\":[1,1,1,1],\"type\":\"choropleth\"},{\"colorscale\":[[0.0,\"rgb(89, 13, 228)\"],[1.0,\"rgb(89, 13, 228)\"]],\"geo\":\"geo\",\"hovertemplate\":\"Hours_Binned=150-500<br>StateAbbr=%{location}<extra></extra>\",\"locationmode\":\"USA-states\",\"locations\":[\"AK\",\"VT\",\"NM\",\"NJ\",\"NH\",\"MS\",\"CT\",\"AL\",\"AZ\",\"GA\",\"WY\",\"IA\"],\"name\":\"150-500\",\"showlegend\":true,\"showscale\":false,\"z\":[1,1,1,1,1,1,1,1,1,1,1,1],\"type\":\"choropleth\"},{\"colorscale\":[[0.0,\"rgb(78, 10, 223)\"],[1.0,\"rgb(78, 10, 223)\"]],\"geo\":\"geo\",\"hovertemplate\":\"Hours_Binned=500-1000<br>StateAbbr=%{location}<extra></extra>\",\"locationmode\":\"USA-states\",\"locations\":[\"ME\",\"HI\",\"WV\",\"NE\",\"AR\",\"OK\",\"MD\"],\"name\":\"500-1000\",\"showlegend\":true,\"showscale\":false,\"z\":[1,1,1,1,1,1,1],\"type\":\"choropleth\"},{\"colorscale\":[[0.0,\"rgb(50, 4, 172)\"],[1.0,\"rgb(50, 4, 172)\"]],\"geo\":\"geo\",\"hovertemplate\":\"Hours_Binned=1000-3000<br>StateAbbr=%{location}<extra></extra>\",\"locationmode\":\"USA-states\",\"locations\":[\"WI\",\"VA\",\"LA\",\"TN\",\"SD\",\"CA\",\"NY\",\"MA\",\"NC\",\"MO\",\"SC\",\"IN\"],\"name\":\"1000-3000\",\"showlegend\":true,\"showscale\":false,\"z\":[1,1,1,1,1,1,1,1,1,1,1,1],\"type\":\"choropleth\"},{\"colorscale\":[[0.0,\"rgb(43, 3, 150)\"],[1.0,\"rgb(43, 3, 150)\"]],\"geo\":\"geo\",\"hovertemplate\":\"Hours_Binned=3000+<br>StateAbbr=%{location}<extra></extra>\",\"locationmode\":\"USA-states\",\"locations\":[\"TX\",\"IL\",\"FL\"],\"name\":\"3000+\",\"showlegend\":true,\"showscale\":false,\"z\":[1,1,1],\"type\":\"choropleth\"}],                        {\"template\":{\"data\":{\"histogram2dcontour\":[{\"type\":\"histogram2dcontour\",\"colorbar\":{\"outlinewidth\":0,\"ticks\":\"\"},\"colorscale\":[[0.0,\"#0d0887\"],[0.1111111111111111,\"#46039f\"],[0.2222222222222222,\"#7201a8\"],[0.3333333333333333,\"#9c179e\"],[0.4444444444444444,\"#bd3786\"],[0.5555555555555556,\"#d8576b\"],[0.6666666666666666,\"#ed7953\"],[0.7777777777777778,\"#fb9f3a\"],[0.8888888888888888,\"#fdca26\"],[1.0,\"#f0f921\"]]}],\"choropleth\":[{\"type\":\"choropleth\",\"colorbar\":{\"outlinewidth\":0,\"ticks\":\"\"}}],\"histogram2d\":[{\"type\":\"histogram2d\",\"colorbar\":{\"outlinewidth\":0,\"ticks\":\"\"},\"colorscale\":[[0.0,\"#0d0887\"],[0.1111111111111111,\"#46039f\"],[0.2222222222222222,\"#7201a8\"],[0.3333333333333333,\"#9c179e\"],[0.4444444444444444,\"#bd3786\"],[0.5555555555555556,\"#d8576b\"],[0.6666666666666666,\"#ed7953\"],[0.7777777777777778,\"#fb9f3a\"],[0.8888888888888888,\"#fdca26\"],[1.0,\"#f0f921\"]]}],\"heatmap\":[{\"type\":\"heatmap\",\"colorbar\":{\"outlinewidth\":0,\"ticks\":\"\"},\"colorscale\":[[0.0,\"#0d0887\"],[0.1111111111111111,\"#46039f\"],[0.2222222222222222,\"#7201a8\"],[0.3333333333333333,\"#9c179e\"],[0.4444444444444444,\"#bd3786\"],[0.5555555555555556,\"#d8576b\"],[0.6666666666666666,\"#ed7953\"],[0.7777777777777778,\"#fb9f3a\"],[0.8888888888888888,\"#fdca26\"],[1.0,\"#f0f921\"]]}],\"heatmapgl\":[{\"type\":\"heatmapgl\",\"colorbar\":{\"outlinewidth\":0,\"ticks\":\"\"},\"colorscale\":[[0.0,\"#0d0887\"],[0.1111111111111111,\"#46039f\"],[0.2222222222222222,\"#7201a8\"],[0.3333333333333333,\"#9c179e\"],[0.4444444444444444,\"#bd3786\"],[0.5555555555555556,\"#d8576b\"],[0.6666666666666666,\"#ed7953\"],[0.7777777777777778,\"#fb9f3a\"],[0.8888888888888888,\"#fdca26\"],[1.0,\"#f0f921\"]]}],\"contourcarpet\":[{\"type\":\"contourcarpet\",\"colorbar\":{\"outlinewidth\":0,\"ticks\":\"\"}}],\"contour\":[{\"type\":\"contour\",\"colorbar\":{\"outlinewidth\":0,\"ticks\":\"\"},\"colorscale\":[[0.0,\"#0d0887\"],[0.1111111111111111,\"#46039f\"],[0.2222222222222222,\"#7201a8\"],[0.3333333333333333,\"#9c179e\"],[0.4444444444444444,\"#bd3786\"],[0.5555555555555556,\"#d8576b\"],[0.6666666666666666,\"#ed7953\"],[0.7777777777777778,\"#fb9f3a\"],[0.8888888888888888,\"#fdca26\"],[1.0,\"#f0f921\"]]}],\"surface\":[{\"type\":\"surface\",\"colorbar\":{\"outlinewidth\":0,\"ticks\":\"\"},\"colorscale\":[[0.0,\"#0d0887\"],[0.1111111111111111,\"#46039f\"],[0.2222222222222222,\"#7201a8\"],[0.3333333333333333,\"#9c179e\"],[0.4444444444444444,\"#bd3786\"],[0.5555555555555556,\"#d8576b\"],[0.6666666666666666,\"#ed7953\"],[0.7777777777777778,\"#fb9f3a\"],[0.8888888888888888,\"#fdca26\"],[1.0,\"#f0f921\"]]}],\"mesh3d\":[{\"type\":\"mesh3d\",\"colorbar\":{\"outlinewidth\":0,\"ticks\":\"\"}}],\"scatter\":[{\"fillpattern\":{\"fillmode\":\"overlay\",\"size\":10,\"solidity\":0.2},\"type\":\"scatter\"}],\"parcoords\":[{\"type\":\"parcoords\",\"line\":{\"colorbar\":{\"outlinewidth\":0,\"ticks\":\"\"}}}],\"scatterpolargl\":[{\"type\":\"scatterpolargl\",\"marker\":{\"colorbar\":{\"outlinewidth\":0,\"ticks\":\"\"}}}],\"bar\":[{\"error_x\":{\"color\":\"#2a3f5f\"},\"error_y\":{\"color\":\"#2a3f5f\"},\"marker\":{\"line\":{\"color\":\"#E5ECF6\",\"width\":0.5},\"pattern\":{\"fillmode\":\"overlay\",\"size\":10,\"solidity\":0.2}},\"type\":\"bar\"}],\"scattergeo\":[{\"type\":\"scattergeo\",\"marker\":{\"colorbar\":{\"outlinewidth\":0,\"ticks\":\"\"}}}],\"scatterpolar\":[{\"type\":\"scatterpolar\",\"marker\":{\"colorbar\":{\"outlinewidth\":0,\"ticks\":\"\"}}}],\"histogram\":[{\"marker\":{\"pattern\":{\"fillmode\":\"overlay\",\"size\":10,\"solidity\":0.2}},\"type\":\"histogram\"}],\"scattergl\":[{\"type\":\"scattergl\",\"marker\":{\"colorbar\":{\"outlinewidth\":0,\"ticks\":\"\"}}}],\"scatter3d\":[{\"type\":\"scatter3d\",\"line\":{\"colorbar\":{\"outlinewidth\":0,\"ticks\":\"\"}},\"marker\":{\"colorbar\":{\"outlinewidth\":0,\"ticks\":\"\"}}}],\"scattermapbox\":[{\"type\":\"scattermapbox\",\"marker\":{\"colorbar\":{\"outlinewidth\":0,\"ticks\":\"\"}}}],\"scatterternary\":[{\"type\":\"scatterternary\",\"marker\":{\"colorbar\":{\"outlinewidth\":0,\"ticks\":\"\"}}}],\"scattercarpet\":[{\"type\":\"scattercarpet\",\"marker\":{\"colorbar\":{\"outlinewidth\":0,\"ticks\":\"\"}}}],\"carpet\":[{\"aaxis\":{\"endlinecolor\":\"#2a3f5f\",\"gridcolor\":\"white\",\"linecolor\":\"white\",\"minorgridcolor\":\"white\",\"startlinecolor\":\"#2a3f5f\"},\"baxis\":{\"endlinecolor\":\"#2a3f5f\",\"gridcolor\":\"white\",\"linecolor\":\"white\",\"minorgridcolor\":\"white\",\"startlinecolor\":\"#2a3f5f\"},\"type\":\"carpet\"}],\"table\":[{\"cells\":{\"fill\":{\"color\":\"#EBF0F8\"},\"line\":{\"color\":\"white\"}},\"header\":{\"fill\":{\"color\":\"#C8D4E3\"},\"line\":{\"color\":\"white\"}},\"type\":\"table\"}],\"barpolar\":[{\"marker\":{\"line\":{\"color\":\"#E5ECF6\",\"width\":0.5},\"pattern\":{\"fillmode\":\"overlay\",\"size\":10,\"solidity\":0.2}},\"type\":\"barpolar\"}],\"pie\":[{\"automargin\":true,\"type\":\"pie\"}]},\"layout\":{\"autotypenumbers\":\"strict\",\"colorway\":[\"#636efa\",\"#EF553B\",\"#00cc96\",\"#ab63fa\",\"#FFA15A\",\"#19d3f3\",\"#FF6692\",\"#B6E880\",\"#FF97FF\",\"#FECB52\"],\"font\":{\"color\":\"#2a3f5f\"},\"hovermode\":\"closest\",\"hoverlabel\":{\"align\":\"left\"},\"paper_bgcolor\":\"white\",\"plot_bgcolor\":\"#E5ECF6\",\"polar\":{\"bgcolor\":\"#E5ECF6\",\"angularaxis\":{\"gridcolor\":\"white\",\"linecolor\":\"white\",\"ticks\":\"\"},\"radialaxis\":{\"gridcolor\":\"white\",\"linecolor\":\"white\",\"ticks\":\"\"}},\"ternary\":{\"bgcolor\":\"#E5ECF6\",\"aaxis\":{\"gridcolor\":\"white\",\"linecolor\":\"white\",\"ticks\":\"\"},\"baxis\":{\"gridcolor\":\"white\",\"linecolor\":\"white\",\"ticks\":\"\"},\"caxis\":{\"gridcolor\":\"white\",\"linecolor\":\"white\",\"ticks\":\"\"}},\"coloraxis\":{\"colorbar\":{\"outlinewidth\":0,\"ticks\":\"\"}},\"colorscale\":{\"sequential\":[[0.0,\"#0d0887\"],[0.1111111111111111,\"#46039f\"],[0.2222222222222222,\"#7201a8\"],[0.3333333333333333,\"#9c179e\"],[0.4444444444444444,\"#bd3786\"],[0.5555555555555556,\"#d8576b\"],[0.6666666666666666,\"#ed7953\"],[0.7777777777777778,\"#fb9f3a\"],[0.8888888888888888,\"#fdca26\"],[1.0,\"#f0f921\"]],\"sequentialminus\":[[0.0,\"#0d0887\"],[0.1111111111111111,\"#46039f\"],[0.2222222222222222,\"#7201a8\"],[0.3333333333333333,\"#9c179e\"],[0.4444444444444444,\"#bd3786\"],[0.5555555555555556,\"#d8576b\"],[0.6666666666666666,\"#ed7953\"],[0.7777777777777778,\"#fb9f3a\"],[0.8888888888888888,\"#fdca26\"],[1.0,\"#f0f921\"]],\"diverging\":[[0,\"#8e0152\"],[0.1,\"#c51b7d\"],[0.2,\"#de77ae\"],[0.3,\"#f1b6da\"],[0.4,\"#fde0ef\"],[0.5,\"#f7f7f7\"],[0.6,\"#e6f5d0\"],[0.7,\"#b8e186\"],[0.8,\"#7fbc41\"],[0.9,\"#4d9221\"],[1,\"#276419\"]]},\"xaxis\":{\"gridcolor\":\"white\",\"linecolor\":\"white\",\"ticks\":\"\",\"title\":{\"standoff\":15},\"zerolinecolor\":\"white\",\"automargin\":true,\"zerolinewidth\":2},\"yaxis\":{\"gridcolor\":\"white\",\"linecolor\":\"white\",\"ticks\":\"\",\"title\":{\"standoff\":15},\"zerolinecolor\":\"white\",\"automargin\":true,\"zerolinewidth\":2},\"scene\":{\"xaxis\":{\"backgroundcolor\":\"#E5ECF6\",\"gridcolor\":\"white\",\"linecolor\":\"white\",\"showbackground\":true,\"ticks\":\"\",\"zerolinecolor\":\"white\",\"gridwidth\":2},\"yaxis\":{\"backgroundcolor\":\"#E5ECF6\",\"gridcolor\":\"white\",\"linecolor\":\"white\",\"showbackground\":true,\"ticks\":\"\",\"zerolinecolor\":\"white\",\"gridwidth\":2},\"zaxis\":{\"backgroundcolor\":\"#E5ECF6\",\"gridcolor\":\"white\",\"linecolor\":\"white\",\"showbackground\":true,\"ticks\":\"\",\"zerolinecolor\":\"white\",\"gridwidth\":2}},\"shapedefaults\":{\"line\":{\"color\":\"#2a3f5f\"}},\"annotationdefaults\":{\"arrowcolor\":\"#2a3f5f\",\"arrowhead\":0,\"arrowwidth\":1},\"geo\":{\"bgcolor\":\"white\",\"landcolor\":\"#E5ECF6\",\"subunitcolor\":\"white\",\"showland\":true,\"showlakes\":true,\"lakecolor\":\"white\"},\"title\":{\"x\":0.05},\"mapbox\":{\"style\":\"light\"}}},\"geo\":{\"domain\":{\"x\":[0.0,1.0],\"y\":[0.0,1.0]},\"center\":{},\"scope\":\"usa\"},\"legend\":{\"title\":{\"text\":\"Hours_Binned\"},\"tracegroupgap\":0},\"margin\":{\"t\":60},\"coloraxis\":{\"colorbar\":{\"title\":{\"text\":\"Hours Spent\"}}},\"title\":{\"text\":\"Attorney Activity by State\"}},                        {\"responsive\": true}                    ).then(function(){\n",
       "                            \n",
       "var gd = document.getElementById('8fd88540-f65f-40ba-a610-3b1f0285f6d5');\n",
       "var x = new MutationObserver(function (mutations, observer) {{\n",
       "        var display = window.getComputedStyle(gd).display;\n",
       "        if (!display || display === 'none') {{\n",
       "            console.log([gd, 'removed!']);\n",
       "            Plotly.purge(gd);\n",
       "            observer.disconnect();\n",
       "        }}\n",
       "}});\n",
       "\n",
       "// Listen for the removal of the full notebook cells\n",
       "var notebookContainer = gd.closest('#notebook-container');\n",
       "if (notebookContainer) {{\n",
       "    x.observe(notebookContainer, {childList: true});\n",
       "}}\n",
       "\n",
       "// Listen for the clearing of the current output cell\n",
       "var outputEl = gd.closest('.output');\n",
       "if (outputEl) {{\n",
       "    x.observe(outputEl, {childList: true});\n",
       "}}\n",
       "\n",
       "                        })                };                });            </script>        </div>"
      ]
     },
     "metadata": {},
     "output_type": "display_data"
    }
   ],
   "source": [
    "map_attorneys_df = attorneys_df.dropna()\n",
    "map_attorneys_df = map_attorneys_df.groupby(['StateAbbr']).sum().reset_index()\n",
    "\n",
    "map_attorneys_df['Hours_Binned'] = pd.cut(map_attorneys_df['Hours'], bins=[0, 50, 150, 500, 1000, 3000, 100000], labels=[\"0-50\", \"50-150\", \"150-500\", \"500-1000\", \"1000-3000\", \"3000+\"])\n",
    "\n",
    "labels=[\"0-50\", \"50-150\", \"150-500\", \"500-1000\", \"1000-3000\", \"3000+\"]\n",
    "map_attorneys_df = map_attorneys_df.sort_values(by='Hours_Binned', key=lambda x: pd.CategoricalIndex(x, categories=labels)).reset_index(drop=True)\n",
    "\n",
    "# create a color map for the map\n",
    "color_map_attorneys = {\"0-50\": 'rgb(179, 136, 245)',\n",
    "            \"50-150\": 'rgb(118, 61, 241)',\n",
    "            \"150-500\": 'rgb(89, 13, 228)',\n",
    "            \"500-1000\": 'rgb(78, 10, 223)',\n",
    "            \"1000-3000\": 'rgb(50, 4, 172)',\n",
    "            \"3000+\": 'rgb(43, 3, 150)'}\n",
    "\n",
    "fig = px.choropleth(map_attorneys_df, locations=\"StateAbbr\", color=\"Hours_Binned\",\n",
    "    locationmode=\"USA-states\", scope=\"usa\", color_discrete_map=color_map_attorneys)\n",
    "\n",
    "# range_color=(map_attorneys_df['Hours_Binned'].min(), map_attorneys_df['Hours_Binned'].max())\n",
    "\n",
    "fig.update_layout(coloraxis_colorbar=dict(\n",
    "    title=\"Hours Spent\"))\n",
    "\n",
    "\n",
    "fig.update_layout(title_text='Attorney Activity by State')\n",
    "fig.show()"
   ]
  },
  {
   "cell_type": "code",
   "execution_count": 65,
   "id": "39a96fc4",
   "metadata": {},
   "outputs": [
    {
     "data": {
      "application/vnd.plotly.v1+json": {
       "config": {
        "plotlyServerURL": "https://plot.ly"
       },
       "data": [
        {
         "colorscale": [
          [
           0,
           "rgb(179, 136, 245)"
          ],
          [
           1,
           "rgb(179, 136, 245)"
          ]
         ],
         "geo": "geo",
         "hovertemplate": "Useless_Attorneys_Binned=0-25<br>StateAbbr=%{location}<extra></extra>",
         "locationmode": "USA-states",
         "locations": [
          "WY",
          "VI",
          "SD",
          "ND",
          "ID",
          "KS"
         ],
         "name": "0-25",
         "showlegend": true,
         "showscale": false,
         "type": "choropleth",
         "z": [
          1,
          1,
          1,
          1,
          1,
          1
         ]
        },
        {
         "colorscale": [
          [
           0,
           "rgb(118, 61, 241)"
          ],
          [
           1,
           "rgb(118, 61, 241)"
          ]
         ],
         "geo": "geo",
         "hovertemplate": "Useless_Attorneys_Binned=25-75<br>StateAbbr=%{location}<extra></extra>",
         "locationmode": "USA-states",
         "locations": [
          "VT",
          "UT",
          "US",
          "NM",
          "NJ",
          "NH",
          "MI",
          "AK",
          "AZ",
          "IA",
          "CT"
         ],
         "name": "25-75",
         "showlegend": true,
         "showscale": false,
         "type": "choropleth",
         "z": [
          1,
          1,
          1,
          1,
          1,
          1,
          1,
          1,
          1,
          1,
          1
         ]
        },
        {
         "colorscale": [
          [
           0,
           "rgb(89, 13, 228)"
          ],
          [
           1,
           "rgb(89, 13, 228)"
          ]
         ],
         "geo": "geo",
         "hovertemplate": "Useless_Attorneys_Binned=75-150<br>StateAbbr=%{location}<extra></extra>",
         "locationmode": "USA-states",
         "locations": [
          "MS",
          "AL",
          "ME",
          "AR",
          "WV",
          "HI",
          "SC",
          "PA",
          "OK"
         ],
         "name": "75-150",
         "showlegend": true,
         "showscale": false,
         "type": "choropleth",
         "z": [
          1,
          1,
          1,
          1,
          1,
          1,
          1,
          1,
          1
         ]
        },
        {
         "colorscale": [
          [
           0,
           "rgb(78, 10, 223)"
          ],
          [
           1,
           "rgb(78, 10, 223)"
          ]
         ],
         "geo": "geo",
         "hovertemplate": "Useless_Attorneys_Binned=150-300<br>StateAbbr=%{location}<extra></extra>",
         "locationmode": "USA-states",
         "locations": [
          "WI",
          "CA",
          "LA",
          "GA",
          "NE",
          "MO",
          "MD",
          "IN"
         ],
         "name": "150-300",
         "showlegend": true,
         "showscale": false,
         "type": "choropleth",
         "z": [
          1,
          1,
          1,
          1,
          1,
          1,
          1,
          1
         ]
        },
        {
         "colorscale": [
          [
           0,
           "rgb(50, 4, 172)"
          ],
          [
           1,
           "rgb(50, 4, 172)"
          ]
         ],
         "geo": "geo",
         "hovertemplate": "Useless_Attorneys_Binned=300-500<br>StateAbbr=%{location}<extra></extra>",
         "locationmode": "USA-states",
         "locations": [
          "NC",
          "VA",
          "MA",
          "NY"
         ],
         "name": "300-500",
         "showlegend": true,
         "showscale": false,
         "type": "choropleth",
         "z": [
          1,
          1,
          1,
          1
         ]
        },
        {
         "colorscale": [
          [
           0,
           "rgb(43, 3, 150)"
          ],
          [
           1,
           "rgb(43, 3, 150)"
          ]
         ],
         "geo": "geo",
         "hovertemplate": "Useless_Attorneys_Binned=500+<br>StateAbbr=%{location}<extra></extra>",
         "locationmode": "USA-states",
         "locations": [
          "FL",
          "TN",
          "TX",
          "IL"
         ],
         "name": "500+",
         "showlegend": true,
         "showscale": false,
         "type": "choropleth",
         "z": [
          1,
          1,
          1,
          1
         ]
        }
       ],
       "layout": {
        "coloraxis": {
         "colorbar": {
          "title": {
           "text": "Number of Useless Attorneys"
          }
         }
        },
        "geo": {
         "center": {},
         "domain": {
          "x": [
           0,
           1
          ],
          "y": [
           0,
           1
          ]
         },
         "scope": "usa"
        },
        "legend": {
         "title": {
          "text": "Useless_Attorneys_Binned"
         },
         "tracegroupgap": 0
        },
        "margin": {
         "t": 60
        },
        "template": {
         "data": {
          "bar": [
           {
            "error_x": {
             "color": "#2a3f5f"
            },
            "error_y": {
             "color": "#2a3f5f"
            },
            "marker": {
             "line": {
              "color": "#E5ECF6",
              "width": 0.5
             },
             "pattern": {
              "fillmode": "overlay",
              "size": 10,
              "solidity": 0.2
             }
            },
            "type": "bar"
           }
          ],
          "barpolar": [
           {
            "marker": {
             "line": {
              "color": "#E5ECF6",
              "width": 0.5
             },
             "pattern": {
              "fillmode": "overlay",
              "size": 10,
              "solidity": 0.2
             }
            },
            "type": "barpolar"
           }
          ],
          "carpet": [
           {
            "aaxis": {
             "endlinecolor": "#2a3f5f",
             "gridcolor": "white",
             "linecolor": "white",
             "minorgridcolor": "white",
             "startlinecolor": "#2a3f5f"
            },
            "baxis": {
             "endlinecolor": "#2a3f5f",
             "gridcolor": "white",
             "linecolor": "white",
             "minorgridcolor": "white",
             "startlinecolor": "#2a3f5f"
            },
            "type": "carpet"
           }
          ],
          "choropleth": [
           {
            "colorbar": {
             "outlinewidth": 0,
             "ticks": ""
            },
            "type": "choropleth"
           }
          ],
          "contour": [
           {
            "colorbar": {
             "outlinewidth": 0,
             "ticks": ""
            },
            "colorscale": [
             [
              0,
              "#0d0887"
             ],
             [
              0.1111111111111111,
              "#46039f"
             ],
             [
              0.2222222222222222,
              "#7201a8"
             ],
             [
              0.3333333333333333,
              "#9c179e"
             ],
             [
              0.4444444444444444,
              "#bd3786"
             ],
             [
              0.5555555555555556,
              "#d8576b"
             ],
             [
              0.6666666666666666,
              "#ed7953"
             ],
             [
              0.7777777777777778,
              "#fb9f3a"
             ],
             [
              0.8888888888888888,
              "#fdca26"
             ],
             [
              1,
              "#f0f921"
             ]
            ],
            "type": "contour"
           }
          ],
          "contourcarpet": [
           {
            "colorbar": {
             "outlinewidth": 0,
             "ticks": ""
            },
            "type": "contourcarpet"
           }
          ],
          "heatmap": [
           {
            "colorbar": {
             "outlinewidth": 0,
             "ticks": ""
            },
            "colorscale": [
             [
              0,
              "#0d0887"
             ],
             [
              0.1111111111111111,
              "#46039f"
             ],
             [
              0.2222222222222222,
              "#7201a8"
             ],
             [
              0.3333333333333333,
              "#9c179e"
             ],
             [
              0.4444444444444444,
              "#bd3786"
             ],
             [
              0.5555555555555556,
              "#d8576b"
             ],
             [
              0.6666666666666666,
              "#ed7953"
             ],
             [
              0.7777777777777778,
              "#fb9f3a"
             ],
             [
              0.8888888888888888,
              "#fdca26"
             ],
             [
              1,
              "#f0f921"
             ]
            ],
            "type": "heatmap"
           }
          ],
          "heatmapgl": [
           {
            "colorbar": {
             "outlinewidth": 0,
             "ticks": ""
            },
            "colorscale": [
             [
              0,
              "#0d0887"
             ],
             [
              0.1111111111111111,
              "#46039f"
             ],
             [
              0.2222222222222222,
              "#7201a8"
             ],
             [
              0.3333333333333333,
              "#9c179e"
             ],
             [
              0.4444444444444444,
              "#bd3786"
             ],
             [
              0.5555555555555556,
              "#d8576b"
             ],
             [
              0.6666666666666666,
              "#ed7953"
             ],
             [
              0.7777777777777778,
              "#fb9f3a"
             ],
             [
              0.8888888888888888,
              "#fdca26"
             ],
             [
              1,
              "#f0f921"
             ]
            ],
            "type": "heatmapgl"
           }
          ],
          "histogram": [
           {
            "marker": {
             "pattern": {
              "fillmode": "overlay",
              "size": 10,
              "solidity": 0.2
             }
            },
            "type": "histogram"
           }
          ],
          "histogram2d": [
           {
            "colorbar": {
             "outlinewidth": 0,
             "ticks": ""
            },
            "colorscale": [
             [
              0,
              "#0d0887"
             ],
             [
              0.1111111111111111,
              "#46039f"
             ],
             [
              0.2222222222222222,
              "#7201a8"
             ],
             [
              0.3333333333333333,
              "#9c179e"
             ],
             [
              0.4444444444444444,
              "#bd3786"
             ],
             [
              0.5555555555555556,
              "#d8576b"
             ],
             [
              0.6666666666666666,
              "#ed7953"
             ],
             [
              0.7777777777777778,
              "#fb9f3a"
             ],
             [
              0.8888888888888888,
              "#fdca26"
             ],
             [
              1,
              "#f0f921"
             ]
            ],
            "type": "histogram2d"
           }
          ],
          "histogram2dcontour": [
           {
            "colorbar": {
             "outlinewidth": 0,
             "ticks": ""
            },
            "colorscale": [
             [
              0,
              "#0d0887"
             ],
             [
              0.1111111111111111,
              "#46039f"
             ],
             [
              0.2222222222222222,
              "#7201a8"
             ],
             [
              0.3333333333333333,
              "#9c179e"
             ],
             [
              0.4444444444444444,
              "#bd3786"
             ],
             [
              0.5555555555555556,
              "#d8576b"
             ],
             [
              0.6666666666666666,
              "#ed7953"
             ],
             [
              0.7777777777777778,
              "#fb9f3a"
             ],
             [
              0.8888888888888888,
              "#fdca26"
             ],
             [
              1,
              "#f0f921"
             ]
            ],
            "type": "histogram2dcontour"
           }
          ],
          "mesh3d": [
           {
            "colorbar": {
             "outlinewidth": 0,
             "ticks": ""
            },
            "type": "mesh3d"
           }
          ],
          "parcoords": [
           {
            "line": {
             "colorbar": {
              "outlinewidth": 0,
              "ticks": ""
             }
            },
            "type": "parcoords"
           }
          ],
          "pie": [
           {
            "automargin": true,
            "type": "pie"
           }
          ],
          "scatter": [
           {
            "fillpattern": {
             "fillmode": "overlay",
             "size": 10,
             "solidity": 0.2
            },
            "type": "scatter"
           }
          ],
          "scatter3d": [
           {
            "line": {
             "colorbar": {
              "outlinewidth": 0,
              "ticks": ""
             }
            },
            "marker": {
             "colorbar": {
              "outlinewidth": 0,
              "ticks": ""
             }
            },
            "type": "scatter3d"
           }
          ],
          "scattercarpet": [
           {
            "marker": {
             "colorbar": {
              "outlinewidth": 0,
              "ticks": ""
             }
            },
            "type": "scattercarpet"
           }
          ],
          "scattergeo": [
           {
            "marker": {
             "colorbar": {
              "outlinewidth": 0,
              "ticks": ""
             }
            },
            "type": "scattergeo"
           }
          ],
          "scattergl": [
           {
            "marker": {
             "colorbar": {
              "outlinewidth": 0,
              "ticks": ""
             }
            },
            "type": "scattergl"
           }
          ],
          "scattermapbox": [
           {
            "marker": {
             "colorbar": {
              "outlinewidth": 0,
              "ticks": ""
             }
            },
            "type": "scattermapbox"
           }
          ],
          "scatterpolar": [
           {
            "marker": {
             "colorbar": {
              "outlinewidth": 0,
              "ticks": ""
             }
            },
            "type": "scatterpolar"
           }
          ],
          "scatterpolargl": [
           {
            "marker": {
             "colorbar": {
              "outlinewidth": 0,
              "ticks": ""
             }
            },
            "type": "scatterpolargl"
           }
          ],
          "scatterternary": [
           {
            "marker": {
             "colorbar": {
              "outlinewidth": 0,
              "ticks": ""
             }
            },
            "type": "scatterternary"
           }
          ],
          "surface": [
           {
            "colorbar": {
             "outlinewidth": 0,
             "ticks": ""
            },
            "colorscale": [
             [
              0,
              "#0d0887"
             ],
             [
              0.1111111111111111,
              "#46039f"
             ],
             [
              0.2222222222222222,
              "#7201a8"
             ],
             [
              0.3333333333333333,
              "#9c179e"
             ],
             [
              0.4444444444444444,
              "#bd3786"
             ],
             [
              0.5555555555555556,
              "#d8576b"
             ],
             [
              0.6666666666666666,
              "#ed7953"
             ],
             [
              0.7777777777777778,
              "#fb9f3a"
             ],
             [
              0.8888888888888888,
              "#fdca26"
             ],
             [
              1,
              "#f0f921"
             ]
            ],
            "type": "surface"
           }
          ],
          "table": [
           {
            "cells": {
             "fill": {
              "color": "#EBF0F8"
             },
             "line": {
              "color": "white"
             }
            },
            "header": {
             "fill": {
              "color": "#C8D4E3"
             },
             "line": {
              "color": "white"
             }
            },
            "type": "table"
           }
          ]
         },
         "layout": {
          "annotationdefaults": {
           "arrowcolor": "#2a3f5f",
           "arrowhead": 0,
           "arrowwidth": 1
          },
          "autotypenumbers": "strict",
          "coloraxis": {
           "colorbar": {
            "outlinewidth": 0,
            "ticks": ""
           }
          },
          "colorscale": {
           "diverging": [
            [
             0,
             "#8e0152"
            ],
            [
             0.1,
             "#c51b7d"
            ],
            [
             0.2,
             "#de77ae"
            ],
            [
             0.3,
             "#f1b6da"
            ],
            [
             0.4,
             "#fde0ef"
            ],
            [
             0.5,
             "#f7f7f7"
            ],
            [
             0.6,
             "#e6f5d0"
            ],
            [
             0.7,
             "#b8e186"
            ],
            [
             0.8,
             "#7fbc41"
            ],
            [
             0.9,
             "#4d9221"
            ],
            [
             1,
             "#276419"
            ]
           ],
           "sequential": [
            [
             0,
             "#0d0887"
            ],
            [
             0.1111111111111111,
             "#46039f"
            ],
            [
             0.2222222222222222,
             "#7201a8"
            ],
            [
             0.3333333333333333,
             "#9c179e"
            ],
            [
             0.4444444444444444,
             "#bd3786"
            ],
            [
             0.5555555555555556,
             "#d8576b"
            ],
            [
             0.6666666666666666,
             "#ed7953"
            ],
            [
             0.7777777777777778,
             "#fb9f3a"
            ],
            [
             0.8888888888888888,
             "#fdca26"
            ],
            [
             1,
             "#f0f921"
            ]
           ],
           "sequentialminus": [
            [
             0,
             "#0d0887"
            ],
            [
             0.1111111111111111,
             "#46039f"
            ],
            [
             0.2222222222222222,
             "#7201a8"
            ],
            [
             0.3333333333333333,
             "#9c179e"
            ],
            [
             0.4444444444444444,
             "#bd3786"
            ],
            [
             0.5555555555555556,
             "#d8576b"
            ],
            [
             0.6666666666666666,
             "#ed7953"
            ],
            [
             0.7777777777777778,
             "#fb9f3a"
            ],
            [
             0.8888888888888888,
             "#fdca26"
            ],
            [
             1,
             "#f0f921"
            ]
           ]
          },
          "colorway": [
           "#636efa",
           "#EF553B",
           "#00cc96",
           "#ab63fa",
           "#FFA15A",
           "#19d3f3",
           "#FF6692",
           "#B6E880",
           "#FF97FF",
           "#FECB52"
          ],
          "font": {
           "color": "#2a3f5f"
          },
          "geo": {
           "bgcolor": "white",
           "lakecolor": "white",
           "landcolor": "#E5ECF6",
           "showlakes": true,
           "showland": true,
           "subunitcolor": "white"
          },
          "hoverlabel": {
           "align": "left"
          },
          "hovermode": "closest",
          "mapbox": {
           "style": "light"
          },
          "paper_bgcolor": "white",
          "plot_bgcolor": "#E5ECF6",
          "polar": {
           "angularaxis": {
            "gridcolor": "white",
            "linecolor": "white",
            "ticks": ""
           },
           "bgcolor": "#E5ECF6",
           "radialaxis": {
            "gridcolor": "white",
            "linecolor": "white",
            "ticks": ""
           }
          },
          "scene": {
           "xaxis": {
            "backgroundcolor": "#E5ECF6",
            "gridcolor": "white",
            "gridwidth": 2,
            "linecolor": "white",
            "showbackground": true,
            "ticks": "",
            "zerolinecolor": "white"
           },
           "yaxis": {
            "backgroundcolor": "#E5ECF6",
            "gridcolor": "white",
            "gridwidth": 2,
            "linecolor": "white",
            "showbackground": true,
            "ticks": "",
            "zerolinecolor": "white"
           },
           "zaxis": {
            "backgroundcolor": "#E5ECF6",
            "gridcolor": "white",
            "gridwidth": 2,
            "linecolor": "white",
            "showbackground": true,
            "ticks": "",
            "zerolinecolor": "white"
           }
          },
          "shapedefaults": {
           "line": {
            "color": "#2a3f5f"
           }
          },
          "ternary": {
           "aaxis": {
            "gridcolor": "white",
            "linecolor": "white",
            "ticks": ""
           },
           "baxis": {
            "gridcolor": "white",
            "linecolor": "white",
            "ticks": ""
           },
           "bgcolor": "#E5ECF6",
           "caxis": {
            "gridcolor": "white",
            "linecolor": "white",
            "ticks": ""
           }
          },
          "title": {
           "x": 0.05
          },
          "xaxis": {
           "automargin": true,
           "gridcolor": "white",
           "linecolor": "white",
           "ticks": "",
           "title": {
            "standoff": 15
           },
           "zerolinecolor": "white",
           "zerolinewidth": 2
          },
          "yaxis": {
           "automargin": true,
           "gridcolor": "white",
           "linecolor": "white",
           "ticks": "",
           "title": {
            "standoff": 15
           },
           "zerolinecolor": "white",
           "zerolinewidth": 2
          }
         }
        },
        "title": {
         "text": "Attorneys with Zero Hours by State"
        }
       }
      },
      "text/html": [
       "<div>                            <div id=\"5eb1bea3-731f-413c-a49f-281c836dea20\" class=\"plotly-graph-div\" style=\"height:525px; width:100%;\"></div>            <script type=\"text/javascript\">                require([\"plotly\"], function(Plotly) {                    window.PLOTLYENV=window.PLOTLYENV || {};                                    if (document.getElementById(\"5eb1bea3-731f-413c-a49f-281c836dea20\")) {                    Plotly.newPlot(                        \"5eb1bea3-731f-413c-a49f-281c836dea20\",                        [{\"colorscale\":[[0.0,\"rgb(179, 136, 245)\"],[1.0,\"rgb(179, 136, 245)\"]],\"geo\":\"geo\",\"hovertemplate\":\"Useless_Attorneys_Binned=0-25<br>StateAbbr=%{location}<extra></extra>\",\"locationmode\":\"USA-states\",\"locations\":[\"WY\",\"VI\",\"SD\",\"ND\",\"ID\",\"KS\"],\"name\":\"0-25\",\"showlegend\":true,\"showscale\":false,\"z\":[1,1,1,1,1,1],\"type\":\"choropleth\"},{\"colorscale\":[[0.0,\"rgb(118, 61, 241)\"],[1.0,\"rgb(118, 61, 241)\"]],\"geo\":\"geo\",\"hovertemplate\":\"Useless_Attorneys_Binned=25-75<br>StateAbbr=%{location}<extra></extra>\",\"locationmode\":\"USA-states\",\"locations\":[\"VT\",\"UT\",\"US\",\"NM\",\"NJ\",\"NH\",\"MI\",\"AK\",\"AZ\",\"IA\",\"CT\"],\"name\":\"25-75\",\"showlegend\":true,\"showscale\":false,\"z\":[1,1,1,1,1,1,1,1,1,1,1],\"type\":\"choropleth\"},{\"colorscale\":[[0.0,\"rgb(89, 13, 228)\"],[1.0,\"rgb(89, 13, 228)\"]],\"geo\":\"geo\",\"hovertemplate\":\"Useless_Attorneys_Binned=75-150<br>StateAbbr=%{location}<extra></extra>\",\"locationmode\":\"USA-states\",\"locations\":[\"MS\",\"AL\",\"ME\",\"AR\",\"WV\",\"HI\",\"SC\",\"PA\",\"OK\"],\"name\":\"75-150\",\"showlegend\":true,\"showscale\":false,\"z\":[1,1,1,1,1,1,1,1,1],\"type\":\"choropleth\"},{\"colorscale\":[[0.0,\"rgb(78, 10, 223)\"],[1.0,\"rgb(78, 10, 223)\"]],\"geo\":\"geo\",\"hovertemplate\":\"Useless_Attorneys_Binned=150-300<br>StateAbbr=%{location}<extra></extra>\",\"locationmode\":\"USA-states\",\"locations\":[\"WI\",\"CA\",\"LA\",\"GA\",\"NE\",\"MO\",\"MD\",\"IN\"],\"name\":\"150-300\",\"showlegend\":true,\"showscale\":false,\"z\":[1,1,1,1,1,1,1,1],\"type\":\"choropleth\"},{\"colorscale\":[[0.0,\"rgb(50, 4, 172)\"],[1.0,\"rgb(50, 4, 172)\"]],\"geo\":\"geo\",\"hovertemplate\":\"Useless_Attorneys_Binned=300-500<br>StateAbbr=%{location}<extra></extra>\",\"locationmode\":\"USA-states\",\"locations\":[\"NC\",\"VA\",\"MA\",\"NY\"],\"name\":\"300-500\",\"showlegend\":true,\"showscale\":false,\"z\":[1,1,1,1],\"type\":\"choropleth\"},{\"colorscale\":[[0.0,\"rgb(43, 3, 150)\"],[1.0,\"rgb(43, 3, 150)\"]],\"geo\":\"geo\",\"hovertemplate\":\"Useless_Attorneys_Binned=500+<br>StateAbbr=%{location}<extra></extra>\",\"locationmode\":\"USA-states\",\"locations\":[\"FL\",\"TN\",\"TX\",\"IL\"],\"name\":\"500+\",\"showlegend\":true,\"showscale\":false,\"z\":[1,1,1,1],\"type\":\"choropleth\"}],                        {\"template\":{\"data\":{\"histogram2dcontour\":[{\"type\":\"histogram2dcontour\",\"colorbar\":{\"outlinewidth\":0,\"ticks\":\"\"},\"colorscale\":[[0.0,\"#0d0887\"],[0.1111111111111111,\"#46039f\"],[0.2222222222222222,\"#7201a8\"],[0.3333333333333333,\"#9c179e\"],[0.4444444444444444,\"#bd3786\"],[0.5555555555555556,\"#d8576b\"],[0.6666666666666666,\"#ed7953\"],[0.7777777777777778,\"#fb9f3a\"],[0.8888888888888888,\"#fdca26\"],[1.0,\"#f0f921\"]]}],\"choropleth\":[{\"type\":\"choropleth\",\"colorbar\":{\"outlinewidth\":0,\"ticks\":\"\"}}],\"histogram2d\":[{\"type\":\"histogram2d\",\"colorbar\":{\"outlinewidth\":0,\"ticks\":\"\"},\"colorscale\":[[0.0,\"#0d0887\"],[0.1111111111111111,\"#46039f\"],[0.2222222222222222,\"#7201a8\"],[0.3333333333333333,\"#9c179e\"],[0.4444444444444444,\"#bd3786\"],[0.5555555555555556,\"#d8576b\"],[0.6666666666666666,\"#ed7953\"],[0.7777777777777778,\"#fb9f3a\"],[0.8888888888888888,\"#fdca26\"],[1.0,\"#f0f921\"]]}],\"heatmap\":[{\"type\":\"heatmap\",\"colorbar\":{\"outlinewidth\":0,\"ticks\":\"\"},\"colorscale\":[[0.0,\"#0d0887\"],[0.1111111111111111,\"#46039f\"],[0.2222222222222222,\"#7201a8\"],[0.3333333333333333,\"#9c179e\"],[0.4444444444444444,\"#bd3786\"],[0.5555555555555556,\"#d8576b\"],[0.6666666666666666,\"#ed7953\"],[0.7777777777777778,\"#fb9f3a\"],[0.8888888888888888,\"#fdca26\"],[1.0,\"#f0f921\"]]}],\"heatmapgl\":[{\"type\":\"heatmapgl\",\"colorbar\":{\"outlinewidth\":0,\"ticks\":\"\"},\"colorscale\":[[0.0,\"#0d0887\"],[0.1111111111111111,\"#46039f\"],[0.2222222222222222,\"#7201a8\"],[0.3333333333333333,\"#9c179e\"],[0.4444444444444444,\"#bd3786\"],[0.5555555555555556,\"#d8576b\"],[0.6666666666666666,\"#ed7953\"],[0.7777777777777778,\"#fb9f3a\"],[0.8888888888888888,\"#fdca26\"],[1.0,\"#f0f921\"]]}],\"contourcarpet\":[{\"type\":\"contourcarpet\",\"colorbar\":{\"outlinewidth\":0,\"ticks\":\"\"}}],\"contour\":[{\"type\":\"contour\",\"colorbar\":{\"outlinewidth\":0,\"ticks\":\"\"},\"colorscale\":[[0.0,\"#0d0887\"],[0.1111111111111111,\"#46039f\"],[0.2222222222222222,\"#7201a8\"],[0.3333333333333333,\"#9c179e\"],[0.4444444444444444,\"#bd3786\"],[0.5555555555555556,\"#d8576b\"],[0.6666666666666666,\"#ed7953\"],[0.7777777777777778,\"#fb9f3a\"],[0.8888888888888888,\"#fdca26\"],[1.0,\"#f0f921\"]]}],\"surface\":[{\"type\":\"surface\",\"colorbar\":{\"outlinewidth\":0,\"ticks\":\"\"},\"colorscale\":[[0.0,\"#0d0887\"],[0.1111111111111111,\"#46039f\"],[0.2222222222222222,\"#7201a8\"],[0.3333333333333333,\"#9c179e\"],[0.4444444444444444,\"#bd3786\"],[0.5555555555555556,\"#d8576b\"],[0.6666666666666666,\"#ed7953\"],[0.7777777777777778,\"#fb9f3a\"],[0.8888888888888888,\"#fdca26\"],[1.0,\"#f0f921\"]]}],\"mesh3d\":[{\"type\":\"mesh3d\",\"colorbar\":{\"outlinewidth\":0,\"ticks\":\"\"}}],\"scatter\":[{\"fillpattern\":{\"fillmode\":\"overlay\",\"size\":10,\"solidity\":0.2},\"type\":\"scatter\"}],\"parcoords\":[{\"type\":\"parcoords\",\"line\":{\"colorbar\":{\"outlinewidth\":0,\"ticks\":\"\"}}}],\"scatterpolargl\":[{\"type\":\"scatterpolargl\",\"marker\":{\"colorbar\":{\"outlinewidth\":0,\"ticks\":\"\"}}}],\"bar\":[{\"error_x\":{\"color\":\"#2a3f5f\"},\"error_y\":{\"color\":\"#2a3f5f\"},\"marker\":{\"line\":{\"color\":\"#E5ECF6\",\"width\":0.5},\"pattern\":{\"fillmode\":\"overlay\",\"size\":10,\"solidity\":0.2}},\"type\":\"bar\"}],\"scattergeo\":[{\"type\":\"scattergeo\",\"marker\":{\"colorbar\":{\"outlinewidth\":0,\"ticks\":\"\"}}}],\"scatterpolar\":[{\"type\":\"scatterpolar\",\"marker\":{\"colorbar\":{\"outlinewidth\":0,\"ticks\":\"\"}}}],\"histogram\":[{\"marker\":{\"pattern\":{\"fillmode\":\"overlay\",\"size\":10,\"solidity\":0.2}},\"type\":\"histogram\"}],\"scattergl\":[{\"type\":\"scattergl\",\"marker\":{\"colorbar\":{\"outlinewidth\":0,\"ticks\":\"\"}}}],\"scatter3d\":[{\"type\":\"scatter3d\",\"line\":{\"colorbar\":{\"outlinewidth\":0,\"ticks\":\"\"}},\"marker\":{\"colorbar\":{\"outlinewidth\":0,\"ticks\":\"\"}}}],\"scattermapbox\":[{\"type\":\"scattermapbox\",\"marker\":{\"colorbar\":{\"outlinewidth\":0,\"ticks\":\"\"}}}],\"scatterternary\":[{\"type\":\"scatterternary\",\"marker\":{\"colorbar\":{\"outlinewidth\":0,\"ticks\":\"\"}}}],\"scattercarpet\":[{\"type\":\"scattercarpet\",\"marker\":{\"colorbar\":{\"outlinewidth\":0,\"ticks\":\"\"}}}],\"carpet\":[{\"aaxis\":{\"endlinecolor\":\"#2a3f5f\",\"gridcolor\":\"white\",\"linecolor\":\"white\",\"minorgridcolor\":\"white\",\"startlinecolor\":\"#2a3f5f\"},\"baxis\":{\"endlinecolor\":\"#2a3f5f\",\"gridcolor\":\"white\",\"linecolor\":\"white\",\"minorgridcolor\":\"white\",\"startlinecolor\":\"#2a3f5f\"},\"type\":\"carpet\"}],\"table\":[{\"cells\":{\"fill\":{\"color\":\"#EBF0F8\"},\"line\":{\"color\":\"white\"}},\"header\":{\"fill\":{\"color\":\"#C8D4E3\"},\"line\":{\"color\":\"white\"}},\"type\":\"table\"}],\"barpolar\":[{\"marker\":{\"line\":{\"color\":\"#E5ECF6\",\"width\":0.5},\"pattern\":{\"fillmode\":\"overlay\",\"size\":10,\"solidity\":0.2}},\"type\":\"barpolar\"}],\"pie\":[{\"automargin\":true,\"type\":\"pie\"}]},\"layout\":{\"autotypenumbers\":\"strict\",\"colorway\":[\"#636efa\",\"#EF553B\",\"#00cc96\",\"#ab63fa\",\"#FFA15A\",\"#19d3f3\",\"#FF6692\",\"#B6E880\",\"#FF97FF\",\"#FECB52\"],\"font\":{\"color\":\"#2a3f5f\"},\"hovermode\":\"closest\",\"hoverlabel\":{\"align\":\"left\"},\"paper_bgcolor\":\"white\",\"plot_bgcolor\":\"#E5ECF6\",\"polar\":{\"bgcolor\":\"#E5ECF6\",\"angularaxis\":{\"gridcolor\":\"white\",\"linecolor\":\"white\",\"ticks\":\"\"},\"radialaxis\":{\"gridcolor\":\"white\",\"linecolor\":\"white\",\"ticks\":\"\"}},\"ternary\":{\"bgcolor\":\"#E5ECF6\",\"aaxis\":{\"gridcolor\":\"white\",\"linecolor\":\"white\",\"ticks\":\"\"},\"baxis\":{\"gridcolor\":\"white\",\"linecolor\":\"white\",\"ticks\":\"\"},\"caxis\":{\"gridcolor\":\"white\",\"linecolor\":\"white\",\"ticks\":\"\"}},\"coloraxis\":{\"colorbar\":{\"outlinewidth\":0,\"ticks\":\"\"}},\"colorscale\":{\"sequential\":[[0.0,\"#0d0887\"],[0.1111111111111111,\"#46039f\"],[0.2222222222222222,\"#7201a8\"],[0.3333333333333333,\"#9c179e\"],[0.4444444444444444,\"#bd3786\"],[0.5555555555555556,\"#d8576b\"],[0.6666666666666666,\"#ed7953\"],[0.7777777777777778,\"#fb9f3a\"],[0.8888888888888888,\"#fdca26\"],[1.0,\"#f0f921\"]],\"sequentialminus\":[[0.0,\"#0d0887\"],[0.1111111111111111,\"#46039f\"],[0.2222222222222222,\"#7201a8\"],[0.3333333333333333,\"#9c179e\"],[0.4444444444444444,\"#bd3786\"],[0.5555555555555556,\"#d8576b\"],[0.6666666666666666,\"#ed7953\"],[0.7777777777777778,\"#fb9f3a\"],[0.8888888888888888,\"#fdca26\"],[1.0,\"#f0f921\"]],\"diverging\":[[0,\"#8e0152\"],[0.1,\"#c51b7d\"],[0.2,\"#de77ae\"],[0.3,\"#f1b6da\"],[0.4,\"#fde0ef\"],[0.5,\"#f7f7f7\"],[0.6,\"#e6f5d0\"],[0.7,\"#b8e186\"],[0.8,\"#7fbc41\"],[0.9,\"#4d9221\"],[1,\"#276419\"]]},\"xaxis\":{\"gridcolor\":\"white\",\"linecolor\":\"white\",\"ticks\":\"\",\"title\":{\"standoff\":15},\"zerolinecolor\":\"white\",\"automargin\":true,\"zerolinewidth\":2},\"yaxis\":{\"gridcolor\":\"white\",\"linecolor\":\"white\",\"ticks\":\"\",\"title\":{\"standoff\":15},\"zerolinecolor\":\"white\",\"automargin\":true,\"zerolinewidth\":2},\"scene\":{\"xaxis\":{\"backgroundcolor\":\"#E5ECF6\",\"gridcolor\":\"white\",\"linecolor\":\"white\",\"showbackground\":true,\"ticks\":\"\",\"zerolinecolor\":\"white\",\"gridwidth\":2},\"yaxis\":{\"backgroundcolor\":\"#E5ECF6\",\"gridcolor\":\"white\",\"linecolor\":\"white\",\"showbackground\":true,\"ticks\":\"\",\"zerolinecolor\":\"white\",\"gridwidth\":2},\"zaxis\":{\"backgroundcolor\":\"#E5ECF6\",\"gridcolor\":\"white\",\"linecolor\":\"white\",\"showbackground\":true,\"ticks\":\"\",\"zerolinecolor\":\"white\",\"gridwidth\":2}},\"shapedefaults\":{\"line\":{\"color\":\"#2a3f5f\"}},\"annotationdefaults\":{\"arrowcolor\":\"#2a3f5f\",\"arrowhead\":0,\"arrowwidth\":1},\"geo\":{\"bgcolor\":\"white\",\"landcolor\":\"#E5ECF6\",\"subunitcolor\":\"white\",\"showland\":true,\"showlakes\":true,\"lakecolor\":\"white\"},\"title\":{\"x\":0.05},\"mapbox\":{\"style\":\"light\"}}},\"geo\":{\"domain\":{\"x\":[0.0,1.0],\"y\":[0.0,1.0]},\"center\":{},\"scope\":\"usa\"},\"legend\":{\"title\":{\"text\":\"Useless_Attorneys_Binned\"},\"tracegroupgap\":0},\"margin\":{\"t\":60},\"coloraxis\":{\"colorbar\":{\"title\":{\"text\":\"Number of Useless Attorneys\"}}},\"title\":{\"text\":\"Attorneys with Zero Hours by State\"}},                        {\"responsive\": true}                    ).then(function(){\n",
       "                            \n",
       "var gd = document.getElementById('5eb1bea3-731f-413c-a49f-281c836dea20');\n",
       "var x = new MutationObserver(function (mutations, observer) {{\n",
       "        var display = window.getComputedStyle(gd).display;\n",
       "        if (!display || display === 'none') {{\n",
       "            console.log([gd, 'removed!']);\n",
       "            Plotly.purge(gd);\n",
       "            observer.disconnect();\n",
       "        }}\n",
       "}});\n",
       "\n",
       "// Listen for the removal of the full notebook cells\n",
       "var notebookContainer = gd.closest('#notebook-container');\n",
       "if (notebookContainer) {{\n",
       "    x.observe(notebookContainer, {childList: true});\n",
       "}}\n",
       "\n",
       "// Listen for the clearing of the current output cell\n",
       "var outputEl = gd.closest('.output');\n",
       "if (outputEl) {{\n",
       "    x.observe(outputEl, {childList: true});\n",
       "}}\n",
       "\n",
       "                        })                };                });            </script>        </div>"
      ]
     },
     "metadata": {},
     "output_type": "display_data"
    }
   ],
   "source": [
    "fig = px.choropleth(useless_attorneys_df, locations=\"StateAbbr\", color=\"Useless_Attorneys_Binned\",\n",
    "                    locationmode=\"USA-states\", scope=\"usa\", color_discrete_map=color_map_useless_attorneys)\n",
    "fig.update_layout(coloraxis_colorbar=dict(title=\"Number of Useless Attorneys\"))\n",
    "\n",
    "fig.update_layout(title_text='Attorneys with Zero Hours by State')\n",
    "fig.show()\n"
   ]
  },
  {
   "cell_type": "code",
   "execution_count": 66,
   "id": "9eba6cd0",
   "metadata": {},
   "outputs": [
    {
     "data": {
      "text/html": [
       "<div>\n",
       "<style scoped>\n",
       "    .dataframe tbody tr th:only-of-type {\n",
       "        vertical-align: middle;\n",
       "    }\n",
       "\n",
       "    .dataframe tbody tr th {\n",
       "        vertical-align: top;\n",
       "    }\n",
       "\n",
       "    .dataframe thead th {\n",
       "        text-align: right;\n",
       "    }\n",
       "</style>\n",
       "<table border=\"1\" class=\"dataframe\">\n",
       "  <thead>\n",
       "    <tr style=\"text-align: right;\">\n",
       "      <th></th>\n",
       "      <th>Id</th>\n",
       "      <th>StateAbbr</th>\n",
       "      <th>QuestionUno</th>\n",
       "      <th>CategoryUno</th>\n",
       "      <th>Category</th>\n",
       "      <th>SubcategoryUno</th>\n",
       "      <th>Subcategory</th>\n",
       "      <th>AskedByClientUno</th>\n",
       "      <th>AskedOnUtc</th>\n",
       "      <th>TakenByAttorneyUno</th>\n",
       "      <th>TakenOnUtc</th>\n",
       "      <th>ClosedByAttorneyUno</th>\n",
       "      <th>ClosedOnUtc</th>\n",
       "      <th>LegalDeadline</th>\n",
       "      <th>PostText</th>\n",
       "      <th>CreatedUtc</th>\n",
       "    </tr>\n",
       "  </thead>\n",
       "  <tbody>\n",
       "    <tr>\n",
       "      <th>0</th>\n",
       "      <td>1</td>\n",
       "      <td>NC</td>\n",
       "      <td>BB53B2A4-7C1B-45C3-9693-62047889317D</td>\n",
       "      <td>C932D197-7F43-4BCF-BE0B-FE5F5DBCB9EF</td>\n",
       "      <td>Family and Children</td>\n",
       "      <td>E9F87919-0CD5-4D9D-AAC6-3CBC49132F1D</td>\n",
       "      <td>Family/Divorce/Custody/Visitation/Child Support</td>\n",
       "      <td>9C35423C-914A-42BC-8EBC-A370E76E2178</td>\n",
       "      <td>2019-06-19 22:10:06</td>\n",
       "      <td>NaN</td>\n",
       "      <td>NaN</td>\n",
       "      <td>NaN</td>\n",
       "      <td>2019-08-13 15:09:06</td>\n",
       "      <td>2019-07-08 00:00:00</td>\n",
       "      <td>I called the clerks office, they keep saying d...</td>\n",
       "      <td>2019-06-19 22:10:36</td>\n",
       "    </tr>\n",
       "    <tr>\n",
       "      <th>1</th>\n",
       "      <td>2</td>\n",
       "      <td>NC</td>\n",
       "      <td>0C49F841-2782-4313-961E-7882B96D0854</td>\n",
       "      <td>C8E1275A-6C42-42E4-9B7D-231BAC438FC9</td>\n",
       "      <td>Individual Rights</td>\n",
       "      <td>73A59926-BA0B-44EC-ABF3-F4C9181EEA83</td>\n",
       "      <td>Civil/Constitutional Rights</td>\n",
       "      <td>DF636AEE-7D08-4F90-9A5C-0A2A726C6B59</td>\n",
       "      <td>2019-06-19 23:34:36</td>\n",
       "      <td>NaN</td>\n",
       "      <td>NaN</td>\n",
       "      <td>NaN</td>\n",
       "      <td>2019-08-13 15:09:14</td>\n",
       "      <td>NaN</td>\n",
       "      <td>I rent a LIHTC apt. with lease rule; Section #...</td>\n",
       "      <td>2019-06-19 23:35:36</td>\n",
       "    </tr>\n",
       "    <tr>\n",
       "      <th>2</th>\n",
       "      <td>3</td>\n",
       "      <td>NC</td>\n",
       "      <td>BFC28E08-B6B1-4185-A91A-89DF90816BE4</td>\n",
       "      <td>C8E1275A-6C42-42E4-9B7D-231BAC438FC9</td>\n",
       "      <td>Individual Rights</td>\n",
       "      <td>73A59926-BA0B-44EC-ABF3-F4C9181EEA83</td>\n",
       "      <td>Civil/Constitutional Rights</td>\n",
       "      <td>DF636AEE-7D08-4F90-9A5C-0A2A726C6B59</td>\n",
       "      <td>2019-06-19 23:57:18</td>\n",
       "      <td>FA34142B-1575-4720-981C-2D28C3560137</td>\n",
       "      <td>2019-06-22 02:37:16</td>\n",
       "      <td>FA34142B-1575-4720-981C-2D28C3560137</td>\n",
       "      <td>2019-06-24 19:02:35</td>\n",
       "      <td>NaN</td>\n",
       "      <td>My apt. leases states no trash or trash can is...</td>\n",
       "      <td>2019-06-19 23:57:36</td>\n",
       "    </tr>\n",
       "    <tr>\n",
       "      <th>3</th>\n",
       "      <td>3</td>\n",
       "      <td>NC</td>\n",
       "      <td>BFC28E08-B6B1-4185-A91A-89DF90816BE4</td>\n",
       "      <td>C8E1275A-6C42-42E4-9B7D-231BAC438FC9</td>\n",
       "      <td>Individual Rights</td>\n",
       "      <td>73A59926-BA0B-44EC-ABF3-F4C9181EEA83</td>\n",
       "      <td>Civil/Constitutional Rights</td>\n",
       "      <td>DF636AEE-7D08-4F90-9A5C-0A2A726C6B59</td>\n",
       "      <td>2019-06-19 23:57:18</td>\n",
       "      <td>FA34142B-1575-4720-981C-2D28C3560137</td>\n",
       "      <td>2019-06-22 02:37:16</td>\n",
       "      <td>FA34142B-1575-4720-981C-2D28C3560137</td>\n",
       "      <td>2019-06-24 19:02:35</td>\n",
       "      <td>NaN</td>\n",
       "      <td>Mr. ###:Thank you for your question; you are n...</td>\n",
       "      <td>2019-06-22 02:49:09</td>\n",
       "    </tr>\n",
       "    <tr>\n",
       "      <th>4</th>\n",
       "      <td>4</td>\n",
       "      <td>NC</td>\n",
       "      <td>45B24109-243A-489B-B0D2-2F36C2A369FE</td>\n",
       "      <td>C932D197-7F43-4BCF-BE0B-FE5F5DBCB9EF</td>\n",
       "      <td>Family and Children</td>\n",
       "      <td>E9F87919-0CD5-4D9D-AAC6-3CBC49132F1D</td>\n",
       "      <td>Family/Divorce/Custody/Visitation/Child Support</td>\n",
       "      <td>C9C3FA40-0D60-49B9-97F1-63AFEFAFA484</td>\n",
       "      <td>2019-06-20 02:33:14</td>\n",
       "      <td>FA34142B-1575-4720-981C-2D28C3560137</td>\n",
       "      <td>2019-07-27 18:04:08</td>\n",
       "      <td>FA34142B-1575-4720-981C-2D28C3560137</td>\n",
       "      <td>2019-07-31 05:49:18</td>\n",
       "      <td>NaN</td>\n",
       "      <td>Due to my husband physically and finance abuse...</td>\n",
       "      <td>2019-06-20 02:33:39</td>\n",
       "    </tr>\n",
       "  </tbody>\n",
       "</table>\n",
       "</div>"
      ],
      "text/plain": [
       "   Id StateAbbr                           QuestionUno  \\\n",
       "0   1        NC  BB53B2A4-7C1B-45C3-9693-62047889317D   \n",
       "1   2        NC  0C49F841-2782-4313-961E-7882B96D0854   \n",
       "2   3        NC  BFC28E08-B6B1-4185-A91A-89DF90816BE4   \n",
       "3   3        NC  BFC28E08-B6B1-4185-A91A-89DF90816BE4   \n",
       "4   4        NC  45B24109-243A-489B-B0D2-2F36C2A369FE   \n",
       "\n",
       "                            CategoryUno             Category  \\\n",
       "0  C932D197-7F43-4BCF-BE0B-FE5F5DBCB9EF  Family and Children   \n",
       "1  C8E1275A-6C42-42E4-9B7D-231BAC438FC9    Individual Rights   \n",
       "2  C8E1275A-6C42-42E4-9B7D-231BAC438FC9    Individual Rights   \n",
       "3  C8E1275A-6C42-42E4-9B7D-231BAC438FC9    Individual Rights   \n",
       "4  C932D197-7F43-4BCF-BE0B-FE5F5DBCB9EF  Family and Children   \n",
       "\n",
       "                         SubcategoryUno  \\\n",
       "0  E9F87919-0CD5-4D9D-AAC6-3CBC49132F1D   \n",
       "1  73A59926-BA0B-44EC-ABF3-F4C9181EEA83   \n",
       "2  73A59926-BA0B-44EC-ABF3-F4C9181EEA83   \n",
       "3  73A59926-BA0B-44EC-ABF3-F4C9181EEA83   \n",
       "4  E9F87919-0CD5-4D9D-AAC6-3CBC49132F1D   \n",
       "\n",
       "                                       Subcategory  \\\n",
       "0  Family/Divorce/Custody/Visitation/Child Support   \n",
       "1                      Civil/Constitutional Rights   \n",
       "2                      Civil/Constitutional Rights   \n",
       "3                      Civil/Constitutional Rights   \n",
       "4  Family/Divorce/Custody/Visitation/Child Support   \n",
       "\n",
       "                       AskedByClientUno           AskedOnUtc  \\\n",
       "0  9C35423C-914A-42BC-8EBC-A370E76E2178  2019-06-19 22:10:06   \n",
       "1  DF636AEE-7D08-4F90-9A5C-0A2A726C6B59  2019-06-19 23:34:36   \n",
       "2  DF636AEE-7D08-4F90-9A5C-0A2A726C6B59  2019-06-19 23:57:18   \n",
       "3  DF636AEE-7D08-4F90-9A5C-0A2A726C6B59  2019-06-19 23:57:18   \n",
       "4  C9C3FA40-0D60-49B9-97F1-63AFEFAFA484  2019-06-20 02:33:14   \n",
       "\n",
       "                     TakenByAttorneyUno           TakenOnUtc  \\\n",
       "0                                   NaN                  NaN   \n",
       "1                                   NaN                  NaN   \n",
       "2  FA34142B-1575-4720-981C-2D28C3560137  2019-06-22 02:37:16   \n",
       "3  FA34142B-1575-4720-981C-2D28C3560137  2019-06-22 02:37:16   \n",
       "4  FA34142B-1575-4720-981C-2D28C3560137  2019-07-27 18:04:08   \n",
       "\n",
       "                    ClosedByAttorneyUno          ClosedOnUtc  \\\n",
       "0                                   NaN  2019-08-13 15:09:06   \n",
       "1                                   NaN  2019-08-13 15:09:14   \n",
       "2  FA34142B-1575-4720-981C-2D28C3560137  2019-06-24 19:02:35   \n",
       "3  FA34142B-1575-4720-981C-2D28C3560137  2019-06-24 19:02:35   \n",
       "4  FA34142B-1575-4720-981C-2D28C3560137  2019-07-31 05:49:18   \n",
       "\n",
       "         LegalDeadline                                           PostText  \\\n",
       "0  2019-07-08 00:00:00  I called the clerks office, they keep saying d...   \n",
       "1                  NaN  I rent a LIHTC apt. with lease rule; Section #...   \n",
       "2                  NaN  My apt. leases states no trash or trash can is...   \n",
       "3                  NaN  Mr. ###:Thank you for your question; you are n...   \n",
       "4                  NaN  Due to my husband physically and finance abuse...   \n",
       "\n",
       "            CreatedUtc  \n",
       "0  2019-06-19 22:10:36  \n",
       "1  2019-06-19 23:35:36  \n",
       "2  2019-06-19 23:57:36  \n",
       "3  2019-06-22 02:49:09  \n",
       "4  2019-06-20 02:33:39  "
      ]
     },
     "metadata": {},
     "output_type": "display_data"
    },
    {
     "name": "stdout",
     "output_type": "stream",
     "text": [
      "Unique values in column QuestionUno:  202879\n",
      "Shape:  (443690, 16)\n"
     ]
    }
   ],
   "source": [
    "#merge the questions_df and question_posts_df by QuestionUno\n",
    "questions_df = questions_df.merge(\n",
    "    question_posts_df, on='QuestionUno', how='left', suffixes=('', '_drop'))\n",
    "questions_df.drop([col for col in questions_df.columns if col.endswith(\n",
    "    '_drop')], axis=1, inplace=True)\n",
    "display(questions_df.head())\n",
    "#print number of unique values in column QuestionUno\n",
    "print(\"Unique values in column QuestionUno: \", questions_df['QuestionUno'].nunique())\n",
    "#print shape of questions_df\n",
    "print(\"Shape: \", questions_df.shape)"
   ]
  },
  {
   "cell_type": "code",
   "execution_count": 67,
   "id": "c2b25623",
   "metadata": {},
   "outputs": [
    {
     "name": "stdout",
     "output_type": "stream",
     "text": [
      "Shape:  (331426, 19)\n",
      "Total number of clients:  331426\n"
     ]
    },
    {
     "data": {
      "text/html": [
       "<div>\n",
       "<style scoped>\n",
       "    .dataframe tbody tr th:only-of-type {\n",
       "        vertical-align: middle;\n",
       "    }\n",
       "\n",
       "    .dataframe tbody tr th {\n",
       "        vertical-align: top;\n",
       "    }\n",
       "\n",
       "    .dataframe thead th {\n",
       "        text-align: right;\n",
       "    }\n",
       "</style>\n",
       "<table border=\"1\" class=\"dataframe\">\n",
       "  <thead>\n",
       "    <tr style=\"text-align: right;\">\n",
       "      <th></th>\n",
       "      <th>StateAbbr</th>\n",
       "      <th>Number of Clients</th>\n",
       "    </tr>\n",
       "  </thead>\n",
       "  <tbody>\n",
       "    <tr>\n",
       "      <th>0</th>\n",
       "      <td>AK</td>\n",
       "      <td>1567</td>\n",
       "    </tr>\n",
       "    <tr>\n",
       "      <th>1</th>\n",
       "      <td>AL</td>\n",
       "      <td>1538</td>\n",
       "    </tr>\n",
       "    <tr>\n",
       "      <th>2</th>\n",
       "      <td>AR</td>\n",
       "      <td>4243</td>\n",
       "    </tr>\n",
       "    <tr>\n",
       "      <th>3</th>\n",
       "      <td>AZ</td>\n",
       "      <td>9580</td>\n",
       "    </tr>\n",
       "    <tr>\n",
       "      <th>4</th>\n",
       "      <td>CA</td>\n",
       "      <td>5188</td>\n",
       "    </tr>\n",
       "  </tbody>\n",
       "</table>\n",
       "</div>"
      ],
      "text/plain": [
       "  StateAbbr  Number of Clients\n",
       "0        AK               1567\n",
       "1        AL               1538\n",
       "2        AR               4243\n",
       "3        AZ               9580\n",
       "4        CA               5188"
      ]
     },
     "metadata": {},
     "output_type": "display_data"
    }
   ],
   "source": [
    "#create a dataframe with the number of clients in each state\n",
    "clients_state_df = clients_df.groupby('StateAbbr')['ClientUno'].nunique().reset_index()\n",
    "clients_state_df.columns = ['StateAbbr', 'Number of Clients']\n",
    "print(\"Shape: \", clients_df.shape)\n",
    "print(\"Total number of clients: \", clients_state_df['Number of Clients'].sum())\n",
    "display(clients_state_df.head())"
   ]
  },
  {
   "cell_type": "code",
   "execution_count": 68,
   "id": "02e2acbe",
   "metadata": {},
   "outputs": [
    {
     "data": {
      "application/vnd.plotly.v1+json": {
       "config": {
        "plotlyServerURL": "https://plot.ly"
       },
       "data": [
        {
         "coloraxis": "coloraxis",
         "geo": "geo",
         "hovertemplate": "StateAbbr=%{location}<br>Number of Clients=%{z}<extra></extra>",
         "locationmode": "USA-states",
         "locations": [
          "AK",
          "AL",
          "AR",
          "AZ",
          "CA",
          "CT",
          "FL",
          "GA",
          "HI",
          "IA",
          "ID",
          "IL",
          "IN",
          "KS",
          "LA",
          "MA",
          "MD",
          "ME",
          "MI",
          "MO",
          "MS",
          "NC",
          "NE",
          "NH",
          "NJ",
          "NM",
          "NY",
          "OK",
          "PA",
          "SC",
          "SD",
          "TN",
          "TX",
          "US",
          "UT",
          "VA",
          "VT",
          "WI",
          "WV",
          "WY"
         ],
         "name": "",
         "type": "choropleth",
         "z": [
          1567,
          1538,
          4243,
          9580,
          5188,
          2206,
          30525,
          13986,
          4222,
          3099,
          1,
          23036,
          31458,
          875,
          6001,
          15902,
          5349,
          4693,
          881,
          14412,
          2697,
          10267,
          4704,
          2151,
          1441,
          1624,
          9664,
          9168,
          1446,
          18991,
          1503,
          18330,
          36050,
          1054,
          3277,
          9473,
          2091,
          11614,
          4561,
          2558
         ]
        }
       ],
       "layout": {
        "coloraxis": {
         "cmax": 36050,
         "cmin": 1,
         "colorbar": {
          "tickvals": [
           1,
           36050
          ],
          "title": {
           "text": "Number of Clients"
          }
         },
         "colorscale": [
          [
           0,
           "#0d0887"
          ],
          [
           0.1111111111111111,
           "#46039f"
          ],
          [
           0.2222222222222222,
           "#7201a8"
          ],
          [
           0.3333333333333333,
           "#9c179e"
          ],
          [
           0.4444444444444444,
           "#bd3786"
          ],
          [
           0.5555555555555556,
           "#d8576b"
          ],
          [
           0.6666666666666666,
           "#ed7953"
          ],
          [
           0.7777777777777778,
           "#fb9f3a"
          ],
          [
           0.8888888888888888,
           "#fdca26"
          ],
          [
           1,
           "#f0f921"
          ]
         ]
        },
        "geo": {
         "center": {},
         "domain": {
          "x": [
           0,
           1
          ],
          "y": [
           0,
           1
          ]
         },
         "scope": "usa"
        },
        "legend": {
         "tracegroupgap": 0
        },
        "margin": {
         "t": 60
        },
        "template": {
         "data": {
          "bar": [
           {
            "error_x": {
             "color": "#2a3f5f"
            },
            "error_y": {
             "color": "#2a3f5f"
            },
            "marker": {
             "line": {
              "color": "#E5ECF6",
              "width": 0.5
             },
             "pattern": {
              "fillmode": "overlay",
              "size": 10,
              "solidity": 0.2
             }
            },
            "type": "bar"
           }
          ],
          "barpolar": [
           {
            "marker": {
             "line": {
              "color": "#E5ECF6",
              "width": 0.5
             },
             "pattern": {
              "fillmode": "overlay",
              "size": 10,
              "solidity": 0.2
             }
            },
            "type": "barpolar"
           }
          ],
          "carpet": [
           {
            "aaxis": {
             "endlinecolor": "#2a3f5f",
             "gridcolor": "white",
             "linecolor": "white",
             "minorgridcolor": "white",
             "startlinecolor": "#2a3f5f"
            },
            "baxis": {
             "endlinecolor": "#2a3f5f",
             "gridcolor": "white",
             "linecolor": "white",
             "minorgridcolor": "white",
             "startlinecolor": "#2a3f5f"
            },
            "type": "carpet"
           }
          ],
          "choropleth": [
           {
            "colorbar": {
             "outlinewidth": 0,
             "ticks": ""
            },
            "type": "choropleth"
           }
          ],
          "contour": [
           {
            "colorbar": {
             "outlinewidth": 0,
             "ticks": ""
            },
            "colorscale": [
             [
              0,
              "#0d0887"
             ],
             [
              0.1111111111111111,
              "#46039f"
             ],
             [
              0.2222222222222222,
              "#7201a8"
             ],
             [
              0.3333333333333333,
              "#9c179e"
             ],
             [
              0.4444444444444444,
              "#bd3786"
             ],
             [
              0.5555555555555556,
              "#d8576b"
             ],
             [
              0.6666666666666666,
              "#ed7953"
             ],
             [
              0.7777777777777778,
              "#fb9f3a"
             ],
             [
              0.8888888888888888,
              "#fdca26"
             ],
             [
              1,
              "#f0f921"
             ]
            ],
            "type": "contour"
           }
          ],
          "contourcarpet": [
           {
            "colorbar": {
             "outlinewidth": 0,
             "ticks": ""
            },
            "type": "contourcarpet"
           }
          ],
          "heatmap": [
           {
            "colorbar": {
             "outlinewidth": 0,
             "ticks": ""
            },
            "colorscale": [
             [
              0,
              "#0d0887"
             ],
             [
              0.1111111111111111,
              "#46039f"
             ],
             [
              0.2222222222222222,
              "#7201a8"
             ],
             [
              0.3333333333333333,
              "#9c179e"
             ],
             [
              0.4444444444444444,
              "#bd3786"
             ],
             [
              0.5555555555555556,
              "#d8576b"
             ],
             [
              0.6666666666666666,
              "#ed7953"
             ],
             [
              0.7777777777777778,
              "#fb9f3a"
             ],
             [
              0.8888888888888888,
              "#fdca26"
             ],
             [
              1,
              "#f0f921"
             ]
            ],
            "type": "heatmap"
           }
          ],
          "heatmapgl": [
           {
            "colorbar": {
             "outlinewidth": 0,
             "ticks": ""
            },
            "colorscale": [
             [
              0,
              "#0d0887"
             ],
             [
              0.1111111111111111,
              "#46039f"
             ],
             [
              0.2222222222222222,
              "#7201a8"
             ],
             [
              0.3333333333333333,
              "#9c179e"
             ],
             [
              0.4444444444444444,
              "#bd3786"
             ],
             [
              0.5555555555555556,
              "#d8576b"
             ],
             [
              0.6666666666666666,
              "#ed7953"
             ],
             [
              0.7777777777777778,
              "#fb9f3a"
             ],
             [
              0.8888888888888888,
              "#fdca26"
             ],
             [
              1,
              "#f0f921"
             ]
            ],
            "type": "heatmapgl"
           }
          ],
          "histogram": [
           {
            "marker": {
             "pattern": {
              "fillmode": "overlay",
              "size": 10,
              "solidity": 0.2
             }
            },
            "type": "histogram"
           }
          ],
          "histogram2d": [
           {
            "colorbar": {
             "outlinewidth": 0,
             "ticks": ""
            },
            "colorscale": [
             [
              0,
              "#0d0887"
             ],
             [
              0.1111111111111111,
              "#46039f"
             ],
             [
              0.2222222222222222,
              "#7201a8"
             ],
             [
              0.3333333333333333,
              "#9c179e"
             ],
             [
              0.4444444444444444,
              "#bd3786"
             ],
             [
              0.5555555555555556,
              "#d8576b"
             ],
             [
              0.6666666666666666,
              "#ed7953"
             ],
             [
              0.7777777777777778,
              "#fb9f3a"
             ],
             [
              0.8888888888888888,
              "#fdca26"
             ],
             [
              1,
              "#f0f921"
             ]
            ],
            "type": "histogram2d"
           }
          ],
          "histogram2dcontour": [
           {
            "colorbar": {
             "outlinewidth": 0,
             "ticks": ""
            },
            "colorscale": [
             [
              0,
              "#0d0887"
             ],
             [
              0.1111111111111111,
              "#46039f"
             ],
             [
              0.2222222222222222,
              "#7201a8"
             ],
             [
              0.3333333333333333,
              "#9c179e"
             ],
             [
              0.4444444444444444,
              "#bd3786"
             ],
             [
              0.5555555555555556,
              "#d8576b"
             ],
             [
              0.6666666666666666,
              "#ed7953"
             ],
             [
              0.7777777777777778,
              "#fb9f3a"
             ],
             [
              0.8888888888888888,
              "#fdca26"
             ],
             [
              1,
              "#f0f921"
             ]
            ],
            "type": "histogram2dcontour"
           }
          ],
          "mesh3d": [
           {
            "colorbar": {
             "outlinewidth": 0,
             "ticks": ""
            },
            "type": "mesh3d"
           }
          ],
          "parcoords": [
           {
            "line": {
             "colorbar": {
              "outlinewidth": 0,
              "ticks": ""
             }
            },
            "type": "parcoords"
           }
          ],
          "pie": [
           {
            "automargin": true,
            "type": "pie"
           }
          ],
          "scatter": [
           {
            "fillpattern": {
             "fillmode": "overlay",
             "size": 10,
             "solidity": 0.2
            },
            "type": "scatter"
           }
          ],
          "scatter3d": [
           {
            "line": {
             "colorbar": {
              "outlinewidth": 0,
              "ticks": ""
             }
            },
            "marker": {
             "colorbar": {
              "outlinewidth": 0,
              "ticks": ""
             }
            },
            "type": "scatter3d"
           }
          ],
          "scattercarpet": [
           {
            "marker": {
             "colorbar": {
              "outlinewidth": 0,
              "ticks": ""
             }
            },
            "type": "scattercarpet"
           }
          ],
          "scattergeo": [
           {
            "marker": {
             "colorbar": {
              "outlinewidth": 0,
              "ticks": ""
             }
            },
            "type": "scattergeo"
           }
          ],
          "scattergl": [
           {
            "marker": {
             "colorbar": {
              "outlinewidth": 0,
              "ticks": ""
             }
            },
            "type": "scattergl"
           }
          ],
          "scattermapbox": [
           {
            "marker": {
             "colorbar": {
              "outlinewidth": 0,
              "ticks": ""
             }
            },
            "type": "scattermapbox"
           }
          ],
          "scatterpolar": [
           {
            "marker": {
             "colorbar": {
              "outlinewidth": 0,
              "ticks": ""
             }
            },
            "type": "scatterpolar"
           }
          ],
          "scatterpolargl": [
           {
            "marker": {
             "colorbar": {
              "outlinewidth": 0,
              "ticks": ""
             }
            },
            "type": "scatterpolargl"
           }
          ],
          "scatterternary": [
           {
            "marker": {
             "colorbar": {
              "outlinewidth": 0,
              "ticks": ""
             }
            },
            "type": "scatterternary"
           }
          ],
          "surface": [
           {
            "colorbar": {
             "outlinewidth": 0,
             "ticks": ""
            },
            "colorscale": [
             [
              0,
              "#0d0887"
             ],
             [
              0.1111111111111111,
              "#46039f"
             ],
             [
              0.2222222222222222,
              "#7201a8"
             ],
             [
              0.3333333333333333,
              "#9c179e"
             ],
             [
              0.4444444444444444,
              "#bd3786"
             ],
             [
              0.5555555555555556,
              "#d8576b"
             ],
             [
              0.6666666666666666,
              "#ed7953"
             ],
             [
              0.7777777777777778,
              "#fb9f3a"
             ],
             [
              0.8888888888888888,
              "#fdca26"
             ],
             [
              1,
              "#f0f921"
             ]
            ],
            "type": "surface"
           }
          ],
          "table": [
           {
            "cells": {
             "fill": {
              "color": "#EBF0F8"
             },
             "line": {
              "color": "white"
             }
            },
            "header": {
             "fill": {
              "color": "#C8D4E3"
             },
             "line": {
              "color": "white"
             }
            },
            "type": "table"
           }
          ]
         },
         "layout": {
          "annotationdefaults": {
           "arrowcolor": "#2a3f5f",
           "arrowhead": 0,
           "arrowwidth": 1
          },
          "autotypenumbers": "strict",
          "coloraxis": {
           "colorbar": {
            "outlinewidth": 0,
            "ticks": ""
           }
          },
          "colorscale": {
           "diverging": [
            [
             0,
             "#8e0152"
            ],
            [
             0.1,
             "#c51b7d"
            ],
            [
             0.2,
             "#de77ae"
            ],
            [
             0.3,
             "#f1b6da"
            ],
            [
             0.4,
             "#fde0ef"
            ],
            [
             0.5,
             "#f7f7f7"
            ],
            [
             0.6,
             "#e6f5d0"
            ],
            [
             0.7,
             "#b8e186"
            ],
            [
             0.8,
             "#7fbc41"
            ],
            [
             0.9,
             "#4d9221"
            ],
            [
             1,
             "#276419"
            ]
           ],
           "sequential": [
            [
             0,
             "#0d0887"
            ],
            [
             0.1111111111111111,
             "#46039f"
            ],
            [
             0.2222222222222222,
             "#7201a8"
            ],
            [
             0.3333333333333333,
             "#9c179e"
            ],
            [
             0.4444444444444444,
             "#bd3786"
            ],
            [
             0.5555555555555556,
             "#d8576b"
            ],
            [
             0.6666666666666666,
             "#ed7953"
            ],
            [
             0.7777777777777778,
             "#fb9f3a"
            ],
            [
             0.8888888888888888,
             "#fdca26"
            ],
            [
             1,
             "#f0f921"
            ]
           ],
           "sequentialminus": [
            [
             0,
             "#0d0887"
            ],
            [
             0.1111111111111111,
             "#46039f"
            ],
            [
             0.2222222222222222,
             "#7201a8"
            ],
            [
             0.3333333333333333,
             "#9c179e"
            ],
            [
             0.4444444444444444,
             "#bd3786"
            ],
            [
             0.5555555555555556,
             "#d8576b"
            ],
            [
             0.6666666666666666,
             "#ed7953"
            ],
            [
             0.7777777777777778,
             "#fb9f3a"
            ],
            [
             0.8888888888888888,
             "#fdca26"
            ],
            [
             1,
             "#f0f921"
            ]
           ]
          },
          "colorway": [
           "#636efa",
           "#EF553B",
           "#00cc96",
           "#ab63fa",
           "#FFA15A",
           "#19d3f3",
           "#FF6692",
           "#B6E880",
           "#FF97FF",
           "#FECB52"
          ],
          "font": {
           "color": "#2a3f5f"
          },
          "geo": {
           "bgcolor": "white",
           "lakecolor": "white",
           "landcolor": "#E5ECF6",
           "showlakes": true,
           "showland": true,
           "subunitcolor": "white"
          },
          "hoverlabel": {
           "align": "left"
          },
          "hovermode": "closest",
          "mapbox": {
           "style": "light"
          },
          "paper_bgcolor": "white",
          "plot_bgcolor": "#E5ECF6",
          "polar": {
           "angularaxis": {
            "gridcolor": "white",
            "linecolor": "white",
            "ticks": ""
           },
           "bgcolor": "#E5ECF6",
           "radialaxis": {
            "gridcolor": "white",
            "linecolor": "white",
            "ticks": ""
           }
          },
          "scene": {
           "xaxis": {
            "backgroundcolor": "#E5ECF6",
            "gridcolor": "white",
            "gridwidth": 2,
            "linecolor": "white",
            "showbackground": true,
            "ticks": "",
            "zerolinecolor": "white"
           },
           "yaxis": {
            "backgroundcolor": "#E5ECF6",
            "gridcolor": "white",
            "gridwidth": 2,
            "linecolor": "white",
            "showbackground": true,
            "ticks": "",
            "zerolinecolor": "white"
           },
           "zaxis": {
            "backgroundcolor": "#E5ECF6",
            "gridcolor": "white",
            "gridwidth": 2,
            "linecolor": "white",
            "showbackground": true,
            "ticks": "",
            "zerolinecolor": "white"
           }
          },
          "shapedefaults": {
           "line": {
            "color": "#2a3f5f"
           }
          },
          "ternary": {
           "aaxis": {
            "gridcolor": "white",
            "linecolor": "white",
            "ticks": ""
           },
           "baxis": {
            "gridcolor": "white",
            "linecolor": "white",
            "ticks": ""
           },
           "bgcolor": "#E5ECF6",
           "caxis": {
            "gridcolor": "white",
            "linecolor": "white",
            "ticks": ""
           }
          },
          "title": {
           "x": 0.05
          },
          "xaxis": {
           "automargin": true,
           "gridcolor": "white",
           "linecolor": "white",
           "ticks": "",
           "title": {
            "standoff": 15
           },
           "zerolinecolor": "white",
           "zerolinewidth": 2
          },
          "yaxis": {
           "automargin": true,
           "gridcolor": "white",
           "linecolor": "white",
           "ticks": "",
           "title": {
            "standoff": 15
           },
           "zerolinecolor": "white",
           "zerolinewidth": 2
          }
         }
        },
        "title": {
         "text": "Number of Clients by State"
        }
       }
      },
      "text/html": [
       "<div>                            <div id=\"fb3bb81f-e958-4990-9958-a0102aff0b25\" class=\"plotly-graph-div\" style=\"height:525px; width:100%;\"></div>            <script type=\"text/javascript\">                require([\"plotly\"], function(Plotly) {                    window.PLOTLYENV=window.PLOTLYENV || {};                                    if (document.getElementById(\"fb3bb81f-e958-4990-9958-a0102aff0b25\")) {                    Plotly.newPlot(                        \"fb3bb81f-e958-4990-9958-a0102aff0b25\",                        [{\"coloraxis\":\"coloraxis\",\"geo\":\"geo\",\"hovertemplate\":\"StateAbbr=%{location}<br>Number of Clients=%{z}<extra></extra>\",\"locationmode\":\"USA-states\",\"locations\":[\"AK\",\"AL\",\"AR\",\"AZ\",\"CA\",\"CT\",\"FL\",\"GA\",\"HI\",\"IA\",\"ID\",\"IL\",\"IN\",\"KS\",\"LA\",\"MA\",\"MD\",\"ME\",\"MI\",\"MO\",\"MS\",\"NC\",\"NE\",\"NH\",\"NJ\",\"NM\",\"NY\",\"OK\",\"PA\",\"SC\",\"SD\",\"TN\",\"TX\",\"US\",\"UT\",\"VA\",\"VT\",\"WI\",\"WV\",\"WY\"],\"name\":\"\",\"z\":[1567,1538,4243,9580,5188,2206,30525,13986,4222,3099,1,23036,31458,875,6001,15902,5349,4693,881,14412,2697,10267,4704,2151,1441,1624,9664,9168,1446,18991,1503,18330,36050,1054,3277,9473,2091,11614,4561,2558],\"type\":\"choropleth\"}],                        {\"template\":{\"data\":{\"histogram2dcontour\":[{\"type\":\"histogram2dcontour\",\"colorbar\":{\"outlinewidth\":0,\"ticks\":\"\"},\"colorscale\":[[0.0,\"#0d0887\"],[0.1111111111111111,\"#46039f\"],[0.2222222222222222,\"#7201a8\"],[0.3333333333333333,\"#9c179e\"],[0.4444444444444444,\"#bd3786\"],[0.5555555555555556,\"#d8576b\"],[0.6666666666666666,\"#ed7953\"],[0.7777777777777778,\"#fb9f3a\"],[0.8888888888888888,\"#fdca26\"],[1.0,\"#f0f921\"]]}],\"choropleth\":[{\"type\":\"choropleth\",\"colorbar\":{\"outlinewidth\":0,\"ticks\":\"\"}}],\"histogram2d\":[{\"type\":\"histogram2d\",\"colorbar\":{\"outlinewidth\":0,\"ticks\":\"\"},\"colorscale\":[[0.0,\"#0d0887\"],[0.1111111111111111,\"#46039f\"],[0.2222222222222222,\"#7201a8\"],[0.3333333333333333,\"#9c179e\"],[0.4444444444444444,\"#bd3786\"],[0.5555555555555556,\"#d8576b\"],[0.6666666666666666,\"#ed7953\"],[0.7777777777777778,\"#fb9f3a\"],[0.8888888888888888,\"#fdca26\"],[1.0,\"#f0f921\"]]}],\"heatmap\":[{\"type\":\"heatmap\",\"colorbar\":{\"outlinewidth\":0,\"ticks\":\"\"},\"colorscale\":[[0.0,\"#0d0887\"],[0.1111111111111111,\"#46039f\"],[0.2222222222222222,\"#7201a8\"],[0.3333333333333333,\"#9c179e\"],[0.4444444444444444,\"#bd3786\"],[0.5555555555555556,\"#d8576b\"],[0.6666666666666666,\"#ed7953\"],[0.7777777777777778,\"#fb9f3a\"],[0.8888888888888888,\"#fdca26\"],[1.0,\"#f0f921\"]]}],\"heatmapgl\":[{\"type\":\"heatmapgl\",\"colorbar\":{\"outlinewidth\":0,\"ticks\":\"\"},\"colorscale\":[[0.0,\"#0d0887\"],[0.1111111111111111,\"#46039f\"],[0.2222222222222222,\"#7201a8\"],[0.3333333333333333,\"#9c179e\"],[0.4444444444444444,\"#bd3786\"],[0.5555555555555556,\"#d8576b\"],[0.6666666666666666,\"#ed7953\"],[0.7777777777777778,\"#fb9f3a\"],[0.8888888888888888,\"#fdca26\"],[1.0,\"#f0f921\"]]}],\"contourcarpet\":[{\"type\":\"contourcarpet\",\"colorbar\":{\"outlinewidth\":0,\"ticks\":\"\"}}],\"contour\":[{\"type\":\"contour\",\"colorbar\":{\"outlinewidth\":0,\"ticks\":\"\"},\"colorscale\":[[0.0,\"#0d0887\"],[0.1111111111111111,\"#46039f\"],[0.2222222222222222,\"#7201a8\"],[0.3333333333333333,\"#9c179e\"],[0.4444444444444444,\"#bd3786\"],[0.5555555555555556,\"#d8576b\"],[0.6666666666666666,\"#ed7953\"],[0.7777777777777778,\"#fb9f3a\"],[0.8888888888888888,\"#fdca26\"],[1.0,\"#f0f921\"]]}],\"surface\":[{\"type\":\"surface\",\"colorbar\":{\"outlinewidth\":0,\"ticks\":\"\"},\"colorscale\":[[0.0,\"#0d0887\"],[0.1111111111111111,\"#46039f\"],[0.2222222222222222,\"#7201a8\"],[0.3333333333333333,\"#9c179e\"],[0.4444444444444444,\"#bd3786\"],[0.5555555555555556,\"#d8576b\"],[0.6666666666666666,\"#ed7953\"],[0.7777777777777778,\"#fb9f3a\"],[0.8888888888888888,\"#fdca26\"],[1.0,\"#f0f921\"]]}],\"mesh3d\":[{\"type\":\"mesh3d\",\"colorbar\":{\"outlinewidth\":0,\"ticks\":\"\"}}],\"scatter\":[{\"fillpattern\":{\"fillmode\":\"overlay\",\"size\":10,\"solidity\":0.2},\"type\":\"scatter\"}],\"parcoords\":[{\"type\":\"parcoords\",\"line\":{\"colorbar\":{\"outlinewidth\":0,\"ticks\":\"\"}}}],\"scatterpolargl\":[{\"type\":\"scatterpolargl\",\"marker\":{\"colorbar\":{\"outlinewidth\":0,\"ticks\":\"\"}}}],\"bar\":[{\"error_x\":{\"color\":\"#2a3f5f\"},\"error_y\":{\"color\":\"#2a3f5f\"},\"marker\":{\"line\":{\"color\":\"#E5ECF6\",\"width\":0.5},\"pattern\":{\"fillmode\":\"overlay\",\"size\":10,\"solidity\":0.2}},\"type\":\"bar\"}],\"scattergeo\":[{\"type\":\"scattergeo\",\"marker\":{\"colorbar\":{\"outlinewidth\":0,\"ticks\":\"\"}}}],\"scatterpolar\":[{\"type\":\"scatterpolar\",\"marker\":{\"colorbar\":{\"outlinewidth\":0,\"ticks\":\"\"}}}],\"histogram\":[{\"marker\":{\"pattern\":{\"fillmode\":\"overlay\",\"size\":10,\"solidity\":0.2}},\"type\":\"histogram\"}],\"scattergl\":[{\"type\":\"scattergl\",\"marker\":{\"colorbar\":{\"outlinewidth\":0,\"ticks\":\"\"}}}],\"scatter3d\":[{\"type\":\"scatter3d\",\"line\":{\"colorbar\":{\"outlinewidth\":0,\"ticks\":\"\"}},\"marker\":{\"colorbar\":{\"outlinewidth\":0,\"ticks\":\"\"}}}],\"scattermapbox\":[{\"type\":\"scattermapbox\",\"marker\":{\"colorbar\":{\"outlinewidth\":0,\"ticks\":\"\"}}}],\"scatterternary\":[{\"type\":\"scatterternary\",\"marker\":{\"colorbar\":{\"outlinewidth\":0,\"ticks\":\"\"}}}],\"scattercarpet\":[{\"type\":\"scattercarpet\",\"marker\":{\"colorbar\":{\"outlinewidth\":0,\"ticks\":\"\"}}}],\"carpet\":[{\"aaxis\":{\"endlinecolor\":\"#2a3f5f\",\"gridcolor\":\"white\",\"linecolor\":\"white\",\"minorgridcolor\":\"white\",\"startlinecolor\":\"#2a3f5f\"},\"baxis\":{\"endlinecolor\":\"#2a3f5f\",\"gridcolor\":\"white\",\"linecolor\":\"white\",\"minorgridcolor\":\"white\",\"startlinecolor\":\"#2a3f5f\"},\"type\":\"carpet\"}],\"table\":[{\"cells\":{\"fill\":{\"color\":\"#EBF0F8\"},\"line\":{\"color\":\"white\"}},\"header\":{\"fill\":{\"color\":\"#C8D4E3\"},\"line\":{\"color\":\"white\"}},\"type\":\"table\"}],\"barpolar\":[{\"marker\":{\"line\":{\"color\":\"#E5ECF6\",\"width\":0.5},\"pattern\":{\"fillmode\":\"overlay\",\"size\":10,\"solidity\":0.2}},\"type\":\"barpolar\"}],\"pie\":[{\"automargin\":true,\"type\":\"pie\"}]},\"layout\":{\"autotypenumbers\":\"strict\",\"colorway\":[\"#636efa\",\"#EF553B\",\"#00cc96\",\"#ab63fa\",\"#FFA15A\",\"#19d3f3\",\"#FF6692\",\"#B6E880\",\"#FF97FF\",\"#FECB52\"],\"font\":{\"color\":\"#2a3f5f\"},\"hovermode\":\"closest\",\"hoverlabel\":{\"align\":\"left\"},\"paper_bgcolor\":\"white\",\"plot_bgcolor\":\"#E5ECF6\",\"polar\":{\"bgcolor\":\"#E5ECF6\",\"angularaxis\":{\"gridcolor\":\"white\",\"linecolor\":\"white\",\"ticks\":\"\"},\"radialaxis\":{\"gridcolor\":\"white\",\"linecolor\":\"white\",\"ticks\":\"\"}},\"ternary\":{\"bgcolor\":\"#E5ECF6\",\"aaxis\":{\"gridcolor\":\"white\",\"linecolor\":\"white\",\"ticks\":\"\"},\"baxis\":{\"gridcolor\":\"white\",\"linecolor\":\"white\",\"ticks\":\"\"},\"caxis\":{\"gridcolor\":\"white\",\"linecolor\":\"white\",\"ticks\":\"\"}},\"coloraxis\":{\"colorbar\":{\"outlinewidth\":0,\"ticks\":\"\"}},\"colorscale\":{\"sequential\":[[0.0,\"#0d0887\"],[0.1111111111111111,\"#46039f\"],[0.2222222222222222,\"#7201a8\"],[0.3333333333333333,\"#9c179e\"],[0.4444444444444444,\"#bd3786\"],[0.5555555555555556,\"#d8576b\"],[0.6666666666666666,\"#ed7953\"],[0.7777777777777778,\"#fb9f3a\"],[0.8888888888888888,\"#fdca26\"],[1.0,\"#f0f921\"]],\"sequentialminus\":[[0.0,\"#0d0887\"],[0.1111111111111111,\"#46039f\"],[0.2222222222222222,\"#7201a8\"],[0.3333333333333333,\"#9c179e\"],[0.4444444444444444,\"#bd3786\"],[0.5555555555555556,\"#d8576b\"],[0.6666666666666666,\"#ed7953\"],[0.7777777777777778,\"#fb9f3a\"],[0.8888888888888888,\"#fdca26\"],[1.0,\"#f0f921\"]],\"diverging\":[[0,\"#8e0152\"],[0.1,\"#c51b7d\"],[0.2,\"#de77ae\"],[0.3,\"#f1b6da\"],[0.4,\"#fde0ef\"],[0.5,\"#f7f7f7\"],[0.6,\"#e6f5d0\"],[0.7,\"#b8e186\"],[0.8,\"#7fbc41\"],[0.9,\"#4d9221\"],[1,\"#276419\"]]},\"xaxis\":{\"gridcolor\":\"white\",\"linecolor\":\"white\",\"ticks\":\"\",\"title\":{\"standoff\":15},\"zerolinecolor\":\"white\",\"automargin\":true,\"zerolinewidth\":2},\"yaxis\":{\"gridcolor\":\"white\",\"linecolor\":\"white\",\"ticks\":\"\",\"title\":{\"standoff\":15},\"zerolinecolor\":\"white\",\"automargin\":true,\"zerolinewidth\":2},\"scene\":{\"xaxis\":{\"backgroundcolor\":\"#E5ECF6\",\"gridcolor\":\"white\",\"linecolor\":\"white\",\"showbackground\":true,\"ticks\":\"\",\"zerolinecolor\":\"white\",\"gridwidth\":2},\"yaxis\":{\"backgroundcolor\":\"#E5ECF6\",\"gridcolor\":\"white\",\"linecolor\":\"white\",\"showbackground\":true,\"ticks\":\"\",\"zerolinecolor\":\"white\",\"gridwidth\":2},\"zaxis\":{\"backgroundcolor\":\"#E5ECF6\",\"gridcolor\":\"white\",\"linecolor\":\"white\",\"showbackground\":true,\"ticks\":\"\",\"zerolinecolor\":\"white\",\"gridwidth\":2}},\"shapedefaults\":{\"line\":{\"color\":\"#2a3f5f\"}},\"annotationdefaults\":{\"arrowcolor\":\"#2a3f5f\",\"arrowhead\":0,\"arrowwidth\":1},\"geo\":{\"bgcolor\":\"white\",\"landcolor\":\"#E5ECF6\",\"subunitcolor\":\"white\",\"showland\":true,\"showlakes\":true,\"lakecolor\":\"white\"},\"title\":{\"x\":0.05},\"mapbox\":{\"style\":\"light\"}}},\"geo\":{\"domain\":{\"x\":[0.0,1.0],\"y\":[0.0,1.0]},\"center\":{},\"scope\":\"usa\"},\"coloraxis\":{\"colorbar\":{\"title\":{\"text\":\"Number of Clients\"},\"tickvals\":[1,36050]},\"colorscale\":[[0.0,\"#0d0887\"],[0.1111111111111111,\"#46039f\"],[0.2222222222222222,\"#7201a8\"],[0.3333333333333333,\"#9c179e\"],[0.4444444444444444,\"#bd3786\"],[0.5555555555555556,\"#d8576b\"],[0.6666666666666666,\"#ed7953\"],[0.7777777777777778,\"#fb9f3a\"],[0.8888888888888888,\"#fdca26\"],[1.0,\"#f0f921\"]],\"cmin\":1,\"cmax\":36050},\"legend\":{\"tracegroupgap\":0},\"margin\":{\"t\":60},\"title\":{\"text\":\"Number of Clients by State\"}},                        {\"responsive\": true}                    ).then(function(){\n",
       "                            \n",
       "var gd = document.getElementById('fb3bb81f-e958-4990-9958-a0102aff0b25');\n",
       "var x = new MutationObserver(function (mutations, observer) {{\n",
       "        var display = window.getComputedStyle(gd).display;\n",
       "        if (!display || display === 'none') {{\n",
       "            console.log([gd, 'removed!']);\n",
       "            Plotly.purge(gd);\n",
       "            observer.disconnect();\n",
       "        }}\n",
       "}});\n",
       "\n",
       "// Listen for the removal of the full notebook cells\n",
       "var notebookContainer = gd.closest('#notebook-container');\n",
       "if (notebookContainer) {{\n",
       "    x.observe(notebookContainer, {childList: true});\n",
       "}}\n",
       "\n",
       "// Listen for the clearing of the current output cell\n",
       "var outputEl = gd.closest('.output');\n",
       "if (outputEl) {{\n",
       "    x.observe(outputEl, {childList: true});\n",
       "}}\n",
       "\n",
       "                        })                };                });            </script>        </div>"
      ]
     },
     "metadata": {},
     "output_type": "display_data"
    }
   ],
   "source": [
    "fig = px.choropleth(clients_state_df, locations=\"StateAbbr\", color=\"Number of Clients\",\n",
    "                    locationmode=\"USA-states\", scope=\"usa\", range_color=(clients_state_df['Number of Clients'].min(),\n",
    "                                                                         clients_state_df['Number of Clients'].max()))\n",
    "\n",
    "# change the labels of the colorbar\n",
    "fig.update_layout(coloraxis_colorbar=dict(\n",
    "    title=\"Number of Clients\",\n",
    "    tickvals=[clients_state_df['Number of Clients'].min(),\n",
    "              clients_state_df['Number of Clients'].max()]\n",
    "))\n",
    "\n",
    "fig.update_layout(title_text='Number of Clients by State')\n",
    "fig.show()\n"
   ]
  },
  {
   "cell_type": "code",
   "execution_count": 69,
   "id": "7ff915d7",
   "metadata": {},
   "outputs": [
    {
     "data": {
      "text/html": [
       "<div>\n",
       "<style scoped>\n",
       "    .dataframe tbody tr th:only-of-type {\n",
       "        vertical-align: middle;\n",
       "    }\n",
       "\n",
       "    .dataframe tbody tr th {\n",
       "        vertical-align: top;\n",
       "    }\n",
       "\n",
       "    .dataframe thead th {\n",
       "        text-align: right;\n",
       "    }\n",
       "</style>\n",
       "<table border=\"1\" class=\"dataframe\">\n",
       "  <thead>\n",
       "    <tr style=\"text-align: right;\">\n",
       "      <th></th>\n",
       "      <th>Id</th>\n",
       "      <th>StateAbbr</th>\n",
       "      <th>QuestionUno</th>\n",
       "      <th>PostText</th>\n",
       "      <th>CreatedUtc</th>\n",
       "      <th>CategoryUno</th>\n",
       "      <th>Category</th>\n",
       "      <th>SubcategoryUno</th>\n",
       "      <th>Subcategory</th>\n",
       "      <th>AskedByClientUno</th>\n",
       "      <th>AskedOnUtc</th>\n",
       "      <th>TakenByAttorneyUno</th>\n",
       "      <th>TakenOnUtc</th>\n",
       "      <th>ClosedByAttorneyUno</th>\n",
       "      <th>ClosedOnUtc</th>\n",
       "      <th>LegalDeadline</th>\n",
       "    </tr>\n",
       "  </thead>\n",
       "  <tbody>\n",
       "    <tr>\n",
       "      <th>0</th>\n",
       "      <td>298291</td>\n",
       "      <td>TN</td>\n",
       "      <td>00005375-D055-4DE4-8C37-748DC40ADA6E</td>\n",
       "      <td>My ex and I went to mediation at an attorney's...</td>\n",
       "      <td>2018-05-10 21:40:28</td>\n",
       "      <td>82237E76-8369-40D9-B649-C7B506FED1C5</td>\n",
       "      <td>Family and Children</td>\n",
       "      <td>ED1335C0-5FCA-457C-BB3E-9E094DEA4E33</td>\n",
       "      <td>Family/Divorce/Custody</td>\n",
       "      <td>034B7AAD-02C4-406A-9545-2A34ECC27A4C</td>\n",
       "      <td>2018-02-05 18:40:34</td>\n",
       "      <td>EBD8DA6D-815B-4061-AEC2-D8FCD4275DFC</td>\n",
       "      <td>2018-02-05 18:53:25</td>\n",
       "      <td>EBD8DA6D-815B-4061-AEC2-D8FCD4275DFC</td>\n",
       "      <td>2018-02-15 20:46:34</td>\n",
       "      <td>NaN</td>\n",
       "    </tr>\n",
       "    <tr>\n",
       "      <th>6</th>\n",
       "      <td>298292</td>\n",
       "      <td>TN</td>\n",
       "      <td>00005375-D055-4DE4-8C37-748DC40ADA6E</td>\n",
       "      <td>Regarding mediation, the mediator is not permi...</td>\n",
       "      <td>2018-05-10 21:40:29</td>\n",
       "      <td>82237E76-8369-40D9-B649-C7B506FED1C5</td>\n",
       "      <td>Family and Children</td>\n",
       "      <td>ED1335C0-5FCA-457C-BB3E-9E094DEA4E33</td>\n",
       "      <td>Family/Divorce/Custody</td>\n",
       "      <td>034B7AAD-02C4-406A-9545-2A34ECC27A4C</td>\n",
       "      <td>2018-02-05 18:40:34</td>\n",
       "      <td>EBD8DA6D-815B-4061-AEC2-D8FCD4275DFC</td>\n",
       "      <td>2018-02-05 18:53:25</td>\n",
       "      <td>EBD8DA6D-815B-4061-AEC2-D8FCD4275DFC</td>\n",
       "      <td>2018-02-15 20:46:34</td>\n",
       "      <td>NaN</td>\n",
       "    </tr>\n",
       "    <tr>\n",
       "      <th>12</th>\n",
       "      <td>298293</td>\n",
       "      <td>TN</td>\n",
       "      <td>00005375-D055-4DE4-8C37-748DC40ADA6E</td>\n",
       "      <td>There was never a court order. Just mediation....</td>\n",
       "      <td>2018-05-10 21:40:29</td>\n",
       "      <td>82237E76-8369-40D9-B649-C7B506FED1C5</td>\n",
       "      <td>Family and Children</td>\n",
       "      <td>ED1335C0-5FCA-457C-BB3E-9E094DEA4E33</td>\n",
       "      <td>Family/Divorce/Custody</td>\n",
       "      <td>034B7AAD-02C4-406A-9545-2A34ECC27A4C</td>\n",
       "      <td>2018-02-05 18:40:34</td>\n",
       "      <td>EBD8DA6D-815B-4061-AEC2-D8FCD4275DFC</td>\n",
       "      <td>2018-02-05 18:53:25</td>\n",
       "      <td>EBD8DA6D-815B-4061-AEC2-D8FCD4275DFC</td>\n",
       "      <td>2018-02-15 20:46:34</td>\n",
       "      <td>NaN</td>\n",
       "    </tr>\n",
       "    <tr>\n",
       "      <th>18</th>\n",
       "      <td>298294</td>\n",
       "      <td>TN</td>\n",
       "      <td>00005375-D055-4DE4-8C37-748DC40ADA6E</td>\n",
       "      <td>When you were divorced from your husband, the ...</td>\n",
       "      <td>2018-05-10 21:40:29</td>\n",
       "      <td>82237E76-8369-40D9-B649-C7B506FED1C5</td>\n",
       "      <td>Family and Children</td>\n",
       "      <td>ED1335C0-5FCA-457C-BB3E-9E094DEA4E33</td>\n",
       "      <td>Family/Divorce/Custody</td>\n",
       "      <td>034B7AAD-02C4-406A-9545-2A34ECC27A4C</td>\n",
       "      <td>2018-02-05 18:40:34</td>\n",
       "      <td>EBD8DA6D-815B-4061-AEC2-D8FCD4275DFC</td>\n",
       "      <td>2018-02-05 18:53:25</td>\n",
       "      <td>EBD8DA6D-815B-4061-AEC2-D8FCD4275DFC</td>\n",
       "      <td>2018-02-15 20:46:34</td>\n",
       "      <td>NaN</td>\n",
       "    </tr>\n",
       "    <tr>\n",
       "      <th>24</th>\n",
       "      <td>298295</td>\n",
       "      <td>TN</td>\n",
       "      <td>00005375-D055-4DE4-8C37-748DC40ADA6E</td>\n",
       "      <td>Okay....we were never married. Ex as in ex fia...</td>\n",
       "      <td>2018-05-10 21:40:30</td>\n",
       "      <td>82237E76-8369-40D9-B649-C7B506FED1C5</td>\n",
       "      <td>Family and Children</td>\n",
       "      <td>ED1335C0-5FCA-457C-BB3E-9E094DEA4E33</td>\n",
       "      <td>Family/Divorce/Custody</td>\n",
       "      <td>034B7AAD-02C4-406A-9545-2A34ECC27A4C</td>\n",
       "      <td>2018-02-05 18:40:34</td>\n",
       "      <td>EBD8DA6D-815B-4061-AEC2-D8FCD4275DFC</td>\n",
       "      <td>2018-02-05 18:53:25</td>\n",
       "      <td>EBD8DA6D-815B-4061-AEC2-D8FCD4275DFC</td>\n",
       "      <td>2018-02-15 20:46:34</td>\n",
       "      <td>NaN</td>\n",
       "    </tr>\n",
       "    <tr>\n",
       "      <th>30</th>\n",
       "      <td>298296</td>\n",
       "      <td>TN</td>\n",
       "      <td>00005375-D055-4DE4-8C37-748DC40ADA6E</td>\n",
       "      <td>The Juvenile Court of the county where your ch...</td>\n",
       "      <td>2018-05-10 21:40:30</td>\n",
       "      <td>82237E76-8369-40D9-B649-C7B506FED1C5</td>\n",
       "      <td>Family and Children</td>\n",
       "      <td>ED1335C0-5FCA-457C-BB3E-9E094DEA4E33</td>\n",
       "      <td>Family/Divorce/Custody</td>\n",
       "      <td>034B7AAD-02C4-406A-9545-2A34ECC27A4C</td>\n",
       "      <td>2018-02-05 18:40:34</td>\n",
       "      <td>EBD8DA6D-815B-4061-AEC2-D8FCD4275DFC</td>\n",
       "      <td>2018-02-05 18:53:25</td>\n",
       "      <td>EBD8DA6D-815B-4061-AEC2-D8FCD4275DFC</td>\n",
       "      <td>2018-02-15 20:46:34</td>\n",
       "      <td>NaN</td>\n",
       "    </tr>\n",
       "    <tr>\n",
       "      <th>36</th>\n",
       "      <td>1096</td>\n",
       "      <td>AK</td>\n",
       "      <td>00008AE7-5B06-454D-BA0F-969CE8809C33</td>\n",
       "      <td>In ###. They put a plate in my knee. Had to ha...</td>\n",
       "      <td>2020-12-09 21:03:46</td>\n",
       "      <td>C2D41B1D-E4E7-44D1-B415-731C5FFA4E5D</td>\n",
       "      <td>Work, Employment and Unemployment</td>\n",
       "      <td>4CDDA61F-136A-41D3-80D6-EA0662297CE5</td>\n",
       "      <td>Worker's Comp</td>\n",
       "      <td>27A0418D-5F83-4154-8DF9-D1C0DDD85F6F</td>\n",
       "      <td>2020-12-09 21:03:32</td>\n",
       "      <td>NaN</td>\n",
       "      <td>NaN</td>\n",
       "      <td>NaN</td>\n",
       "      <td>2021-01-06 00:35:05</td>\n",
       "      <td>NaN</td>\n",
       "    </tr>\n",
       "    <tr>\n",
       "      <th>37</th>\n",
       "      <td>355551</td>\n",
       "      <td>US</td>\n",
       "      <td>00011AA0-DE46-498C-AFF1-CF4E5E3E3066</td>\n",
       "      <td>So I am wondering if I can still pursue this c...</td>\n",
       "      <td>2021-07-22 17:23:58</td>\n",
       "      <td>B1817DFA-9BA0-4FD7-9973-3E029D472DA7</td>\n",
       "      <td>Other</td>\n",
       "      <td>2AE3381D-7D34-42CF-9CAB-A5BF8EFFBC40</td>\n",
       "      <td>Veterans â€“ Other VA Benefits (Survivorâ€™s B...</td>\n",
       "      <td>97180222-BD4E-4910-8201-99F4B727FF14</td>\n",
       "      <td>2021-07-22 17:23:07</td>\n",
       "      <td>NaN</td>\n",
       "      <td>NaN</td>\n",
       "      <td>NaN</td>\n",
       "      <td>2021-07-22 18:23:47</td>\n",
       "      <td>NaN</td>\n",
       "    </tr>\n",
       "    <tr>\n",
       "      <th>38</th>\n",
       "      <td>136998</td>\n",
       "      <td>IN</td>\n",
       "      <td>00014611-580E-4A22-9A8C-51FDB6B6110F</td>\n",
       "      <td>Hello, my name is ### Nun Mawi, mother of one ...</td>\n",
       "      <td>2021-06-22 16:59:24</td>\n",
       "      <td>4A17A421-3E82-4896-9EDC-133B4AE006F0</td>\n",
       "      <td>Family and Children</td>\n",
       "      <td>BBE6200A-CB5E-47F3-BC04-FBDEDF741862</td>\n",
       "      <td>Name Change</td>\n",
       "      <td>37145D78-7CF7-4C6A-9AFE-8B9010C67047</td>\n",
       "      <td>2021-06-22 16:59:05</td>\n",
       "      <td>NaN</td>\n",
       "      <td>NaN</td>\n",
       "      <td>NaN</td>\n",
       "      <td>2021-08-03 17:55:25</td>\n",
       "      <td>NaN</td>\n",
       "    </tr>\n",
       "    <tr>\n",
       "      <th>39</th>\n",
       "      <td>169379</td>\n",
       "      <td>MA</td>\n",
       "      <td>00023EBF-097B-4F46-81B3-7A495ECE4BFA</td>\n",
       "      <td>### properties is my landlord.  They are doing...</td>\n",
       "      <td>2021-02-21 14:07:01</td>\n",
       "      <td>4456F415-AB12-4C65-8CB5-0984D068A01E</td>\n",
       "      <td>Housing and Homelessness</td>\n",
       "      <td>EE9E0B7E-9786-4603-9B90-7FCB59A4DC59</td>\n",
       "      <td>Housing or Real Estate</td>\n",
       "      <td>0E8FF7DB-9F32-4CCC-8F64-0393739756D4</td>\n",
       "      <td>2021-02-21 14:05:58</td>\n",
       "      <td>95C8CF0D-8B61-4DFA-82B8-D7B4757303B7</td>\n",
       "      <td>2021-03-05 15:58:13</td>\n",
       "      <td>95C8CF0D-8B61-4DFA-82B8-D7B4757303B7</td>\n",
       "      <td>2021-03-15 16:13:01</td>\n",
       "      <td>NaN</td>\n",
       "    </tr>\n",
       "    <tr>\n",
       "      <th>41</th>\n",
       "      <td>169380</td>\n",
       "      <td>MA</td>\n",
       "      <td>00023EBF-097B-4F46-81B3-7A495ECE4BFA</td>\n",
       "      <td>Dear ### - We're sorry to hear you had such a ...</td>\n",
       "      <td>2021-03-05 16:13:43</td>\n",
       "      <td>4456F415-AB12-4C65-8CB5-0984D068A01E</td>\n",
       "      <td>Housing and Homelessness</td>\n",
       "      <td>EE9E0B7E-9786-4603-9B90-7FCB59A4DC59</td>\n",
       "      <td>Housing or Real Estate</td>\n",
       "      <td>0E8FF7DB-9F32-4CCC-8F64-0393739756D4</td>\n",
       "      <td>2021-02-21 14:05:58</td>\n",
       "      <td>95C8CF0D-8B61-4DFA-82B8-D7B4757303B7</td>\n",
       "      <td>2021-03-05 15:58:13</td>\n",
       "      <td>95C8CF0D-8B61-4DFA-82B8-D7B4757303B7</td>\n",
       "      <td>2021-03-15 16:13:01</td>\n",
       "      <td>NaN</td>\n",
       "    </tr>\n",
       "    <tr>\n",
       "      <th>43</th>\n",
       "      <td>157987</td>\n",
       "      <td>MA</td>\n",
       "      <td>00030AB0-F03A-4F0E-8FB4-357B70FD1323</td>\n",
       "      <td>I am a ### and I earn 45% commission on client...</td>\n",
       "      <td>2019-01-23 14:32:56</td>\n",
       "      <td>87D9B01B-BD0E-4770-8958-F3B7E2A5D5D1</td>\n",
       "      <td>Work, Employment and Unemployment</td>\n",
       "      <td>B090D004-60D8-4107-BE05-49D33F827062</td>\n",
       "      <td>Employment Issues</td>\n",
       "      <td>929CE45A-8796-48A2-892F-B351536F7C6B</td>\n",
       "      <td>2019-01-23 14:31:59</td>\n",
       "      <td>810E751F-E25B-442B-924F-9A770A4AC9E0</td>\n",
       "      <td>2019-01-24 16:10:39</td>\n",
       "      <td>810E751F-E25B-442B-924F-9A770A4AC9E0</td>\n",
       "      <td>2019-01-24 17:12:30</td>\n",
       "      <td>NaN</td>\n",
       "    </tr>\n",
       "    <tr>\n",
       "      <th>45</th>\n",
       "      <td>157988</td>\n",
       "      <td>MA</td>\n",
       "      <td>00030AB0-F03A-4F0E-8FB4-357B70FD1323</td>\n",
       "      <td>Dear Ms. ###:            Depriving an employee...</td>\n",
       "      <td>2019-01-24 17:13:03</td>\n",
       "      <td>87D9B01B-BD0E-4770-8958-F3B7E2A5D5D1</td>\n",
       "      <td>Work, Employment and Unemployment</td>\n",
       "      <td>B090D004-60D8-4107-BE05-49D33F827062</td>\n",
       "      <td>Employment Issues</td>\n",
       "      <td>929CE45A-8796-48A2-892F-B351536F7C6B</td>\n",
       "      <td>2019-01-23 14:31:59</td>\n",
       "      <td>810E751F-E25B-442B-924F-9A770A4AC9E0</td>\n",
       "      <td>2019-01-24 16:10:39</td>\n",
       "      <td>810E751F-E25B-442B-924F-9A770A4AC9E0</td>\n",
       "      <td>2019-01-24 17:12:30</td>\n",
       "      <td>NaN</td>\n",
       "    </tr>\n",
       "    <tr>\n",
       "      <th>47</th>\n",
       "      <td>295349</td>\n",
       "      <td>TN</td>\n",
       "      <td>00033585-59AD-4B63-9993-353124F13A84</td>\n",
       "      <td>I am being released from work because I was wr...</td>\n",
       "      <td>2018-05-10 21:34:07</td>\n",
       "      <td>92774930-FAB4-44AA-BD5B-464E1CF79BB1</td>\n",
       "      <td>Work, Employment and Unemployment</td>\n",
       "      <td>5F571268-0519-4635-921E-2F62BC3E2392</td>\n",
       "      <td>Work</td>\n",
       "      <td>0E42F8B7-266A-4920-BAEE-7FE4E7CD5B3D</td>\n",
       "      <td>2017-06-12 19:52:33</td>\n",
       "      <td>35F3DAF4-921A-48BD-A119-D69716F5BC80</td>\n",
       "      <td>2017-06-30 13:27:02</td>\n",
       "      <td>35F3DAF4-921A-48BD-A119-D69716F5BC80</td>\n",
       "      <td>2017-07-10 13:51:00</td>\n",
       "      <td>NaN</td>\n",
       "    </tr>\n",
       "    <tr>\n",
       "      <th>49</th>\n",
       "      <td>295350</td>\n",
       "      <td>TN</td>\n",
       "      <td>00033585-59AD-4B63-9993-353124F13A84</td>\n",
       "      <td>Unless you are under a written contract or in ...</td>\n",
       "      <td>2018-05-10 21:34:25</td>\n",
       "      <td>92774930-FAB4-44AA-BD5B-464E1CF79BB1</td>\n",
       "      <td>Work, Employment and Unemployment</td>\n",
       "      <td>5F571268-0519-4635-921E-2F62BC3E2392</td>\n",
       "      <td>Work</td>\n",
       "      <td>0E42F8B7-266A-4920-BAEE-7FE4E7CD5B3D</td>\n",
       "      <td>2017-06-12 19:52:33</td>\n",
       "      <td>35F3DAF4-921A-48BD-A119-D69716F5BC80</td>\n",
       "      <td>2017-06-30 13:27:02</td>\n",
       "      <td>35F3DAF4-921A-48BD-A119-D69716F5BC80</td>\n",
       "      <td>2017-07-10 13:51:00</td>\n",
       "      <td>NaN</td>\n",
       "    </tr>\n",
       "    <tr>\n",
       "      <th>51</th>\n",
       "      <td>210523</td>\n",
       "      <td>MS</td>\n",
       "      <td>0003650F-98FA-4F9B-9BAC-8396F4A7E4F7</td>\n",
       "      <td>My sister and I were students at ### College r...</td>\n",
       "      <td>2018-12-07 21:50:09</td>\n",
       "      <td>300E64A5-11D6-4E71-8689-65C2A7729C2F</td>\n",
       "      <td>Other</td>\n",
       "      <td>77CFD757-D72B-435E-9811-32E0494FF4DB</td>\n",
       "      <td>Other</td>\n",
       "      <td>CC94915B-D282-4384-A9D3-BDDC977E12A5</td>\n",
       "      <td>2018-12-07 21:49:35</td>\n",
       "      <td>NaN</td>\n",
       "      <td>NaN</td>\n",
       "      <td>NaN</td>\n",
       "      <td>2019-01-14 18:40:44</td>\n",
       "      <td>NaN</td>\n",
       "    </tr>\n",
       "    <tr>\n",
       "      <th>52</th>\n",
       "      <td>94243</td>\n",
       "      <td>IL</td>\n",
       "      <td>0003FCAB-53E0-456D-8485-618202DC139D</td>\n",
       "      <td>Hi,I purchased a vehicle in Sept â€˜###. Iâ€™m...</td>\n",
       "      <td>2019-07-20 08:55:59</td>\n",
       "      <td>3B625200-038E-49FE-B321-35D67A897CB3</td>\n",
       "      <td>Consumer Financial Questions</td>\n",
       "      <td>68720A50-E587-45D6-977D-874230D4D60E</td>\n",
       "      <td>Money/Debt/Consumer Protection</td>\n",
       "      <td>EB7E6496-FB9D-4867-A80E-B3758443B06F</td>\n",
       "      <td>2019-07-20 08:55:00</td>\n",
       "      <td>F860CB7A-EFEA-4D8E-98D5-AE284D2DA99A</td>\n",
       "      <td>2019-08-04 21:36:05</td>\n",
       "      <td>F860CB7A-EFEA-4D8E-98D5-AE284D2DA99A</td>\n",
       "      <td>2019-08-14 21:44:43</td>\n",
       "      <td>NaN</td>\n",
       "    </tr>\n",
       "    <tr>\n",
       "      <th>54</th>\n",
       "      <td>94244</td>\n",
       "      <td>IL</td>\n",
       "      <td>0003FCAB-53E0-456D-8485-618202DC139D</td>\n",
       "      <td>###: So sorry to hear you're going through all...</td>\n",
       "      <td>2019-08-04 21:44:29</td>\n",
       "      <td>3B625200-038E-49FE-B321-35D67A897CB3</td>\n",
       "      <td>Consumer Financial Questions</td>\n",
       "      <td>68720A50-E587-45D6-977D-874230D4D60E</td>\n",
       "      <td>Money/Debt/Consumer Protection</td>\n",
       "      <td>EB7E6496-FB9D-4867-A80E-B3758443B06F</td>\n",
       "      <td>2019-07-20 08:55:00</td>\n",
       "      <td>F860CB7A-EFEA-4D8E-98D5-AE284D2DA99A</td>\n",
       "      <td>2019-08-04 21:36:05</td>\n",
       "      <td>F860CB7A-EFEA-4D8E-98D5-AE284D2DA99A</td>\n",
       "      <td>2019-08-14 21:44:43</td>\n",
       "      <td>NaN</td>\n",
       "    </tr>\n",
       "    <tr>\n",
       "      <th>56</th>\n",
       "      <td>47474</td>\n",
       "      <td>FL</td>\n",
       "      <td>0003FE23-869E-4C61-93B0-0C843CD055FF</td>\n",
       "      <td>### inherit property from mother. Brother dies...</td>\n",
       "      <td>2020-06-23 20:37:08</td>\n",
       "      <td>04F9F18F-45B6-40A9-A092-DF25C636F472</td>\n",
       "      <td>Family and Children</td>\n",
       "      <td>2007EFBA-473B-4406-8458-099CA564AA04</td>\n",
       "      <td>Wills/Inheritance/Probate/Trust</td>\n",
       "      <td>14A541CE-C85C-46E1-B388-DE69CF21C7BA</td>\n",
       "      <td>2020-06-23 20:36:10</td>\n",
       "      <td>571A2359-73CA-4C05-A6A6-9F5EA57E776D</td>\n",
       "      <td>2020-06-23 20:37:58</td>\n",
       "      <td>571A2359-73CA-4C05-A6A6-9F5EA57E776D</td>\n",
       "      <td>2020-07-03 21:17:42</td>\n",
       "      <td>2020-06-30 00:00:00</td>\n",
       "    </tr>\n",
       "    <tr>\n",
       "      <th>59</th>\n",
       "      <td>47475</td>\n",
       "      <td>FL</td>\n",
       "      <td>0003FE23-869E-4C61-93B0-0C843CD055FF</td>\n",
       "      <td>Good afternoon, Rosita. How was the property i...</td>\n",
       "      <td>2020-06-23 20:46:06</td>\n",
       "      <td>04F9F18F-45B6-40A9-A092-DF25C636F472</td>\n",
       "      <td>Family and Children</td>\n",
       "      <td>2007EFBA-473B-4406-8458-099CA564AA04</td>\n",
       "      <td>Wills/Inheritance/Probate/Trust</td>\n",
       "      <td>14A541CE-C85C-46E1-B388-DE69CF21C7BA</td>\n",
       "      <td>2020-06-23 20:36:10</td>\n",
       "      <td>571A2359-73CA-4C05-A6A6-9F5EA57E776D</td>\n",
       "      <td>2020-06-23 20:37:58</td>\n",
       "      <td>571A2359-73CA-4C05-A6A6-9F5EA57E776D</td>\n",
       "      <td>2020-07-03 21:17:42</td>\n",
       "      <td>2020-06-30 00:00:00</td>\n",
       "    </tr>\n",
       "  </tbody>\n",
       "</table>\n",
       "</div>"
      ],
      "text/plain": [
       "        Id StateAbbr                           QuestionUno  \\\n",
       "0   298291        TN  00005375-D055-4DE4-8C37-748DC40ADA6E   \n",
       "6   298292        TN  00005375-D055-4DE4-8C37-748DC40ADA6E   \n",
       "12  298293        TN  00005375-D055-4DE4-8C37-748DC40ADA6E   \n",
       "18  298294        TN  00005375-D055-4DE4-8C37-748DC40ADA6E   \n",
       "24  298295        TN  00005375-D055-4DE4-8C37-748DC40ADA6E   \n",
       "30  298296        TN  00005375-D055-4DE4-8C37-748DC40ADA6E   \n",
       "36    1096        AK  00008AE7-5B06-454D-BA0F-969CE8809C33   \n",
       "37  355551        US  00011AA0-DE46-498C-AFF1-CF4E5E3E3066   \n",
       "38  136998        IN  00014611-580E-4A22-9A8C-51FDB6B6110F   \n",
       "39  169379        MA  00023EBF-097B-4F46-81B3-7A495ECE4BFA   \n",
       "41  169380        MA  00023EBF-097B-4F46-81B3-7A495ECE4BFA   \n",
       "43  157987        MA  00030AB0-F03A-4F0E-8FB4-357B70FD1323   \n",
       "45  157988        MA  00030AB0-F03A-4F0E-8FB4-357B70FD1323   \n",
       "47  295349        TN  00033585-59AD-4B63-9993-353124F13A84   \n",
       "49  295350        TN  00033585-59AD-4B63-9993-353124F13A84   \n",
       "51  210523        MS  0003650F-98FA-4F9B-9BAC-8396F4A7E4F7   \n",
       "52   94243        IL  0003FCAB-53E0-456D-8485-618202DC139D   \n",
       "54   94244        IL  0003FCAB-53E0-456D-8485-618202DC139D   \n",
       "56   47474        FL  0003FE23-869E-4C61-93B0-0C843CD055FF   \n",
       "59   47475        FL  0003FE23-869E-4C61-93B0-0C843CD055FF   \n",
       "\n",
       "                                             PostText           CreatedUtc  \\\n",
       "0   My ex and I went to mediation at an attorney's...  2018-05-10 21:40:28   \n",
       "6   Regarding mediation, the mediator is not permi...  2018-05-10 21:40:29   \n",
       "12  There was never a court order. Just mediation....  2018-05-10 21:40:29   \n",
       "18  When you were divorced from your husband, the ...  2018-05-10 21:40:29   \n",
       "24  Okay....we were never married. Ex as in ex fia...  2018-05-10 21:40:30   \n",
       "30  The Juvenile Court of the county where your ch...  2018-05-10 21:40:30   \n",
       "36  In ###. They put a plate in my knee. Had to ha...  2020-12-09 21:03:46   \n",
       "37  So I am wondering if I can still pursue this c...  2021-07-22 17:23:58   \n",
       "38  Hello, my name is ### Nun Mawi, mother of one ...  2021-06-22 16:59:24   \n",
       "39  ### properties is my landlord.  They are doing...  2021-02-21 14:07:01   \n",
       "41  Dear ### - We're sorry to hear you had such a ...  2021-03-05 16:13:43   \n",
       "43  I am a ### and I earn 45% commission on client...  2019-01-23 14:32:56   \n",
       "45  Dear Ms. ###:            Depriving an employee...  2019-01-24 17:13:03   \n",
       "47  I am being released from work because I was wr...  2018-05-10 21:34:07   \n",
       "49  Unless you are under a written contract or in ...  2018-05-10 21:34:25   \n",
       "51  My sister and I were students at ### College r...  2018-12-07 21:50:09   \n",
       "52  Hi,I purchased a vehicle in Sept â€˜###. Iâ€™m...  2019-07-20 08:55:59   \n",
       "54  ###: So sorry to hear you're going through all...  2019-08-04 21:44:29   \n",
       "56  ### inherit property from mother. Brother dies...  2020-06-23 20:37:08   \n",
       "59  Good afternoon, Rosita. How was the property i...  2020-06-23 20:46:06   \n",
       "\n",
       "                             CategoryUno                           Category  \\\n",
       "0   82237E76-8369-40D9-B649-C7B506FED1C5                Family and Children   \n",
       "6   82237E76-8369-40D9-B649-C7B506FED1C5                Family and Children   \n",
       "12  82237E76-8369-40D9-B649-C7B506FED1C5                Family and Children   \n",
       "18  82237E76-8369-40D9-B649-C7B506FED1C5                Family and Children   \n",
       "24  82237E76-8369-40D9-B649-C7B506FED1C5                Family and Children   \n",
       "30  82237E76-8369-40D9-B649-C7B506FED1C5                Family and Children   \n",
       "36  C2D41B1D-E4E7-44D1-B415-731C5FFA4E5D  Work, Employment and Unemployment   \n",
       "37  B1817DFA-9BA0-4FD7-9973-3E029D472DA7                              Other   \n",
       "38  4A17A421-3E82-4896-9EDC-133B4AE006F0                Family and Children   \n",
       "39  4456F415-AB12-4C65-8CB5-0984D068A01E           Housing and Homelessness   \n",
       "41  4456F415-AB12-4C65-8CB5-0984D068A01E           Housing and Homelessness   \n",
       "43  87D9B01B-BD0E-4770-8958-F3B7E2A5D5D1  Work, Employment and Unemployment   \n",
       "45  87D9B01B-BD0E-4770-8958-F3B7E2A5D5D1  Work, Employment and Unemployment   \n",
       "47  92774930-FAB4-44AA-BD5B-464E1CF79BB1  Work, Employment and Unemployment   \n",
       "49  92774930-FAB4-44AA-BD5B-464E1CF79BB1  Work, Employment and Unemployment   \n",
       "51  300E64A5-11D6-4E71-8689-65C2A7729C2F                              Other   \n",
       "52  3B625200-038E-49FE-B321-35D67A897CB3       Consumer Financial Questions   \n",
       "54  3B625200-038E-49FE-B321-35D67A897CB3       Consumer Financial Questions   \n",
       "56  04F9F18F-45B6-40A9-A092-DF25C636F472                Family and Children   \n",
       "59  04F9F18F-45B6-40A9-A092-DF25C636F472                Family and Children   \n",
       "\n",
       "                          SubcategoryUno  \\\n",
       "0   ED1335C0-5FCA-457C-BB3E-9E094DEA4E33   \n",
       "6   ED1335C0-5FCA-457C-BB3E-9E094DEA4E33   \n",
       "12  ED1335C0-5FCA-457C-BB3E-9E094DEA4E33   \n",
       "18  ED1335C0-5FCA-457C-BB3E-9E094DEA4E33   \n",
       "24  ED1335C0-5FCA-457C-BB3E-9E094DEA4E33   \n",
       "30  ED1335C0-5FCA-457C-BB3E-9E094DEA4E33   \n",
       "36  4CDDA61F-136A-41D3-80D6-EA0662297CE5   \n",
       "37  2AE3381D-7D34-42CF-9CAB-A5BF8EFFBC40   \n",
       "38  BBE6200A-CB5E-47F3-BC04-FBDEDF741862   \n",
       "39  EE9E0B7E-9786-4603-9B90-7FCB59A4DC59   \n",
       "41  EE9E0B7E-9786-4603-9B90-7FCB59A4DC59   \n",
       "43  B090D004-60D8-4107-BE05-49D33F827062   \n",
       "45  B090D004-60D8-4107-BE05-49D33F827062   \n",
       "47  5F571268-0519-4635-921E-2F62BC3E2392   \n",
       "49  5F571268-0519-4635-921E-2F62BC3E2392   \n",
       "51  77CFD757-D72B-435E-9811-32E0494FF4DB   \n",
       "52  68720A50-E587-45D6-977D-874230D4D60E   \n",
       "54  68720A50-E587-45D6-977D-874230D4D60E   \n",
       "56  2007EFBA-473B-4406-8458-099CA564AA04   \n",
       "59  2007EFBA-473B-4406-8458-099CA564AA04   \n",
       "\n",
       "                                          Subcategory  \\\n",
       "0                              Family/Divorce/Custody   \n",
       "6                              Family/Divorce/Custody   \n",
       "12                             Family/Divorce/Custody   \n",
       "18                             Family/Divorce/Custody   \n",
       "24                             Family/Divorce/Custody   \n",
       "30                             Family/Divorce/Custody   \n",
       "36                                      Worker's Comp   \n",
       "37  Veterans â€“ Other VA Benefits (Survivorâ€™s B...   \n",
       "38                                        Name Change   \n",
       "39                             Housing or Real Estate   \n",
       "41                             Housing or Real Estate   \n",
       "43                                  Employment Issues   \n",
       "45                                  Employment Issues   \n",
       "47                                               Work   \n",
       "49                                               Work   \n",
       "51                                              Other   \n",
       "52                     Money/Debt/Consumer Protection   \n",
       "54                     Money/Debt/Consumer Protection   \n",
       "56                    Wills/Inheritance/Probate/Trust   \n",
       "59                    Wills/Inheritance/Probate/Trust   \n",
       "\n",
       "                        AskedByClientUno           AskedOnUtc  \\\n",
       "0   034B7AAD-02C4-406A-9545-2A34ECC27A4C  2018-02-05 18:40:34   \n",
       "6   034B7AAD-02C4-406A-9545-2A34ECC27A4C  2018-02-05 18:40:34   \n",
       "12  034B7AAD-02C4-406A-9545-2A34ECC27A4C  2018-02-05 18:40:34   \n",
       "18  034B7AAD-02C4-406A-9545-2A34ECC27A4C  2018-02-05 18:40:34   \n",
       "24  034B7AAD-02C4-406A-9545-2A34ECC27A4C  2018-02-05 18:40:34   \n",
       "30  034B7AAD-02C4-406A-9545-2A34ECC27A4C  2018-02-05 18:40:34   \n",
       "36  27A0418D-5F83-4154-8DF9-D1C0DDD85F6F  2020-12-09 21:03:32   \n",
       "37  97180222-BD4E-4910-8201-99F4B727FF14  2021-07-22 17:23:07   \n",
       "38  37145D78-7CF7-4C6A-9AFE-8B9010C67047  2021-06-22 16:59:05   \n",
       "39  0E8FF7DB-9F32-4CCC-8F64-0393739756D4  2021-02-21 14:05:58   \n",
       "41  0E8FF7DB-9F32-4CCC-8F64-0393739756D4  2021-02-21 14:05:58   \n",
       "43  929CE45A-8796-48A2-892F-B351536F7C6B  2019-01-23 14:31:59   \n",
       "45  929CE45A-8796-48A2-892F-B351536F7C6B  2019-01-23 14:31:59   \n",
       "47  0E42F8B7-266A-4920-BAEE-7FE4E7CD5B3D  2017-06-12 19:52:33   \n",
       "49  0E42F8B7-266A-4920-BAEE-7FE4E7CD5B3D  2017-06-12 19:52:33   \n",
       "51  CC94915B-D282-4384-A9D3-BDDC977E12A5  2018-12-07 21:49:35   \n",
       "52  EB7E6496-FB9D-4867-A80E-B3758443B06F  2019-07-20 08:55:00   \n",
       "54  EB7E6496-FB9D-4867-A80E-B3758443B06F  2019-07-20 08:55:00   \n",
       "56  14A541CE-C85C-46E1-B388-DE69CF21C7BA  2020-06-23 20:36:10   \n",
       "59  14A541CE-C85C-46E1-B388-DE69CF21C7BA  2020-06-23 20:36:10   \n",
       "\n",
       "                      TakenByAttorneyUno           TakenOnUtc  \\\n",
       "0   EBD8DA6D-815B-4061-AEC2-D8FCD4275DFC  2018-02-05 18:53:25   \n",
       "6   EBD8DA6D-815B-4061-AEC2-D8FCD4275DFC  2018-02-05 18:53:25   \n",
       "12  EBD8DA6D-815B-4061-AEC2-D8FCD4275DFC  2018-02-05 18:53:25   \n",
       "18  EBD8DA6D-815B-4061-AEC2-D8FCD4275DFC  2018-02-05 18:53:25   \n",
       "24  EBD8DA6D-815B-4061-AEC2-D8FCD4275DFC  2018-02-05 18:53:25   \n",
       "30  EBD8DA6D-815B-4061-AEC2-D8FCD4275DFC  2018-02-05 18:53:25   \n",
       "36                                   NaN                  NaN   \n",
       "37                                   NaN                  NaN   \n",
       "38                                   NaN                  NaN   \n",
       "39  95C8CF0D-8B61-4DFA-82B8-D7B4757303B7  2021-03-05 15:58:13   \n",
       "41  95C8CF0D-8B61-4DFA-82B8-D7B4757303B7  2021-03-05 15:58:13   \n",
       "43  810E751F-E25B-442B-924F-9A770A4AC9E0  2019-01-24 16:10:39   \n",
       "45  810E751F-E25B-442B-924F-9A770A4AC9E0  2019-01-24 16:10:39   \n",
       "47  35F3DAF4-921A-48BD-A119-D69716F5BC80  2017-06-30 13:27:02   \n",
       "49  35F3DAF4-921A-48BD-A119-D69716F5BC80  2017-06-30 13:27:02   \n",
       "51                                   NaN                  NaN   \n",
       "52  F860CB7A-EFEA-4D8E-98D5-AE284D2DA99A  2019-08-04 21:36:05   \n",
       "54  F860CB7A-EFEA-4D8E-98D5-AE284D2DA99A  2019-08-04 21:36:05   \n",
       "56  571A2359-73CA-4C05-A6A6-9F5EA57E776D  2020-06-23 20:37:58   \n",
       "59  571A2359-73CA-4C05-A6A6-9F5EA57E776D  2020-06-23 20:37:58   \n",
       "\n",
       "                     ClosedByAttorneyUno          ClosedOnUtc  \\\n",
       "0   EBD8DA6D-815B-4061-AEC2-D8FCD4275DFC  2018-02-15 20:46:34   \n",
       "6   EBD8DA6D-815B-4061-AEC2-D8FCD4275DFC  2018-02-15 20:46:34   \n",
       "12  EBD8DA6D-815B-4061-AEC2-D8FCD4275DFC  2018-02-15 20:46:34   \n",
       "18  EBD8DA6D-815B-4061-AEC2-D8FCD4275DFC  2018-02-15 20:46:34   \n",
       "24  EBD8DA6D-815B-4061-AEC2-D8FCD4275DFC  2018-02-15 20:46:34   \n",
       "30  EBD8DA6D-815B-4061-AEC2-D8FCD4275DFC  2018-02-15 20:46:34   \n",
       "36                                   NaN  2021-01-06 00:35:05   \n",
       "37                                   NaN  2021-07-22 18:23:47   \n",
       "38                                   NaN  2021-08-03 17:55:25   \n",
       "39  95C8CF0D-8B61-4DFA-82B8-D7B4757303B7  2021-03-15 16:13:01   \n",
       "41  95C8CF0D-8B61-4DFA-82B8-D7B4757303B7  2021-03-15 16:13:01   \n",
       "43  810E751F-E25B-442B-924F-9A770A4AC9E0  2019-01-24 17:12:30   \n",
       "45  810E751F-E25B-442B-924F-9A770A4AC9E0  2019-01-24 17:12:30   \n",
       "47  35F3DAF4-921A-48BD-A119-D69716F5BC80  2017-07-10 13:51:00   \n",
       "49  35F3DAF4-921A-48BD-A119-D69716F5BC80  2017-07-10 13:51:00   \n",
       "51                                   NaN  2019-01-14 18:40:44   \n",
       "52  F860CB7A-EFEA-4D8E-98D5-AE284D2DA99A  2019-08-14 21:44:43   \n",
       "54  F860CB7A-EFEA-4D8E-98D5-AE284D2DA99A  2019-08-14 21:44:43   \n",
       "56  571A2359-73CA-4C05-A6A6-9F5EA57E776D  2020-07-03 21:17:42   \n",
       "59  571A2359-73CA-4C05-A6A6-9F5EA57E776D  2020-07-03 21:17:42   \n",
       "\n",
       "          LegalDeadline  \n",
       "0                   NaN  \n",
       "6                   NaN  \n",
       "12                  NaN  \n",
       "18                  NaN  \n",
       "24                  NaN  \n",
       "30                  NaN  \n",
       "36                  NaN  \n",
       "37                  NaN  \n",
       "38                  NaN  \n",
       "39                  NaN  \n",
       "41                  NaN  \n",
       "43                  NaN  \n",
       "45                  NaN  \n",
       "47                  NaN  \n",
       "49                  NaN  \n",
       "51                  NaN  \n",
       "52                  NaN  \n",
       "54                  NaN  \n",
       "56  2020-06-30 00:00:00  \n",
       "59  2020-06-30 00:00:00  "
      ]
     },
     "metadata": {},
     "output_type": "display_data"
    }
   ],
   "source": [
    "new_question_posts_df = question_posts_df.dropna(subset=['QuestionUno', 'CreatedUtc', 'PostText'])\n",
    "#merge new_question_posts_df and questions_df by QuestionUno\n",
    "new_question_posts_df = new_question_posts_df.merge(\n",
    "    questions_df, on='QuestionUno', how='left', suffixes=('', '_drop'))\n",
    "new_question_posts_df.drop([col for col in new_question_posts_df.columns if col.endswith(\n",
    "    '_drop')], axis=1, inplace=True)\n",
    "\n",
    "# Sort by conversation ID and timestamp\n",
    "new_question_posts_df = new_question_posts_df.sort_values(\n",
    "    ['QuestionUno', 'CreatedUtc'])\n",
    "\n",
    "# Reset the index\n",
    "new_question_posts_df = new_question_posts_df.reset_index(drop=True)\n",
    "#new_question_posts_df = new_question_posts_df.set_index('QuestionUno')\n",
    "#drop duplicate rows\n",
    "new_question_posts_df = new_question_posts_df.drop_duplicates()\n",
    "\n",
    "display(new_question_posts_df.head(20))"
   ]
  },
  {
   "cell_type": "code",
   "execution_count": 70,
   "id": "ffffccf4",
   "metadata": {},
   "outputs": [
    {
     "name": "stdout",
     "output_type": "stream",
     "text": [
      "Shape of master_df:  (164702, 30)\n",
      "Percentage of null values in each column: \n"
     ]
    },
    {
     "data": {
      "text/plain": [
       "Id                      0.000000\n",
       "StateAbbr               0.000000\n",
       "QuestionUno             0.000000\n",
       "CreatedUtc              0.000000\n",
       "CategoryUno             0.000000\n",
       "Category                0.000000\n",
       "SubcategoryUno          0.000000\n",
       "Subcategory             0.000000\n",
       "AskedByClientUno        0.008500\n",
       "AskedOnUtc              0.000000\n",
       "TakenByAttorneyUno     26.646914\n",
       "TakenOnUtc             26.348800\n",
       "ClosedByAttorneyUno    31.621960\n",
       "ClosedOnUtc             1.202171\n",
       "LegalDeadline          77.743440\n",
       "CountMessages           0.000000\n",
       "ClientUno               0.008500\n",
       "County                  0.009107\n",
       "StateName               0.008500\n",
       "PostalCode              0.358223\n",
       "EthnicIdentity          9.004141\n",
       "Age                     0.451725\n",
       "Gender                  8.443735\n",
       "MaritalStatus           8.662918\n",
       "Veteran                11.579702\n",
       "Imprisoned              0.224041\n",
       "NumberInHousehold       0.224041\n",
       "AnnualIncome            0.233148\n",
       "AllowedIncome           0.224041\n",
       "CheckingBalance        24.624473\n",
       "dtype: float64"
      ]
     },
     "metadata": {},
     "output_type": "display_data"
    },
    {
     "name": "stdout",
     "output_type": "stream",
     "text": [
      "This dataframe has null values for TakenOnUtc and TakenByAttorneyUno. Purely for demonstration purposes.\n",
      "States with Null values for TakenByAttorneyUno:  ['AK' 'US' 'IN' 'MS' 'OK' 'NH' 'TN' 'GA' 'MD' 'TX' 'WY' 'IL' 'MA' 'NY'\n",
      " 'IA' 'UT' 'AZ' 'WV' 'PA' 'CA' 'AL' 'AR' 'NE' 'NC' 'MO' 'FL' 'CT' 'VA'\n",
      " 'MI' 'SC' 'WI' 'VT' 'NM' 'LA' 'SD' 'HI' 'ME' 'KS' 'NJ']\n"
     ]
    },
    {
     "data": {
      "text/html": [
       "<div>\n",
       "<style scoped>\n",
       "    .dataframe tbody tr th:only-of-type {\n",
       "        vertical-align: middle;\n",
       "    }\n",
       "\n",
       "    .dataframe tbody tr th {\n",
       "        vertical-align: top;\n",
       "    }\n",
       "\n",
       "    .dataframe thead th {\n",
       "        text-align: right;\n",
       "    }\n",
       "</style>\n",
       "<table border=\"1\" class=\"dataframe\">\n",
       "  <thead>\n",
       "    <tr style=\"text-align: right;\">\n",
       "      <th></th>\n",
       "      <th>Id</th>\n",
       "      <th>StateAbbr</th>\n",
       "      <th>QuestionUno</th>\n",
       "      <th>CreatedUtc</th>\n",
       "      <th>CategoryUno</th>\n",
       "      <th>Category</th>\n",
       "      <th>SubcategoryUno</th>\n",
       "      <th>Subcategory</th>\n",
       "      <th>AskedByClientUno</th>\n",
       "      <th>AskedOnUtc</th>\n",
       "      <th>...</th>\n",
       "      <th>EthnicIdentity</th>\n",
       "      <th>Age</th>\n",
       "      <th>Gender</th>\n",
       "      <th>MaritalStatus</th>\n",
       "      <th>Veteran</th>\n",
       "      <th>Imprisoned</th>\n",
       "      <th>NumberInHousehold</th>\n",
       "      <th>AnnualIncome</th>\n",
       "      <th>AllowedIncome</th>\n",
       "      <th>CheckingBalance</th>\n",
       "    </tr>\n",
       "  </thead>\n",
       "  <tbody>\n",
       "    <tr>\n",
       "      <th>1</th>\n",
       "      <td>1096</td>\n",
       "      <td>AK</td>\n",
       "      <td>00008AE7-5B06-454D-BA0F-969CE8809C33</td>\n",
       "      <td>2020-12-09 21:03:46</td>\n",
       "      <td>C2D41B1D-E4E7-44D1-B415-731C5FFA4E5D</td>\n",
       "      <td>Work, Employment and Unemployment</td>\n",
       "      <td>4CDDA61F-136A-41D3-80D6-EA0662297CE5</td>\n",
       "      <td>Worker's Comp</td>\n",
       "      <td>27A0418D-5F83-4154-8DF9-D1C0DDD85F6F</td>\n",
       "      <td>2020-12-09 21:03:32</td>\n",
       "      <td>...</td>\n",
       "      <td>Caucasian</td>\n",
       "      <td>51.0</td>\n",
       "      <td>Female</td>\n",
       "      <td>Divorced or Widowed</td>\n",
       "      <td>No</td>\n",
       "      <td>No</td>\n",
       "      <td>2.0</td>\n",
       "      <td>34000.0</td>\n",
       "      <td>31740.0</td>\n",
       "      <td>90.0</td>\n",
       "    </tr>\n",
       "    <tr>\n",
       "      <th>2</th>\n",
       "      <td>355551</td>\n",
       "      <td>US</td>\n",
       "      <td>00011AA0-DE46-498C-AFF1-CF4E5E3E3066</td>\n",
       "      <td>2021-07-22 17:23:58</td>\n",
       "      <td>B1817DFA-9BA0-4FD7-9973-3E029D472DA7</td>\n",
       "      <td>Other</td>\n",
       "      <td>2AE3381D-7D34-42CF-9CAB-A5BF8EFFBC40</td>\n",
       "      <td>Veterans â€“ Other VA Benefits (Survivorâ€™s B...</td>\n",
       "      <td>97180222-BD4E-4910-8201-99F4B727FF14</td>\n",
       "      <td>2021-07-22 17:23:07</td>\n",
       "      <td>...</td>\n",
       "      <td>NaN</td>\n",
       "      <td>38.0</td>\n",
       "      <td>NaN</td>\n",
       "      <td>NaN</td>\n",
       "      <td>NaN</td>\n",
       "      <td>No</td>\n",
       "      <td>9.0</td>\n",
       "      <td>80000.0</td>\n",
       "      <td>107990.0</td>\n",
       "      <td>1000.0</td>\n",
       "    </tr>\n",
       "    <tr>\n",
       "      <th>3</th>\n",
       "      <td>136998</td>\n",
       "      <td>IN</td>\n",
       "      <td>00014611-580E-4A22-9A8C-51FDB6B6110F</td>\n",
       "      <td>2021-06-22 16:59:24</td>\n",
       "      <td>4A17A421-3E82-4896-9EDC-133B4AE006F0</td>\n",
       "      <td>Family and Children</td>\n",
       "      <td>BBE6200A-CB5E-47F3-BC04-FBDEDF741862</td>\n",
       "      <td>Name Change</td>\n",
       "      <td>37145D78-7CF7-4C6A-9AFE-8B9010C67047</td>\n",
       "      <td>2021-06-22 16:59:05</td>\n",
       "      <td>...</td>\n",
       "      <td>Asian</td>\n",
       "      <td>20.0</td>\n",
       "      <td>Female</td>\n",
       "      <td>Single</td>\n",
       "      <td>No</td>\n",
       "      <td>No</td>\n",
       "      <td>6.0</td>\n",
       "      <td>45000.0</td>\n",
       "      <td>72590.0</td>\n",
       "      <td>NaN</td>\n",
       "    </tr>\n",
       "    <tr>\n",
       "      <th>7</th>\n",
       "      <td>210523</td>\n",
       "      <td>MS</td>\n",
       "      <td>0003650F-98FA-4F9B-9BAC-8396F4A7E4F7</td>\n",
       "      <td>2018-12-07 21:50:09</td>\n",
       "      <td>300E64A5-11D6-4E71-8689-65C2A7729C2F</td>\n",
       "      <td>Other</td>\n",
       "      <td>77CFD757-D72B-435E-9811-32E0494FF4DB</td>\n",
       "      <td>Other</td>\n",
       "      <td>CC94915B-D282-4384-A9D3-BDDC977E12A5</td>\n",
       "      <td>2018-12-07 21:49:35</td>\n",
       "      <td>...</td>\n",
       "      <td>Caucasian</td>\n",
       "      <td>29.0</td>\n",
       "      <td>Female</td>\n",
       "      <td>Married / remarried</td>\n",
       "      <td>No</td>\n",
       "      <td>No</td>\n",
       "      <td>2.0</td>\n",
       "      <td>8160.0</td>\n",
       "      <td>25390.0</td>\n",
       "      <td>37.0</td>\n",
       "    </tr>\n",
       "    <tr>\n",
       "      <th>10</th>\n",
       "      <td>269577</td>\n",
       "      <td>OK</td>\n",
       "      <td>0004108C-4961-49E9-8E08-05A8312DF00A</td>\n",
       "      <td>2021-08-13 16:41:25</td>\n",
       "      <td>715013E5-7277-4121-A46B-05A61FD3689E</td>\n",
       "      <td>Consumer Financial Questions</td>\n",
       "      <td>B30BD6E4-AB1C-4B90-9369-D848CFF0AC57</td>\n",
       "      <td>Contracts &amp; Breach</td>\n",
       "      <td>2CBA89CB-2E4A-46DB-A72D-9513969AABA9</td>\n",
       "      <td>2021-08-13 16:40:56</td>\n",
       "      <td>...</td>\n",
       "      <td>Other</td>\n",
       "      <td>21.0</td>\n",
       "      <td>Male</td>\n",
       "      <td>Single</td>\n",
       "      <td>No</td>\n",
       "      <td>No</td>\n",
       "      <td>1.0</td>\n",
       "      <td>20000.0</td>\n",
       "      <td>13590.0</td>\n",
       "      <td>NaN</td>\n",
       "    </tr>\n",
       "  </tbody>\n",
       "</table>\n",
       "<p>5 rows × 30 columns</p>\n",
       "</div>"
      ],
      "text/plain": [
       "        Id StateAbbr                           QuestionUno  \\\n",
       "1     1096        AK  00008AE7-5B06-454D-BA0F-969CE8809C33   \n",
       "2   355551        US  00011AA0-DE46-498C-AFF1-CF4E5E3E3066   \n",
       "3   136998        IN  00014611-580E-4A22-9A8C-51FDB6B6110F   \n",
       "7   210523        MS  0003650F-98FA-4F9B-9BAC-8396F4A7E4F7   \n",
       "10  269577        OK  0004108C-4961-49E9-8E08-05A8312DF00A   \n",
       "\n",
       "             CreatedUtc                           CategoryUno  \\\n",
       "1   2020-12-09 21:03:46  C2D41B1D-E4E7-44D1-B415-731C5FFA4E5D   \n",
       "2   2021-07-22 17:23:58  B1817DFA-9BA0-4FD7-9973-3E029D472DA7   \n",
       "3   2021-06-22 16:59:24  4A17A421-3E82-4896-9EDC-133B4AE006F0   \n",
       "7   2018-12-07 21:50:09  300E64A5-11D6-4E71-8689-65C2A7729C2F   \n",
       "10  2021-08-13 16:41:25  715013E5-7277-4121-A46B-05A61FD3689E   \n",
       "\n",
       "                             Category                        SubcategoryUno  \\\n",
       "1   Work, Employment and Unemployment  4CDDA61F-136A-41D3-80D6-EA0662297CE5   \n",
       "2                               Other  2AE3381D-7D34-42CF-9CAB-A5BF8EFFBC40   \n",
       "3                 Family and Children  BBE6200A-CB5E-47F3-BC04-FBDEDF741862   \n",
       "7                               Other  77CFD757-D72B-435E-9811-32E0494FF4DB   \n",
       "10       Consumer Financial Questions  B30BD6E4-AB1C-4B90-9369-D848CFF0AC57   \n",
       "\n",
       "                                          Subcategory  \\\n",
       "1                                       Worker's Comp   \n",
       "2   Veterans â€“ Other VA Benefits (Survivorâ€™s B...   \n",
       "3                                         Name Change   \n",
       "7                                               Other   \n",
       "10                                 Contracts & Breach   \n",
       "\n",
       "                        AskedByClientUno           AskedOnUtc  ...  \\\n",
       "1   27A0418D-5F83-4154-8DF9-D1C0DDD85F6F  2020-12-09 21:03:32  ...   \n",
       "2   97180222-BD4E-4910-8201-99F4B727FF14  2021-07-22 17:23:07  ...   \n",
       "3   37145D78-7CF7-4C6A-9AFE-8B9010C67047  2021-06-22 16:59:05  ...   \n",
       "7   CC94915B-D282-4384-A9D3-BDDC977E12A5  2018-12-07 21:49:35  ...   \n",
       "10  2CBA89CB-2E4A-46DB-A72D-9513969AABA9  2021-08-13 16:40:56  ...   \n",
       "\n",
       "   EthnicIdentity   Age  Gender        MaritalStatus Veteran  Imprisoned  \\\n",
       "1       Caucasian  51.0  Female  Divorced or Widowed      No          No   \n",
       "2             NaN  38.0     NaN                  NaN     NaN          No   \n",
       "3           Asian  20.0  Female               Single      No          No   \n",
       "7       Caucasian  29.0  Female  Married / remarried      No          No   \n",
       "10          Other  21.0    Male               Single      No          No   \n",
       "\n",
       "   NumberInHousehold AnnualIncome AllowedIncome  CheckingBalance  \n",
       "1                2.0      34000.0       31740.0             90.0  \n",
       "2                9.0      80000.0      107990.0           1000.0  \n",
       "3                6.0      45000.0       72590.0              NaN  \n",
       "7                2.0       8160.0       25390.0             37.0  \n",
       "10               1.0      20000.0       13590.0              NaN  \n",
       "\n",
       "[5 rows x 30 columns]"
      ]
     },
     "metadata": {},
     "output_type": "display_data"
    },
    {
     "name": "stdout",
     "output_type": "stream",
     "text": [
      "Shape:  (43397, 30)\n"
     ]
    }
   ],
   "source": [
    "master_df = new_question_posts_df.copy()\n",
    "#insert a column Count_Messages that counts the number of times that a QuestionUno is repeated in the dataframe\n",
    "master_df['CountMessages'] = master_df.groupby('QuestionUno')['QuestionUno'].transform('count')\n",
    "\n",
    "master_df = master_df.drop_duplicates(subset=['QuestionUno'])\n",
    "master_df = master_df.drop(columns=['PostText'])\n",
    "\n",
    "#merge master_df on ClientUno and clients_df on AskedByClientUno\n",
    "master_df = master_df.merge(clients_df, left_on='AskedByClientUno', right_on='ClientUno', how='left', suffixes=('', '_drop'))\n",
    "master_df.drop([col for col in master_df.columns if col.endswith('_drop')], axis=1, inplace=True)\n",
    "master_df = master_df.drop(columns = ['SavingsBalance', 'InvestmentsBalance'])\n",
    "\n",
    "#drop all rows with null values in any column with less than 2% null values\n",
    "#master_df = master_df.dropna(thresh=master_df.shape[0] * 0.02)\n",
    "\n",
    "print(\"Shape of master_df: \", master_df.shape)\n",
    "\n",
    "#count the null values in each column as a percentage of the total columns\n",
    "print(\"Percentage of null values in each column: \")\n",
    "display(master_df.isnull().sum() / master_df.shape[0] * 100)\n",
    "print(\"This dataframe has null values for TakenOnUtc and TakenByAttorneyUno. Purely for demonstration purposes.\")\n",
    "taken_on_df = master_df[master_df['TakenOnUtc'].isnull()]\n",
    "taken_on_df = taken_on_df[taken_on_df['TakenByAttorneyUno'].isnull()]\n",
    "\n",
    "#merge master_df on TakenByAttorneyUno and attorneys_df on AttorneyUno, and only keep the column Hours\n",
    "master_df = master_df.merge(attorneys_df[['AttorneyUno', 'Hours']], left_on='TakenByAttorneyUno', right_on='AttorneyUno', how='left', suffixes=('', '_drop'))\n",
    "master_df.drop([col for col in master_df.columns if col.endswith('_drop')], axis=1, inplace=True)\n",
    "#rename the hours column to \"Attorney_Hours_Worked\"\n",
    "master_df = master_df.rename(columns={'Hours': 'HoursWorkedAttorney'})\n",
    "\n",
    "#display unique state names\n",
    "print(\"States with Null values for TakenByAttorneyUno: \", taken_on_df['StateAbbr'].unique())\n",
    "display(taken_on_df.head())\n",
    "print(\"Shape: \", taken_on_df.shape)\n",
    "\n",
    "master_df = master_df.dropna(subset=['AskedByClientUno'])\n",
    "\n",
    "master_df = master_df.drop_duplicates(subset=['QuestionUno'])\n",
    "\n",
    "#WE CANNOT USE THE COLUMNS TakenByAttorneyUno, TakenOnUtc, ClosedByAttorneyUno, and LegalDeadline\n",
    "    #for our analysis because they contain >25% null values. Minimum threshold is 10-15%."
   ]
  },
  {
   "cell_type": "code",
   "execution_count": 71,
   "id": "d61fa4ee",
   "metadata": {},
   "outputs": [
    {
     "name": "stdout",
     "output_type": "stream",
     "text": [
      "Columns in master_df:  Index(['Id', 'StateAbbr', 'QuestionUno', 'CreatedUtc', 'CategoryUno',\n",
      "       'Category', 'SubcategoryUno', 'Subcategory', 'AskedByClientUno',\n",
      "       'AskedOnUtc', 'TakenByAttorneyUno', 'TakenOnUtc', 'ClosedByAttorneyUno',\n",
      "       'ClosedOnUtc', 'LegalDeadline', 'CountMessages', 'ClientUno', 'County',\n",
      "       'StateName', 'PostalCode', 'EthnicIdentity', 'Age', 'Gender',\n",
      "       'MaritalStatus', 'Veteran', 'Imprisoned', 'NumberInHousehold',\n",
      "       'AnnualIncome', 'AllowedIncome', 'CheckingBalance', 'AttorneyUno',\n",
      "       'HoursWorkedAttorney'],\n",
      "      dtype='object')\n"
     ]
    },
    {
     "data": {
      "text/html": [
       "<div>\n",
       "<style scoped>\n",
       "    .dataframe tbody tr th:only-of-type {\n",
       "        vertical-align: middle;\n",
       "    }\n",
       "\n",
       "    .dataframe tbody tr th {\n",
       "        vertical-align: top;\n",
       "    }\n",
       "\n",
       "    .dataframe thead th {\n",
       "        text-align: right;\n",
       "    }\n",
       "</style>\n",
       "<table border=\"1\" class=\"dataframe\">\n",
       "  <thead>\n",
       "    <tr style=\"text-align: right;\">\n",
       "      <th></th>\n",
       "      <th>Id</th>\n",
       "      <th>StateAbbr</th>\n",
       "      <th>QuestionUno</th>\n",
       "      <th>CreatedUtc</th>\n",
       "      <th>CategoryUno</th>\n",
       "      <th>Category</th>\n",
       "      <th>SubcategoryUno</th>\n",
       "      <th>Subcategory</th>\n",
       "      <th>AskedByClientUno</th>\n",
       "      <th>AskedOnUtc</th>\n",
       "      <th>...</th>\n",
       "      <th>Gender</th>\n",
       "      <th>MaritalStatus</th>\n",
       "      <th>Veteran</th>\n",
       "      <th>Imprisoned</th>\n",
       "      <th>NumberInHousehold</th>\n",
       "      <th>AnnualIncome</th>\n",
       "      <th>AllowedIncome</th>\n",
       "      <th>CheckingBalance</th>\n",
       "      <th>AttorneyUno</th>\n",
       "      <th>HoursWorkedAttorney</th>\n",
       "    </tr>\n",
       "  </thead>\n",
       "  <tbody>\n",
       "    <tr>\n",
       "      <th>0</th>\n",
       "      <td>298291</td>\n",
       "      <td>TN</td>\n",
       "      <td>00005375-D055-4DE4-8C37-748DC40ADA6E</td>\n",
       "      <td>2018-05-10 21:40:28</td>\n",
       "      <td>82237E76-8369-40D9-B649-C7B506FED1C5</td>\n",
       "      <td>Family and Children</td>\n",
       "      <td>ED1335C0-5FCA-457C-BB3E-9E094DEA4E33</td>\n",
       "      <td>Family/Divorce/Custody</td>\n",
       "      <td>034B7AAD-02C4-406A-9545-2A34ECC27A4C</td>\n",
       "      <td>2018-02-05 18:40:34</td>\n",
       "      <td>...</td>\n",
       "      <td>Female</td>\n",
       "      <td>Single</td>\n",
       "      <td>No</td>\n",
       "      <td>No</td>\n",
       "      <td>3.0</td>\n",
       "      <td>1200.0</td>\n",
       "      <td>37190.0</td>\n",
       "      <td>NaN</td>\n",
       "      <td>EBD8DA6D-815B-4061-AEC2-D8FCD4275DFC</td>\n",
       "      <td>186.2</td>\n",
       "    </tr>\n",
       "    <tr>\n",
       "      <th>1</th>\n",
       "      <td>1096</td>\n",
       "      <td>AK</td>\n",
       "      <td>00008AE7-5B06-454D-BA0F-969CE8809C33</td>\n",
       "      <td>2020-12-09 21:03:46</td>\n",
       "      <td>C2D41B1D-E4E7-44D1-B415-731C5FFA4E5D</td>\n",
       "      <td>Work, Employment and Unemployment</td>\n",
       "      <td>4CDDA61F-136A-41D3-80D6-EA0662297CE5</td>\n",
       "      <td>Worker's Comp</td>\n",
       "      <td>27A0418D-5F83-4154-8DF9-D1C0DDD85F6F</td>\n",
       "      <td>2020-12-09 21:03:32</td>\n",
       "      <td>...</td>\n",
       "      <td>Female</td>\n",
       "      <td>Divorced or Widowed</td>\n",
       "      <td>No</td>\n",
       "      <td>No</td>\n",
       "      <td>2.0</td>\n",
       "      <td>34000.0</td>\n",
       "      <td>31740.0</td>\n",
       "      <td>90.0</td>\n",
       "      <td>NaN</td>\n",
       "      <td>NaN</td>\n",
       "    </tr>\n",
       "    <tr>\n",
       "      <th>2</th>\n",
       "      <td>355551</td>\n",
       "      <td>US</td>\n",
       "      <td>00011AA0-DE46-498C-AFF1-CF4E5E3E3066</td>\n",
       "      <td>2021-07-22 17:23:58</td>\n",
       "      <td>B1817DFA-9BA0-4FD7-9973-3E029D472DA7</td>\n",
       "      <td>Other</td>\n",
       "      <td>2AE3381D-7D34-42CF-9CAB-A5BF8EFFBC40</td>\n",
       "      <td>Veterans â€“ Other VA Benefits (Survivorâ€™s B...</td>\n",
       "      <td>97180222-BD4E-4910-8201-99F4B727FF14</td>\n",
       "      <td>2021-07-22 17:23:07</td>\n",
       "      <td>...</td>\n",
       "      <td>NaN</td>\n",
       "      <td>NaN</td>\n",
       "      <td>NaN</td>\n",
       "      <td>No</td>\n",
       "      <td>9.0</td>\n",
       "      <td>80000.0</td>\n",
       "      <td>107990.0</td>\n",
       "      <td>1000.0</td>\n",
       "      <td>NaN</td>\n",
       "      <td>NaN</td>\n",
       "    </tr>\n",
       "    <tr>\n",
       "      <th>3</th>\n",
       "      <td>136998</td>\n",
       "      <td>IN</td>\n",
       "      <td>00014611-580E-4A22-9A8C-51FDB6B6110F</td>\n",
       "      <td>2021-06-22 16:59:24</td>\n",
       "      <td>4A17A421-3E82-4896-9EDC-133B4AE006F0</td>\n",
       "      <td>Family and Children</td>\n",
       "      <td>BBE6200A-CB5E-47F3-BC04-FBDEDF741862</td>\n",
       "      <td>Name Change</td>\n",
       "      <td>37145D78-7CF7-4C6A-9AFE-8B9010C67047</td>\n",
       "      <td>2021-06-22 16:59:05</td>\n",
       "      <td>...</td>\n",
       "      <td>Female</td>\n",
       "      <td>Single</td>\n",
       "      <td>No</td>\n",
       "      <td>No</td>\n",
       "      <td>6.0</td>\n",
       "      <td>45000.0</td>\n",
       "      <td>72590.0</td>\n",
       "      <td>NaN</td>\n",
       "      <td>NaN</td>\n",
       "      <td>NaN</td>\n",
       "    </tr>\n",
       "    <tr>\n",
       "      <th>4</th>\n",
       "      <td>169379</td>\n",
       "      <td>MA</td>\n",
       "      <td>00023EBF-097B-4F46-81B3-7A495ECE4BFA</td>\n",
       "      <td>2021-02-21 14:07:01</td>\n",
       "      <td>4456F415-AB12-4C65-8CB5-0984D068A01E</td>\n",
       "      <td>Housing and Homelessness</td>\n",
       "      <td>EE9E0B7E-9786-4603-9B90-7FCB59A4DC59</td>\n",
       "      <td>Housing or Real Estate</td>\n",
       "      <td>0E8FF7DB-9F32-4CCC-8F64-0393739756D4</td>\n",
       "      <td>2021-02-21 14:05:58</td>\n",
       "      <td>...</td>\n",
       "      <td>Female</td>\n",
       "      <td>Single</td>\n",
       "      <td>No</td>\n",
       "      <td>No</td>\n",
       "      <td>3.0</td>\n",
       "      <td>19000.0</td>\n",
       "      <td>37190.0</td>\n",
       "      <td>NaN</td>\n",
       "      <td>95C8CF0D-8B61-4DFA-82B8-D7B4757303B7</td>\n",
       "      <td>NaN</td>\n",
       "    </tr>\n",
       "  </tbody>\n",
       "</table>\n",
       "<p>5 rows × 32 columns</p>\n",
       "</div>"
      ],
      "text/plain": [
       "       Id StateAbbr                           QuestionUno  \\\n",
       "0  298291        TN  00005375-D055-4DE4-8C37-748DC40ADA6E   \n",
       "1    1096        AK  00008AE7-5B06-454D-BA0F-969CE8809C33   \n",
       "2  355551        US  00011AA0-DE46-498C-AFF1-CF4E5E3E3066   \n",
       "3  136998        IN  00014611-580E-4A22-9A8C-51FDB6B6110F   \n",
       "4  169379        MA  00023EBF-097B-4F46-81B3-7A495ECE4BFA   \n",
       "\n",
       "            CreatedUtc                           CategoryUno  \\\n",
       "0  2018-05-10 21:40:28  82237E76-8369-40D9-B649-C7B506FED1C5   \n",
       "1  2020-12-09 21:03:46  C2D41B1D-E4E7-44D1-B415-731C5FFA4E5D   \n",
       "2  2021-07-22 17:23:58  B1817DFA-9BA0-4FD7-9973-3E029D472DA7   \n",
       "3  2021-06-22 16:59:24  4A17A421-3E82-4896-9EDC-133B4AE006F0   \n",
       "4  2021-02-21 14:07:01  4456F415-AB12-4C65-8CB5-0984D068A01E   \n",
       "\n",
       "                            Category                        SubcategoryUno  \\\n",
       "0                Family and Children  ED1335C0-5FCA-457C-BB3E-9E094DEA4E33   \n",
       "1  Work, Employment and Unemployment  4CDDA61F-136A-41D3-80D6-EA0662297CE5   \n",
       "2                              Other  2AE3381D-7D34-42CF-9CAB-A5BF8EFFBC40   \n",
       "3                Family and Children  BBE6200A-CB5E-47F3-BC04-FBDEDF741862   \n",
       "4           Housing and Homelessness  EE9E0B7E-9786-4603-9B90-7FCB59A4DC59   \n",
       "\n",
       "                                         Subcategory  \\\n",
       "0                             Family/Divorce/Custody   \n",
       "1                                      Worker's Comp   \n",
       "2  Veterans â€“ Other VA Benefits (Survivorâ€™s B...   \n",
       "3                                        Name Change   \n",
       "4                             Housing or Real Estate   \n",
       "\n",
       "                       AskedByClientUno           AskedOnUtc  ...  Gender  \\\n",
       "0  034B7AAD-02C4-406A-9545-2A34ECC27A4C  2018-02-05 18:40:34  ...  Female   \n",
       "1  27A0418D-5F83-4154-8DF9-D1C0DDD85F6F  2020-12-09 21:03:32  ...  Female   \n",
       "2  97180222-BD4E-4910-8201-99F4B727FF14  2021-07-22 17:23:07  ...     NaN   \n",
       "3  37145D78-7CF7-4C6A-9AFE-8B9010C67047  2021-06-22 16:59:05  ...  Female   \n",
       "4  0E8FF7DB-9F32-4CCC-8F64-0393739756D4  2021-02-21 14:05:58  ...  Female   \n",
       "\n",
       "         MaritalStatus Veteran Imprisoned NumberInHousehold  AnnualIncome  \\\n",
       "0               Single      No         No               3.0        1200.0   \n",
       "1  Divorced or Widowed      No         No               2.0       34000.0   \n",
       "2                  NaN     NaN         No               9.0       80000.0   \n",
       "3               Single      No         No               6.0       45000.0   \n",
       "4               Single      No         No               3.0       19000.0   \n",
       "\n",
       "  AllowedIncome CheckingBalance                           AttorneyUno  \\\n",
       "0       37190.0             NaN  EBD8DA6D-815B-4061-AEC2-D8FCD4275DFC   \n",
       "1       31740.0            90.0                                   NaN   \n",
       "2      107990.0          1000.0                                   NaN   \n",
       "3       72590.0             NaN                                   NaN   \n",
       "4       37190.0             NaN  95C8CF0D-8B61-4DFA-82B8-D7B4757303B7   \n",
       "\n",
       "   HoursWorkedAttorney  \n",
       "0                186.2  \n",
       "1                  NaN  \n",
       "2                  NaN  \n",
       "3                  NaN  \n",
       "4                  NaN  \n",
       "\n",
       "[5 rows x 32 columns]"
      ]
     },
     "metadata": {},
     "output_type": "display_data"
    }
   ],
   "source": [
    "print(\"Columns in master_df: \", master_df.columns)\n",
    "display(master_df.head())"
   ]
  },
  {
   "cell_type": "code",
   "execution_count": 116,
   "id": "f1876d25",
   "metadata": {},
   "outputs": [
    {
     "name": "stdout",
     "output_type": "stream",
     "text": [
      "Invalid dates in CreatedUtc:  2\n",
      "Invalid dates in AskedOnUtc:  0\n",
      "Invalid dates in TakenOnUtc:  43388\n",
      "Invalid dates in ClosedOnUtc:  1979\n",
      "Lowest 5 dates in CreatedUtc:  27538    2018-04-10 03:21:36\n",
      "17101    2018-04-10 03:25:39\n",
      "20428    2018-04-10 03:43:37\n",
      "20318    2018-04-10 03:44:38\n",
      "156679   2018-04-10 04:17:38\n",
      "Name: CreatedUtc, dtype: datetime64[ns]\n",
      "Highest 5 dates in CreatedUtc:  106319   2022-01-09 02:41:31\n",
      "105792   2022-01-09 02:15:11\n",
      "106868   2022-01-09 02:05:11\n",
      "141392   2022-01-09 01:45:10\n",
      "95690    2022-01-09 01:43:16\n",
      "Name: CreatedUtc, dtype: datetime64[ns]\n",
      "Shape of grouped:  (164688, 7)\n"
     ]
    },
    {
     "data": {
      "text/html": [
       "<div>\n",
       "<style scoped>\n",
       "    .dataframe tbody tr th:only-of-type {\n",
       "        vertical-align: middle;\n",
       "    }\n",
       "\n",
       "    .dataframe tbody tr th {\n",
       "        vertical-align: top;\n",
       "    }\n",
       "\n",
       "    .dataframe thead th {\n",
       "        text-align: right;\n",
       "    }\n",
       "</style>\n",
       "<table border=\"1\" class=\"dataframe\">\n",
       "  <thead>\n",
       "    <tr style=\"text-align: right;\">\n",
       "      <th></th>\n",
       "      <th>CreatedUtc</th>\n",
       "      <th>AskedOnUtc</th>\n",
       "      <th>TakenOnUtc</th>\n",
       "      <th>ClosedOnUtc</th>\n",
       "      <th>CategoryUno</th>\n",
       "      <th>Category</th>\n",
       "      <th>CountMessages</th>\n",
       "    </tr>\n",
       "    <tr>\n",
       "      <th>QuestionUno</th>\n",
       "      <th></th>\n",
       "      <th></th>\n",
       "      <th></th>\n",
       "      <th></th>\n",
       "      <th></th>\n",
       "      <th></th>\n",
       "      <th></th>\n",
       "    </tr>\n",
       "  </thead>\n",
       "  <tbody>\n",
       "    <tr>\n",
       "      <th>00005375-D055-4DE4-8C37-748DC40ADA6E</th>\n",
       "      <td>2018-05-10 21:40:28</td>\n",
       "      <td>2018-02-05 18:40:34</td>\n",
       "      <td>2018-02-05 18:53:25</td>\n",
       "      <td>2018-02-15 20:46:34</td>\n",
       "      <td>82237E76-8369-40D9-B649-C7B506FED1C5</td>\n",
       "      <td>Family and Children</td>\n",
       "      <td>6</td>\n",
       "    </tr>\n",
       "    <tr>\n",
       "      <th>00008AE7-5B06-454D-BA0F-969CE8809C33</th>\n",
       "      <td>2020-12-09 21:03:46</td>\n",
       "      <td>2020-12-09 21:03:32</td>\n",
       "      <td>NaT</td>\n",
       "      <td>2021-01-06 00:35:05</td>\n",
       "      <td>C2D41B1D-E4E7-44D1-B415-731C5FFA4E5D</td>\n",
       "      <td>Work, Employment and Unemployment</td>\n",
       "      <td>1</td>\n",
       "    </tr>\n",
       "    <tr>\n",
       "      <th>00011AA0-DE46-498C-AFF1-CF4E5E3E3066</th>\n",
       "      <td>2021-07-22 17:23:58</td>\n",
       "      <td>2021-07-22 17:23:07</td>\n",
       "      <td>NaT</td>\n",
       "      <td>2021-07-22 18:23:47</td>\n",
       "      <td>B1817DFA-9BA0-4FD7-9973-3E029D472DA7</td>\n",
       "      <td>Other</td>\n",
       "      <td>1</td>\n",
       "    </tr>\n",
       "    <tr>\n",
       "      <th>00014611-580E-4A22-9A8C-51FDB6B6110F</th>\n",
       "      <td>2021-06-22 16:59:24</td>\n",
       "      <td>2021-06-22 16:59:05</td>\n",
       "      <td>NaT</td>\n",
       "      <td>2021-08-03 17:55:25</td>\n",
       "      <td>4A17A421-3E82-4896-9EDC-133B4AE006F0</td>\n",
       "      <td>Family and Children</td>\n",
       "      <td>1</td>\n",
       "    </tr>\n",
       "    <tr>\n",
       "      <th>00023EBF-097B-4F46-81B3-7A495ECE4BFA</th>\n",
       "      <td>2021-02-21 14:07:01</td>\n",
       "      <td>2021-02-21 14:05:58</td>\n",
       "      <td>2021-03-05 15:58:13</td>\n",
       "      <td>2021-03-15 16:13:01</td>\n",
       "      <td>4456F415-AB12-4C65-8CB5-0984D068A01E</td>\n",
       "      <td>Housing and Homelessness</td>\n",
       "      <td>2</td>\n",
       "    </tr>\n",
       "  </tbody>\n",
       "</table>\n",
       "</div>"
      ],
      "text/plain": [
       "                                              CreatedUtc          AskedOnUtc  \\\n",
       "QuestionUno                                                                    \n",
       "00005375-D055-4DE4-8C37-748DC40ADA6E 2018-05-10 21:40:28 2018-02-05 18:40:34   \n",
       "00008AE7-5B06-454D-BA0F-969CE8809C33 2020-12-09 21:03:46 2020-12-09 21:03:32   \n",
       "00011AA0-DE46-498C-AFF1-CF4E5E3E3066 2021-07-22 17:23:58 2021-07-22 17:23:07   \n",
       "00014611-580E-4A22-9A8C-51FDB6B6110F 2021-06-22 16:59:24 2021-06-22 16:59:05   \n",
       "00023EBF-097B-4F46-81B3-7A495ECE4BFA 2021-02-21 14:07:01 2021-02-21 14:05:58   \n",
       "\n",
       "                                              TakenOnUtc         ClosedOnUtc  \\\n",
       "QuestionUno                                                                    \n",
       "00005375-D055-4DE4-8C37-748DC40ADA6E 2018-02-05 18:53:25 2018-02-15 20:46:34   \n",
       "00008AE7-5B06-454D-BA0F-969CE8809C33                 NaT 2021-01-06 00:35:05   \n",
       "00011AA0-DE46-498C-AFF1-CF4E5E3E3066                 NaT 2021-07-22 18:23:47   \n",
       "00014611-580E-4A22-9A8C-51FDB6B6110F                 NaT 2021-08-03 17:55:25   \n",
       "00023EBF-097B-4F46-81B3-7A495ECE4BFA 2021-03-05 15:58:13 2021-03-15 16:13:01   \n",
       "\n",
       "                                                               CategoryUno  \\\n",
       "QuestionUno                                                                  \n",
       "00005375-D055-4DE4-8C37-748DC40ADA6E  82237E76-8369-40D9-B649-C7B506FED1C5   \n",
       "00008AE7-5B06-454D-BA0F-969CE8809C33  C2D41B1D-E4E7-44D1-B415-731C5FFA4E5D   \n",
       "00011AA0-DE46-498C-AFF1-CF4E5E3E3066  B1817DFA-9BA0-4FD7-9973-3E029D472DA7   \n",
       "00014611-580E-4A22-9A8C-51FDB6B6110F  4A17A421-3E82-4896-9EDC-133B4AE006F0   \n",
       "00023EBF-097B-4F46-81B3-7A495ECE4BFA  4456F415-AB12-4C65-8CB5-0984D068A01E   \n",
       "\n",
       "                                                               Category  \\\n",
       "QuestionUno                                                               \n",
       "00005375-D055-4DE4-8C37-748DC40ADA6E                Family and Children   \n",
       "00008AE7-5B06-454D-BA0F-969CE8809C33  Work, Employment and Unemployment   \n",
       "00011AA0-DE46-498C-AFF1-CF4E5E3E3066                              Other   \n",
       "00014611-580E-4A22-9A8C-51FDB6B6110F                Family and Children   \n",
       "00023EBF-097B-4F46-81B3-7A495ECE4BFA           Housing and Homelessness   \n",
       "\n",
       "                                      CountMessages  \n",
       "QuestionUno                                          \n",
       "00005375-D055-4DE4-8C37-748DC40ADA6E              6  \n",
       "00008AE7-5B06-454D-BA0F-969CE8809C33              1  \n",
       "00011AA0-DE46-498C-AFF1-CF4E5E3E3066              1  \n",
       "00014611-580E-4A22-9A8C-51FDB6B6110F              1  \n",
       "00023EBF-097B-4F46-81B3-7A495ECE4BFA              2  "
      ]
     },
     "metadata": {},
     "output_type": "display_data"
    },
    {
     "data": {
      "image/png": "[encoded data removed]",
      "text/plain": [
       "<Figure size 640x480 with 1 Axes>"
      ]
     },
     "metadata": {},
     "output_type": "display_data"
    },
    {
     "data": {
      "image/png": "[encoded data removed]",
      "text/plain": [
       "<Figure size 640x480 with 1 Axes>"
      ]
     },
     "metadata": {},
     "output_type": "display_data"
    },
    {
     "data": {
      "image/png": "[encoded data removed]",
      "text/plain": [
       "<Figure size 640x480 with 1 Axes>"
      ]
     },
     "metadata": {},
     "output_type": "display_data"
    },
    {
     "data": {
      "image/png": "[encoded data removed]",
      "text/plain": [
       "<Figure size 640x480 with 1 Axes>"
      ]
     },
     "metadata": {},
     "output_type": "display_data"
    },
    {
     "name": "stdout",
     "output_type": "stream",
     "text": [
      "['Thursday' 'Wednesday' 'Tuesday' 'Sunday' 'Friday' 'Saturday' 'Monday']\n",
      "['Monday 12 AM', 'Monday 6 AM', 'Monday 12 PM', 'Monday 18 PM', 'Tuesday 12 AM', 'Tuesday 6 AM', 'Tuesday 12 PM', 'Tuesday 18 PM', 'Wednesday 12 AM', 'Wednesday 6 AM', 'Wednesday 12 PM', 'Wednesday 18 PM', 'Thursday 12 AM', 'Thursday 6 AM', 'Thursday 12 PM', 'Thursday 18 PM', 'Friday 12 AM', 'Friday 6 AM', 'Friday 12 PM', 'Friday 18 PM', 'Saturday 12 AM', 'Saturday 6 AM', 'Saturday 12 PM', 'Saturday 18 PM', 'Sunday 12 AM', 'Sunday 6 AM', 'Sunday 12 PM', 'Sunday 18 PM']\n"
     ]
    },
    {
     "data": {
      "image/png": "[encoded data removed]",
      "text/plain": [
       "<Figure size 2500x500 with 1 Axes>"
      ]
     },
     "metadata": {},
     "output_type": "display_data"
    },
    {
     "data": {
      "image/png": "[encoded data removed]",
      "text/plain": [
       "<Figure size 2000x500 with 1 Axes>"
      ]
     },
     "metadata": {},
     "output_type": "display_data"
    }
   ],
   "source": [
    "import pandas as pd\n",
    "import matplotlib.pyplot as plt\n",
    "\n",
    "# Load the dataset into a pandas DataFrame\n",
    "df = master_df.copy()\n",
    "\n",
    "# strip the left and right ends of the four columns of all non numeric characters\n",
    "df['CreatedUtc'] = df['CreatedUtc'].str.extract(r'(\\d{4}-\\d{2}-\\d{2} \\d{2}:\\d{2}:\\d{2})')\n",
    "df['AskedOnUtc'] = df['AskedOnUtc'].str.extract(r'(\\d{4}-\\d{2}-\\d{2} \\d{2}:\\d{2}:\\d{2})')\n",
    "df['TakenOnUtc'] = df['TakenOnUtc'].str.extract(r'(\\d{4}-\\d{2}-\\d{2} \\d{2}:\\d{2}:\\d{2})')\n",
    "df['ClosedOnUtc'] = df['ClosedOnUtc'].str.extract(r'(\\d{4}-\\d{2}-\\d{2} \\d{2}:\\d{2}:\\d{2})')\n",
    "\n",
    "# check for year < 1900, year > 2100, and month <= 0 or month > 12\n",
    "df['CreatedUtc'] = pd.to_datetime(df['CreatedUtc'], errors='coerce')\n",
    "df['AskedOnUtc'] = pd.to_datetime(df['AskedOnUtc'], errors='coerce')\n",
    "df['TakenOnUtc'] = pd.to_datetime(df['TakenOnUtc'], errors='coerce')\n",
    "df['ClosedOnUtc'] = pd.to_datetime(df['ClosedOnUtc'], errors='coerce')\n",
    "\n",
    "print(\"Invalid dates in CreatedUtc: \", df['CreatedUtc'].isnull().sum())\n",
    "print(\"Invalid dates in AskedOnUtc: \", df['AskedOnUtc'].isnull().sum())\n",
    "print(\"Invalid dates in TakenOnUtc: \", df['TakenOnUtc'].isnull().sum())\n",
    "print(\"Invalid dates in ClosedOnUtc: \", df['ClosedOnUtc'].isnull().sum())\n",
    "\n",
    "# # Convert the date columns to datetime format\n",
    "# df['CreatedUtc'] = pd.to_datetime(df['CreatedUtc'])\n",
    "# df['AskedOnUtc'] = pd.to_datetime(df['AskedOnUtc'])\n",
    "# df['TakenOnUtc'] = pd.to_datetime(df['TakenOnUtc'])\n",
    "# df['ClosedOnUtc'] = pd.to_datetime(df['ClosedOnUtc'])\n",
    "\n",
    "#print the 5 lowest dates and 5 highest dates in the CreatedUtc column\n",
    "print(\"Lowest 5 dates in CreatedUtc: \", df['CreatedUtc'].nsmallest(5))\n",
    "print(\"Highest 5 dates in CreatedUtc: \", df['CreatedUtc'].nlargest(5))\n",
    "\n",
    "\n",
    "# Group the DataFrame by conversation ID and aggregate by the date columns\n",
    "grouped = df.groupby('QuestionUno').agg({\n",
    "    'CreatedUtc': 'min',\n",
    "    'AskedOnUtc': 'min',\n",
    "    'TakenOnUtc': 'min',\n",
    "    'ClosedOnUtc': 'min',\n",
    "    'CategoryUno': 'first',\n",
    "    'Category': 'first',\n",
    "    'CountMessages': 'last'\n",
    "})\n",
    "\n",
    "print(\"Shape of grouped: \", grouped.shape)\n",
    "display(grouped.head())\n",
    "\n",
    "# Set the index of the DataFrame to the earliest date column\n",
    "grouped.set_index('CreatedUtc', inplace=True)\n",
    "\n",
    "# Plot the changes over time for each column\n",
    "grouped['CategoryUno'].resample('D').count().plot()\n",
    "plt.title('Number of Conversations by Day')\n",
    "plt.xlabel('Date')\n",
    "plt.ylabel('Count')\n",
    "plt.show()\n",
    "\n",
    "grouped['Category'].resample('M').count().plot()\n",
    "plt.title('Number of Conversations by Month')\n",
    "plt.xlabel('Month')\n",
    "plt.ylabel('Count')\n",
    "plt.show()\n",
    "\n",
    "grouped['CountMessages'].resample('W').mean().plot()\n",
    "plt.title('Average Number of Messages per Conversation by Week')\n",
    "plt.xlabel('Date')\n",
    "plt.ylabel('Count')\n",
    "plt.show()\n",
    "\n",
    "# make a plot showing the number of conversations by category\n",
    "grouped['Category'].value_counts().plot(kind='bar')\n",
    "plt.title('Number of Conversations by Category')\n",
    "plt.xlabel('Category')\n",
    "plt.ylabel('Count')\n",
    "plt.show()\n",
    "\n",
    "# label each conversation with a number 0-167, representing the hour of the week\n",
    "grouped['Hourinweek'] = grouped.index.dayofweek * 24 + grouped.index.hour\n",
    "\n",
    "# add a column to the DataFrame that contains the day of the week in text format\n",
    "grouped['Day'] = grouped.index.day_name()\n",
    "\n",
    "# label each conversation with a number 0-48, representing the 30 minute block of the day\n",
    "grouped['HalfHour'] = grouped.index.hour * 2 + (grouped.index.minute >= 30)\n",
    "\n",
    "\n",
    "\n",
    "# drop nan values\n",
    "grouped = grouped.dropna(subset=['Day'])\n",
    "\n",
    "print(grouped['Day'].unique())\n",
    "\n",
    "# sort the DataFrame by the hour column\n",
    "grouped = grouped.sort_values(by='Hourinweek')\n",
    "\n",
    "#make the width of the graph 10 inches\n",
    "plt.figure(figsize=(25, 5))\n",
    "# make a plot showing the number of conversations by hour\n",
    "grouped['Hourinweek'].value_counts().sort_index().plot(kind='bar', width=0.4)\n",
    "plt.title('Number of Conversations by Hour')\n",
    "plt.xlabel('Time in the Week')\n",
    "plt.ylabel('Count')\n",
    "\n",
    "# label the x axis with every 6th hour, with the Day of the Week appended to the front (e.g. \"Monday 0, Monday 6, Monday 12, etc.\")\n",
    "days = ['Monday', 'Tuesday', 'Wednesday', 'Thursday', 'Friday', 'Saturday', 'Sunday']\n",
    "labels = []\n",
    "for i in range(0, 168, 6):\n",
    "    # ex Monday 12 AM, Monday 6 AM, Monday 12 PM, etc.\n",
    "    if i % 24 == 0:\n",
    "        labels.append(days[i // 24] + ' 12 AM')\n",
    "    elif i % 24 == 12:\n",
    "        labels.append(days[i // 24] + ' 12 PM')\n",
    "    elif i % 24 < 12:\n",
    "        labels.append(days[i // 24] + ' ' + str(i % 24) + ' AM')\n",
    "    else:\n",
    "        labels.append(days[i // 24] + ' ' + str(i % 24) + ' PM')\n",
    "print(labels)\n",
    "plt.xticks(range(0, 168, 6), labels, rotation=0)\n",
    "\n",
    "# increase the size of the tick labels\n",
    "plt.tick_params(axis='x', which='major', labelsize=15)\n",
    "\n",
    "plt.xticks(rotation=90)\n",
    "plt.show()\n",
    "\n",
    "\n",
    "labels = [\"12:00AM\", \"12:30AM\", \"1:00AM\", \"1:30AM\", \"2:00AM\", \"2:30AM\", \"3:00AM\", \"3:30AM\", \"4:00AM\", \"4:30AM\", \"5:00AM\", \"5:30AM\", \"6:00AM\", \"6:30AM\", \"7:00AM\", \"7:30AM\", \"8:00AM\", \"8:30AM\", \"9:00AM\", \"9:30AM\", \"10:00AM\", \"10:30AM\", \"11:00AM\", \"11:30AM\", \"12:00PM\", \"12:30PM\", \"1:00PM\", \"1:30PM\", \"2:00PM\", \"2:30PM\", \"3:00PM\", \"3:30PM\", \"4:00PM\", \"4:30PM\", \"5:00PM\", \"5:30PM\", \"6:00PM\", \"6:30PM\", \"7:00PM\", \"7:30PM\", \"8:00PM\", \"8:30PM\", \"9:00PM\", \"9:30PM\", \"10:00PM\", \"10:30PM\", \"11:00PM\", \"11:30PM\"]\n",
    "# using the grouped DataFrame, make a plot showing the average number conversations started by HalfHour\n",
    "plt.figure(figsize=(20, 5))\n",
    "grouped['HalfHour'].value_counts().sort_index().plot(kind='bar', width=0.5)\n",
    "plt.title('Average Number of Messages per Conversation by Hour')\n",
    "plt.xlabel('Time')\n",
    "plt.ylabel('Count')\n",
    "plt.xticks(range(0, 48), labels, rotation=90)\n",
    "plt.tick_params(axis='x', which='major', labelsize=15)\n",
    "\n",
    "plt.show()\n"
   ]
  },
  {
   "cell_type": "code",
   "execution_count": null,
   "metadata": {},
   "outputs": [],
   "source": []
  }
 ],
 "metadata": {
  "kernelspec": {
   "display_name": "Python 3",
   "language": "python",
   "name": "python3"
  },
  "language_info": {
   "codemirror_mode": {
    "name": "ipython",
    "version": 3
   },
   "file_extension": ".py",
   "mimetype": "text/x-python",
   "name": "python",
   "nbconvert_exporter": "python",
   "pygments_lexer": "ipython3",
   "version": "3.11.2"
  }
 },
 "nbformat": 4,
 "nbformat_minor": 5
}
