{
 "cells": [
  {
   "cell_type": "code",
   "execution_count": 1,
   "metadata": {
    "vscode": {
     "languageId": "shellscript"
    }
   },
   "outputs": [
    {
     "name": "stdout",
     "output_type": "stream",
     "text": [
      "     47 NE\n",
      "     47 IN\n",
      "     36 NC\n",
      "     32 TX\n",
      "     30 MO\n",
      "     29 OK\n",
      "     26 WI\n",
      "     26 GA\n",
      "     25 LA\n",
      "     24 VA\n",
      "     24 TN\n",
      "     24 SC\n",
      "     24 NY\n",
      "     24 AK\n",
      "     22 US\n",
      "     22 MI\n",
      "     22 ME\n",
      "     22 FL\n",
      "     21 MA\n",
      "     21 KS\n",
      "     20 WY\n",
      "     20 UT\n",
      "     20 HI\n",
      "     19 NH\n",
      "     19 IL\n",
      "     19 CT\n",
      "     19 AR\n",
      "     19 AL\n",
      "     18 WA\n",
      "     18 VT\n",
      "     18 VI\n",
      "     18 SD\n",
      "     18 PA\n",
      "     18 NM\n",
      "     18 NJ\n",
      "     18 ND\n",
      "     18 MS\n",
      "     18 MD\n",
      "     18 ID\n",
      "     18 IA\n",
      "     18 CA\n",
      "     18 AZ\n",
      "     11 WV\n",
      "      1 StateAbbr\n",
      "790,US,B1817DFA-9BA0-4FD7-9973-3E029D472DA7,B9344863-3844-4E00-8902-6F9B8E5A1138,\"Immigration - Deportation/Removal Proceedings\"\n",
      "791,US,B1817DFA-9BA0-4FD7-9973-3E029D472DA7,083752A7-9759-4A40-9757-73651486101D,\"Veterans - VA Disability Benefits \"\n",
      "792,US,B1817DFA-9BA0-4FD7-9973-3E029D472DA7,44E47A11-632A-4D2E-8B27-A68FF1E9DF25,\"Veterans - VA Pension\"\n",
      "793,US,B1817DFA-9BA0-4FD7-9973-3E029D472DA7,2AE3381D-7D34-42CF-9CAB-A5BF8EFFBC40,\"Veterans - Other VA Benefits (Survivor's Benefits, Death Benefits, etc.)\"\n",
      "794,US,B1817DFA-9BA0-4FD7-9973-3E029D472DA7,E4B0B012-37DC-40B9-BBCE-1B8B66A86A3B,\"Veterans - Military Retirement \"\n",
      "795,US,B1817DFA-9BA0-4FD7-9973-3E029D472DA7,64F4F157-558E-43A8-8E13-9F4246762666,\"Veterans - VA Overpayments \"\n",
      "796,US,B1817DFA-9BA0-4FD7-9973-3E029D472DA7,8E0AD9E1-1E94-45CB-B189-7F7B75929C04,\"Veterans - Discharge Upgrade\"\n",
      "797,US,B1817DFA-9BA0-4FD7-9973-3E029D472DA7,524A9448-ACBA-409C-9C7C-66AC06039DF1,\"Veterans - Military Records (correcting or ordering) \"\n",
      "798,US,B1817DFA-9BA0-4FD7-9973-3E029D472DA7,3D012230-FB25-4AC1-A58F-7944CDE32575,\"Veterans - Other \"\n",
      "799,US,B1817DFA-9BA0-4FD7-9973-3E029D472DA7,4422AB63-18F6-44AF-86D8-DC3ABDF17723,\"Immigration - Asylum\"\n",
      "800,US,B1817DFA-9BA0-4FD7-9973-3E029D472DA7,A415FB6E-8C15-4AE5-8777-6489A8E36C82,\"Immigration - Green Cards - Marriage/Family Based\"\n",
      "801,US,B1817DFA-9BA0-4FD7-9973-3E029D472DA7,C40DD298-4085-429D-8902-D4BEFB0E51E0,\"Immigration - Green Cards - Employment Based\"\n",
      "802,US,B1817DFA-9BA0-4FD7-9973-3E029D472DA7,7312A54F-0B73-49B4-9CA5-BE865A08AD38,\"Immigration - Children's cases\"\n",
      "803,US,B1817DFA-9BA0-4FD7-9973-3E029D472DA7,EF1B9419-6881-41FD-B2C9-59B289B608A0,\"Immigration - DACA\"\n",
      "804,US,B1817DFA-9BA0-4FD7-9973-3E029D472DA7,25E7C027-14BB-4277-A7AC-352C0E9E449B,\"Immigration - Green Cards - DV Lottery & Other\"\n",
      "805,US,B1817DFA-9BA0-4FD7-9973-3E029D472DA7,3ABFB201-B3B5-46A2-B358-75AEFDF0D748,\"Immigration - Work Permits\"\n",
      "806,US,B1817DFA-9BA0-4FD7-9973-3E029D472DA7,5F2CB329-2196-4198-9F34-75EF7E62A9EB,\"Immigration - Other\"\n",
      "807,US,B1817DFA-9BA0-4FD7-9973-3E029D472DA7,959BCC4D-33E1-4156-B08F-5FCCE1D40733,\"Immigration - TPS\"\n",
      "808,US,B1817DFA-9BA0-4FD7-9973-3E029D472DA7,51E3D4FC-3410-4DE2-A909-1DF60CD6F8CF,\"Immigration - Impact of Criminal Record\"\n",
      "809,US,B1817DFA-9BA0-4FD7-9973-3E029D472DA7,34FF6BF9-C039-4D4B-B995-DB8734ECC8EB,\"Immigration - Student and other visas\"\n",
      "810,US,B1817DFA-9BA0-4FD7-9973-3E029D472DA7,C52F263E-CBEB-4C44-ACF9-4EC80B742663,\"Immigration - Battered/abused spouses\"\n",
      "811,US,B1817DFA-9BA0-4FD7-9973-3E029D472DA7,069D17E3-7514-451C-9C8F-FAC6B1096308,\"Immigration - Naturalization/Citizenship\"\n"
     ]
    }
   ],
   "source": [
    "%%bash\n",
    "\n",
    "# count number of unique values in column 5 grouped by column 2 using cat and awk\n",
    "\n",
    "cat /home/x-dchawra/asadatafest/subcategories.csv | awk -F, '{print $2}' | sort | uniq -c | sort -nr\n",
    "\n",
    "# print all rows where column 2 is equal to \"US\"\n",
    "\n",
    "cat /home/x-dchawra/asadatafest/subcategories.csv | awk -F, '$2 == \"US\" {print $0}'\n"
   ]
  },
  {
   "attachments": {},
   "cell_type": "markdown",
   "metadata": {},
   "source": [
    "us column is more federal level queries"
   ]
  },
  {
   "cell_type": "code",
   "execution_count": 2,
   "metadata": {
    "vscode": {
     "languageId": "shellscript"
    }
   },
   "outputs": [
    {
     "name": "stdout",
     "output_type": "stream",
     "text": [
      "790,US,B1817DFA-9BA0-4FD7-9973-3E029D472DA7,B9344863-3844-4E00-8902-6F9B8E5A1138,\"Immigration - Deportation/Removal Proceedings\"\n",
      "791,US,B1817DFA-9BA0-4FD7-9973-3E029D472DA7,083752A7-9759-4A40-9757-73651486101D,\"Veterans - VA Disability Benefits \"\n",
      "792,US,B1817DFA-9BA0-4FD7-9973-3E029D472DA7,44E47A11-632A-4D2E-8B27-A68FF1E9DF25,\"Veterans - VA Pension\"\n",
      "793,US,B1817DFA-9BA0-4FD7-9973-3E029D472DA7,2AE3381D-7D34-42CF-9CAB-A5BF8EFFBC40,\"Veterans - Other VA Benefits (Survivor's Benefits, Death Benefits, etc.)\"\n",
      "794,US,B1817DFA-9BA0-4FD7-9973-3E029D472DA7,E4B0B012-37DC-40B9-BBCE-1B8B66A86A3B,\"Veterans - Military Retirement \"\n",
      "795,US,B1817DFA-9BA0-4FD7-9973-3E029D472DA7,64F4F157-558E-43A8-8E13-9F4246762666,\"Veterans - VA Overpayments \"\n",
      "796,US,B1817DFA-9BA0-4FD7-9973-3E029D472DA7,8E0AD9E1-1E94-45CB-B189-7F7B75929C04,\"Veterans - Discharge Upgrade\"\n",
      "797,US,B1817DFA-9BA0-4FD7-9973-3E029D472DA7,524A9448-ACBA-409C-9C7C-66AC06039DF1,\"Veterans - Military Records (correcting or ordering) \"\n",
      "798,US,B1817DFA-9BA0-4FD7-9973-3E029D472DA7,3D012230-FB25-4AC1-A58F-7944CDE32575,\"Veterans - Other \"\n",
      "799,US,B1817DFA-9BA0-4FD7-9973-3E029D472DA7,4422AB63-18F6-44AF-86D8-DC3ABDF17723,\"Immigration - Asylum\"\n",
      "800,US,B1817DFA-9BA0-4FD7-9973-3E029D472DA7,A415FB6E-8C15-4AE5-8777-6489A8E36C82,\"Immigration - Green Cards - Marriage/Family Based\"\n",
      "801,US,B1817DFA-9BA0-4FD7-9973-3E029D472DA7,C40DD298-4085-429D-8902-D4BEFB0E51E0,\"Immigration - Green Cards - Employment Based\"\n",
      "802,US,B1817DFA-9BA0-4FD7-9973-3E029D472DA7,7312A54F-0B73-49B4-9CA5-BE865A08AD38,\"Immigration - Children's cases\"\n",
      "803,US,B1817DFA-9BA0-4FD7-9973-3E029D472DA7,EF1B9419-6881-41FD-B2C9-59B289B608A0,\"Immigration - DACA\"\n",
      "804,US,B1817DFA-9BA0-4FD7-9973-3E029D472DA7,25E7C027-14BB-4277-A7AC-352C0E9E449B,\"Immigration - Green Cards - DV Lottery & Other\"\n",
      "805,US,B1817DFA-9BA0-4FD7-9973-3E029D472DA7,3ABFB201-B3B5-46A2-B358-75AEFDF0D748,\"Immigration - Work Permits\"\n",
      "806,US,B1817DFA-9BA0-4FD7-9973-3E029D472DA7,5F2CB329-2196-4198-9F34-75EF7E62A9EB,\"Immigration - Other\"\n",
      "807,US,B1817DFA-9BA0-4FD7-9973-3E029D472DA7,959BCC4D-33E1-4156-B08F-5FCCE1D40733,\"Immigration - TPS\"\n",
      "808,US,B1817DFA-9BA0-4FD7-9973-3E029D472DA7,51E3D4FC-3410-4DE2-A909-1DF60CD6F8CF,\"Immigration - Impact of Criminal Record\"\n",
      "809,US,B1817DFA-9BA0-4FD7-9973-3E029D472DA7,34FF6BF9-C039-4D4B-B995-DB8734ECC8EB,\"Immigration - Student and other visas\"\n",
      "810,US,B1817DFA-9BA0-4FD7-9973-3E029D472DA7,C52F263E-CBEB-4C44-ACF9-4EC80B742663,\"Immigration - Battered/abused spouses\"\n",
      "811,US,B1817DFA-9BA0-4FD7-9973-3E029D472DA7,069D17E3-7514-451C-9C8F-FAC6B1096308,\"Immigration - Naturalization/Citizenship\"\n"
     ]
    }
   ],
   "source": [
    "cat /home/x-dchawra/asadatafest/subcategories.csv | awk -F, '$2 == \"US\" {print $0}'"
   ]
  },
  {
   "cell_type": "code",
   "execution_count": 4,
   "metadata": {
    "vscode": {
     "languageId": "shellscript"
    }
   },
   "outputs": [
    {
     "name": "stdout",
     "output_type": "stream",
     "text": [
      "Filename: /home/x-dchawra/asadatafest/attorneys.csv\n",
      "Id,StateAbbr,AttorneyUno,City,County,StateName,PostalCode,CreatedUtc\n",
      "1,NH,7A2C12BE-9F37-4C9D-A6ED-41B916820CE0,Concord,Cheshire,\"New Hampshire\",03301,\"2019-02-14 16:21:52\"\n",
      "2,NH,29A49AA6-047E-4008-ABBD-3DE57156B526,Concord,Merrimack,\"New Hampshire\",03229,\"2019-02-14 18:14:30\"\n",
      "3,MS,9DF11B65-7F29-452C-A69E-54CD72E4A116,Jackson,Rankin,Mississippi,39203,\"2016-08-19 17:07:23\"\n",
      "4,VA,693FD55F-5F58-405A-B389-5E78B3406497,Richmond,\"Richmond (city)\",Virginia,23219,\"2016-08-19 18:22:53\"\n",
      "5,CT,0AC2A866-19CD-4D1A-94B7-BF41A1430553,Wethersfield,Hartford,Connecticut,06410,\"2016-08-21 01:21:13\"\n",
      "6,LA,231AB5DE-6431-4BAE-BAC3-0E453BFD7062,Covington,\"St. Tammany Parish\",Louisiana,70433,\"2016-08-16 19:45:15\"\n",
      "7,MS,0FAD5B41-848C-40E9-A57F-9AFF731D4993,Jackson,Hinds,Mississippi,39207,\"2016-08-22 21:51:32\"\n",
      "8,VA,0D0CF105-0EA8-4A0B-966E-B291AB00186E,Richmond,\"Richmond city\",Virginia,23220,\"2016-08-22 14:48:23\"\n",
      "9,AR,3AFFD9E0-2246-4125-ABB0-76A5BBBFE88A,\"Little Rock\",Pulaski,Arkansas,72212,\"2016-08-25 14:04:46\"\n",
      "Filename: /home/x-dchawra/asadatafest/attorneytimeentries.csv\n",
      "Id,StateAbbr,TimeEntryUno,AttorneyUno,Hours,EnteredOnUtc\n",
      "1,AK,44954D1D-C354-41F6-8C33-327E866B6BA3,C126C566-9039-4991-BDD8-0CDD05C27DDF,1.80000,\"2017-01-05 21:25:23\"\n",
      "2,AL,F1D8F733-1BDB-47FD-BC7C-CB512E2C5A3A,F8C0E3D3-B3A5-42B9-9E2F-2A637BA83D6E,0.40000,\"2020-03-24 01:10:56\"\n",
      "3,AR,81ED2628-2FF4-4B67-86B1-F9DFEC603C15,34BFCC3D-B107-4164-B405-DEFF63A65B2D,0.40000,\"2016-12-02 23:21:46\"\n",
      "4,AZ,14B1BCC4-CEF6-4108-AB54-3CDE482845F0,875DB0F4-619B-4A13-8104-85A3C15D90C4,0.80000,\"2015-12-16 20:32:55\"\n",
      "5,CA,41275A72-CD69-4A42-85FB-E3E4FEE0C316,22746734-D076-4AC8-BA66-50426C01093C,3.00000,\"2020-09-04 00:02:54\"\n",
      "6,CT,63CE64B6-F178-4650-8087-BC889208E3D4,1EE22B25-E02B-4FA4-8ACC-8C36172B780A,1.30000,\"2016-09-07 11:30:50\"\n",
      "7,FL,7C84C28C-96EB-4C34-AC76-7F9BAFC3CF49,12B7AF99-FD65-476D-8083-B1C1958F7FFA,1.00000,\"2017-04-28 21:06:39\"\n",
      "8,GA,3D9138F9-9E60-46C5-9A80-929054E3B773,A92C5310-A9AA-491E-A5A1-C8B0E3CE3877,0.50000,\"2017-02-22 16:01:16\"\n",
      "9,HI,8DB8830E-D6A8-4513-8B80-7FD8EFF1AED7,FF965721-5DD4-4D6F-8957-BE68E019FB34,0.50000,\"2016-11-01 20:07:36\"\n",
      "Filename: /home/x-dchawra/asadatafest/categories.csv\n",
      "Id,StateAbbr,CategoryUno,Category\n",
      "1,AK,4CB7A73E-AAB0-4E8F-94D1-8AC8610AAC64,\"Consumer Financial Questions\"\n",
      "2,AL,08C7C59B-6AAE-4BC1-83FE-BC85F1544260,\"Consumer Financial Questions\"\n",
      "3,AR,FD5059F7-DE7A-4929-8D67-E72C80773BAD,\"Consumer Financial Questions\"\n",
      "4,AZ,D90F1BC7-CD04-409A-9AF7-D4DAB649425A,\"Consumer Financial Questions\"\n",
      "5,CA,FD678F86-62B1-4EC4-A628-98AEE7BC74D5,\"Consumer Financial Questions\"\n",
      "6,CT,349290B1-68DD-427C-8E62-4AB43ABDF88B,\"Consumer Financial Questions\"\n",
      "7,FL,27D44F0E-4D4C-41F2-81BE-4C19AE711CC1,\"Consumer Financial Questions\"\n",
      "8,GA,04815A46-12EC-4C42-B9FB-56BF584F1489,\"Consumer Financial Questions\"\n",
      "9,HI,5D634295-7FFF-4BE8-9FD1-40462AE51BF6,\"Consumer Financial Questions\"\n",
      "Filename: /home/x-dchawra/asadatafest/clients.csv\n",
      "Id,StateAbbr,ClientUno,County,StateName,PostalCode,EthnicIdentity,Age,Gender,MaritalStatus,Veteran,Imprisoned,NumberInHousehold,AnnualIncome,AllowedIncome,CheckingBalance,SavingsBalance,InvestmentsBalance,CreatedUtc\n",
      "1,MS,B731DA7A-A97A-4A2E-BF11-0A126A05AF70,Washington,Mississippi,73179,,NULL,NULL,NULL,NULL,No,3,26000,37190,300,NULL,NULL,\"2016-08-25 15:15:37\"\n",
      "2,MS,8101DB7C-0CC8-4DE9-9E87-71137269AAD5,Harrison,Mississippi,39560,Caucasian,NULL,Male,\"Divorced or Widowed\",NULL,No,2,52,25390,1,1,NULL,\"2016-08-26 00:55:17\"\n",
      "3,GA,DD5F1EFC-8298-457F-BC09-CABBEB57A697,Barrow,Georgia,30157,\"Latino or Hispanic\",55,Male,Single,NULL,No,5,3000,60790,NULL,NULL,NULL,\"2016-10-12 14:37:06\"\n",
      "4,TX,21DC9E3D-D0AA-4B85-88BB-428F5BCF7F13,Lubbock,Texas,79416,Other,61,Female,\"Married / remarried\",No,No,4,15600,48990,100,NULL,NULL,\"2017-01-01 19:57:07\"\n",
      "5,ID,3782D4F9-9B16-4BC8-ADA3-F85CEE200630,Boise,Idaho,83705,Caucasian,65,Male,Single,No,No,1,15000,13590,580,25,NULL,\"2017-02-23 00:03:27\"\n",
      "6,CT,F8C0C4C9-0555-4BAF-9324-B2A8DF4E7DF6,\"New Haven\",Connecticut,06511,\"African American\",NULL,Female,Single,NULL,No,3,16800,37190,65,NULL,NULL,\"2016-08-29 18:54:49\"\n",
      "7,GA,4FF99CB4-7B0C-4EB6-A398-2AB66ED2C171,DeKalb,Georgia,30329,Caucasian,30,Male,\"Married / remarried\",NULL,No,1,24000,13590,NULL,NULL,NULL,\"2016-10-18 21:42:46\"\n",
      "8,MS,09113F3F-95A2-470B-99B8-12D24E53E388,Lauderdale,Mississippi,39301,Caucasian,NULL,\"I'd rather not answer\",\"I'd rather not answer\",NULL,NULL,NULL,NULL,NULL,NULL,NULL,NULL,\"2016-08-29 20:28:14\"\n",
      "9,VT,8CB82528-2C00-457E-B598-3FFF65DF4C57,Rutland,Vermont,05701,\"I'd rather not answer\",NULL,\"I'd rather not answer\",\"I'd rather not answer\",NULL,NULL,NULL,NULL,NULL,NULL,NULL,NULL,\"2016-10-13 18:26:45\"\n",
      "Filename: /home/x-dchawra/asadatafest/questionposts.csv\n",
      "Id,StateAbbr,QuestionUno,PostText,CreatedUtc\n",
      "1,AK,B7C95D50-6C81-4E61-BC16-81077B7D3F7E,\"Do you still need help with this issue?  It has been a little while since you posted.\",\"2018-04-25 18:09:30\"\n",
      "2,AK,C579CE49-6B7A-44E7-A203-5D3E52623804,Anyone?,\"2018-04-17 21:15:28\"\n",
      "3,AK,F3A78AD3-D3D4-447F-BEAF-F62F1D1D4CCE,\"Yes, those are the right forms.  I'm sorry, I didn't get a notification of this question until today.  I'm going to check into that with the system.\",\"2018-04-18 17:51:41\"\n",
      "4,AK,5F8506D3-D9F1-48EE-8081-D30259DBF4E8,\"Hi ###,You do make some good points.  The difference is that stocks, bonds, and banks are all regulated by the Federal government, and the Securities and Exchange Commission.  They have to follow very stringent Federal regulations.  If you wanted to make your arguments to a judge, that would be up to you.  But I would advise that it's better to not be in that position at all.  If you can avoid it by changing what you say, why wouldn't you?No one is holding a gun to your head and making you play that game, spend that money, or say those remarks. You can always opt out and find a different forum in which to express yourself. Or you could decide not to invest your money in that game if you think it's a risky investment. \",\"2018-04-18 22:15:44\"\n",
      "5,AK,B4C814C9-8983-413F-8BC4-F2BE01665555,\"My father passed away and I have DNA test results from him and one of my sisters. I would like to inherit his native dividend but he is not on my birth certificate is there a way to get proof that he was my biological father so I can get his native dividend?\",\"2018-04-12 10:52:50\"\n",
      "6,AK,350684F5-99F0-4CC1-81D3-AAE531DDB1DB,\"I called T-Mobile and asked to get a copy of threatening text messages sent to me Oct. ###'t keep text messages on file. Don't they have to by law?  I have a feeling that is a fabrication.\",\"2018-04-12 20:07:24\"\n",
      "7,AK,350684F5-99F0-4CC1-81D3-AAE531DDB1DB,\"They are correct.  Most providers do not save the content of text messages that are sent or recieved by customers.  There is no law that requires this. They may have the time and date texts were sent, only if it was ###ed.  If you pay for each text message, you ### probably has that information.  If you pay a fee for unlimited texts, it probably was not saved. T-Mobile might have tower location information for where a customer was when he or she was texting.  Usually the tower location information is available with a subpoena only, and is so technical you would need an expert witness to analyze the data. The only practical way to get a copy of the content of a text message is to see if it is saved on the phone that sent or recieved it. Do you have it saved on your phone?  If so, take a screenshot and print it to preserve it.  Printed copies can be entered into evidence in court.  You could also try to subpoena the phone of the person who sent it, but they may just delete it.  Good luck. \",\"2018-04-18 19:16:42\"\n",
      "8,AK,350684F5-99F0-4CC1-81D3-AAE531DDB1DB,\"Okay, thank-you so much for the clarification! <###\",\"2018-04-18 21:30:44\"\n",
      "9,AK,13C23BC5-65A7-476E-830A-CDE4F0C2C73D,\"###. The car got impounded and we are now be threatened with a $###. What can we do? \",\"2018-04-19 00:03:45\"\n",
      "Filename: /home/x-dchawra/asadatafest/questions.csv\n",
      "Id,StateAbbr,QuestionUno,CategoryUno,Category,SubcategoryUno,Subcategory,AskedByClientUno,AskedOnUtc,TakenByAttorneyUno,TakenOnUtc,ClosedByAttorneyUno,ClosedOnUtc,LegalDeadline\n",
      "1,NC,BB53B2A4-7C1B-45C3-9693-62047889317D,C932D197-7F43-4BCF-BE0B-FE5F5DBCB9EF,\"Family and Children\",E9F87919-0CD5-4D9D-AAC6-3CBC49132F1D,\"Family/Divorce/Custody/Visitation/Child Support\",9C35423C-914A-42BC-8EBC-A370E76E2178,\"2019-06-19 22:10:06\",NULL,NULL,NULL,\"2019-08-13 15:09:06\",\"2019-07-08 00:00:00\"\n",
      "2,NC,0C49F841-2782-4313-961E-7882B96D0854,C8E1275A-6C42-42E4-9B7D-231BAC438FC9,\"Individual Rights\",73A59926-BA0B-44EC-ABF3-F4C9181EEA83,\"Civil/Constitutional Rights\",DF636AEE-7D08-4F90-9A5C-0A2A726C6B59,\"2019-06-19 23:34:36\",NULL,NULL,NULL,\"2019-08-13 15:09:14\",NULL\n",
      "3,NC,BFC28E08-B6B1-4185-A91A-89DF90816BE4,C8E1275A-6C42-42E4-9B7D-231BAC438FC9,\"Individual Rights\",73A59926-BA0B-44EC-ABF3-F4C9181EEA83,\"Civil/Constitutional Rights\",DF636AEE-7D08-4F90-9A5C-0A2A726C6B59,\"2019-06-19 23:57:18\",FA34142B-1575-4720-981C-2D28C3560137,\"2019-06-22 02:37:16\",FA34142B-1575-4720-981C-2D28C3560137,\"2019-06-24 19:02:35\",NULL\n",
      "4,NC,45B24109-243A-489B-B0D2-2F36C2A369FE,C932D197-7F43-4BCF-BE0B-FE5F5DBCB9EF,\"Family and Children\",E9F87919-0CD5-4D9D-AAC6-3CBC49132F1D,\"Family/Divorce/Custody/Visitation/Child Support\",C9C3FA40-0D60-49B9-97F1-63AFEFAFA484,\"2019-06-20 02:33:14\",FA34142B-1575-4720-981C-2D28C3560137,\"2019-07-27 18:04:08\",FA34142B-1575-4720-981C-2D28C3560137,\"2019-07-31 05:49:18\",NULL\n",
      "5,NC,C4707F71-FE4A-4154-8174-AF00BEE2B361,F6016FBD-9501-4448-BCD3-BBB0E834E33B,\"Consumer Financial Questions\",73FE486E-2B51-456A-A6D9-78A7D05802AA,\"Bankruptcy, Debts & Purchases\",ED7DEA10-CDB7-4A05-891D-889D1EA710BE,\"2019-06-20 17:04:47\",NULL,NULL,NULL,\"2019-08-13 15:09:20\",NULL\n",
      "6,NC,C157FEFD-9F47-4288-B853-E1E7918A568F,C932D197-7F43-4BCF-BE0B-FE5F5DBCB9EF,\"Family and Children\",E9F87919-0CD5-4D9D-AAC6-3CBC49132F1D,\"Family/Divorce/Custody/Visitation/Child Support\",19A1157F-BAF1-437B-84FA-41C5FDF6DE97,\"2019-06-20 18:11:56\",NULL,NULL,NULL,\"2019-08-13 15:10:26\",NULL\n",
      "7,NC,B2D45F8C-7BE0-447F-82B4-121B7A0E62C5,A56CA695-DA51-419F-87CF-228B360F2E9B,\"Housing and Homelessness\",F4BB9A8A-D699-48FD-A6E7-58FB95CC4021,Housing/Eviction/Foreclosure/Tenants,32D8D09B-C6CF-4B1B-82A9-9F85F199C86C,\"2019-06-20 19:20:02\",NULL,NULL,NULL,\"2019-08-13 15:10:32\",NULL\n",
      "8,NC,BD228C28-ACEB-4109-AD9C-85166EF2A647,E6F4FD7C-FCE9-4763-AADD-0544158DE0BB,Other,E3257971-6837-4BAD-B00D-E4040F0C8B8A,\"Civil Procedure\",714BF984-B485-4BF5-93D9-4742C862643B,\"2019-06-20 18:46:40\",FA34142B-1575-4720-981C-2D28C3560137,\"2019-06-24 19:04:14\",NULL,\"2019-07-03 23:46:02\",NULL\n",
      "9,NC,459A9C10-12DF-4548-825D-EB7864457CC6,E6F4FD7C-FCE9-4763-AADD-0544158DE0BB,Other,A911AEC6-4E0E-45B3-8807-024EC3C2EADE,Expungement,3A361F5F-C49D-41AF-8BC4-BC211D14D6E1,\"2019-06-20 21:26:13\",9514BCF0-8AD4-4948-B12E-706BBF451492,\"2019-07-18 17:39:46\",9514BCF0-8AD4-4948-B12E-706BBF451492,\"2019-07-20 22:18:18\",NULL\n",
      "Filename: /home/x-dchawra/asadatafest/statesites.csv\n",
      "Id,StateAbbr,StateName,AllowedAssets,BaseIncomeLimit,PerHouseholdMemberIncomeLimit,IncomeMultiplier\n",
      "1,AL,Alabama,10000,13590,4720,2.5\n",
      "2,AR,Arkansas,10000,13590,4720,2.5\n",
      "3,AZ,Arizona,10000,13590,4720,2.5\n",
      "4,CA,California,10000,13590,4720,4\n",
      "5,CT,Connecticut,10000,13590,4720,2.5\n",
      "6,FL,Florida,10000,13590,4720,2.5\n",
      "7,GA,Georgia,10000,13590,4720,2.5\n",
      "8,HI,Hawaii,10000,15630,5430,2.5\n",
      "9,IA,Iowa,10000,13590,4720,2.5\n",
      "Filename: /home/x-dchawra/asadatafest/subcategories_count.csv\n",
      "~966\n",
      "Filename: /home/x-dchawra/asadatafest/subcategories.csv\n",
      "Id,StateAbbr,CategoryUno,SubcategoryUno,Subcategory\n",
      "1,AK,2D43B4FD-FAC8-47C3-A891-085F5D74D64B,546C6AD6-4D2B-4B1D-B09F-8016C5B02D66,COVID-19-Housing\n",
      "2,AK,2D43B4FD-FAC8-47C3-A891-085F5D74D64B,572148E8-96C7-4B74-8280-B749191C5B4C,COVID-19-Insurance\n",
      "3,AK,2D43B4FD-FAC8-47C3-A891-085F5D74D64B,5AA5088E-3A9D-4D99-B6FE-69122C34194A,\"COVID-19-Lost Documents\"\n",
      "4,AK,D3504F18-AC99-408B-B1D2-230DC130F9EC,E5DF5CEB-649F-47B3-B665-1BEB3EA4AD42,\"Emancipation and Delinquency\"\n",
      "5,AK,BF144F3C-5743-47C5-9EEB-418FF0FAF0D8,16E4350E-BC59-40B7-BF72-0BC225ECA4D1,Immigration\n",
      "6,AK,BF144F3C-5743-47C5-9EEB-418FF0FAF0D8,0632C039-9688-4BF3-AD6D-3C566BCD5A67,\"Civil/Constitutional Rights\"\n",
      "7,AK,A96DEADE-C287-4B31-BFF5-6C02E0640001,372E3CF8-3543-4C71-BA48-DA3F52FC5792,Family/Divorce/Custody\n",
      "8,AK,A96DEADE-C287-4B31-BFF5-6C02E0640001,BB9683D7-FAE6-4E33-AF74-52E71373C8D7,Wills/Inheritance\n",
      "9,AK,A96DEADE-C287-4B31-BFF5-6C02E0640001,F9754131-35D7-4091-A72D-9A85690D2373,COVID-19-Wills/Probate\n"
     ]
    }
   ],
   "source": [
    "%%bash\n",
    "# in the directory /home/x-dchawra/asadatafest, print the first 10 lines of all the files with the filename\n",
    "\n",
    "for file in /home/x-dchawra/asadatafest/*.csv; do echo \"Filename: $file\"; head -n 10 $file; done\n"
   ]
  },
  {
   "cell_type": "code",
   "execution_count": 2,
   "metadata": {
    "vscode": {
     "languageId": "shellscript"
    }
   },
   "outputs": [
    {
     "name": "stdout",
     "output_type": "stream",
     "text": [
      "Filename: /home/x-dchawra/asadatafest/attorneys.csv\n",
      "Id,StateAbbr,AttorneyUno,City,County,StateName,PostalCode,CreatedUtc\n",
      "Filename: /home/x-dchawra/asadatafest/attorneytimeentries.csv\n",
      "Id,StateAbbr,TimeEntryUno,AttorneyUno,Hours,EnteredOnUtc\n",
      "Filename: /home/x-dchawra/asadatafest/categories.csv\n",
      "Id,StateAbbr,CategoryUno,Category\n",
      "Filename: /home/x-dchawra/asadatafest/clients.csv\n",
      "Id,StateAbbr,ClientUno,County,StateName,PostalCode,EthnicIdentity,Age,Gender,MaritalStatus,Veteran,Imprisoned,NumberInHousehold,AnnualIncome,AllowedIncome,CheckingBalance,SavingsBalance,InvestmentsBalance,CreatedUtc\n",
      "Filename: /home/x-dchawra/asadatafest/questionposts.csv\n",
      "Id,StateAbbr,QuestionUno,PostText,CreatedUtc\n",
      "Filename: /home/x-dchawra/asadatafest/questions.csv\n",
      "Id,StateAbbr,QuestionUno,CategoryUno,Category,SubcategoryUno,Subcategory,AskedByClientUno,AskedOnUtc,TakenByAttorneyUno,TakenOnUtc,ClosedByAttorneyUno,ClosedOnUtc,LegalDeadline\n",
      "Filename: /home/x-dchawra/asadatafest/statesites.csv\n",
      "Id,StateAbbr,StateName,AllowedAssets,BaseIncomeLimit,PerHouseholdMemberIncomeLimit,IncomeMultiplier\n",
      "Filename: /home/x-dchawra/asadatafest/subcategories_count.csv\n",
      "~966\n",
      "Filename: /home/x-dchawra/asadatafest/subcategories.csv\n",
      "Id,StateAbbr,CategoryUno,SubcategoryUno,Subcategory\n"
     ]
    }
   ],
   "source": [
    "%%bash\n",
    "for file in /home/x-dchawra/asadatafest/*.csv; do echo \"Filename: $file\"; head -n 1 $file; done"
   ]
  },
  {
   "cell_type": "code",
   "execution_count": null,
   "metadata": {
    "vscode": {
     "languageId": "shellscript"
    }
   },
   "outputs": [],
   "source": [
    "# use plotly to create a map of the us and plot the number of subcategories in each state\n",
    "\n",
    "import plotly.plotly as py  \n",
    "import plotly.graph_objs as go\n",
    "import plotly.express as px\n",
    "\n",
    "import pandas as pd\n",
    "\n",
    "df = pd.read_csv('/home/x-dchawra/asadatafest/subcategories.csv')\n",
    "\n",
    "print(df.head())\n",
    "\n",
    "df = df[df['StateAbbr'] == 'US']"
   ]
  }
 ],
 "metadata": {
  "kernelspec": {
   "display_name": "base",
   "language": "python",
   "name": "python3"
  },
  "language_info": {
   "codemirror_mode": {
    "name": "ipython",
    "version": 3
   },
   "file_extension": ".py",
   "mimetype": "text/x-python",
   "name": "python",
   "nbconvert_exporter": "python",
   "pygments_lexer": "ipython3",
   "version": "3.8.8"
  },
  "orig_nbformat": 4
 },
 "nbformat": 4,
 "nbformat_minor": 2
}
