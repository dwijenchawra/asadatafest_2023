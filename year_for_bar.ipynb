{
 "cells": [
  {
   "cell_type": "code",
   "execution_count": 42,
   "metadata": {},
   "outputs": [],
   "source": [
    "import pandas as pd\n",
    "import numpy as np\n",
    "\n",
    "df_2016 = pd.read_excel(\"data/Persons Taking and Passing the 2016 Bar Examination.xlsx\")\n",
    "df_2017 = pd.read_excel('data/Persons Taking and Passing the 2017 Bar Examination.xlsx')\n",
    "df_2018 = pd.read_excel('data/Persons Taking and Passing the 2018 Bar Examination.xlsx')\n",
    "df_2019 = pd.read_excel('data/Persons Taking and Passing the 2019 Bar Examination.xlsx')\n",
    "df_2020 = pd.read_excel('data/Persons Taking and Passing the 2020 Bar Examination.xlsx')\n",
    "df_2021 = pd.read_excel('data/Persons Taking and Passing the 2021 Bar Examination.xlsx')"
   ]
  },
  {
   "cell_type": "code",
   "execution_count": 38,
   "metadata": {},
   "outputs": [
    {
     "data": {
      "text/html": [
       "<div>\n",
       "<style scoped>\n",
       "    .dataframe tbody tr th:only-of-type {\n",
       "        vertical-align: middle;\n",
       "    }\n",
       "\n",
       "    .dataframe tbody tr th {\n",
       "        vertical-align: top;\n",
       "    }\n",
       "\n",
       "    .dataframe thead th {\n",
       "        text-align: right;\n",
       "    }\n",
       "</style>\n",
       "<table border=\"1\" class=\"dataframe\">\n",
       "  <thead>\n",
       "    <tr style=\"text-align: right;\">\n",
       "      <th></th>\n",
       "      <th>Jurisdiction</th>\n",
       "      <th>Administration</th>\n",
       "      <th>Taking</th>\n",
       "      <th>Passing</th>\n",
       "      <th>% Passing</th>\n",
       "    </tr>\n",
       "  </thead>\n",
       "  <tbody>\n",
       "    <tr>\n",
       "      <th>0</th>\n",
       "      <td>Alabama</td>\n",
       "      <td>February</td>\n",
       "      <td>274</td>\n",
       "      <td>116</td>\n",
       "      <td>0.42</td>\n",
       "    </tr>\n",
       "    <tr>\n",
       "      <th>1</th>\n",
       "      <td>Alaska</td>\n",
       "      <td>February</td>\n",
       "      <td>52</td>\n",
       "      <td>40</td>\n",
       "      <td>0.77</td>\n",
       "    </tr>\n",
       "    <tr>\n",
       "      <th>2</th>\n",
       "      <td>Arizona</td>\n",
       "      <td>February</td>\n",
       "      <td>429</td>\n",
       "      <td>209</td>\n",
       "      <td>0.49</td>\n",
       "    </tr>\n",
       "    <tr>\n",
       "      <th>3</th>\n",
       "      <td>Arkansas</td>\n",
       "      <td>February</td>\n",
       "      <td>138</td>\n",
       "      <td>71</td>\n",
       "      <td>0.51</td>\n",
       "    </tr>\n",
       "    <tr>\n",
       "      <th>4</th>\n",
       "      <td>California</td>\n",
       "      <td>February</td>\n",
       "      <td>4758</td>\n",
       "      <td>1700</td>\n",
       "      <td>0.36</td>\n",
       "    </tr>\n",
       "  </tbody>\n",
       "</table>\n",
       "</div>"
      ],
      "text/plain": [
       "  Jurisdiction Administration Taking Passing % Passing\n",
       "0      Alabama       February    274     116      0.42\n",
       "1       Alaska       February     52      40      0.77\n",
       "2      Arizona       February    429     209      0.49\n",
       "3     Arkansas       February    138      71      0.51\n",
       "4   California       February   4758    1700      0.36"
      ]
     },
     "execution_count": 38,
     "metadata": {},
     "output_type": "execute_result"
    }
   ],
   "source": [
    "df_2016.head()"
   ]
  },
  {
   "cell_type": "code",
   "execution_count": 68,
   "metadata": {},
   "outputs": [
    {
     "name": "stdout",
     "output_type": "stream",
     "text": [
      "     Jurisdiction  % Passing\n",
      "0         Alabama   0.472632\n",
      "1          Alaska   0.577222\n",
      "2         Arizona   0.549474\n",
      "3        Arkansas   0.596667\n",
      "4      California   0.417778\n",
      "..            ...        ...\n",
      "64       Virginia   0.677368\n",
      "65     Washington   0.626316\n",
      "66  West Virginia   0.595556\n",
      "67      Wisconsin   0.608889\n",
      "68        Wyoming   0.684444\n",
      "\n",
      "[69 rows x 2 columns]\n"
     ]
    }
   ],
   "source": [
    "dataframes = [df_2016, df_2017, df_2018, df_2019, df_2020, df_2021]\n",
    "concatenated_df = pd.concat(dataframes)\n",
    "concatenated_df['% Passing'] = concatenated_df['% Passing'].replace('—', np.nan)\n",
    "mean_df = concatenated_df.groupby('Jurisdiction')['% Passing'].mean().reset_index()\n",
    "\n",
    "print(mean_df)"
   ]
  },
  {
   "cell_type": "code",
   "execution_count": 69,
   "metadata": {},
   "outputs": [],
   "source": [
    "mean_df.to_parquet('data/mean_df.parquet')"
   ]
  },
  {
   "cell_type": "code",
   "execution_count": null,
   "metadata": {},
   "outputs": [],
   "source": []
  }
 ],
 "metadata": {
  "kernelspec": {
   "display_name": "Python 3",
   "language": "python",
   "name": "python3"
  },
  "language_info": {
   "codemirror_mode": {
    "name": "ipython",
    "version": 3
   },
   "file_extension": ".py",
   "mimetype": "text/x-python",
   "name": "python",
   "nbconvert_exporter": "python",
   "pygments_lexer": "ipython3",
   "version": "3.9.5"
  },
  "orig_nbformat": 4
 },
 "nbformat": 4,
 "nbformat_minor": 2
}
